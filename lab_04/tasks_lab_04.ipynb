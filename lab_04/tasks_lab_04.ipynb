{
 "nbformat": 4,
 "nbformat_minor": 0,
 "metadata": {
  "colab": {
   "provenance": [],
   "authorship_tag": "ABX9TyOgAOmvwV99Eft5geuNKd2p"
  },
  "kernelspec": {
   "name": "python3",
   "display_name": "Python 3 (ipykernel)",
   "language": "python"
  },
  "language_info": {
   "name": "python"
  }
 },
 "cells": [
  {
   "cell_type": "markdown",
   "source": [
    "### Zadanie 1\n",
    "\n",
    "Stwórz serię danych, której dane to wartości całkowite od 1 do 100, a indeks jest postaci od ean_001 do ean_100."
   ],
   "metadata": {
    "id": "RbAPIejFHiNd"
   }
  },
  {
   "cell_type": "code",
   "metadata": {
    "id": "gfzpXUWEHeF-",
    "executionInfo": {
     "status": "ok",
     "timestamp": 1742483684017,
     "user_tz": 0,
     "elapsed": 6,
     "user": {
      "displayName": "Hanna Dauharukava",
      "userId": "16325545658296382935"
     }
    },
    "ExecuteTime": {
     "end_time": "2025-03-23T16:55:24.003851Z",
     "start_time": "2025-03-23T16:55:22.880049Z"
    }
   },
   "source": [
    "import pandas as pd\n",
    "import numpy as np"
   ],
   "outputs": [],
   "execution_count": 1
  },
  {
   "cell_type": "code",
   "source": [
    "data = [i for i in range(1,101)]\n",
    "dataindex = [f'ean_{i:03}' for i in range(1,101)]\n",
    "final = pd.Series(data, dataindex)"
   ],
   "metadata": {
    "id": "ZFNDee3FHwSd",
    "executionInfo": {
     "status": "ok",
     "timestamp": 1742484010256,
     "user_tz": 0,
     "elapsed": 48,
     "user": {
      "displayName": "Hanna Dauharukava",
      "userId": "16325545658296382935"
     }
    },
    "ExecuteTime": {
     "end_time": "2025-03-23T18:10:13.459328Z",
     "start_time": "2025-03-23T18:10:13.457160Z"
    }
   },
   "outputs": [],
   "execution_count": 92
  },
  {
   "cell_type": "code",
   "source": "final",
   "metadata": {
    "colab": {
     "base_uri": "https://localhost:8080/",
     "height": 458
    },
    "id": "t4OGiMMEIvjf",
    "executionInfo": {
     "status": "ok",
     "timestamp": 1742484011518,
     "user_tz": 0,
     "elapsed": 14,
     "user": {
      "displayName": "Hanna Dauharukava",
      "userId": "16325545658296382935"
     }
    },
    "outputId": "726204f2-0ada-4fd5-c36c-1530ee1f0c4e",
    "ExecuteTime": {
     "end_time": "2025-03-23T18:08:33.630861Z",
     "start_time": "2025-03-23T18:08:33.627615Z"
    }
   },
   "outputs": [
    {
     "data": {
      "text/plain": [
       "ean_001      1\n",
       "ean_002      2\n",
       "ean_003      3\n",
       "ean_004      4\n",
       "ean_005      5\n",
       "          ... \n",
       "ean_096     96\n",
       "ean_097     97\n",
       "ean_098     98\n",
       "ean_099     99\n",
       "ean_100    100\n",
       "Length: 100, dtype: int64"
      ]
     },
     "execution_count": 90,
     "metadata": {},
     "output_type": "execute_result"
    }
   ],
   "execution_count": 90
  },
  {
   "cell_type": "markdown",
   "source": [
    "### Zadanie 2\n",
    "\n",
    "Stwórz tablicę numpy o dwóch wymiarach w rozmiarze 10x10, której wartości są zapisane wg. poniższego schematu:\n",
    "\n",
    "``` bash\n",
    "    [1, 1, 1, 1, 1, 1, 1, 1, 1, 1],\n",
    "    [2, 4, 8, 16, 32, 64, 128, 256, 512, 1024],\n",
    "    [3, 9, 27 ... ],\n",
    "    ...\n",
    "    [10, 100, 1000, ... ]\n",
    "```\n",
    "W pierwszej kolumnie znajduje się liczba, która następnie jest w kolejnych kolumnach podnoszona do kwadratu. Zdefiniuj tę tablicę wedle swojego uznania, ale nie jest dopuszczalne wpisanie tych danych \"ręcznie\".\n",
    "\n",
    "Stwórz z tych danych ramkę pandas. Kolumny nazwij wg. schematu\n",
    "\n",
    "```bash\n",
    "  ['base', 'pow_2', 'pow_3', ..., 'pow_10']\n",
    "  ```"
   ],
   "metadata": {
    "id": "dCHNrdNCJCSI"
   }
  },
  {
   "cell_type": "code",
   "source": [
    "base = np.arange(1,11).reshape(10,1)\n",
    "result = base ** np.arange(1,11)\n",
    "result"
   ],
   "metadata": {
    "colab": {
     "base_uri": "https://localhost:8080/"
    },
    "id": "Dx1vL5HoJeVi",
    "executionInfo": {
     "status": "ok",
     "timestamp": 1742484510283,
     "user_tz": 0,
     "elapsed": 14,
     "user": {
      "displayName": "Hanna Dauharukava",
      "userId": "16325545658296382935"
     }
    },
    "outputId": "d13f8d86-cf6d-4c02-b341-aa2a449127cf",
    "ExecuteTime": {
     "end_time": "2025-03-23T16:59:47.711713Z",
     "start_time": "2025-03-23T16:59:47.708884Z"
    }
   },
   "outputs": [
    {
     "data": {
      "text/plain": [
       "array([[          1,           1,           1,           1,           1,\n",
       "                  1,           1,           1,           1,           1],\n",
       "       [          2,           4,           8,          16,          32,\n",
       "                 64,         128,         256,         512,        1024],\n",
       "       [          3,           9,          27,          81,         243,\n",
       "                729,        2187,        6561,       19683,       59049],\n",
       "       [          4,          16,          64,         256,        1024,\n",
       "               4096,       16384,       65536,      262144,     1048576],\n",
       "       [          5,          25,         125,         625,        3125,\n",
       "              15625,       78125,      390625,     1953125,     9765625],\n",
       "       [          6,          36,         216,        1296,        7776,\n",
       "              46656,      279936,     1679616,    10077696,    60466176],\n",
       "       [          7,          49,         343,        2401,       16807,\n",
       "             117649,      823543,     5764801,    40353607,   282475249],\n",
       "       [          8,          64,         512,        4096,       32768,\n",
       "             262144,     2097152,    16777216,   134217728,  1073741824],\n",
       "       [          9,          81,         729,        6561,       59049,\n",
       "             531441,     4782969,    43046721,   387420489,  3486784401],\n",
       "       [         10,         100,        1000,       10000,      100000,\n",
       "            1000000,    10000000,   100000000,  1000000000, 10000000000]])"
      ]
     },
     "execution_count": 8,
     "metadata": {},
     "output_type": "execute_result"
    }
   ],
   "execution_count": 8
  },
  {
   "metadata": {
    "ExecuteTime": {
     "end_time": "2025-03-23T17:19:02.337076Z",
     "start_time": "2025-03-23T17:19:02.332351Z"
    }
   },
   "cell_type": "code",
   "source": [
    "df = pd.DataFrame(result,columns=['base'] + [f'pow_{i}' for i in range(2,11)], copy=True)\n",
    "df"
   ],
   "outputs": [
    {
     "data": {
      "text/plain": [
       "   base  pow_2  pow_3  pow_4   pow_5    pow_6     pow_7      pow_8  \\\n",
       "0     1      1      1      1       1        1         1          1   \n",
       "1     2      4      8     16      32       64       128        256   \n",
       "2     3      9     27     81     243      729      2187       6561   \n",
       "3     4     16     64    256    1024     4096     16384      65536   \n",
       "4     5     25    125    625    3125    15625     78125     390625   \n",
       "5     6     36    216   1296    7776    46656    279936    1679616   \n",
       "6     7     49    343   2401   16807   117649    823543    5764801   \n",
       "7     8     64    512   4096   32768   262144   2097152   16777216   \n",
       "8     9     81    729   6561   59049   531441   4782969   43046721   \n",
       "9    10    100   1000  10000  100000  1000000  10000000  100000000   \n",
       "\n",
       "        pow_9       pow_10  \n",
       "0           1            1  \n",
       "1         512         1024  \n",
       "2       19683        59049  \n",
       "3      262144      1048576  \n",
       "4     1953125      9765625  \n",
       "5    10077696     60466176  \n",
       "6    40353607    282475249  \n",
       "7   134217728   1073741824  \n",
       "8   387420489   3486784401  \n",
       "9  1000000000  10000000000  "
      ],
      "text/html": [
       "<div>\n",
       "<style scoped>\n",
       "    .dataframe tbody tr th:only-of-type {\n",
       "        vertical-align: middle;\n",
       "    }\n",
       "\n",
       "    .dataframe tbody tr th {\n",
       "        vertical-align: top;\n",
       "    }\n",
       "\n",
       "    .dataframe thead th {\n",
       "        text-align: right;\n",
       "    }\n",
       "</style>\n",
       "<table border=\"1\" class=\"dataframe\">\n",
       "  <thead>\n",
       "    <tr style=\"text-align: right;\">\n",
       "      <th></th>\n",
       "      <th>base</th>\n",
       "      <th>pow_2</th>\n",
       "      <th>pow_3</th>\n",
       "      <th>pow_4</th>\n",
       "      <th>pow_5</th>\n",
       "      <th>pow_6</th>\n",
       "      <th>pow_7</th>\n",
       "      <th>pow_8</th>\n",
       "      <th>pow_9</th>\n",
       "      <th>pow_10</th>\n",
       "    </tr>\n",
       "  </thead>\n",
       "  <tbody>\n",
       "    <tr>\n",
       "      <th>0</th>\n",
       "      <td>1</td>\n",
       "      <td>1</td>\n",
       "      <td>1</td>\n",
       "      <td>1</td>\n",
       "      <td>1</td>\n",
       "      <td>1</td>\n",
       "      <td>1</td>\n",
       "      <td>1</td>\n",
       "      <td>1</td>\n",
       "      <td>1</td>\n",
       "    </tr>\n",
       "    <tr>\n",
       "      <th>1</th>\n",
       "      <td>2</td>\n",
       "      <td>4</td>\n",
       "      <td>8</td>\n",
       "      <td>16</td>\n",
       "      <td>32</td>\n",
       "      <td>64</td>\n",
       "      <td>128</td>\n",
       "      <td>256</td>\n",
       "      <td>512</td>\n",
       "      <td>1024</td>\n",
       "    </tr>\n",
       "    <tr>\n",
       "      <th>2</th>\n",
       "      <td>3</td>\n",
       "      <td>9</td>\n",
       "      <td>27</td>\n",
       "      <td>81</td>\n",
       "      <td>243</td>\n",
       "      <td>729</td>\n",
       "      <td>2187</td>\n",
       "      <td>6561</td>\n",
       "      <td>19683</td>\n",
       "      <td>59049</td>\n",
       "    </tr>\n",
       "    <tr>\n",
       "      <th>3</th>\n",
       "      <td>4</td>\n",
       "      <td>16</td>\n",
       "      <td>64</td>\n",
       "      <td>256</td>\n",
       "      <td>1024</td>\n",
       "      <td>4096</td>\n",
       "      <td>16384</td>\n",
       "      <td>65536</td>\n",
       "      <td>262144</td>\n",
       "      <td>1048576</td>\n",
       "    </tr>\n",
       "    <tr>\n",
       "      <th>4</th>\n",
       "      <td>5</td>\n",
       "      <td>25</td>\n",
       "      <td>125</td>\n",
       "      <td>625</td>\n",
       "      <td>3125</td>\n",
       "      <td>15625</td>\n",
       "      <td>78125</td>\n",
       "      <td>390625</td>\n",
       "      <td>1953125</td>\n",
       "      <td>9765625</td>\n",
       "    </tr>\n",
       "    <tr>\n",
       "      <th>5</th>\n",
       "      <td>6</td>\n",
       "      <td>36</td>\n",
       "      <td>216</td>\n",
       "      <td>1296</td>\n",
       "      <td>7776</td>\n",
       "      <td>46656</td>\n",
       "      <td>279936</td>\n",
       "      <td>1679616</td>\n",
       "      <td>10077696</td>\n",
       "      <td>60466176</td>\n",
       "    </tr>\n",
       "    <tr>\n",
       "      <th>6</th>\n",
       "      <td>7</td>\n",
       "      <td>49</td>\n",
       "      <td>343</td>\n",
       "      <td>2401</td>\n",
       "      <td>16807</td>\n",
       "      <td>117649</td>\n",
       "      <td>823543</td>\n",
       "      <td>5764801</td>\n",
       "      <td>40353607</td>\n",
       "      <td>282475249</td>\n",
       "    </tr>\n",
       "    <tr>\n",
       "      <th>7</th>\n",
       "      <td>8</td>\n",
       "      <td>64</td>\n",
       "      <td>512</td>\n",
       "      <td>4096</td>\n",
       "      <td>32768</td>\n",
       "      <td>262144</td>\n",
       "      <td>2097152</td>\n",
       "      <td>16777216</td>\n",
       "      <td>134217728</td>\n",
       "      <td>1073741824</td>\n",
       "    </tr>\n",
       "    <tr>\n",
       "      <th>8</th>\n",
       "      <td>9</td>\n",
       "      <td>81</td>\n",
       "      <td>729</td>\n",
       "      <td>6561</td>\n",
       "      <td>59049</td>\n",
       "      <td>531441</td>\n",
       "      <td>4782969</td>\n",
       "      <td>43046721</td>\n",
       "      <td>387420489</td>\n",
       "      <td>3486784401</td>\n",
       "    </tr>\n",
       "    <tr>\n",
       "      <th>9</th>\n",
       "      <td>10</td>\n",
       "      <td>100</td>\n",
       "      <td>1000</td>\n",
       "      <td>10000</td>\n",
       "      <td>100000</td>\n",
       "      <td>1000000</td>\n",
       "      <td>10000000</td>\n",
       "      <td>100000000</td>\n",
       "      <td>1000000000</td>\n",
       "      <td>10000000000</td>\n",
       "    </tr>\n",
       "  </tbody>\n",
       "</table>\n",
       "</div>"
      ]
     },
     "execution_count": 39,
     "metadata": {},
     "output_type": "execute_result"
    }
   ],
   "execution_count": 39
  },
  {
   "cell_type": "markdown",
   "source": [
    "### Zadanie 3\n",
    "\n",
    "Sprawdź czy tablica numpy z zadania poprzedniego oraz ramka pandas współdzielą ze sobą dane. Jeżeli nie to stwórz kolejną ramkę, która będzie te dane z tablicą współdzieliła (możesz wykorzystać sposób sprawdzenia tego z labów poprzednich)."
   ],
   "metadata": {
    "id": "6kKCJ3GfO179"
   }
  },
  {
   "metadata": {
    "ExecuteTime": {
     "end_time": "2025-03-23T17:21:01.206710Z",
     "start_time": "2025-03-23T17:21:01.204657Z"
    }
   },
   "cell_type": "code",
   "source": "np.shares_memory(result, df.values)",
   "outputs": [
    {
     "data": {
      "text/plain": [
       "False"
      ]
     },
     "execution_count": 46,
     "metadata": {},
     "output_type": "execute_result"
    }
   ],
   "execution_count": 46
  },
  {
   "metadata": {
    "ExecuteTime": {
     "end_time": "2025-03-23T17:20:59.997470Z",
     "start_time": "2025-03-23T17:20:59.994554Z"
    }
   },
   "cell_type": "code",
   "source": [
    "df2 = pd.DataFrame(result,columns=['base'] + [f'pow_{i}' for i in range(2,11)])\n",
    "np.shares_memory(result, df2.values)"
   ],
   "outputs": [
    {
     "data": {
      "text/plain": [
       "True"
      ]
     },
     "execution_count": 45,
     "metadata": {},
     "output_type": "execute_result"
    }
   ],
   "execution_count": 45
  },
  {
   "cell_type": "markdown",
   "source": [
    "### Zadanie 4\n",
    "\n",
    "Sprawdź jaki jest przydzielony typ danych w ramce z zadania poprzedniego. Czy można go downcastować do typu, który zapewni zachowanie oryginalnych danych, ale zmniejszy ilość niezbędnej pamięci do ich przechowania? Odpowiedź uzasadnij odnpowienim przykładem w kodzie."
   ],
   "metadata": {
    "id": "HBHLfj0qO3qd"
   }
  },
  {
   "metadata": {
    "ExecuteTime": {
     "end_time": "2025-03-23T17:22:33.754588Z",
     "start_time": "2025-03-23T17:22:33.751590Z"
    }
   },
   "cell_type": "code",
   "source": "df2.dtypes",
   "outputs": [
    {
     "data": {
      "text/plain": [
       "base      int64\n",
       "pow_2     int64\n",
       "pow_3     int64\n",
       "pow_4     int64\n",
       "pow_5     int64\n",
       "pow_6     int64\n",
       "pow_7     int64\n",
       "pow_8     int64\n",
       "pow_9     int64\n",
       "pow_10    int64\n",
       "dtype: object"
      ]
     },
     "execution_count": 47,
     "metadata": {},
     "output_type": "execute_result"
    }
   ],
   "execution_count": 47
  },
  {
   "metadata": {
    "ExecuteTime": {
     "end_time": "2025-03-23T17:24:30.381420Z",
     "start_time": "2025-03-23T17:24:30.377231Z"
    }
   },
   "cell_type": "code",
   "source": "df2.memory_usage(deep=True)",
   "outputs": [
    {
     "data": {
      "text/plain": [
       "Index     132\n",
       "base       80\n",
       "pow_2      80\n",
       "pow_3      80\n",
       "pow_4      80\n",
       "pow_5      80\n",
       "pow_6      80\n",
       "pow_7      80\n",
       "pow_8      80\n",
       "pow_9      80\n",
       "pow_10     80\n",
       "dtype: int64"
      ]
     },
     "execution_count": 48,
     "metadata": {},
     "output_type": "execute_result"
    }
   ],
   "execution_count": 48
  },
  {
   "metadata": {
    "ExecuteTime": {
     "end_time": "2025-03-23T17:26:27.831599Z",
     "start_time": "2025-03-23T17:26:27.826376Z"
    }
   },
   "cell_type": "code",
   "source": [
    "df_downcasted = df2.apply(pd.to_numeric, downcast='integer')\n",
    "df_downcasted.dtypes"
   ],
   "outputs": [
    {
     "data": {
      "text/plain": [
       "base       int8\n",
       "pow_2      int8\n",
       "pow_3     int16\n",
       "pow_4     int16\n",
       "pow_5     int32\n",
       "pow_6     int32\n",
       "pow_7     int32\n",
       "pow_8     int32\n",
       "pow_9     int32\n",
       "pow_10    int64\n",
       "dtype: object"
      ]
     },
     "execution_count": 51,
     "metadata": {},
     "output_type": "execute_result"
    }
   ],
   "execution_count": 51
  },
  {
   "metadata": {
    "ExecuteTime": {
     "end_time": "2025-03-23T17:26:29.244518Z",
     "start_time": "2025-03-23T17:26:29.241284Z"
    }
   },
   "cell_type": "code",
   "source": "df_downcasted.memory_usage(deep=True)",
   "outputs": [
    {
     "data": {
      "text/plain": [
       "Index     132\n",
       "base       10\n",
       "pow_2      10\n",
       "pow_3      20\n",
       "pow_4      20\n",
       "pow_5      40\n",
       "pow_6      40\n",
       "pow_7      40\n",
       "pow_8      40\n",
       "pow_9      40\n",
       "pow_10     80\n",
       "dtype: int64"
      ]
     },
     "execution_count": 52,
     "metadata": {},
     "output_type": "execute_result"
    }
   ],
   "execution_count": 52
  },
  {
   "cell_type": "markdown",
   "source": [
    "### Zadanie 5\n",
    "\n",
    "Wczytaj dane z pliku iris.data za pomocą funkcji read_csv do zmiennej iris jak w przykładzie."
   ],
   "metadata": {
    "id": "FmnvFKG4O6v1"
   }
  },
  {
   "metadata": {
    "ExecuteTime": {
     "end_time": "2025-03-23T17:31:36.027466Z",
     "start_time": "2025-03-23T17:31:36.020978Z"
    }
   },
   "cell_type": "code",
   "source": [
    "iris = pd.read_csv('iris.data')\n",
    "iris"
   ],
   "outputs": [
    {
     "data": {
      "text/plain": [
       "     sepal length in cm  sepal width in cm  petal length in cm  \\\n",
       "0                   5.1                3.5                 1.4   \n",
       "1                   4.9                3.0                 1.4   \n",
       "2                   4.7                3.2                 1.3   \n",
       "3                   4.6                3.1                 1.5   \n",
       "4                   5.0                3.6                 1.4   \n",
       "..                  ...                ...                 ...   \n",
       "145                 6.7                3.0                 5.2   \n",
       "146                 6.3                2.5                 5.0   \n",
       "147                 6.5                3.0                 5.2   \n",
       "148                 6.2                3.4                 5.4   \n",
       "149                 5.9                3.0                 5.1   \n",
       "\n",
       "     petal width in cm           class  \n",
       "0                  0.2     Iris-setosa  \n",
       "1                  0.2     Iris-setosa  \n",
       "2                  0.2     Iris-setosa  \n",
       "3                  0.2     Iris-setosa  \n",
       "4                  0.2     Iris-setosa  \n",
       "..                 ...             ...  \n",
       "145                2.3  Iris-virginica  \n",
       "146                1.9  Iris-virginica  \n",
       "147                2.0  Iris-virginica  \n",
       "148                2.3  Iris-virginica  \n",
       "149                1.8  Iris-virginica  \n",
       "\n",
       "[150 rows x 5 columns]"
      ],
      "text/html": [
       "<div>\n",
       "<style scoped>\n",
       "    .dataframe tbody tr th:only-of-type {\n",
       "        vertical-align: middle;\n",
       "    }\n",
       "\n",
       "    .dataframe tbody tr th {\n",
       "        vertical-align: top;\n",
       "    }\n",
       "\n",
       "    .dataframe thead th {\n",
       "        text-align: right;\n",
       "    }\n",
       "</style>\n",
       "<table border=\"1\" class=\"dataframe\">\n",
       "  <thead>\n",
       "    <tr style=\"text-align: right;\">\n",
       "      <th></th>\n",
       "      <th>sepal length in cm</th>\n",
       "      <th>sepal width in cm</th>\n",
       "      <th>petal length in cm</th>\n",
       "      <th>petal width in cm</th>\n",
       "      <th>class</th>\n",
       "    </tr>\n",
       "  </thead>\n",
       "  <tbody>\n",
       "    <tr>\n",
       "      <th>0</th>\n",
       "      <td>5.1</td>\n",
       "      <td>3.5</td>\n",
       "      <td>1.4</td>\n",
       "      <td>0.2</td>\n",
       "      <td>Iris-setosa</td>\n",
       "    </tr>\n",
       "    <tr>\n",
       "      <th>1</th>\n",
       "      <td>4.9</td>\n",
       "      <td>3.0</td>\n",
       "      <td>1.4</td>\n",
       "      <td>0.2</td>\n",
       "      <td>Iris-setosa</td>\n",
       "    </tr>\n",
       "    <tr>\n",
       "      <th>2</th>\n",
       "      <td>4.7</td>\n",
       "      <td>3.2</td>\n",
       "      <td>1.3</td>\n",
       "      <td>0.2</td>\n",
       "      <td>Iris-setosa</td>\n",
       "    </tr>\n",
       "    <tr>\n",
       "      <th>3</th>\n",
       "      <td>4.6</td>\n",
       "      <td>3.1</td>\n",
       "      <td>1.5</td>\n",
       "      <td>0.2</td>\n",
       "      <td>Iris-setosa</td>\n",
       "    </tr>\n",
       "    <tr>\n",
       "      <th>4</th>\n",
       "      <td>5.0</td>\n",
       "      <td>3.6</td>\n",
       "      <td>1.4</td>\n",
       "      <td>0.2</td>\n",
       "      <td>Iris-setosa</td>\n",
       "    </tr>\n",
       "    <tr>\n",
       "      <th>...</th>\n",
       "      <td>...</td>\n",
       "      <td>...</td>\n",
       "      <td>...</td>\n",
       "      <td>...</td>\n",
       "      <td>...</td>\n",
       "    </tr>\n",
       "    <tr>\n",
       "      <th>145</th>\n",
       "      <td>6.7</td>\n",
       "      <td>3.0</td>\n",
       "      <td>5.2</td>\n",
       "      <td>2.3</td>\n",
       "      <td>Iris-virginica</td>\n",
       "    </tr>\n",
       "    <tr>\n",
       "      <th>146</th>\n",
       "      <td>6.3</td>\n",
       "      <td>2.5</td>\n",
       "      <td>5.0</td>\n",
       "      <td>1.9</td>\n",
       "      <td>Iris-virginica</td>\n",
       "    </tr>\n",
       "    <tr>\n",
       "      <th>147</th>\n",
       "      <td>6.5</td>\n",
       "      <td>3.0</td>\n",
       "      <td>5.2</td>\n",
       "      <td>2.0</td>\n",
       "      <td>Iris-virginica</td>\n",
       "    </tr>\n",
       "    <tr>\n",
       "      <th>148</th>\n",
       "      <td>6.2</td>\n",
       "      <td>3.4</td>\n",
       "      <td>5.4</td>\n",
       "      <td>2.3</td>\n",
       "      <td>Iris-virginica</td>\n",
       "    </tr>\n",
       "    <tr>\n",
       "      <th>149</th>\n",
       "      <td>5.9</td>\n",
       "      <td>3.0</td>\n",
       "      <td>5.1</td>\n",
       "      <td>1.8</td>\n",
       "      <td>Iris-virginica</td>\n",
       "    </tr>\n",
       "  </tbody>\n",
       "</table>\n",
       "<p>150 rows × 5 columns</p>\n",
       "</div>"
      ]
     },
     "execution_count": 56,
     "metadata": {},
     "output_type": "execute_result"
    }
   ],
   "execution_count": 56
  },
  {
   "cell_type": "markdown",
   "source": [
    "### Zadanie 6\n",
    "\n",
    "Zamień nazwy kolumn w ramce iris tak, aby w miejsce spacji wstawić znak _. Wyświetl pierwsze 10 wierszy tej ramki."
   ],
   "metadata": {
    "id": "LMPJoxDDO8-9"
   }
  },
  {
   "metadata": {
    "ExecuteTime": {
     "end_time": "2025-03-23T17:47:24.540817Z",
     "start_time": "2025-03-23T17:47:24.536124Z"
    }
   },
   "cell_type": "code",
   "source": [
    "iris.columns = iris.columns.str.replace(\" \", \"_\")\n",
    "iris.head(10)"
   ],
   "outputs": [
    {
     "data": {
      "text/plain": [
       "   sepal_length_in_cm  sepal_width_in_cm  petal_length_in_cm  \\\n",
       "0                 5.1                3.5                 1.4   \n",
       "1                 4.9                3.0                 1.4   \n",
       "2                 4.7                3.2                 1.3   \n",
       "3                 4.6                3.1                 1.5   \n",
       "4                 5.0                3.6                 1.4   \n",
       "5                 5.4                3.9                 1.7   \n",
       "6                 4.6                3.4                 1.4   \n",
       "7                 5.0                3.4                 1.5   \n",
       "8                 4.4                2.9                 1.4   \n",
       "9                 4.9                3.1                 1.5   \n",
       "\n",
       "   petal_width_in_cm        class  \n",
       "0                0.2  Iris-setosa  \n",
       "1                0.2  Iris-setosa  \n",
       "2                0.2  Iris-setosa  \n",
       "3                0.2  Iris-setosa  \n",
       "4                0.2  Iris-setosa  \n",
       "5                0.4  Iris-setosa  \n",
       "6                0.3  Iris-setosa  \n",
       "7                0.2  Iris-setosa  \n",
       "8                0.2  Iris-setosa  \n",
       "9                0.1  Iris-setosa  "
      ],
      "text/html": [
       "<div>\n",
       "<style scoped>\n",
       "    .dataframe tbody tr th:only-of-type {\n",
       "        vertical-align: middle;\n",
       "    }\n",
       "\n",
       "    .dataframe tbody tr th {\n",
       "        vertical-align: top;\n",
       "    }\n",
       "\n",
       "    .dataframe thead th {\n",
       "        text-align: right;\n",
       "    }\n",
       "</style>\n",
       "<table border=\"1\" class=\"dataframe\">\n",
       "  <thead>\n",
       "    <tr style=\"text-align: right;\">\n",
       "      <th></th>\n",
       "      <th>sepal_length_in_cm</th>\n",
       "      <th>sepal_width_in_cm</th>\n",
       "      <th>petal_length_in_cm</th>\n",
       "      <th>petal_width_in_cm</th>\n",
       "      <th>class</th>\n",
       "    </tr>\n",
       "  </thead>\n",
       "  <tbody>\n",
       "    <tr>\n",
       "      <th>0</th>\n",
       "      <td>5.1</td>\n",
       "      <td>3.5</td>\n",
       "      <td>1.4</td>\n",
       "      <td>0.2</td>\n",
       "      <td>Iris-setosa</td>\n",
       "    </tr>\n",
       "    <tr>\n",
       "      <th>1</th>\n",
       "      <td>4.9</td>\n",
       "      <td>3.0</td>\n",
       "      <td>1.4</td>\n",
       "      <td>0.2</td>\n",
       "      <td>Iris-setosa</td>\n",
       "    </tr>\n",
       "    <tr>\n",
       "      <th>2</th>\n",
       "      <td>4.7</td>\n",
       "      <td>3.2</td>\n",
       "      <td>1.3</td>\n",
       "      <td>0.2</td>\n",
       "      <td>Iris-setosa</td>\n",
       "    </tr>\n",
       "    <tr>\n",
       "      <th>3</th>\n",
       "      <td>4.6</td>\n",
       "      <td>3.1</td>\n",
       "      <td>1.5</td>\n",
       "      <td>0.2</td>\n",
       "      <td>Iris-setosa</td>\n",
       "    </tr>\n",
       "    <tr>\n",
       "      <th>4</th>\n",
       "      <td>5.0</td>\n",
       "      <td>3.6</td>\n",
       "      <td>1.4</td>\n",
       "      <td>0.2</td>\n",
       "      <td>Iris-setosa</td>\n",
       "    </tr>\n",
       "    <tr>\n",
       "      <th>5</th>\n",
       "      <td>5.4</td>\n",
       "      <td>3.9</td>\n",
       "      <td>1.7</td>\n",
       "      <td>0.4</td>\n",
       "      <td>Iris-setosa</td>\n",
       "    </tr>\n",
       "    <tr>\n",
       "      <th>6</th>\n",
       "      <td>4.6</td>\n",
       "      <td>3.4</td>\n",
       "      <td>1.4</td>\n",
       "      <td>0.3</td>\n",
       "      <td>Iris-setosa</td>\n",
       "    </tr>\n",
       "    <tr>\n",
       "      <th>7</th>\n",
       "      <td>5.0</td>\n",
       "      <td>3.4</td>\n",
       "      <td>1.5</td>\n",
       "      <td>0.2</td>\n",
       "      <td>Iris-setosa</td>\n",
       "    </tr>\n",
       "    <tr>\n",
       "      <th>8</th>\n",
       "      <td>4.4</td>\n",
       "      <td>2.9</td>\n",
       "      <td>1.4</td>\n",
       "      <td>0.2</td>\n",
       "      <td>Iris-setosa</td>\n",
       "    </tr>\n",
       "    <tr>\n",
       "      <th>9</th>\n",
       "      <td>4.9</td>\n",
       "      <td>3.1</td>\n",
       "      <td>1.5</td>\n",
       "      <td>0.1</td>\n",
       "      <td>Iris-setosa</td>\n",
       "    </tr>\n",
       "  </tbody>\n",
       "</table>\n",
       "</div>"
      ]
     },
     "execution_count": 78,
     "metadata": {},
     "output_type": "execute_result"
    }
   ],
   "execution_count": 78
  },
  {
   "cell_type": "markdown",
   "source": [
    "### Zadanie 7\n",
    "\n",
    "Sprawdź metodą memory_usage() (z parametrem deep=True oraz bez niego) ile danych zajmuje ramka. Wybierz jeden z typów danych numerycznych rodzaju float o mniejszej precyzji i zapisz ramkę w nowej zmiennej iris_smaller, której kolumny numeryczne będą rzutowane na ten nowy typ float. Ponownie sprawdź ile pamięci zostało dla ramki zaalokowane."
   ],
   "metadata": {
    "id": "1BF4UWD-PAXF"
   }
  },
  {
   "metadata": {
    "ExecuteTime": {
     "end_time": "2025-03-23T17:36:35.856328Z",
     "start_time": "2025-03-23T17:36:35.852231Z"
    }
   },
   "cell_type": "code",
   "source": "iris.memory_usage()",
   "outputs": [
    {
     "data": {
      "text/plain": [
       "Index                  132\n",
       "sepal_length_in_cm    1200\n",
       "sepal_width_in_cm     1200\n",
       "petal_length_in_cm    1200\n",
       "petal_width_in_cm     1200\n",
       "class                 1200\n",
       "dtype: int64"
      ]
     },
     "execution_count": 66,
     "metadata": {},
     "output_type": "execute_result"
    }
   ],
   "execution_count": 66
  },
  {
   "metadata": {
    "ExecuteTime": {
     "end_time": "2025-03-23T17:36:45.184954Z",
     "start_time": "2025-03-23T17:36:45.180590Z"
    }
   },
   "cell_type": "code",
   "source": "iris.memory_usage(deep=True)",
   "outputs": [
    {
     "data": {
      "text/plain": [
       "Index                   132\n",
       "sepal_length_in_cm     1200\n",
       "sepal_width_in_cm      1200\n",
       "petal_length_in_cm     1200\n",
       "petal_width_in_cm      1200\n",
       "class                 10550\n",
       "dtype: int64"
      ]
     },
     "execution_count": 67,
     "metadata": {},
     "output_type": "execute_result"
    }
   ],
   "execution_count": 67
  },
  {
   "metadata": {
    "ExecuteTime": {
     "end_time": "2025-03-23T17:41:51.109126Z",
     "start_time": "2025-03-23T17:41:51.106409Z"
    }
   },
   "cell_type": "code",
   "source": [
    "iris_smaller = iris.copy()\n",
    "for col in iris.select_dtypes(include='float').columns:\n",
    "    iris_smaller[col] = iris[col].astype('float32')"
   ],
   "outputs": [],
   "execution_count": 71
  },
  {
   "metadata": {
    "ExecuteTime": {
     "end_time": "2025-03-23T17:44:07.994528Z",
     "start_time": "2025-03-23T17:44:07.991204Z"
    }
   },
   "cell_type": "code",
   "source": "iris_smaller.memory_usage()",
   "outputs": [
    {
     "data": {
      "text/plain": [
       "Index                  132\n",
       "sepal_length_in_cm     600\n",
       "sepal_width_in_cm      600\n",
       "petal_length_in_cm     600\n",
       "petal_width_in_cm      600\n",
       "class                 1200\n",
       "dtype: int64"
      ]
     },
     "execution_count": 77,
     "metadata": {},
     "output_type": "execute_result"
    }
   ],
   "execution_count": 77
  },
  {
   "cell_type": "markdown",
   "source": [
    "### Zadanie 8\n",
    "\n",
    "Zapisz ramkę do schowka (funkcja to_clipboard()), a następnie wklej schowek do edytora tekstowego oraz dowolnego arkusza kalkulacyjnego. Sprawdź format tych danych.\n",
    "\n",
    "Teraz skopiuj do schowka część z tych wklejonych danych i zapisz do nowej ramki metodą from_clipboard(). Wyświetl pierwsze 5 wierszy tej ramki.\n",
    "\n",
    "Rozwiązanie zadania to jedynie wywołanie powyższej funkcji, reszta dla informacji i wiedzy studenta."
   ],
   "metadata": {
    "id": "lKxdZqlgPC7t"
   }
  },
  {
   "metadata": {
    "ExecuteTime": {
     "end_time": "2025-03-23T17:55:14.282376Z",
     "start_time": "2025-03-23T17:55:14.256718Z"
    }
   },
   "cell_type": "code",
   "source": "iris.to_clipboard()",
   "outputs": [],
   "execution_count": 80
  },
  {
   "metadata": {
    "ExecuteTime": {
     "end_time": "2025-03-23T17:58:27.962145Z",
     "start_time": "2025-03-23T17:58:27.932644Z"
    }
   },
   "cell_type": "code",
   "source": [
    "new_iris = pd.read_clipboard()\n",
    "new_iris.head(5)"
   ],
   "outputs": [
    {
     "data": {
      "text/plain": [
       "   sepal_length_in_cm  sepal_width_in_cm  petal_length_in_cm  \\\n",
       "0                 5.1                3.5                 1.4   \n",
       "1                 4.9                3.0                 1.4   \n",
       "2                 4.7                3.2                 1.3   \n",
       "3                 4.6                3.1                 1.5   \n",
       "4                 5.0                3.6                 1.4   \n",
       "\n",
       "   petal_width_in_cm        class  \n",
       "0                0.2  Iris-setosa  \n",
       "1                0.2  Iris-setosa  \n",
       "2                0.2  Iris-setosa  \n",
       "3                0.2  Iris-setosa  \n",
       "4                0.2  Iris-setosa  "
      ],
      "text/html": [
       "<div>\n",
       "<style scoped>\n",
       "    .dataframe tbody tr th:only-of-type {\n",
       "        vertical-align: middle;\n",
       "    }\n",
       "\n",
       "    .dataframe tbody tr th {\n",
       "        vertical-align: top;\n",
       "    }\n",
       "\n",
       "    .dataframe thead th {\n",
       "        text-align: right;\n",
       "    }\n",
       "</style>\n",
       "<table border=\"1\" class=\"dataframe\">\n",
       "  <thead>\n",
       "    <tr style=\"text-align: right;\">\n",
       "      <th></th>\n",
       "      <th>sepal_length_in_cm</th>\n",
       "      <th>sepal_width_in_cm</th>\n",
       "      <th>petal_length_in_cm</th>\n",
       "      <th>petal_width_in_cm</th>\n",
       "      <th>class</th>\n",
       "    </tr>\n",
       "  </thead>\n",
       "  <tbody>\n",
       "    <tr>\n",
       "      <th>0</th>\n",
       "      <td>5.1</td>\n",
       "      <td>3.5</td>\n",
       "      <td>1.4</td>\n",
       "      <td>0.2</td>\n",
       "      <td>Iris-setosa</td>\n",
       "    </tr>\n",
       "    <tr>\n",
       "      <th>1</th>\n",
       "      <td>4.9</td>\n",
       "      <td>3.0</td>\n",
       "      <td>1.4</td>\n",
       "      <td>0.2</td>\n",
       "      <td>Iris-setosa</td>\n",
       "    </tr>\n",
       "    <tr>\n",
       "      <th>2</th>\n",
       "      <td>4.7</td>\n",
       "      <td>3.2</td>\n",
       "      <td>1.3</td>\n",
       "      <td>0.2</td>\n",
       "      <td>Iris-setosa</td>\n",
       "    </tr>\n",
       "    <tr>\n",
       "      <th>3</th>\n",
       "      <td>4.6</td>\n",
       "      <td>3.1</td>\n",
       "      <td>1.5</td>\n",
       "      <td>0.2</td>\n",
       "      <td>Iris-setosa</td>\n",
       "    </tr>\n",
       "    <tr>\n",
       "      <th>4</th>\n",
       "      <td>5.0</td>\n",
       "      <td>3.6</td>\n",
       "      <td>1.4</td>\n",
       "      <td>0.2</td>\n",
       "      <td>Iris-setosa</td>\n",
       "    </tr>\n",
       "  </tbody>\n",
       "</table>\n",
       "</div>"
      ]
     },
     "execution_count": 82,
     "metadata": {},
     "output_type": "execute_result"
    }
   ],
   "execution_count": 82
  },
  {
   "cell_type": "markdown",
   "source": [
    "### Zadanie 9\n",
    "\n",
    "Zapisz ramkę do formatów parquet, json oraz pickle (możliwe, że konieczne będzie doinstalowanie nowych pakietów) korzystając z odpowiednich funkcji opisanych w dokumentacji (link w materiałach)."
   ],
   "metadata": {
    "id": "5lU9CB_kPG-t"
   }
  },
  {
   "metadata": {
    "ExecuteTime": {
     "end_time": "2025-03-23T18:01:05.793528Z",
     "start_time": "2025-03-23T18:01:03.881492Z"
    }
   },
   "cell_type": "code",
   "source": "pip install fastparquet",
   "outputs": [
    {
     "name": "stdout",
     "output_type": "stream",
     "text": [
      "Collecting fastparquet\r\n",
      "  Downloading fastparquet-2024.11.0-cp311-cp311-macosx_11_0_arm64.whl.metadata (4.2 kB)\r\n",
      "Requirement already satisfied: pandas>=1.5.0 in /Library/Frameworks/Python.framework/Versions/3.11/lib/python3.11/site-packages (from fastparquet) (2.2.3)\r\n",
      "Requirement already satisfied: numpy in /Library/Frameworks/Python.framework/Versions/3.11/lib/python3.11/site-packages (from fastparquet) (2.1.3)\r\n",
      "Collecting cramjam>=2.3 (from fastparquet)\r\n",
      "  Downloading cramjam-2.9.1-cp311-cp311-macosx_11_0_arm64.whl.metadata (4.9 kB)\r\n",
      "Collecting fsspec (from fastparquet)\r\n",
      "  Downloading fsspec-2025.3.0-py3-none-any.whl.metadata (11 kB)\r\n",
      "Requirement already satisfied: packaging in /Library/Frameworks/Python.framework/Versions/3.11/lib/python3.11/site-packages (from fastparquet) (23.2)\r\n",
      "Requirement already satisfied: python-dateutil>=2.8.2 in /Library/Frameworks/Python.framework/Versions/3.11/lib/python3.11/site-packages (from pandas>=1.5.0->fastparquet) (2.9.0.post0)\r\n",
      "Requirement already satisfied: pytz>=2020.1 in /Library/Frameworks/Python.framework/Versions/3.11/lib/python3.11/site-packages (from pandas>=1.5.0->fastparquet) (2024.1)\r\n",
      "Requirement already satisfied: tzdata>=2022.7 in /Library/Frameworks/Python.framework/Versions/3.11/lib/python3.11/site-packages (from pandas>=1.5.0->fastparquet) (2024.2)\r\n",
      "Requirement already satisfied: six>=1.5 in /Library/Frameworks/Python.framework/Versions/3.11/lib/python3.11/site-packages (from python-dateutil>=2.8.2->pandas>=1.5.0->fastparquet) (1.16.0)\r\n",
      "Downloading fastparquet-2024.11.0-cp311-cp311-macosx_11_0_arm64.whl (683 kB)\r\n",
      "\u001B[2K   \u001B[90m━━━━━━━━━━━━━━━━━━━━━━━━━━━━━━━━━━━━━━━━\u001B[0m \u001B[32m683.8/683.8 kB\u001B[0m \u001B[31m8.1 MB/s\u001B[0m eta \u001B[36m0:00:00\u001B[0m\r\n",
      "\u001B[?25hDownloading cramjam-2.9.1-cp311-cp311-macosx_11_0_arm64.whl (1.9 MB)\r\n",
      "\u001B[2K   \u001B[90m━━━━━━━━━━━━━━━━━━━━━━━━━━━━━━━━━━━━━━━━\u001B[0m \u001B[32m1.9/1.9 MB\u001B[0m \u001B[31m24.2 MB/s\u001B[0m eta \u001B[36m0:00:00\u001B[0m\r\n",
      "\u001B[?25hDownloading fsspec-2025.3.0-py3-none-any.whl (193 kB)\r\n",
      "Installing collected packages: fsspec, cramjam, fastparquet\r\n",
      "Successfully installed cramjam-2.9.1 fastparquet-2024.11.0 fsspec-2025.3.0\r\n",
      "Note: you may need to restart the kernel to use updated packages.\n"
     ]
    }
   ],
   "execution_count": 85
  },
  {
   "metadata": {
    "ExecuteTime": {
     "end_time": "2025-03-23T18:01:11.540048Z",
     "start_time": "2025-03-23T18:01:11.406883Z"
    }
   },
   "cell_type": "code",
   "source": "iris.to_parquet('iris.parquet')\n",
   "outputs": [],
   "execution_count": 86
  },
  {
   "metadata": {
    "ExecuteTime": {
     "end_time": "2025-03-23T18:01:29.118481Z",
     "start_time": "2025-03-23T18:01:29.115509Z"
    }
   },
   "cell_type": "code",
   "source": "iris.to_json('iris.json')",
   "outputs": [],
   "execution_count": 87
  },
  {
   "metadata": {
    "ExecuteTime": {
     "end_time": "2025-03-23T18:01:32.622276Z",
     "start_time": "2025-03-23T18:01:32.619529Z"
    }
   },
   "cell_type": "code",
   "source": "iris.to_pickle('iris.pkl')",
   "outputs": [],
   "execution_count": 88
  }
 ]
}
