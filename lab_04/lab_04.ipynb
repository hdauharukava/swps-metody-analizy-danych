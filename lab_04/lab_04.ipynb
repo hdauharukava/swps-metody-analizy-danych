{
 "cells": [
  {
   "cell_type": "markdown",
   "id": "0e3f4a50-8f18-4f30-b1ca-392ff5ff9e3c",
   "metadata": {},
   "source": [
    "# Metody analizy danych. Lab 4. Wprowadzenie do biblioteki pandas"
   ]
  },
  {
   "cell_type": "markdown",
   "id": "9390518c-6d66-4359-b049-0df81638943b",
   "metadata": {},
   "source": [
    "## 1. Struktury danych w bibliotece pandas"
   ]
  },
  {
   "cell_type": "markdown",
   "id": "cf1eda99-d2bf-435f-9fdc-8e15ecccb7f9",
   "metadata": {},
   "source": [
    "Podstawową strukturą danych w bibliotece pandas jest ramka danych, obiekt typu `DataFrame` oraz seria danych, `Series`, która stanowi pojedynczą kolumnę ramki danych. Pod tymi strukturami kryją się tablice numpy, które poznaliśmy już na zajęciach wcześniejszych. Każda kolumna w ramce danych jest określona typem danych, który jest w niej przechowywany, z uwzględnieniem sytuacji, w której możliwe jest również przechowywanie wartości brakujących (typ `Nan` - not a number)."
   ]
  },
  {
   "cell_type": "markdown",
   "id": "c556891a-3b8e-4def-b789-36073ada1f66",
   "metadata": {},
   "source": [
    "### 1.1 Inicjalizacja ramek oraz serii danych"
   ]
  },
  {
   "cell_type": "code",
   "execution_count": 4,
   "id": "4242b2da-d4d9-4026-9784-11dea4db72e0",
   "metadata": {},
   "outputs": [
    {
     "name": "stdout",
     "output_type": "stream",
     "text": [
      "Collecting pandas\n",
      "  Using cached pandas-2.2.3-cp313-cp313-win_amd64.whl.metadata (19 kB)\n",
      "Requirement already satisfied: numpy>=1.26.0 in c:\\users\\krzysztof\\__projects\\__swps_analiza_danych_ok\\.venv\\lib\\site-packages (from pandas) (2.2.3)\n",
      "Requirement already satisfied: python-dateutil>=2.8.2 in c:\\users\\krzysztof\\__projects\\__swps_analiza_danych_ok\\.venv\\lib\\site-packages (from pandas) (2.9.0.post0)\n",
      "Collecting pytz>=2020.1 (from pandas)\n",
      "  Using cached pytz-2025.1-py2.py3-none-any.whl.metadata (22 kB)\n",
      "Collecting tzdata>=2022.7 (from pandas)\n",
      "  Using cached tzdata-2025.1-py2.py3-none-any.whl.metadata (1.4 kB)\n",
      "Requirement already satisfied: six>=1.5 in c:\\users\\krzysztof\\__projects\\__swps_analiza_danych_ok\\.venv\\lib\\site-packages (from python-dateutil>=2.8.2->pandas) (1.17.0)\n",
      "Using cached pandas-2.2.3-cp313-cp313-win_amd64.whl (11.5 MB)\n",
      "Using cached pytz-2025.1-py2.py3-none-any.whl (507 kB)\n",
      "Using cached tzdata-2025.1-py2.py3-none-any.whl (346 kB)\n",
      "Installing collected packages: pytz, tzdata, pandas\n",
      "Successfully installed pandas-2.2.3 pytz-2025.1 tzdata-2025.1\n"
     ]
    }
   ],
   "source": [
    "!pip install pandas"
   ]
  },
  {
   "cell_type": "code",
   "execution_count": 23,
   "id": "dbb0d752-12da-40ef-af0e-83a3bbabd92d",
   "metadata": {},
   "outputs": [],
   "source": [
    "import pandas as pd\n",
    "import numpy as np"
   ]
  },
  {
   "cell_type": "markdown",
   "id": "1aa4923f-0af8-4020-a74d-4f860ed7601a",
   "metadata": {},
   "source": [
    "Seria danych w pandas to struktura, która oprócz danych w postaci wektora zawiera również indeks, który może być dowolnego typu, pod warunkiem, że jest typem hashowalnym w Pythonie. Poniżej kilka przykładów inicjalizacji serii danych."
   ]
  },
  {
   "cell_type": "code",
   "execution_count": 11,
   "id": "6c7dee46-7268-4810-b5f0-978ad40a04ff",
   "metadata": {
    "scrolled": true
   },
   "outputs": [
    {
     "name": "stdout",
     "output_type": "stream",
     "text": [
      "\n",
      "One-dimensional ndarray with axis labels (including time series).\n",
      "\n",
      "Labels need not be unique but must be a hashable type. The object\n",
      "supports both integer- and label-based indexing and provides a host of\n",
      "methods for performing operations involving the index. Statistical\n",
      "methods from ndarray have been overridden to automatically exclude\n",
      "missing data (currently represented as NaN).\n",
      "\n",
      "Operations between Series (+, -, /, \\*, \\*\\*) align values based on their\n",
      "associated index values-- they need not be the same length. The result\n",
      "index will be the sorted union of the two indexes.\n",
      "\n",
      "Parameters\n",
      "----------\n",
      "data : array-like, Iterable, dict, or scalar value\n",
      "    Contains data stored in Series. If data is a dict, argument order is\n",
      "    maintained.\n",
      "index : array-like or Index (1d)\n",
      "    Values must be hashable and have the same length as `data`.\n",
      "    Non-unique index values are allowed. Will default to\n",
      "    RangeIndex (0, 1, 2, ..., n) if not provided. If data is dict-like\n",
      "    and index is None, then the keys in the data are used as the index. If the\n",
      "    index is not None, the resulting Series is reindexed with the index values.\n",
      "dtype : str, numpy.dtype, or ExtensionDtype, optional\n",
      "    Data type for the output Series. If not specified, this will be\n",
      "    inferred from `data`.\n",
      "    See the :ref:`user guide <basics.dtypes>` for more usages.\n",
      "name : Hashable, default None\n",
      "    The name to give to the Series.\n",
      "copy : bool, default False\n",
      "    Copy input data. Only affects Series or 1d ndarray input. See examples.\n",
      "\n",
      "Notes\n",
      "-----\n",
      "Please reference the :ref:`User Guide <basics.series>` for more information.\n",
      "\n",
      "Examples\n",
      "--------\n",
      "Constructing Series from a dictionary with an Index specified\n",
      "\n",
      ">>> d = {'a': 1, 'b': 2, 'c': 3}\n",
      ">>> ser = pd.Series(data=d, index=['a', 'b', 'c'])\n",
      ">>> ser\n",
      "a   1\n",
      "b   2\n",
      "c   3\n",
      "dtype: int64\n",
      "\n",
      "The keys of the dictionary match with the Index values, hence the Index\n",
      "values have no effect.\n",
      "\n",
      ">>> d = {'a': 1, 'b': 2, 'c': 3}\n",
      ">>> ser = pd.Series(data=d, index=['x', 'y', 'z'])\n",
      ">>> ser\n",
      "x   NaN\n",
      "y   NaN\n",
      "z   NaN\n",
      "dtype: float64\n",
      "\n",
      "Note that the Index is first build with the keys from the dictionary.\n",
      "After this the Series is reindexed with the given Index values, hence we\n",
      "get all NaN as a result.\n",
      "\n",
      "Constructing Series from a list with `copy=False`.\n",
      "\n",
      ">>> r = [1, 2]\n",
      ">>> ser = pd.Series(r, copy=False)\n",
      ">>> ser.iloc[0] = 999\n",
      ">>> r\n",
      "[1, 2]\n",
      ">>> ser\n",
      "0    999\n",
      "1      2\n",
      "dtype: int64\n",
      "\n",
      "Due to input data type the Series has a `copy` of\n",
      "the original data even though `copy=False`, so\n",
      "the data is unchanged.\n",
      "\n",
      "Constructing Series from a 1d ndarray with `copy=False`.\n",
      "\n",
      ">>> r = np.array([1, 2])\n",
      ">>> ser = pd.Series(r, copy=False)\n",
      ">>> ser.iloc[0] = 999\n",
      ">>> r\n",
      "array([999,   2])\n",
      ">>> ser\n",
      "0    999\n",
      "1      2\n",
      "dtype: int64\n",
      "\n",
      "Due to input data type the Series has a `view` on\n",
      "the original data, so\n",
      "the data is changed as well.\n",
      "\n"
     ]
    }
   ],
   "source": [
    "# wyświetlenie docstringa dla klasy pandas.Series\n",
    "print(pd.Series.__doc__)"
   ]
  },
  {
   "cell_type": "markdown",
   "id": "5cbe0500-a0db-42a3-86dd-69d6c6f88730",
   "metadata": {},
   "source": [
    "**Przykład 1**"
   ]
  },
  {
   "cell_type": "code",
   "execution_count": 12,
   "id": "ae0978ff-2b25-4e71-a46b-06b666ce9eea",
   "metadata": {},
   "outputs": [
    {
     "data": {
      "text/plain": [
       "Series([], dtype: object)"
      ]
     },
     "execution_count": 12,
     "metadata": {},
     "output_type": "execute_result"
    }
   ],
   "source": [
    "# możemy zainicjalizowac pustą serię\n",
    "series_1 = pd.Series()\n",
    "series_1"
   ]
  },
  {
   "cell_type": "code",
   "execution_count": 13,
   "id": "6a9f5ecc-315f-4aee-9465-7262e26b790d",
   "metadata": {},
   "outputs": [
    {
     "data": {
      "text/plain": [
       "count       0\n",
       "unique      0\n",
       "top       NaN\n",
       "freq      NaN\n",
       "dtype: object"
      ]
     },
     "execution_count": 13,
     "metadata": {},
     "output_type": "execute_result"
    }
   ],
   "source": [
    "# główne statystyki opisowe, dostępne również dla ramki danych\n",
    "series_1.describe()"
   ]
  },
  {
   "cell_type": "markdown",
   "id": "f16a0c5c-231d-4b39-bb23-7e40441b95d8",
   "metadata": {},
   "source": [
    "**Przykład 2**"
   ]
  },
  {
   "cell_type": "code",
   "execution_count": 14,
   "id": "91591782-e297-43a5-9135-76f4d15f3ef8",
   "metadata": {},
   "outputs": [
    {
     "data": {
      "text/plain": [
       "0    1\n",
       "1    2\n",
       "2    3\n",
       "3    4\n",
       "4    5\n",
       "dtype: int64"
      ]
     },
     "execution_count": 14,
     "metadata": {},
     "output_type": "execute_result"
    }
   ],
   "source": [
    "dane = list(range(1,6))\n",
    "series_2 = pd.Series(dane)\n",
    "series_2"
   ]
  },
  {
   "cell_type": "code",
   "execution_count": 16,
   "id": "2a9992a2-6514-4e89-aac1-9c63c91d5195",
   "metadata": {},
   "outputs": [
    {
     "data": {
      "text/plain": [
       "count    5.000000\n",
       "mean     3.000000\n",
       "std      1.581139\n",
       "min      1.000000\n",
       "25%      2.000000\n",
       "50%      3.000000\n",
       "75%      4.000000\n",
       "max      5.000000\n",
       "dtype: float64"
      ]
     },
     "execution_count": 16,
     "metadata": {},
     "output_type": "execute_result"
    }
   ],
   "source": [
    "# teraz widać więcej\n",
    "series_2.describe()"
   ]
  },
  {
   "cell_type": "markdown",
   "id": "8ab67b32-cdef-464c-abc7-d2db202da367",
   "metadata": {},
   "source": [
    "**Przykład 3**"
   ]
  },
  {
   "cell_type": "code",
   "execution_count": 20,
   "id": "8a868de7-8f1c-4895-b6be-7aefb19523db",
   "metadata": {},
   "outputs": [
    {
     "name": "stdout",
     "output_type": "stream",
     "text": [
      "Słownik: {'a': 1, 'b': 2, 'c': 3, 'd': 4}\n"
     ]
    },
    {
     "data": {
      "text/plain": [
       "a    1\n",
       "b    2\n",
       "c    3\n",
       "d    4\n",
       "dtype: int64"
      ]
     },
     "execution_count": 20,
     "metadata": {},
     "output_type": "execute_result"
    }
   ],
   "source": [
    "# seria ze słownika\n",
    "data = {key: val for key,val in zip('abcd',[1,2,3,4])}\n",
    "print(f\"Słownik: {data}\")\n",
    "series_3 = pd.Series(data)\n",
    "series_3"
   ]
  },
  {
   "cell_type": "code",
   "execution_count": 21,
   "id": "1f99d5e9-bac2-4e33-b461-92c8627591e7",
   "metadata": {},
   "outputs": [
    {
     "data": {
      "text/plain": [
       "Index(['a', 'b', 'c', 'd'], dtype='object')"
      ]
     },
     "execution_count": 21,
     "metadata": {},
     "output_type": "execute_result"
    }
   ],
   "source": [
    "series_3.index"
   ]
  },
  {
   "cell_type": "markdown",
   "id": "91e10703-88c9-43f7-b2b3-cd79acffd5a1",
   "metadata": {},
   "source": [
    "**Przykład 4**"
   ]
  },
  {
   "cell_type": "code",
   "execution_count": 25,
   "id": "f028b525-9e3b-4f5c-b19f-f9404b03878a",
   "metadata": {},
   "outputs": [
    {
     "data": {
      "text/plain": [
       "[1, 2, 3, 4]"
      ]
     },
     "execution_count": 25,
     "metadata": {},
     "output_type": "execute_result"
    }
   ],
   "source": [
    "# możliwa jest ponowna konwersja do listy\n",
    "# metody tolist() oraz to_list()\n",
    "series_3.tolist()"
   ]
  },
  {
   "cell_type": "code",
   "execution_count": 26,
   "id": "19081993-acfe-4d76-ae46-390c105b34d0",
   "metadata": {},
   "outputs": [
    {
     "data": {
      "text/plain": [
       "['a', 'b', 'c', 'd']"
      ]
     },
     "execution_count": 26,
     "metadata": {},
     "output_type": "execute_result"
    }
   ],
   "source": [
    "series_3.index.tolist()"
   ]
  },
  {
   "cell_type": "markdown",
   "id": "7676c386-0bd8-4ad4-85cf-60673e437be5",
   "metadata": {},
   "source": [
    "**Przykład 5**"
   ]
  },
  {
   "cell_type": "code",
   "execution_count": 27,
   "id": "d6c5be00-bb74-487c-a610-5a8fc176e70b",
   "metadata": {},
   "outputs": [
    {
     "data": {
      "text/plain": [
       "a    2\n",
       "b    4\n",
       "c    6\n",
       "d    8\n",
       "dtype: int64"
      ]
     },
     "execution_count": 27,
     "metadata": {},
     "output_type": "execute_result"
    }
   ],
   "source": [
    "# patrząc na docstring dla Series widzimy, że operacje arytmetyczne na seriach danych również są możliwe\n",
    "# pod warunkiem zachowania odpowiednich reguł (długość wektora danych serii)\n",
    "series_3 + series_3"
   ]
  },
  {
   "cell_type": "code",
   "execution_count": 28,
   "id": "7744beae-bca6-4dfd-8ab1-d9f39ab263f7",
   "metadata": {},
   "outputs": [
    {
     "data": {
      "text/plain": [
       "a     1\n",
       "b     4\n",
       "c     9\n",
       "d    16\n",
       "dtype: int64"
      ]
     },
     "execution_count": 28,
     "metadata": {},
     "output_type": "execute_result"
    }
   ],
   "source": [
    "series_3 ** 2"
   ]
  },
  {
   "cell_type": "code",
   "execution_count": 29,
   "id": "2d3a43dd-17af-4255-81e0-85f5380ebfd5",
   "metadata": {},
   "outputs": [
    {
     "data": {
      "text/plain": [
       "a    1\n",
       "b    2\n",
       "c    3\n",
       "d    4\n",
       "dtype: int64"
      ]
     },
     "execution_count": 29,
     "metadata": {},
     "output_type": "execute_result"
    }
   ],
   "source": [
    "series_3"
   ]
  },
  {
   "cell_type": "markdown",
   "id": "50b65e15-6e81-45e7-98ca-eea68f360d7b",
   "metadata": {},
   "source": [
    "**Przykład 6**"
   ]
  },
  {
   "cell_type": "code",
   "execution_count": 31,
   "id": "e26cb002-507a-47eb-af78-a3c874429891",
   "metadata": {},
   "outputs": [
    {
     "name": "stdout",
     "output_type": "stream",
     "text": [
      "[1 2 3 4 5]\n"
     ]
    },
    {
     "data": {
      "text/plain": [
       "0    1\n",
       "1    2\n",
       "2    3\n",
       "3    4\n",
       "4    5\n",
       "dtype: int64"
      ]
     },
     "execution_count": 31,
     "metadata": {},
     "output_type": "execute_result"
    }
   ],
   "source": [
    "# możemy również wykorzystać pewne własności biblioteki numpy związane ze zwracaniem kopii i widoków tablic\n",
    "# poniżej przykład pokazujący jak stworzyć serię danych, która jest widokiem na tablicę numpy\n",
    "arr = np.arange(1, 6)\n",
    "print(arr)\n",
    "series_4 = pd.Series(arr, copy=False)\n",
    "series_4"
   ]
  },
  {
   "cell_type": "code",
   "execution_count": 35,
   "id": "4ef5863c-53bc-4e09-899a-e8c6efce58f8",
   "metadata": {},
   "outputs": [
    {
     "data": {
      "text/plain": [
       "True"
      ]
     },
     "execution_count": 35,
     "metadata": {},
     "output_type": "execute_result"
    }
   ],
   "source": [
    "# własność values zwraca dane serii jako tablica numpy\n",
    "# porównujemy bazę obu tablic - jeżeli ta sama, to wskazują one na ten sam obszar pamięci\n",
    "series_4.values.base == arr.base"
   ]
  },
  {
   "cell_type": "code",
   "execution_count": 36,
   "id": "582b6eba-38ba-4cc2-a154-9a9f2640569e",
   "metadata": {},
   "outputs": [
    {
     "name": "stdout",
     "output_type": "stream",
     "text": [
      "[99  2  3  4  5]\n",
      "0    99\n",
      "1     2\n",
      "2     3\n",
      "3     4\n",
      "4     5\n",
      "dtype: int64\n"
     ]
    }
   ],
   "source": [
    "# to powoduje, że możemy współdzielić tę pamięć ze wszystkimi dogodnościami\n",
    "# i konsekwencjami również (mniejsza ilość zaalokowanej pamięci ale brak rozdzielenia danych w\n",
    "# przypadku modyfikacji poprzez którykolwiek z widoków)\n",
    "\n",
    "# modyfikacja powoduje oczywiście zmianę wartości dla każdego widoku na tę zmienną\n",
    "arr[0] = 99\n",
    "print(arr)\n",
    "print(series_4)"
   ]
  },
  {
   "cell_type": "markdown",
   "id": "91c3f8da-8597-4fc3-ae05-11c15852c0df",
   "metadata": {},
   "source": [
    "**Przykład 7**"
   ]
  },
  {
   "cell_type": "code",
   "execution_count": 40,
   "id": "f6f3f398-366a-4452-b3eb-cf5256908c8c",
   "metadata": {},
   "outputs": [
    {
     "data": {
      "text/plain": [
       "0    99\n",
       "1     2\n",
       "2     3\n",
       "3     4\n",
       "4     5\n",
       "Name: wiek, dtype: int64"
      ]
     },
     "execution_count": 40,
     "metadata": {},
     "output_type": "execute_result"
    }
   ],
   "source": [
    "# serii można nadać nazwę, chociaż nie jest to szczególnie przydatne\n",
    "series_4.name = \"wiek\"\n",
    "series_4"
   ]
  },
  {
   "cell_type": "markdown",
   "id": "da9a7071-ea21-44c7-8e5f-8fdd4cb05ea4",
   "metadata": {},
   "source": [
    "**Przykład 8**"
   ]
  },
  {
   "cell_type": "code",
   "execution_count": 47,
   "id": "46d4e4ac-a113-4287-8365-8fe18806999b",
   "metadata": {},
   "outputs": [
    {
     "data": {
      "text/plain": [
       "DatetimeIndex(['2025-03-20 12:00:00', '2025-03-20 13:00:00',\n",
       "               '2025-03-20 14:00:00', '2025-03-20 15:00:00',\n",
       "               '2025-03-20 16:00:00', '2025-03-20 17:00:00'],\n",
       "              dtype='datetime64[ns]', freq='h')"
      ]
     },
     "execution_count": 47,
     "metadata": {},
     "output_type": "execute_result"
    }
   ],
   "source": [
    "# generujemy szereg czasowy dzięki funkcji date_range(początek, ilość okresów, interwał)\n",
    "timeseries = pd.date_range('2025-03-20 12:00:00', periods=6, freq='h')\n",
    "timeseries"
   ]
  },
  {
   "cell_type": "code",
   "execution_count": 48,
   "id": "b78c9834-be09-41bb-9a8e-f62c63fe7042",
   "metadata": {},
   "outputs": [
    {
     "data": {
      "text/plain": [
       "2025-03-20 12:00:00    event 1\n",
       "2025-03-20 13:00:00    event 2\n",
       "2025-03-20 14:00:00    event 3\n",
       "2025-03-20 15:00:00    event 4\n",
       "2025-03-20 16:00:00    event 5\n",
       "2025-03-20 17:00:00    event 6\n",
       "Freq: h, dtype: object"
      ]
     },
     "execution_count": 48,
     "metadata": {},
     "output_type": "execute_result"
    }
   ],
   "source": [
    "# pandas series posiada również specjalny typ indeksu dla danych typu szereg czasowy\n",
    "# tutaj sfabrykujemy takie dane, ale mogą one być wczytane z plików\n",
    "data = [f'event {n}' for n in range(1, 7)]\n",
    "timeseries = pd.Series(data, index=timeseries)\n",
    "timeseries"
   ]
  },
  {
   "cell_type": "code",
   "execution_count": 49,
   "id": "8d3aedff-7395-4341-beb7-b81000ad5d39",
   "metadata": {},
   "outputs": [
    {
     "data": {
      "text/plain": [
       "DatetimeIndex(['2025-03-20 12:00:00', '2025-03-20 13:00:00',\n",
       "               '2025-03-20 14:00:00', '2025-03-20 15:00:00',\n",
       "               '2025-03-20 16:00:00', '2025-03-20 17:00:00'],\n",
       "              dtype='datetime64[ns]', freq='h')"
      ]
     },
     "execution_count": 49,
     "metadata": {},
     "output_type": "execute_result"
    }
   ],
   "source": [
    "timeseries.index"
   ]
  },
  {
   "cell_type": "markdown",
   "id": "d61510a5-a708-4489-bb16-07ffc1b2fb39",
   "metadata": {},
   "source": [
    "**Inicjalizacja ramek danych pandas**"
   ]
  },
  {
   "cell_type": "markdown",
   "id": "bf1f4ca2-74a8-4063-923d-c05cb87dd99e",
   "metadata": {},
   "source": [
    "Podobnie jak w przypadku serii danych mamy możliwość konwersji innych struktur danych na ramkę danych, z zachowaniem pewnych warunków. Zacznijmy od listy."
   ]
  },
  {
   "cell_type": "markdown",
   "id": "2e195810-9d70-4de9-9296-507af8775da2",
   "metadata": {},
   "source": [
    "**Przykład 9**"
   ]
  },
  {
   "cell_type": "code",
   "execution_count": 51,
   "id": "e173c212-10ed-49ff-831e-fe62f272ef49",
   "metadata": {},
   "outputs": [
    {
     "data": {
      "text/html": [
       "<div>\n",
       "<style scoped>\n",
       "    .dataframe tbody tr th:only-of-type {\n",
       "        vertical-align: middle;\n",
       "    }\n",
       "\n",
       "    .dataframe tbody tr th {\n",
       "        vertical-align: top;\n",
       "    }\n",
       "\n",
       "    .dataframe thead th {\n",
       "        text-align: right;\n",
       "    }\n",
       "</style>\n",
       "<table border=\"1\" class=\"dataframe\">\n",
       "  <thead>\n",
       "    <tr style=\"text-align: right;\">\n",
       "      <th></th>\n",
       "      <th>0</th>\n",
       "    </tr>\n",
       "  </thead>\n",
       "  <tbody>\n",
       "    <tr>\n",
       "      <th>0</th>\n",
       "      <td>rekord 1</td>\n",
       "    </tr>\n",
       "    <tr>\n",
       "      <th>1</th>\n",
       "      <td>rekord 2</td>\n",
       "    </tr>\n",
       "    <tr>\n",
       "      <th>2</th>\n",
       "      <td>rekord 3</td>\n",
       "    </tr>\n",
       "    <tr>\n",
       "      <th>3</th>\n",
       "      <td>rekord 4</td>\n",
       "    </tr>\n",
       "    <tr>\n",
       "      <th>4</th>\n",
       "      <td>rekord 5</td>\n",
       "    </tr>\n",
       "  </tbody>\n",
       "</table>\n",
       "</div>"
      ],
      "text/plain": [
       "          0\n",
       "0  rekord 1\n",
       "1  rekord 2\n",
       "2  rekord 3\n",
       "3  rekord 4\n",
       "4  rekord 5"
      ]
     },
     "execution_count": 51,
     "metadata": {},
     "output_type": "execute_result"
    }
   ],
   "source": [
    "df_1 = pd.DataFrame([f'rekord {n}' for n in range(1, 6)])\n",
    "df_1"
   ]
  },
  {
   "cell_type": "code",
   "execution_count": 52,
   "id": "9caec4ee-1309-42e7-8f2c-f73894a0575e",
   "metadata": {},
   "outputs": [
    {
     "name": "stdout",
     "output_type": "stream",
     "text": [
      "<class 'pandas.core.frame.DataFrame'>\n",
      "RangeIndex: 5 entries, 0 to 4\n",
      "Data columns (total 1 columns):\n",
      " #   Column  Non-Null Count  Dtype \n",
      "---  ------  --------------  ----- \n",
      " 0   0       5 non-null      object\n",
      "dtypes: object(1)\n",
      "memory usage: 172.0+ bytes\n"
     ]
    }
   ],
   "source": [
    "df_1.info()"
   ]
  },
  {
   "cell_type": "code",
   "execution_count": 53,
   "id": "be220ee6-7166-4e0d-a33f-38b0aacd9720",
   "metadata": {},
   "outputs": [
    {
     "data": {
      "text/html": [
       "<div>\n",
       "<style scoped>\n",
       "    .dataframe tbody tr th:only-of-type {\n",
       "        vertical-align: middle;\n",
       "    }\n",
       "\n",
       "    .dataframe tbody tr th {\n",
       "        vertical-align: top;\n",
       "    }\n",
       "\n",
       "    .dataframe thead th {\n",
       "        text-align: right;\n",
       "    }\n",
       "</style>\n",
       "<table border=\"1\" class=\"dataframe\">\n",
       "  <thead>\n",
       "    <tr style=\"text-align: right;\">\n",
       "      <th></th>\n",
       "      <th>0</th>\n",
       "    </tr>\n",
       "  </thead>\n",
       "  <tbody>\n",
       "    <tr>\n",
       "      <th>count</th>\n",
       "      <td>5</td>\n",
       "    </tr>\n",
       "    <tr>\n",
       "      <th>unique</th>\n",
       "      <td>5</td>\n",
       "    </tr>\n",
       "    <tr>\n",
       "      <th>top</th>\n",
       "      <td>rekord 1</td>\n",
       "    </tr>\n",
       "    <tr>\n",
       "      <th>freq</th>\n",
       "      <td>1</td>\n",
       "    </tr>\n",
       "  </tbody>\n",
       "</table>\n",
       "</div>"
      ],
      "text/plain": [
       "               0\n",
       "count          5\n",
       "unique         5\n",
       "top     rekord 1\n",
       "freq           1"
      ]
     },
     "execution_count": 53,
     "metadata": {},
     "output_type": "execute_result"
    }
   ],
   "source": [
    "df_1.describe()"
   ]
  },
  {
   "cell_type": "code",
   "execution_count": 58,
   "id": "6ed7b0cb-bfbc-4bbc-8064-d72b3582884e",
   "metadata": {},
   "outputs": [
    {
     "name": "stdout",
     "output_type": "stream",
     "text": [
      "2\n",
      "0    object\n",
      "dtype: object\n",
      "(5, 1)\n"
     ]
    }
   ],
   "source": [
    "print(df_1.ndim, df_1.dtypes, df_1.shape, sep='\\n')"
   ]
  },
  {
   "cell_type": "code",
   "execution_count": 59,
   "id": "6c3eefb1-16aa-4cf8-b4c0-09c48a3ca5bc",
   "metadata": {},
   "outputs": [
    {
     "data": {
      "text/plain": [
       "RangeIndex(start=0, stop=5, step=1)"
      ]
     },
     "execution_count": 59,
     "metadata": {},
     "output_type": "execute_result"
    }
   ],
   "source": [
    "df_1.index"
   ]
  },
  {
   "cell_type": "code",
   "execution_count": 60,
   "id": "4736c62d-8c72-439e-872d-1640141de33c",
   "metadata": {},
   "outputs": [
    {
     "data": {
      "text/plain": [
       "RangeIndex(start=0, stop=1, step=1)"
      ]
     },
     "execution_count": 60,
     "metadata": {},
     "output_type": "execute_result"
    }
   ],
   "source": [
    "# kolekcja kolumn\n",
    "df_1.columns"
   ]
  },
  {
   "cell_type": "code",
   "execution_count": 62,
   "id": "69dc28f1-3bde-4b33-bdff-9fab50206acc",
   "metadata": {},
   "outputs": [
    {
     "data": {
      "text/html": [
       "<div>\n",
       "<style scoped>\n",
       "    .dataframe tbody tr th:only-of-type {\n",
       "        vertical-align: middle;\n",
       "    }\n",
       "\n",
       "    .dataframe tbody tr th {\n",
       "        vertical-align: top;\n",
       "    }\n",
       "\n",
       "    .dataframe thead th {\n",
       "        text-align: right;\n",
       "    }\n",
       "</style>\n",
       "<table border=\"1\" class=\"dataframe\">\n",
       "  <thead>\n",
       "    <tr style=\"text-align: right;\">\n",
       "      <th></th>\n",
       "      <th>kolumna 1</th>\n",
       "    </tr>\n",
       "  </thead>\n",
       "  <tbody>\n",
       "    <tr>\n",
       "      <th>0</th>\n",
       "      <td>rekord 1</td>\n",
       "    </tr>\n",
       "    <tr>\n",
       "      <th>1</th>\n",
       "      <td>rekord 2</td>\n",
       "    </tr>\n",
       "    <tr>\n",
       "      <th>2</th>\n",
       "      <td>rekord 3</td>\n",
       "    </tr>\n",
       "    <tr>\n",
       "      <th>3</th>\n",
       "      <td>rekord 4</td>\n",
       "    </tr>\n",
       "    <tr>\n",
       "      <th>4</th>\n",
       "      <td>rekord 5</td>\n",
       "    </tr>\n",
       "  </tbody>\n",
       "</table>\n",
       "</div>"
      ],
      "text/plain": [
       "  kolumna 1\n",
       "0  rekord 1\n",
       "1  rekord 2\n",
       "2  rekord 3\n",
       "3  rekord 4\n",
       "4  rekord 5"
      ]
     },
     "execution_count": 62,
     "metadata": {},
     "output_type": "execute_result"
    }
   ],
   "source": [
    "df_1.columns = ['kolumna 1']\n",
    "df_1"
   ]
  },
  {
   "cell_type": "markdown",
   "id": "8d3775b7-4b4d-4d7c-a53c-a0502ccfa4d8",
   "metadata": {},
   "source": [
    "**Przykład 10**"
   ]
  },
  {
   "cell_type": "code",
   "execution_count": 64,
   "id": "7eed0839-ca30-45e2-9470-7c2aed05cfa1",
   "metadata": {},
   "outputs": [
    {
     "data": {
      "text/plain": [
       "0    rekord 1\n",
       "1    rekord 2\n",
       "2    rekord 3\n",
       "3    rekord 4\n",
       "4    rekord 5\n",
       "Name: kolumna 1, dtype: object"
      ]
     },
     "execution_count": 64,
     "metadata": {},
     "output_type": "execute_result"
    }
   ],
   "source": [
    "# dostęp do danych wewnątrz serii i ramek możliwy jest na wiele sposobów\n",
    "# tu odwołujemy się do pojedynczej kolumny, co jak widać jest domyślną osią wyszukiwania tej wartości (etykiety kolumny)\n",
    "df_1['kolumna 1']"
   ]
  },
  {
   "cell_type": "code",
   "execution_count": 65,
   "id": "612d5ef3-c02f-4306-bd9c-91c815d6f6f2",
   "metadata": {},
   "outputs": [
    {
     "data": {
      "text/plain": [
       "pandas.core.series.Series"
      ]
     },
     "execution_count": 65,
     "metadata": {},
     "output_type": "execute_result"
    }
   ],
   "source": [
    "# ta pojedyncza kolumna to jest seria danych\n",
    "type(df_1['kolumna 1'])"
   ]
  },
  {
   "cell_type": "markdown",
   "id": "cd55038e-2256-4e8a-be7c-062ce95c361a",
   "metadata": {},
   "source": [
    "**Przykład 11**"
   ]
  },
  {
   "cell_type": "code",
   "execution_count": 70,
   "id": "ba7af43a-13f3-4e79-ac29-2cc0d8415633",
   "metadata": {},
   "outputs": [
    {
     "data": {
      "text/html": [
       "<div>\n",
       "<style scoped>\n",
       "    .dataframe tbody tr th:only-of-type {\n",
       "        vertical-align: middle;\n",
       "    }\n",
       "\n",
       "    .dataframe tbody tr th {\n",
       "        vertical-align: top;\n",
       "    }\n",
       "\n",
       "    .dataframe thead th {\n",
       "        text-align: right;\n",
       "    }\n",
       "</style>\n",
       "<table border=\"1\" class=\"dataframe\">\n",
       "  <thead>\n",
       "    <tr style=\"text-align: right;\">\n",
       "      <th></th>\n",
       "      <th>A</th>\n",
       "      <th>B</th>\n",
       "      <th>C</th>\n",
       "      <th>D</th>\n",
       "    </tr>\n",
       "  </thead>\n",
       "  <tbody>\n",
       "    <tr>\n",
       "      <th>0</th>\n",
       "      <td>1</td>\n",
       "      <td>2</td>\n",
       "      <td>3</td>\n",
       "      <td>4</td>\n",
       "    </tr>\n",
       "    <tr>\n",
       "      <th>1</th>\n",
       "      <td>1</td>\n",
       "      <td>2</td>\n",
       "      <td>3</td>\n",
       "      <td>4</td>\n",
       "    </tr>\n",
       "    <tr>\n",
       "      <th>2</th>\n",
       "      <td>1</td>\n",
       "      <td>2</td>\n",
       "      <td>3</td>\n",
       "      <td>4</td>\n",
       "    </tr>\n",
       "    <tr>\n",
       "      <th>3</th>\n",
       "      <td>1</td>\n",
       "      <td>2</td>\n",
       "      <td>3</td>\n",
       "      <td>4</td>\n",
       "    </tr>\n",
       "  </tbody>\n",
       "</table>\n",
       "</div>"
      ],
      "text/plain": [
       "   A  B  C  D\n",
       "0  1  2  3  4\n",
       "1  1  2  3  4\n",
       "2  1  2  3  4\n",
       "3  1  2  3  4"
      ]
     },
     "execution_count": 70,
     "metadata": {},
     "output_type": "execute_result"
    }
   ],
   "source": [
    "# istnieje przeciążony konstruktor DataFrame, który między innymi pozwala na konwersję zagnieżdżonej listy\n",
    "# (tu dwupoziomowej) do ramki danych bez żadnych dodatkowych przekształceń\n",
    "nested_list = [[1,2,3,4] for _ in range(4)]\n",
    "df_2 = pd.DataFrame(nested_list, columns=list('ABCD'))\n",
    "df_2"
   ]
  },
  {
   "cell_type": "code",
   "execution_count": 73,
   "id": "d2980f50-4688-4914-8b13-26825193d1c6",
   "metadata": {},
   "outputs": [
    {
     "data": {
      "text/html": [
       "<div>\n",
       "<style scoped>\n",
       "    .dataframe tbody tr th:only-of-type {\n",
       "        vertical-align: middle;\n",
       "    }\n",
       "\n",
       "    .dataframe tbody tr th {\n",
       "        vertical-align: top;\n",
       "    }\n",
       "\n",
       "    .dataframe thead th {\n",
       "        text-align: right;\n",
       "    }\n",
       "</style>\n",
       "<table border=\"1\" class=\"dataframe\">\n",
       "  <thead>\n",
       "    <tr style=\"text-align: right;\">\n",
       "      <th></th>\n",
       "      <th>A</th>\n",
       "      <th>B</th>\n",
       "      <th>C</th>\n",
       "      <th>D</th>\n",
       "    </tr>\n",
       "  </thead>\n",
       "  <tbody>\n",
       "    <tr>\n",
       "      <th>count</th>\n",
       "      <td>4.0</td>\n",
       "      <td>4.0</td>\n",
       "      <td>4.0</td>\n",
       "      <td>4.0</td>\n",
       "    </tr>\n",
       "    <tr>\n",
       "      <th>mean</th>\n",
       "      <td>1.0</td>\n",
       "      <td>2.0</td>\n",
       "      <td>3.0</td>\n",
       "      <td>4.0</td>\n",
       "    </tr>\n",
       "    <tr>\n",
       "      <th>std</th>\n",
       "      <td>0.0</td>\n",
       "      <td>0.0</td>\n",
       "      <td>0.0</td>\n",
       "      <td>0.0</td>\n",
       "    </tr>\n",
       "    <tr>\n",
       "      <th>min</th>\n",
       "      <td>1.0</td>\n",
       "      <td>2.0</td>\n",
       "      <td>3.0</td>\n",
       "      <td>4.0</td>\n",
       "    </tr>\n",
       "    <tr>\n",
       "      <th>25%</th>\n",
       "      <td>1.0</td>\n",
       "      <td>2.0</td>\n",
       "      <td>3.0</td>\n",
       "      <td>4.0</td>\n",
       "    </tr>\n",
       "    <tr>\n",
       "      <th>50%</th>\n",
       "      <td>1.0</td>\n",
       "      <td>2.0</td>\n",
       "      <td>3.0</td>\n",
       "      <td>4.0</td>\n",
       "    </tr>\n",
       "    <tr>\n",
       "      <th>75%</th>\n",
       "      <td>1.0</td>\n",
       "      <td>2.0</td>\n",
       "      <td>3.0</td>\n",
       "      <td>4.0</td>\n",
       "    </tr>\n",
       "    <tr>\n",
       "      <th>max</th>\n",
       "      <td>1.0</td>\n",
       "      <td>2.0</td>\n",
       "      <td>3.0</td>\n",
       "      <td>4.0</td>\n",
       "    </tr>\n",
       "  </tbody>\n",
       "</table>\n",
       "</div>"
      ],
      "text/plain": [
       "         A    B    C    D\n",
       "count  4.0  4.0  4.0  4.0\n",
       "mean   1.0  2.0  3.0  4.0\n",
       "std    0.0  0.0  0.0  0.0\n",
       "min    1.0  2.0  3.0  4.0\n",
       "25%    1.0  2.0  3.0  4.0\n",
       "50%    1.0  2.0  3.0  4.0\n",
       "75%    1.0  2.0  3.0  4.0\n",
       "max    1.0  2.0  3.0  4.0"
      ]
     },
     "execution_count": 73,
     "metadata": {},
     "output_type": "execute_result"
    }
   ],
   "source": [
    "# describe działa dla wszystkich kolumn o typie numerycznym\n",
    "df_2.describe()"
   ]
  },
  {
   "cell_type": "markdown",
   "id": "0c5dc5b5-56a1-4df6-980b-cef7be327650",
   "metadata": {},
   "source": [
    "**Przykład 12**"
   ]
  },
  {
   "cell_type": "code",
   "execution_count": 75,
   "id": "17e5be6a-0511-41f5-8dff-3283b1c1a4b4",
   "metadata": {},
   "outputs": [
    {
     "data": {
      "text/html": [
       "<div>\n",
       "<style scoped>\n",
       "    .dataframe tbody tr th:only-of-type {\n",
       "        vertical-align: middle;\n",
       "    }\n",
       "\n",
       "    .dataframe tbody tr th {\n",
       "        vertical-align: top;\n",
       "    }\n",
       "\n",
       "    .dataframe thead th {\n",
       "        text-align: right;\n",
       "    }\n",
       "</style>\n",
       "<table border=\"1\" class=\"dataframe\">\n",
       "  <thead>\n",
       "    <tr style=\"text-align: right;\">\n",
       "      <th></th>\n",
       "      <th>A</th>\n",
       "      <th>B</th>\n",
       "      <th>C</th>\n",
       "    </tr>\n",
       "  </thead>\n",
       "  <tbody>\n",
       "    <tr>\n",
       "      <th>count</th>\n",
       "      <td>4.0</td>\n",
       "      <td>4.0</td>\n",
       "      <td>4.0</td>\n",
       "    </tr>\n",
       "    <tr>\n",
       "      <th>mean</th>\n",
       "      <td>1.0</td>\n",
       "      <td>2.0</td>\n",
       "      <td>3.0</td>\n",
       "    </tr>\n",
       "    <tr>\n",
       "      <th>std</th>\n",
       "      <td>0.0</td>\n",
       "      <td>0.0</td>\n",
       "      <td>0.0</td>\n",
       "    </tr>\n",
       "    <tr>\n",
       "      <th>min</th>\n",
       "      <td>1.0</td>\n",
       "      <td>2.0</td>\n",
       "      <td>3.0</td>\n",
       "    </tr>\n",
       "    <tr>\n",
       "      <th>25%</th>\n",
       "      <td>1.0</td>\n",
       "      <td>2.0</td>\n",
       "      <td>3.0</td>\n",
       "    </tr>\n",
       "    <tr>\n",
       "      <th>50%</th>\n",
       "      <td>1.0</td>\n",
       "      <td>2.0</td>\n",
       "      <td>3.0</td>\n",
       "    </tr>\n",
       "    <tr>\n",
       "      <th>75%</th>\n",
       "      <td>1.0</td>\n",
       "      <td>2.0</td>\n",
       "      <td>3.0</td>\n",
       "    </tr>\n",
       "    <tr>\n",
       "      <th>max</th>\n",
       "      <td>1.0</td>\n",
       "      <td>2.0</td>\n",
       "      <td>3.0</td>\n",
       "    </tr>\n",
       "  </tbody>\n",
       "</table>\n",
       "</div>"
      ],
      "text/plain": [
       "         A    B    C\n",
       "count  4.0  4.0  4.0\n",
       "mean   1.0  2.0  3.0\n",
       "std    0.0  0.0  0.0\n",
       "min    1.0  2.0  3.0\n",
       "25%    1.0  2.0  3.0\n",
       "50%    1.0  2.0  3.0\n",
       "75%    1.0  2.0  3.0\n",
       "max    1.0  2.0  3.0"
      ]
     },
     "execution_count": 75,
     "metadata": {},
     "output_type": "execute_result"
    }
   ],
   "source": [
    "df_2['D'] = df_2['D'].astype(str)\n",
    "df_2.describe()"
   ]
  },
  {
   "cell_type": "markdown",
   "id": "39ec140d-3b0e-4d37-9e70-309619c250f5",
   "metadata": {},
   "source": [
    "**Przykład 13**"
   ]
  },
  {
   "cell_type": "code",
   "execution_count": 84,
   "id": "77e0aaa8-7b61-4700-b812-bd621fe0a480",
   "metadata": {},
   "outputs": [
    {
     "data": {
      "text/html": [
       "<div>\n",
       "<style scoped>\n",
       "    .dataframe tbody tr th:only-of-type {\n",
       "        vertical-align: middle;\n",
       "    }\n",
       "\n",
       "    .dataframe tbody tr th {\n",
       "        vertical-align: top;\n",
       "    }\n",
       "\n",
       "    .dataframe thead th {\n",
       "        text-align: right;\n",
       "    }\n",
       "</style>\n",
       "<table border=\"1\" class=\"dataframe\">\n",
       "  <thead>\n",
       "    <tr style=\"text-align: right;\">\n",
       "      <th></th>\n",
       "      <th>label</th>\n",
       "      <th>price</th>\n",
       "    </tr>\n",
       "  </thead>\n",
       "  <tbody>\n",
       "    <tr>\n",
       "      <th>0</th>\n",
       "      <td>computer</td>\n",
       "      <td>1999.0</td>\n",
       "    </tr>\n",
       "  </tbody>\n",
       "</table>\n",
       "</div>"
      ],
      "text/plain": [
       "      label   price\n",
       "0  computer  1999.0"
      ]
     },
     "execution_count": 84,
     "metadata": {},
     "output_type": "execute_result"
    }
   ],
   "source": [
    "# inicjalizacja ramki ze słownika - tu minimalny przykład aby zobrazować potrzebną postać słownika\n",
    "# klucze słownika\n",
    "data_dict = {'label': 'computer', 'price': 1999.0}\n",
    "df_3 = pd.DataFrame(data_dict, index=list(range(1)))\n",
    "df_3"
   ]
  },
  {
   "cell_type": "markdown",
   "id": "65a9e760-08b5-47e4-990c-10d9811d3fb7",
   "metadata": {},
   "source": [
    "**Przykład 14**"
   ]
  },
  {
   "cell_type": "code",
   "execution_count": 88,
   "id": "0eb54f39-e029-4bd2-a7e0-0338ff0cdbfe",
   "metadata": {},
   "outputs": [
    {
     "data": {
      "text/html": [
       "<div>\n",
       "<style scoped>\n",
       "    .dataframe tbody tr th:only-of-type {\n",
       "        vertical-align: middle;\n",
       "    }\n",
       "\n",
       "    .dataframe tbody tr th {\n",
       "        vertical-align: top;\n",
       "    }\n",
       "\n",
       "    .dataframe thead th {\n",
       "        text-align: right;\n",
       "    }\n",
       "</style>\n",
       "<table border=\"1\" class=\"dataframe\">\n",
       "  <thead>\n",
       "    <tr style=\"text-align: right;\">\n",
       "      <th></th>\n",
       "      <th>label</th>\n",
       "      <th>price</th>\n",
       "    </tr>\n",
       "  </thead>\n",
       "  <tbody>\n",
       "    <tr>\n",
       "      <th>0</th>\n",
       "      <td>computer</td>\n",
       "      <td>1999.0</td>\n",
       "    </tr>\n",
       "    <tr>\n",
       "      <th>1</th>\n",
       "      <td>computer</td>\n",
       "      <td>1999.0</td>\n",
       "    </tr>\n",
       "  </tbody>\n",
       "</table>\n",
       "</div>"
      ],
      "text/plain": [
       "      label   price\n",
       "0  computer  1999.0\n",
       "1  computer  1999.0"
      ]
     },
     "execution_count": 88,
     "metadata": {},
     "output_type": "execute_result"
    }
   ],
   "source": [
    "# to zapewne nie jest efekt, którego oczekiwaliśmy\n",
    "df_4 = pd.DataFrame(data_dict, index=list(range(len(data_dict))))\n",
    "df_4"
   ]
  },
  {
   "cell_type": "markdown",
   "id": "7e6dc431-80d9-4d56-8d9b-7fee9bbf5d15",
   "metadata": {},
   "source": [
    "**Przykład 15**"
   ]
  },
  {
   "cell_type": "code",
   "execution_count": 91,
   "id": "d1509379-6998-4835-840e-8cfde6f2d810",
   "metadata": {},
   "outputs": [
    {
     "data": {
      "text/html": [
       "<div>\n",
       "<style scoped>\n",
       "    .dataframe tbody tr th:only-of-type {\n",
       "        vertical-align: middle;\n",
       "    }\n",
       "\n",
       "    .dataframe tbody tr th {\n",
       "        vertical-align: top;\n",
       "    }\n",
       "\n",
       "    .dataframe thead th {\n",
       "        text-align: right;\n",
       "    }\n",
       "</style>\n",
       "<table border=\"1\" class=\"dataframe\">\n",
       "  <thead>\n",
       "    <tr style=\"text-align: right;\">\n",
       "      <th></th>\n",
       "      <th>label</th>\n",
       "      <th>price</th>\n",
       "    </tr>\n",
       "  </thead>\n",
       "  <tbody>\n",
       "    <tr>\n",
       "      <th>0</th>\n",
       "      <td>computer</td>\n",
       "      <td>1999.0</td>\n",
       "    </tr>\n",
       "    <tr>\n",
       "      <th>1</th>\n",
       "      <td>monitor</td>\n",
       "      <td>299.0</td>\n",
       "    </tr>\n",
       "    <tr>\n",
       "      <th>2</th>\n",
       "      <td>mouse</td>\n",
       "      <td>30.0</td>\n",
       "    </tr>\n",
       "  </tbody>\n",
       "</table>\n",
       "</div>"
      ],
      "text/plain": [
       "      label   price\n",
       "0  computer  1999.0\n",
       "1   monitor   299.0\n",
       "2     mouse    30.0"
      ]
     },
     "execution_count": 91,
     "metadata": {},
     "output_type": "execute_result"
    }
   ],
   "source": [
    "# teraz lepiej - klucz: lista wartości\n",
    "data_dict = {'label': ['computer', 'monitor', 'mouse'], 'price': [1999.0, 299.0, 30]}\n",
    "df_5 = pd.DataFrame(data_dict)\n",
    "df_5"
   ]
  },
  {
   "cell_type": "markdown",
   "id": "450b3989-593d-45ef-a593-ae6869548ad8",
   "metadata": {},
   "source": [
    "**Wczytywanie danych do ramki z plików**\n",
    "\n",
    "Listę dostępnych funkcji odczytu i zapisu danych z i do ramek pandas można znaleźć w dokumentacji pod adresem: https://pandas.pydata.org/docs/reference/io.html\n",
    "\n",
    "Poniżej zostaną zaprezentowane przykłady z wybranymi opcjami."
   ]
  },
  {
   "cell_type": "code",
   "execution_count": 94,
   "id": "9d7037bc-9478-45a0-9b6e-d674a8a57a8e",
   "metadata": {},
   "outputs": [
    {
     "name": "stdout",
     "output_type": "stream",
     "text": [
      "sepal length in cm,sepal width in cm,petal length in cm,petal width in cm,class\n",
      "5.1,3.5,1.4,0.2,Iris-setosa\n",
      "4.9,3.0,1.4,0.2,Iris-setosa\n",
      "4.7,3.2,1.3,0.2,Iris-setosa\n",
      "4.6,3.1,1.5,0.2,Iris-setosa\n"
     ]
    }
   ],
   "source": [
    "# wczytanie danych do ramki z pliku\n",
    "# wyświetlamy pierwsze 5 linii z pliku (może nie zadziałać w zależności od konfiguracji systemu operacyjnego)\n",
    "! head -5 iris.data"
   ]
  },
  {
   "cell_type": "markdown",
   "id": "76ff350a-47f4-4fd8-9269-785780730e67",
   "metadata": {},
   "source": [
    "**Przykład 16**"
   ]
  },
  {
   "cell_type": "code",
   "execution_count": 100,
   "id": "13c93457-1092-498f-bde4-f3c290a904f0",
   "metadata": {},
   "outputs": [
    {
     "data": {
      "text/html": [
       "<div>\n",
       "<style scoped>\n",
       "    .dataframe tbody tr th:only-of-type {\n",
       "        vertical-align: middle;\n",
       "    }\n",
       "\n",
       "    .dataframe tbody tr th {\n",
       "        vertical-align: top;\n",
       "    }\n",
       "\n",
       "    .dataframe thead th {\n",
       "        text-align: right;\n",
       "    }\n",
       "</style>\n",
       "<table border=\"1\" class=\"dataframe\">\n",
       "  <thead>\n",
       "    <tr style=\"text-align: right;\">\n",
       "      <th></th>\n",
       "      <th>sepal length in cm</th>\n",
       "      <th>sepal width in cm</th>\n",
       "      <th>petal length in cm</th>\n",
       "      <th>petal width in cm</th>\n",
       "      <th>class</th>\n",
       "    </tr>\n",
       "  </thead>\n",
       "  <tbody>\n",
       "    <tr>\n",
       "      <th>0</th>\n",
       "      <td>5.1</td>\n",
       "      <td>3.5</td>\n",
       "      <td>1.4</td>\n",
       "      <td>0.2</td>\n",
       "      <td>Iris-setosa</td>\n",
       "    </tr>\n",
       "    <tr>\n",
       "      <th>1</th>\n",
       "      <td>4.9</td>\n",
       "      <td>3.0</td>\n",
       "      <td>1.4</td>\n",
       "      <td>0.2</td>\n",
       "      <td>Iris-setosa</td>\n",
       "    </tr>\n",
       "    <tr>\n",
       "      <th>2</th>\n",
       "      <td>4.7</td>\n",
       "      <td>3.2</td>\n",
       "      <td>1.3</td>\n",
       "      <td>0.2</td>\n",
       "      <td>Iris-setosa</td>\n",
       "    </tr>\n",
       "    <tr>\n",
       "      <th>3</th>\n",
       "      <td>4.6</td>\n",
       "      <td>3.1</td>\n",
       "      <td>1.5</td>\n",
       "      <td>0.2</td>\n",
       "      <td>Iris-setosa</td>\n",
       "    </tr>\n",
       "    <tr>\n",
       "      <th>4</th>\n",
       "      <td>5.0</td>\n",
       "      <td>3.6</td>\n",
       "      <td>1.4</td>\n",
       "      <td>0.2</td>\n",
       "      <td>Iris-setosa</td>\n",
       "    </tr>\n",
       "    <tr>\n",
       "      <th>...</th>\n",
       "      <td>...</td>\n",
       "      <td>...</td>\n",
       "      <td>...</td>\n",
       "      <td>...</td>\n",
       "      <td>...</td>\n",
       "    </tr>\n",
       "    <tr>\n",
       "      <th>145</th>\n",
       "      <td>6.7</td>\n",
       "      <td>3.0</td>\n",
       "      <td>5.2</td>\n",
       "      <td>2.3</td>\n",
       "      <td>Iris-virginica</td>\n",
       "    </tr>\n",
       "    <tr>\n",
       "      <th>146</th>\n",
       "      <td>6.3</td>\n",
       "      <td>2.5</td>\n",
       "      <td>5.0</td>\n",
       "      <td>1.9</td>\n",
       "      <td>Iris-virginica</td>\n",
       "    </tr>\n",
       "    <tr>\n",
       "      <th>147</th>\n",
       "      <td>6.5</td>\n",
       "      <td>3.0</td>\n",
       "      <td>5.2</td>\n",
       "      <td>2.0</td>\n",
       "      <td>Iris-virginica</td>\n",
       "    </tr>\n",
       "    <tr>\n",
       "      <th>148</th>\n",
       "      <td>6.2</td>\n",
       "      <td>3.4</td>\n",
       "      <td>5.4</td>\n",
       "      <td>2.3</td>\n",
       "      <td>Iris-virginica</td>\n",
       "    </tr>\n",
       "    <tr>\n",
       "      <th>149</th>\n",
       "      <td>5.9</td>\n",
       "      <td>3.0</td>\n",
       "      <td>5.1</td>\n",
       "      <td>1.8</td>\n",
       "      <td>Iris-virginica</td>\n",
       "    </tr>\n",
       "  </tbody>\n",
       "</table>\n",
       "<p>150 rows × 5 columns</p>\n",
       "</div>"
      ],
      "text/plain": [
       "     sepal length in cm  sepal width in cm  petal length in cm  \\\n",
       "0                   5.1                3.5                 1.4   \n",
       "1                   4.9                3.0                 1.4   \n",
       "2                   4.7                3.2                 1.3   \n",
       "3                   4.6                3.1                 1.5   \n",
       "4                   5.0                3.6                 1.4   \n",
       "..                  ...                ...                 ...   \n",
       "145                 6.7                3.0                 5.2   \n",
       "146                 6.3                2.5                 5.0   \n",
       "147                 6.5                3.0                 5.2   \n",
       "148                 6.2                3.4                 5.4   \n",
       "149                 5.9                3.0                 5.1   \n",
       "\n",
       "     petal width in cm           class  \n",
       "0                  0.2     Iris-setosa  \n",
       "1                  0.2     Iris-setosa  \n",
       "2                  0.2     Iris-setosa  \n",
       "3                  0.2     Iris-setosa  \n",
       "4                  0.2     Iris-setosa  \n",
       "..                 ...             ...  \n",
       "145                2.3  Iris-virginica  \n",
       "146                1.9  Iris-virginica  \n",
       "147                2.0  Iris-virginica  \n",
       "148                2.3  Iris-virginica  \n",
       "149                1.8  Iris-virginica  \n",
       "\n",
       "[150 rows x 5 columns]"
      ]
     },
     "execution_count": 100,
     "metadata": {},
     "output_type": "execute_result"
    }
   ],
   "source": [
    "# wczytujemy dane do pliku wykorzystując funkcję read_csv, z domyślnymi parametrami (separator, kodowanie, obsługa błędów, nagłówek i inne)\n",
    "df_6 = pd.read_csv('iris.data')\n",
    "df_6"
   ]
  },
  {
   "cell_type": "code",
   "execution_count": 96,
   "id": "404dc164-be7f-4669-bde2-c70d9ef7a2b2",
   "metadata": {},
   "outputs": [
    {
     "name": "stdout",
     "output_type": "stream",
     "text": [
      "<class 'pandas.core.frame.DataFrame'>\n",
      "RangeIndex: 150 entries, 0 to 149\n",
      "Data columns (total 5 columns):\n",
      " #   Column              Non-Null Count  Dtype  \n",
      "---  ------              --------------  -----  \n",
      " 0   sepal length in cm  150 non-null    float64\n",
      " 1   sepal width in cm   150 non-null    float64\n",
      " 2   petal length in cm  150 non-null    float64\n",
      " 3   petal width in cm   150 non-null    float64\n",
      " 4   class               150 non-null    object \n",
      "dtypes: float64(4), object(1)\n",
      "memory usage: 6.0+ KB\n"
     ]
    }
   ],
   "source": [
    "df_6.info()"
   ]
  },
  {
   "cell_type": "markdown",
   "id": "cea07eee-1d69-4edd-92dd-d020a0bc1316",
   "metadata": {},
   "source": [
    "**Przykład 17**"
   ]
  },
  {
   "cell_type": "code",
   "execution_count": 99,
   "id": "bc22a11a-21e9-4fa7-a4ae-b68c73c419a8",
   "metadata": {},
   "outputs": [
    {
     "data": {
      "text/html": [
       "<div>\n",
       "<style scoped>\n",
       "    .dataframe tbody tr th:only-of-type {\n",
       "        vertical-align: middle;\n",
       "    }\n",
       "\n",
       "    .dataframe tbody tr th {\n",
       "        vertical-align: top;\n",
       "    }\n",
       "\n",
       "    .dataframe thead th {\n",
       "        text-align: right;\n",
       "    }\n",
       "</style>\n",
       "<table border=\"1\" class=\"dataframe\">\n",
       "  <thead>\n",
       "    <tr style=\"text-align: right;\">\n",
       "      <th></th>\n",
       "      <th>sepal length in cm</th>\n",
       "      <th>sepal width in cm</th>\n",
       "      <th>petal length in cm</th>\n",
       "      <th>petal width in cm</th>\n",
       "      <th>class</th>\n",
       "    </tr>\n",
       "  </thead>\n",
       "  <tbody>\n",
       "    <tr>\n",
       "      <th>0</th>\n",
       "      <td>5.1</td>\n",
       "      <td>3.5</td>\n",
       "      <td>1.4</td>\n",
       "      <td>0.2</td>\n",
       "      <td>Iris-setosa</td>\n",
       "    </tr>\n",
       "    <tr>\n",
       "      <th>1</th>\n",
       "      <td>4.9</td>\n",
       "      <td>3.0</td>\n",
       "      <td>1.4</td>\n",
       "      <td>0.2</td>\n",
       "      <td>Iris-setosa</td>\n",
       "    </tr>\n",
       "    <tr>\n",
       "      <th>2</th>\n",
       "      <td>4.7</td>\n",
       "      <td>3.2</td>\n",
       "      <td>1.3</td>\n",
       "      <td>0.2</td>\n",
       "      <td>Iris-setosa</td>\n",
       "    </tr>\n",
       "    <tr>\n",
       "      <th>3</th>\n",
       "      <td>4.6</td>\n",
       "      <td>3.1</td>\n",
       "      <td>1.5</td>\n",
       "      <td>0.2</td>\n",
       "      <td>Iris-setosa</td>\n",
       "    </tr>\n",
       "    <tr>\n",
       "      <th>4</th>\n",
       "      <td>5.0</td>\n",
       "      <td>3.6</td>\n",
       "      <td>1.4</td>\n",
       "      <td>0.2</td>\n",
       "      <td>Iris-setosa</td>\n",
       "    </tr>\n",
       "    <tr>\n",
       "      <th>...</th>\n",
       "      <td>...</td>\n",
       "      <td>...</td>\n",
       "      <td>...</td>\n",
       "      <td>...</td>\n",
       "      <td>...</td>\n",
       "    </tr>\n",
       "    <tr>\n",
       "      <th>145</th>\n",
       "      <td>6.7</td>\n",
       "      <td>3.0</td>\n",
       "      <td>5.2</td>\n",
       "      <td>2.3</td>\n",
       "      <td>Iris-virginica</td>\n",
       "    </tr>\n",
       "    <tr>\n",
       "      <th>146</th>\n",
       "      <td>6.3</td>\n",
       "      <td>2.5</td>\n",
       "      <td>5.0</td>\n",
       "      <td>1.9</td>\n",
       "      <td>Iris-virginica</td>\n",
       "    </tr>\n",
       "    <tr>\n",
       "      <th>147</th>\n",
       "      <td>6.5</td>\n",
       "      <td>3.0</td>\n",
       "      <td>5.2</td>\n",
       "      <td>2.0</td>\n",
       "      <td>Iris-virginica</td>\n",
       "    </tr>\n",
       "    <tr>\n",
       "      <th>148</th>\n",
       "      <td>6.2</td>\n",
       "      <td>3.4</td>\n",
       "      <td>5.4</td>\n",
       "      <td>2.3</td>\n",
       "      <td>Iris-virginica</td>\n",
       "    </tr>\n",
       "    <tr>\n",
       "      <th>149</th>\n",
       "      <td>5.9</td>\n",
       "      <td>3.0</td>\n",
       "      <td>5.1</td>\n",
       "      <td>1.8</td>\n",
       "      <td>Iris-virginica</td>\n",
       "    </tr>\n",
       "  </tbody>\n",
       "</table>\n",
       "<p>150 rows × 5 columns</p>\n",
       "</div>"
      ],
      "text/plain": [
       "     sepal length in cm  sepal width in cm  petal length in cm  \\\n",
       "0                   5.1                3.5                 1.4   \n",
       "1                   4.9                3.0                 1.4   \n",
       "2                   4.7                3.2                 1.3   \n",
       "3                   4.6                3.1                 1.5   \n",
       "4                   5.0                3.6                 1.4   \n",
       "..                  ...                ...                 ...   \n",
       "145                 6.7                3.0                 5.2   \n",
       "146                 6.3                2.5                 5.0   \n",
       "147                 6.5                3.0                 5.2   \n",
       "148                 6.2                3.4                 5.4   \n",
       "149                 5.9                3.0                 5.1   \n",
       "\n",
       "     petal width in cm           class  \n",
       "0                  0.2     Iris-setosa  \n",
       "1                  0.2     Iris-setosa  \n",
       "2                  0.2     Iris-setosa  \n",
       "3                  0.2     Iris-setosa  \n",
       "4                  0.2     Iris-setosa  \n",
       "..                 ...             ...  \n",
       "145                2.3  Iris-virginica  \n",
       "146                1.9  Iris-virginica  \n",
       "147                2.0  Iris-virginica  \n",
       "148                2.3  Iris-virginica  \n",
       "149                1.8  Iris-virginica  \n",
       "\n",
       "[150 rows x 5 columns]"
      ]
     },
     "execution_count": 99,
     "metadata": {},
     "output_type": "execute_result"
    }
   ],
   "source": [
    "df_7 = pd.read_table('iris.data', sep=',')\n",
    "df_7"
   ]
  },
  {
   "cell_type": "markdown",
   "id": "5ba959f6-281a-4e10-8426-bed186792751",
   "metadata": {},
   "source": [
    "**Przykład 18**"
   ]
  },
  {
   "cell_type": "code",
   "execution_count": 103,
   "id": "af9dcdcf-1eb3-4f8f-9085-df9d25e98c65",
   "metadata": {},
   "outputs": [],
   "source": [
    "# jeżeli plik nie posiada wiersza nagłówkowego to możemy taką opcję wskazać czy jego wczytywaniu\n",
    "# najpierw jednak zapiszmy dane do pliku csv wykorzystując funkcję to_csv\n",
    "\n",
    "# ścieżka do pliku, separator, czy zapisać nagłówek, czy zapisać index (jeżeli został utworzony\n",
    "# w trakcie ładowania danych do ramki to zazwyczaj nie chcemy go zapisywać), kodowanie znaków\n",
    "df_7.to_csv('iris.csv', sep=';', header=True, index=False, encoding='utf-8')"
   ]
  },
  {
   "cell_type": "code",
   "execution_count": 104,
   "id": "5de9b69c-7114-4879-b10b-5288de580c6b",
   "metadata": {},
   "outputs": [
    {
     "name": "stdout",
     "output_type": "stream",
     "text": [
      "sepal length in cm;sepal width in cm;petal length in cm;petal width in cm;class\n",
      "5.1;3.5;1.4;0.2;Iris-setosa\n",
      "4.9;3.0;1.4;0.2;Iris-setosa\n",
      "4.7;3.2;1.3;0.2;Iris-setosa\n",
      "4.6;3.1;1.5;0.2;Iris-setosa\n"
     ]
    }
   ],
   "source": [
    "! head -5 iris.csv"
   ]
  },
  {
   "cell_type": "markdown",
   "id": "39555334-8819-4e6e-b5b7-ac048dc995d6",
   "metadata": {},
   "source": [
    "### Zadania"
   ]
  },
  {
   "cell_type": "markdown",
   "id": "5a913664-48a6-41fa-be00-a1692ca8a4ff",
   "metadata": {},
   "source": [
    "**Zadanie 1**\n",
    "\n",
    "Stwórz serię danych, której dane to wartości całkowite od 1 do 100, a indeks jest postaci od ean_001 do ean_100.\n",
    "\n",
    "**Zadanie 2**\n",
    "\n",
    "Stwórz tablicę numpy o dwóch wymiarach w rozmiarze 10x10, której wartości są zapisane wg. poniższego schematu:\n",
    "```python\n",
    "[\n",
    "    [1, 1, 1, 1, 1, 1, 1, 1, 1, 1],\n",
    "    [2, 4, 8, 16, 32, 64, 128, 256, 512, 1024],\n",
    "    [3, 9, 27 ... ],\n",
    "    ...\n",
    "    [10, 100, 1000, ... ]\n",
    "]\n",
    "```\n",
    "W pierwszej kolumnie znajduje się liczba, która następnie jest w kolejnych kolumnach podnoszona do kwadratu. Zdefiniuj tę tablicę wedle swojego uznania, ale nie jest dopuszczalne wpisanie tych danych \"ręcznie\".\n",
    "\n",
    "Stwórz z tych danych ramkę pandas. Kolumny nazwij wg. schematu ['base', 'pow_2', 'pow_3', ..., 'pow_10']\n",
    "\n",
    "**Zadanie 3**\n",
    "\n",
    "Sprawdź czy tablica numpy z zadania poprzedniego oraz ramka pandas współdzielą ze sobą dane. Jeżeli nie to stwórz kolejną ramkę, która będzie te dane z tablicą współdzieliła (możesz wykorzystać sposób sprawdzenia tego z labów poprzednich).\n",
    "\n",
    "**Zadanie 4**\n",
    "\n",
    "Sprawdź jaki jest przydzielony typ danych w ramce z zadania poprzedniego. Czy można go downcastować do typu, który zapewni zachowanie oryginalnych danych, ale zmniejszy ilość niezbędnej pamięci do ich przechowania? Odpowiedź uzasadnij odnpowienim przykładem w kodzie.\n",
    "\n",
    "**Zadanie 5**\n",
    "\n",
    "Wczytaj dane z pliku `iris.data` za pomocą funkcji `read_csv` do zmiennej `iris` jak w przykładzie.\n",
    "\n",
    "**Zadanie 6**\n",
    "\n",
    "Zamień nazwy kolumn w ramce `iris` tak, aby w miejsce spacji wstawić znak `_`. Wyświetl pierwsze 10 wierszy tej ramki.\n",
    "\n",
    "**Zadanie 7**\n",
    "\n",
    "Sprawdź metodą `memory_usage()` (z parametrem deep=True oraz bez niego) ile danych zajmuje ramka. Wybierz jeden z typów danych numerycznych rodzaju float o mniejszej precyzji i zapisz ramkę w nowej zmiennej `iris_smaller`, której kolumny numeryczne będą rzutowane na ten nowy typ float. Ponownie sprawdź ile pamięci zostało dla ramki zaalokowane.\n",
    "\n",
    "**Zadanie 8**\n",
    "\n",
    "Zapisz ramkę do schowka (funkcja `to_clipboard()`), a następnie wklej schowek do edytora tekstowego oraz dowolnego arkusza kalkulacyjnego. Sprawdź format tych danych. \n",
    "\n",
    "Teraz skopiuj do schowka część z tych wklejonych danych i zapisz do nowej ramki metodą `from_clipboard()`.\n",
    "Wyświetl pierwsze 5 wierszy tej ramki.\n",
    "\n",
    "Rozwiązanie zadania to jedynie wywołanie powyższej funkcji, reszta dla informacji i wiedzy studenta.\n",
    "\n",
    "**Zadanie 9**\n",
    "\n",
    "Zapisz ramkę do formatów `parquet`, `json` oraz `pickle` (możliwe, że konieczne będzie doinstalowanie nowych pakietów) korzystając z odpowiednich funkcji opisanych w dokumentacji (link w materiałach)."
   ]
  }
 ],
 "metadata": {
  "kernelspec": {
   "display_name": "Python 3 (ipykernel)",
   "language": "python",
   "name": "python3"
  },
  "language_info": {
   "codemirror_mode": {
    "name": "ipython",
    "version": 3
   },
   "file_extension": ".py",
   "mimetype": "text/x-python",
   "name": "python",
   "nbconvert_exporter": "python",
   "pygments_lexer": "ipython3",
   "version": "3.13.2"
  }
 },
 "nbformat": 4,
 "nbformat_minor": 5
}
