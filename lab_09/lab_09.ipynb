{
 "cells": [
  {
   "cell_type": "markdown",
   "id": "597c3d1c-a698-46bf-802a-97ecd7eb74a6",
   "metadata": {},
   "source": [
    "# Lab 9. Statystyka w eksploracyjnej analizie danych"
   ]
  },
  {
   "cell_type": "markdown",
   "id": "473e8490-aed4-4fa5-9c8d-3df0647b009c",
   "metadata": {},
   "source": [
    "Bazując na wykładzie numer 8 (https://github.com/agazbrzezny/MAD_SWPS_2025/blob/master/wyklad_8/statystyka.ipynb) wykonaj poniższe zadania. "
   ]
  },
  {
   "cell_type": "markdown",
   "id": "717d65dd-66de-48aa-b361-f60180fc4968",
   "metadata": {},
   "source": [
    "## Zadania"
   ]
  },
  {
   "cell_type": "markdown",
   "id": "acc1dfcb-dee7-4a3c-9f4b-30f83a07eeab",
   "metadata": {},
   "source": [
    "**Zadanie 1**\n",
    "\n",
    "Wykorzystaj zbiór danych [Heart Disease](https://archive.ics.uci.edu/dataset/45/heart+disease), a następnie:\n",
    "* 1.1 Sprawdź w opisie zbioru danych (data card), które cechy są cechami numerycznymi, a które kategorialnymi. Sprawdź w jaki sposób biblioteka pandas domyślnie wczytuje te dane. Jeżeli w ramce cecha kategorialna jest oznaczona jako numeryczna to zamień ją na kategorialną (pandas posiada typ danych `category`).\n",
    "* 1.2 Sprawdź czy w zbiorze występują wartości brakujące. Jeżeli tak, to przed wykonaniem kolejnych zadań przygotuj podzbiór danych, który nie będzie zawierał obserwacji z wartościami brakującymi.\n",
    "\n",
    "**Zadanie 2**\n",
    "\n",
    "Dla zbioru danych z zadania 1 oblicz i wyświetl:\n",
    "* 2.1 Rozkład wartości w kolumnie `num` (Target) - czy dane są zbalansowane? Wyświetl je na wykresie kołowym.\n",
    "* 2.2 Podstawową statystykę opisową dla każdej cechy numerycznej (min, max, średnia, mediana, odchylenie standardowe, wartość kwantyli 25, 50 oraz 75).\n",
    "* 2.3 Dominantę (modę) dla każdej cechy kategorialnej.\n",
    "* 2.4 Wyświetl macierz korelacji Pearsona dla każdej cechy numerycznej zbioru. Wyświetl ją również na wykresie typu mapa cieplna z wykorzystaniem biblioteki seaborn.\n",
    "* 2.5 Z macierzy korelacji wyświetl nazwy trzech najbardziej skorelowanych cech względem cechy `age` (bezwzględna wartość z korelacji, bez uwzględniania samej cechy `age` w wynikach, która jak wiemy będzie skorelowana sama do siebie w stopniu równym 1).\n",
    "\n",
    "**Zadanie 3**\n",
    "\n",
    "Do wykonania poniższych poleceń wykorzystaj zbiór [Adult](https://archive.ics.uci.edu/dataset/2/adult). W tym zbiorze również ustaw typy kategorialne dla odpowiednich kolumn zgodnie z opisem zbioru danych.\n",
    "\n",
    "* 3.1 Na podstawie zbioru bazowego przygotuj dwa podzbiory danych:\n",
    "\n",
    "  * zbior_1 - losowe 20% wartości ze zbioru oryginalnego (próbkowanie bez uwzględnienia rozkładu dla cechy opisowej - target)\n",
    "  * zbior_2 - pozostałe 80% wartości bez elementów ze zbioru_1\n",
    "  * zbior_3 - losowe 20% wartości ze zbioru oryginalnego (próbkowanie z uwzględnieniem rozkładu cechy opisowej)\n",
    "\n",
    "\n",
    "Następnie porównaj średnią wartość cechy `capital-loss` dla każdej z prób. Jakie jest prawdopodobieństwo, że te próby pochodzą z tej samej populacji?\n",
    "\n",
    "* 3.2 Wykonaj test t dla prób zależnych dla wartości cechy `capital-gain` przyjmując następującą hipotezę zerową: średnia wartość tej cechy dla `race`='White' jest istotnie wyższa niż dla pozostałych wartości cechy `race`. Przyjmij lub odrzuć przyjętą hipotezę.\n",
    "\n",
    "* 3.3 Wykorzystując test ANOVA sprawdź jak istotna statystycznie jest różnica średniej wartości cechy `capital-gain` dla każdej z wartości `race` z osobna. Wskaż `p-values` dla tego testu. Jak zinterpretować ten wynik?\n",
    "\n",
    "**Zadanie 4**\n",
    "\n",
    "Wykonaj test Chi square dla wartości cechy `capital-income` dla dwóch grup:\n",
    "* ludzie w wieku < 40 lat\n",
    "* ludzie w wieku >= 40 lat\n",
    "\n",
    "Wyświetl wyniki tego testu."
   ]
  }
 ],
 "metadata": {
  "kernelspec": {
   "display_name": "Python 3 (ipykernel)",
   "language": "python",
   "name": "python3"
  },
  "language_info": {
   "codemirror_mode": {
    "name": "ipython",
    "version": 3
   },
   "file_extension": ".py",
   "mimetype": "text/x-python",
   "name": "python",
   "nbconvert_exporter": "python",
   "pygments_lexer": "ipython3",
   "version": "3.13.2"
  }
 },
 "nbformat": 4,
 "nbformat_minor": 5
}
