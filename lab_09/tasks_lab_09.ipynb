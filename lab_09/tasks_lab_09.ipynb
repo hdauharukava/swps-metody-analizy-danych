{
 "cells": [
  {
   "cell_type": "code",
   "id": "initial_id",
   "metadata": {
    "collapsed": true,
    "ExecuteTime": {
     "end_time": "2025-05-17T22:02:41.611068Z",
     "start_time": "2025-05-17T22:02:41.609564Z"
    }
   },
   "source": [
    "import pandas as pd\n",
    "import matplotlib.pyplot as plt\n",
    "import seaborn as sns"
   ],
   "outputs": [],
   "execution_count": 72
  },
  {
   "metadata": {},
   "cell_type": "markdown",
   "source": [
    "### Zadanie 1\n",
    "\n",
    "Wykorzystaj zbiór danych [Heart Disease](https://archive.ics.uci.edu/dataset/45/heart+disease), a następnie:\n",
    "* 1.1 Sprawdź w opisie zbioru danych (data card), które cechy są cechami numerycznymi, a które kategorialnymi. Sprawdź w jaki sposób biblioteka pandas domyślnie wczytuje te dane. Jeżeli w ramce cecha kategorialna jest oznaczona jako numeryczna to zamień ją na kategorialną (pandas posiada typ danych `category`).\n",
    "* 1.2 Sprawdź czy w zbiorze występują wartości brakujące. Jeżeli tak, to przed wykonaniem kolejnych zadań przygotuj podzbiór danych, który nie będzie zawierał obserwacji z wartościami brakującymi."
   ],
   "id": "56fc4e6bf880fe99"
  },
  {
   "metadata": {
    "ExecuteTime": {
     "end_time": "2025-05-17T22:02:50.503485Z",
     "start_time": "2025-05-17T22:02:50.494485Z"
    }
   },
   "cell_type": "code",
   "source": [
    "heart_disease = pd.read_csv(\"data.csv\")\n",
    "df = pd.DataFrame(heart_disease)\n",
    "df.head()"
   ],
   "id": "62174b5c7b30a281",
   "outputs": [
    {
     "data": {
      "text/plain": [
       "   age  sex  cp  trestbps  chol  fbs  restecg  thalach  exang  oldpeak  slope  \\\n",
       "0   63    1   1       145   233    1        2      150      0      2.3      3   \n",
       "1   67    1   4       160   286    0        2      108      1      1.5      2   \n",
       "2   67    1   4       120   229    0        2      129      1      2.6      2   \n",
       "3   37    1   3       130   250    0        0      187      0      3.5      3   \n",
       "4   41    0   2       130   204    0        2      172      0      1.4      1   \n",
       "\n",
       "    ca  thal  num  \n",
       "0  0.0   6.0    0  \n",
       "1  3.0   3.0    2  \n",
       "2  2.0   7.0    1  \n",
       "3  0.0   3.0    0  \n",
       "4  0.0   3.0    0  "
      ],
      "text/html": [
       "<div>\n",
       "<style scoped>\n",
       "    .dataframe tbody tr th:only-of-type {\n",
       "        vertical-align: middle;\n",
       "    }\n",
       "\n",
       "    .dataframe tbody tr th {\n",
       "        vertical-align: top;\n",
       "    }\n",
       "\n",
       "    .dataframe thead th {\n",
       "        text-align: right;\n",
       "    }\n",
       "</style>\n",
       "<table border=\"1\" class=\"dataframe\">\n",
       "  <thead>\n",
       "    <tr style=\"text-align: right;\">\n",
       "      <th></th>\n",
       "      <th>age</th>\n",
       "      <th>sex</th>\n",
       "      <th>cp</th>\n",
       "      <th>trestbps</th>\n",
       "      <th>chol</th>\n",
       "      <th>fbs</th>\n",
       "      <th>restecg</th>\n",
       "      <th>thalach</th>\n",
       "      <th>exang</th>\n",
       "      <th>oldpeak</th>\n",
       "      <th>slope</th>\n",
       "      <th>ca</th>\n",
       "      <th>thal</th>\n",
       "      <th>num</th>\n",
       "    </tr>\n",
       "  </thead>\n",
       "  <tbody>\n",
       "    <tr>\n",
       "      <th>0</th>\n",
       "      <td>63</td>\n",
       "      <td>1</td>\n",
       "      <td>1</td>\n",
       "      <td>145</td>\n",
       "      <td>233</td>\n",
       "      <td>1</td>\n",
       "      <td>2</td>\n",
       "      <td>150</td>\n",
       "      <td>0</td>\n",
       "      <td>2.3</td>\n",
       "      <td>3</td>\n",
       "      <td>0.0</td>\n",
       "      <td>6.0</td>\n",
       "      <td>0</td>\n",
       "    </tr>\n",
       "    <tr>\n",
       "      <th>1</th>\n",
       "      <td>67</td>\n",
       "      <td>1</td>\n",
       "      <td>4</td>\n",
       "      <td>160</td>\n",
       "      <td>286</td>\n",
       "      <td>0</td>\n",
       "      <td>2</td>\n",
       "      <td>108</td>\n",
       "      <td>1</td>\n",
       "      <td>1.5</td>\n",
       "      <td>2</td>\n",
       "      <td>3.0</td>\n",
       "      <td>3.0</td>\n",
       "      <td>2</td>\n",
       "    </tr>\n",
       "    <tr>\n",
       "      <th>2</th>\n",
       "      <td>67</td>\n",
       "      <td>1</td>\n",
       "      <td>4</td>\n",
       "      <td>120</td>\n",
       "      <td>229</td>\n",
       "      <td>0</td>\n",
       "      <td>2</td>\n",
       "      <td>129</td>\n",
       "      <td>1</td>\n",
       "      <td>2.6</td>\n",
       "      <td>2</td>\n",
       "      <td>2.0</td>\n",
       "      <td>7.0</td>\n",
       "      <td>1</td>\n",
       "    </tr>\n",
       "    <tr>\n",
       "      <th>3</th>\n",
       "      <td>37</td>\n",
       "      <td>1</td>\n",
       "      <td>3</td>\n",
       "      <td>130</td>\n",
       "      <td>250</td>\n",
       "      <td>0</td>\n",
       "      <td>0</td>\n",
       "      <td>187</td>\n",
       "      <td>0</td>\n",
       "      <td>3.5</td>\n",
       "      <td>3</td>\n",
       "      <td>0.0</td>\n",
       "      <td>3.0</td>\n",
       "      <td>0</td>\n",
       "    </tr>\n",
       "    <tr>\n",
       "      <th>4</th>\n",
       "      <td>41</td>\n",
       "      <td>0</td>\n",
       "      <td>2</td>\n",
       "      <td>130</td>\n",
       "      <td>204</td>\n",
       "      <td>0</td>\n",
       "      <td>2</td>\n",
       "      <td>172</td>\n",
       "      <td>0</td>\n",
       "      <td>1.4</td>\n",
       "      <td>1</td>\n",
       "      <td>0.0</td>\n",
       "      <td>3.0</td>\n",
       "      <td>0</td>\n",
       "    </tr>\n",
       "  </tbody>\n",
       "</table>\n",
       "</div>"
      ]
     },
     "execution_count": 73,
     "metadata": {},
     "output_type": "execute_result"
    }
   ],
   "execution_count": 73
  },
  {
   "metadata": {
    "ExecuteTime": {
     "end_time": "2025-05-17T22:03:06.257598Z",
     "start_time": "2025-05-17T22:03:06.248413Z"
    }
   },
   "cell_type": "code",
   "source": [
    "df['sex'] = df['sex'].replace({1: 'Male', 0: 'Female'})\n",
    "df['sex'] = df['sex'].astype('category')\n",
    "\n",
    "df['cp'] = df['cp'].replace({1: 'typical angina', 2: 'atypical angina', 3:'non-anginal pain', 4: 'asymptomatic'})\n",
    "df['cp'] = df['cp'].astype('category')\n",
    "\n",
    "df['fbs'] = df['fbs'].replace({1: 'True', 0: 'False'})\n",
    "df['fbs'] = df['fbs'].astype('category')\n",
    "\n",
    "df['restecg'] = df['restecg'].replace({0: 'normal', 1: 'abnormal', 2: 'ventricular hypertrophy'})\n",
    "df['restecg'] = df['restecg'].astype('category')\n",
    "\n",
    "df['exang'] = df['exang'].replace({1: 'yes', 0: 'no'})\n",
    "df['exang'] = df['exang'].astype('category')\n",
    "\n",
    "df['slope'] = df['slope'].replace({1: 'upsloping', 2: 'flat', 3: 'downsloping'})\n",
    "df['slope'] = df['slope'].astype('category')\n",
    "\n",
    "df['thal'] = df['thal'].replace({3: 'normal', 6: 'fixed defect', 7: 'reversable defect'})\n",
    "df['thal'] = df['thal'].astype('category')"
   ],
   "id": "62ca57fd31feb4a4",
   "outputs": [],
   "execution_count": 74
  },
  {
   "metadata": {
    "ExecuteTime": {
     "end_time": "2025-05-17T22:03:20.449062Z",
     "start_time": "2025-05-17T22:03:20.445486Z"
    }
   },
   "cell_type": "code",
   "source": "df.dtypes",
   "id": "316499b79202b0d4",
   "outputs": [
    {
     "data": {
      "text/plain": [
       "age            int64\n",
       "sex         category\n",
       "cp          category\n",
       "trestbps       int64\n",
       "chol           int64\n",
       "fbs         category\n",
       "restecg     category\n",
       "thalach        int64\n",
       "exang       category\n",
       "oldpeak      float64\n",
       "slope       category\n",
       "ca           float64\n",
       "thal        category\n",
       "num            int64\n",
       "dtype: object"
      ]
     },
     "execution_count": 75,
     "metadata": {},
     "output_type": "execute_result"
    }
   ],
   "execution_count": 75
  },
  {
   "metadata": {
    "ExecuteTime": {
     "end_time": "2025-05-17T22:03:27.410756Z",
     "start_time": "2025-05-17T22:03:27.406635Z"
    }
   },
   "cell_type": "code",
   "source": "df.isnull().sum()",
   "id": "2634186d8f57e223",
   "outputs": [
    {
     "data": {
      "text/plain": [
       "age         0\n",
       "sex         0\n",
       "cp          0\n",
       "trestbps    0\n",
       "chol        0\n",
       "fbs         0\n",
       "restecg     0\n",
       "thalach     0\n",
       "exang       0\n",
       "oldpeak     0\n",
       "slope       0\n",
       "ca          4\n",
       "thal        2\n",
       "num         0\n",
       "dtype: int64"
      ]
     },
     "execution_count": 76,
     "metadata": {},
     "output_type": "execute_result"
    }
   ],
   "execution_count": 76
  },
  {
   "metadata": {
    "ExecuteTime": {
     "end_time": "2025-05-17T22:03:41.397264Z",
     "start_time": "2025-05-17T22:03:41.390713Z"
    }
   },
   "cell_type": "code",
   "source": [
    "df_cleaned = df.dropna()\n",
    "df_cleaned.isnull().sum()"
   ],
   "id": "a082f57e4e43f57e",
   "outputs": [
    {
     "data": {
      "text/plain": [
       "age         0\n",
       "sex         0\n",
       "cp          0\n",
       "trestbps    0\n",
       "chol        0\n",
       "fbs         0\n",
       "restecg     0\n",
       "thalach     0\n",
       "exang       0\n",
       "oldpeak     0\n",
       "slope       0\n",
       "ca          0\n",
       "thal        0\n",
       "num         0\n",
       "dtype: int64"
      ]
     },
     "execution_count": 77,
     "metadata": {},
     "output_type": "execute_result"
    }
   ],
   "execution_count": 77
  },
  {
   "metadata": {},
   "cell_type": "markdown",
   "source": [
    "### Zadanie 2\n",
    "\n",
    "Dla zbioru danych z zadania 1 oblicz i wyświetl:\n",
    "#### 2.1 Rozkład wartości w kolumnie `num` (Target) - czy dane są zbalansowane? Wyświetl je na wykresie kołowym."
   ],
   "id": "6b9186944a81f4e0"
  },
  {
   "metadata": {
    "ExecuteTime": {
     "end_time": "2025-05-17T22:04:11.956294Z",
     "start_time": "2025-05-17T22:04:11.952554Z"
    }
   },
   "cell_type": "code",
   "source": [
    "distribution = df_cleaned['num'].value_counts()\n",
    "distribution"
   ],
   "id": "183659329279d1a9",
   "outputs": [
    {
     "data": {
      "text/plain": [
       "num\n",
       "0    160\n",
       "1     54\n",
       "2     35\n",
       "3     35\n",
       "4     13\n",
       "Name: count, dtype: int64"
      ]
     },
     "execution_count": 78,
     "metadata": {},
     "output_type": "execute_result"
    }
   ],
   "execution_count": 78
  },
  {
   "metadata": {
    "ExecuteTime": {
     "end_time": "2025-05-17T22:04:19.808657Z",
     "start_time": "2025-05-17T22:04:19.755002Z"
    }
   },
   "cell_type": "code",
   "source": [
    "plt.figure(figsize=(6, 6))\n",
    "distribution.plot.pie(autopct='%1.1f%%', startangle=90, legend=True)\n",
    "plt.title('Rozkład wartości w kolumnie num')\n",
    "plt.ylabel('')\n",
    "plt.show()"
   ],
   "id": "ce8003fae629bda6",
   "outputs": [
    {
     "data": {
      "text/plain": [
       "<Figure size 600x600 with 1 Axes>"
      ],
      "image/png": "[encoded data removed]"
     },
     "metadata": {},
     "output_type": "display_data"
    }
   ],
   "execution_count": 79
  },
  {
   "metadata": {},
   "cell_type": "markdown",
   "source": "#### 2.2 Podstawową statystykę opisową dla każdej cechy numerycznej (min, max, średnia, mediana, odchylenie standardowe, wartość kwantyli 25, 50 oraz 75).",
   "id": "f7cf4d7c04d50588"
  },
  {
   "metadata": {
    "ExecuteTime": {
     "end_time": "2025-05-17T22:04:41.455875Z",
     "start_time": "2025-05-17T22:04:41.446960Z"
    }
   },
   "cell_type": "code",
   "source": "df_cleaned.describe()",
   "id": "e44a6c51bc5b36c",
   "outputs": [
    {
     "data": {
      "text/plain": [
       "              age    trestbps        chol     thalach     oldpeak          ca  \\\n",
       "count  297.000000  297.000000  297.000000  297.000000  297.000000  297.000000   \n",
       "mean    54.542088  131.693603  247.350168  149.599327    1.055556    0.676768   \n",
       "std      9.049736   17.762806   51.997583   22.941562    1.166123    0.938965   \n",
       "min     29.000000   94.000000  126.000000   71.000000    0.000000    0.000000   \n",
       "25%     48.000000  120.000000  211.000000  133.000000    0.000000    0.000000   \n",
       "50%     56.000000  130.000000  243.000000  153.000000    0.800000    0.000000   \n",
       "75%     61.000000  140.000000  276.000000  166.000000    1.600000    1.000000   \n",
       "max     77.000000  200.000000  564.000000  202.000000    6.200000    3.000000   \n",
       "\n",
       "              num  \n",
       "count  297.000000  \n",
       "mean     0.946128  \n",
       "std      1.234551  \n",
       "min      0.000000  \n",
       "25%      0.000000  \n",
       "50%      0.000000  \n",
       "75%      2.000000  \n",
       "max      4.000000  "
      ],
      "text/html": [
       "<div>\n",
       "<style scoped>\n",
       "    .dataframe tbody tr th:only-of-type {\n",
       "        vertical-align: middle;\n",
       "    }\n",
       "\n",
       "    .dataframe tbody tr th {\n",
       "        vertical-align: top;\n",
       "    }\n",
       "\n",
       "    .dataframe thead th {\n",
       "        text-align: right;\n",
       "    }\n",
       "</style>\n",
       "<table border=\"1\" class=\"dataframe\">\n",
       "  <thead>\n",
       "    <tr style=\"text-align: right;\">\n",
       "      <th></th>\n",
       "      <th>age</th>\n",
       "      <th>trestbps</th>\n",
       "      <th>chol</th>\n",
       "      <th>thalach</th>\n",
       "      <th>oldpeak</th>\n",
       "      <th>ca</th>\n",
       "      <th>num</th>\n",
       "    </tr>\n",
       "  </thead>\n",
       "  <tbody>\n",
       "    <tr>\n",
       "      <th>count</th>\n",
       "      <td>297.000000</td>\n",
       "      <td>297.000000</td>\n",
       "      <td>297.000000</td>\n",
       "      <td>297.000000</td>\n",
       "      <td>297.000000</td>\n",
       "      <td>297.000000</td>\n",
       "      <td>297.000000</td>\n",
       "    </tr>\n",
       "    <tr>\n",
       "      <th>mean</th>\n",
       "      <td>54.542088</td>\n",
       "      <td>131.693603</td>\n",
       "      <td>247.350168</td>\n",
       "      <td>149.599327</td>\n",
       "      <td>1.055556</td>\n",
       "      <td>0.676768</td>\n",
       "      <td>0.946128</td>\n",
       "    </tr>\n",
       "    <tr>\n",
       "      <th>std</th>\n",
       "      <td>9.049736</td>\n",
       "      <td>17.762806</td>\n",
       "      <td>51.997583</td>\n",
       "      <td>22.941562</td>\n",
       "      <td>1.166123</td>\n",
       "      <td>0.938965</td>\n",
       "      <td>1.234551</td>\n",
       "    </tr>\n",
       "    <tr>\n",
       "      <th>min</th>\n",
       "      <td>29.000000</td>\n",
       "      <td>94.000000</td>\n",
       "      <td>126.000000</td>\n",
       "      <td>71.000000</td>\n",
       "      <td>0.000000</td>\n",
       "      <td>0.000000</td>\n",
       "      <td>0.000000</td>\n",
       "    </tr>\n",
       "    <tr>\n",
       "      <th>25%</th>\n",
       "      <td>48.000000</td>\n",
       "      <td>120.000000</td>\n",
       "      <td>211.000000</td>\n",
       "      <td>133.000000</td>\n",
       "      <td>0.000000</td>\n",
       "      <td>0.000000</td>\n",
       "      <td>0.000000</td>\n",
       "    </tr>\n",
       "    <tr>\n",
       "      <th>50%</th>\n",
       "      <td>56.000000</td>\n",
       "      <td>130.000000</td>\n",
       "      <td>243.000000</td>\n",
       "      <td>153.000000</td>\n",
       "      <td>0.800000</td>\n",
       "      <td>0.000000</td>\n",
       "      <td>0.000000</td>\n",
       "    </tr>\n",
       "    <tr>\n",
       "      <th>75%</th>\n",
       "      <td>61.000000</td>\n",
       "      <td>140.000000</td>\n",
       "      <td>276.000000</td>\n",
       "      <td>166.000000</td>\n",
       "      <td>1.600000</td>\n",
       "      <td>1.000000</td>\n",
       "      <td>2.000000</td>\n",
       "    </tr>\n",
       "    <tr>\n",
       "      <th>max</th>\n",
       "      <td>77.000000</td>\n",
       "      <td>200.000000</td>\n",
       "      <td>564.000000</td>\n",
       "      <td>202.000000</td>\n",
       "      <td>6.200000</td>\n",
       "      <td>3.000000</td>\n",
       "      <td>4.000000</td>\n",
       "    </tr>\n",
       "  </tbody>\n",
       "</table>\n",
       "</div>"
      ]
     },
     "execution_count": 80,
     "metadata": {},
     "output_type": "execute_result"
    }
   ],
   "execution_count": 80
  },
  {
   "metadata": {},
   "cell_type": "markdown",
   "source": "#### 2.3 Dominantę (modę) dla każdej cechy kategorialnej.",
   "id": "8bd507ba45514b65"
  },
  {
   "metadata": {
    "ExecuteTime": {
     "end_time": "2025-05-17T22:05:11.790138Z",
     "start_time": "2025-05-17T22:05:11.784006Z"
    }
   },
   "cell_type": "code",
   "source": [
    "df_category = df.select_dtypes(include='category')\n",
    "df_category.mode()"
   ],
   "id": "1c6e343435d6654e",
   "outputs": [
    {
     "data": {
      "text/plain": [
       "    sex            cp    fbs restecg exang      slope    thal\n",
       "0  Male  asymptomatic  False  normal    no  upsloping  normal"
      ],
      "text/html": [
       "<div>\n",
       "<style scoped>\n",
       "    .dataframe tbody tr th:only-of-type {\n",
       "        vertical-align: middle;\n",
       "    }\n",
       "\n",
       "    .dataframe tbody tr th {\n",
       "        vertical-align: top;\n",
       "    }\n",
       "\n",
       "    .dataframe thead th {\n",
       "        text-align: right;\n",
       "    }\n",
       "</style>\n",
       "<table border=\"1\" class=\"dataframe\">\n",
       "  <thead>\n",
       "    <tr style=\"text-align: right;\">\n",
       "      <th></th>\n",
       "      <th>sex</th>\n",
       "      <th>cp</th>\n",
       "      <th>fbs</th>\n",
       "      <th>restecg</th>\n",
       "      <th>exang</th>\n",
       "      <th>slope</th>\n",
       "      <th>thal</th>\n",
       "    </tr>\n",
       "  </thead>\n",
       "  <tbody>\n",
       "    <tr>\n",
       "      <th>0</th>\n",
       "      <td>Male</td>\n",
       "      <td>asymptomatic</td>\n",
       "      <td>False</td>\n",
       "      <td>normal</td>\n",
       "      <td>no</td>\n",
       "      <td>upsloping</td>\n",
       "      <td>normal</td>\n",
       "    </tr>\n",
       "  </tbody>\n",
       "</table>\n",
       "</div>"
      ]
     },
     "execution_count": 81,
     "metadata": {},
     "output_type": "execute_result"
    }
   ],
   "execution_count": 81
  },
  {
   "metadata": {},
   "cell_type": "markdown",
   "source": "#### 2.4 Wyświetl macierz korelacji Pearsona dla każdej cechy numerycznej zbioru. Wyświetl ją również na wykresie typu mapa cieplna z wykorzystaniem biblioteki seaborn.",
   "id": "e7465c0fbe8c2674"
  },
  {
   "metadata": {
    "ExecuteTime": {
     "end_time": "2025-05-17T22:05:24.680535Z",
     "start_time": "2025-05-17T22:05:24.674900Z"
    }
   },
   "cell_type": "code",
   "source": [
    "df_numeric = df.select_dtypes(include='number')\n",
    "correlation_matrix = df_numeric.corr()\n",
    "correlation_matrix"
   ],
   "id": "facb9e14452dde9c",
   "outputs": [
    {
     "data": {
      "text/plain": [
       "               age  trestbps      chol   thalach   oldpeak        ca       num\n",
       "age       1.000000  0.284946  0.208950 -0.393806  0.203805  0.362605  0.222853\n",
       "trestbps  0.284946  1.000000  0.130120 -0.045351  0.189171  0.098773  0.157754\n",
       "chol      0.208950  0.130120  1.000000 -0.003432  0.046564  0.119000  0.070909\n",
       "thalach  -0.393806 -0.045351 -0.003432  1.000000 -0.343085 -0.264246 -0.415040\n",
       "oldpeak   0.203805  0.189171  0.046564 -0.343085  1.000000  0.295832  0.504092\n",
       "ca        0.362605  0.098773  0.119000 -0.264246  0.295832  1.000000  0.518909\n",
       "num       0.222853  0.157754  0.070909 -0.415040  0.504092  0.518909  1.000000"
      ],
      "text/html": [
       "<div>\n",
       "<style scoped>\n",
       "    .dataframe tbody tr th:only-of-type {\n",
       "        vertical-align: middle;\n",
       "    }\n",
       "\n",
       "    .dataframe tbody tr th {\n",
       "        vertical-align: top;\n",
       "    }\n",
       "\n",
       "    .dataframe thead th {\n",
       "        text-align: right;\n",
       "    }\n",
       "</style>\n",
       "<table border=\"1\" class=\"dataframe\">\n",
       "  <thead>\n",
       "    <tr style=\"text-align: right;\">\n",
       "      <th></th>\n",
       "      <th>age</th>\n",
       "      <th>trestbps</th>\n",
       "      <th>chol</th>\n",
       "      <th>thalach</th>\n",
       "      <th>oldpeak</th>\n",
       "      <th>ca</th>\n",
       "      <th>num</th>\n",
       "    </tr>\n",
       "  </thead>\n",
       "  <tbody>\n",
       "    <tr>\n",
       "      <th>age</th>\n",
       "      <td>1.000000</td>\n",
       "      <td>0.284946</td>\n",
       "      <td>0.208950</td>\n",
       "      <td>-0.393806</td>\n",
       "      <td>0.203805</td>\n",
       "      <td>0.362605</td>\n",
       "      <td>0.222853</td>\n",
       "    </tr>\n",
       "    <tr>\n",
       "      <th>trestbps</th>\n",
       "      <td>0.284946</td>\n",
       "      <td>1.000000</td>\n",
       "      <td>0.130120</td>\n",
       "      <td>-0.045351</td>\n",
       "      <td>0.189171</td>\n",
       "      <td>0.098773</td>\n",
       "      <td>0.157754</td>\n",
       "    </tr>\n",
       "    <tr>\n",
       "      <th>chol</th>\n",
       "      <td>0.208950</td>\n",
       "      <td>0.130120</td>\n",
       "      <td>1.000000</td>\n",
       "      <td>-0.003432</td>\n",
       "      <td>0.046564</td>\n",
       "      <td>0.119000</td>\n",
       "      <td>0.070909</td>\n",
       "    </tr>\n",
       "    <tr>\n",
       "      <th>thalach</th>\n",
       "      <td>-0.393806</td>\n",
       "      <td>-0.045351</td>\n",
       "      <td>-0.003432</td>\n",
       "      <td>1.000000</td>\n",
       "      <td>-0.343085</td>\n",
       "      <td>-0.264246</td>\n",
       "      <td>-0.415040</td>\n",
       "    </tr>\n",
       "    <tr>\n",
       "      <th>oldpeak</th>\n",
       "      <td>0.203805</td>\n",
       "      <td>0.189171</td>\n",
       "      <td>0.046564</td>\n",
       "      <td>-0.343085</td>\n",
       "      <td>1.000000</td>\n",
       "      <td>0.295832</td>\n",
       "      <td>0.504092</td>\n",
       "    </tr>\n",
       "    <tr>\n",
       "      <th>ca</th>\n",
       "      <td>0.362605</td>\n",
       "      <td>0.098773</td>\n",
       "      <td>0.119000</td>\n",
       "      <td>-0.264246</td>\n",
       "      <td>0.295832</td>\n",
       "      <td>1.000000</td>\n",
       "      <td>0.518909</td>\n",
       "    </tr>\n",
       "    <tr>\n",
       "      <th>num</th>\n",
       "      <td>0.222853</td>\n",
       "      <td>0.157754</td>\n",
       "      <td>0.070909</td>\n",
       "      <td>-0.415040</td>\n",
       "      <td>0.504092</td>\n",
       "      <td>0.518909</td>\n",
       "      <td>1.000000</td>\n",
       "    </tr>\n",
       "  </tbody>\n",
       "</table>\n",
       "</div>"
      ]
     },
     "execution_count": 82,
     "metadata": {},
     "output_type": "execute_result"
    }
   ],
   "execution_count": 82
  },
  {
   "metadata": {
    "ExecuteTime": {
     "end_time": "2025-05-17T22:05:33.030340Z",
     "start_time": "2025-05-17T22:05:32.915118Z"
    }
   },
   "cell_type": "code",
   "source": [
    "plt.figure(figsize=(8, 6))\n",
    "sns.heatmap(correlation_matrix, annot=True, cmap='coolwarm', fmt='.2f')\n",
    "plt.title('Macierz korelacji Pearsona')\n",
    "plt.show()"
   ],
   "id": "4866ab2db0754a85",
   "outputs": [
    {
     "data": {
      "text/plain": [
       "<Figure size 800x600 with 2 Axes>"
      ],
      "image/png": "[encoded data removed]"
     },
     "metadata": {},
     "output_type": "display_data"
    }
   ],
   "execution_count": 83
  },
  {
   "metadata": {},
   "cell_type": "markdown",
   "source": "#### 2.5 Z macierzy korelacji wyświetl nazwy trzech najbardziej skorelowanych cech względem cechy `age` (bezwzględna wartość z korelacji, bez uwzględniania samej cechy `age` w wynikach, która jak wiemy będzie skorelowana sama do siebie w stopniu równym 1).",
   "id": "c1342e6a00b342e4"
  },
  {
   "metadata": {
    "ExecuteTime": {
     "end_time": "2025-05-17T22:06:09.176523Z",
     "start_time": "2025-05-17T22:06:09.171996Z"
    }
   },
   "cell_type": "code",
   "source": [
    "correlation_with_age = correlation_matrix['age'].drop('age')\n",
    "correlation_with_age.abs().sort_values(ascending=False).head(3)"
   ],
   "id": "bd4d0d920c8023ec",
   "outputs": [
    {
     "data": {
      "text/plain": [
       "thalach     0.393806\n",
       "ca          0.362605\n",
       "trestbps    0.284946\n",
       "Name: age, dtype: float64"
      ]
     },
     "execution_count": 84,
     "metadata": {},
     "output_type": "execute_result"
    }
   ],
   "execution_count": 84
  },
  {
   "metadata": {},
   "cell_type": "markdown",
   "source": [
    "#### Zadanie 3\n",
    "\n",
    "Do wykonania poniższych poleceń wykorzystaj zbiór [Adult](https://archive.ics.uci.edu/dataset/2/adult). W tym zbiorze również ustaw typy kategorialne dla odpowiednich kolumn zgodnie z opisem zbioru danych.\n",
    "\n",
    "* 3.1 Na podstawie zbioru bazowego przygotuj dwa podzbiory danych:\n",
    "\n",
    "  * zbior_1 - losowe 20% wartości ze zbioru oryginalnego (próbkowanie bez uwzględnienia rozkładu dla cechy opisowej - target)\n",
    "  * zbior_2 - pozostałe 80% wartości bez elementów ze zbioru_1\n",
    "  * zbior_3 - losowe 20% wartości ze zbioru oryginalnego (próbkowanie z uwzględnieniem rozkładu cechy opisowej)\n",
    "\n",
    "\n",
    "Następnie porównaj średnią wartość cechy `capital-loss` dla każdej z prób. Jakie jest prawdopodobieństwo, że te próby pochodzą z tej samej populacji?\n",
    "\n"
   ],
   "id": "a9e6cb52e48fe3a4"
  },
  {
   "metadata": {
    "ExecuteTime": {
     "end_time": "2025-05-17T22:06:24.202072Z",
     "start_time": "2025-05-17T22:06:24.162271Z"
    }
   },
   "cell_type": "code",
   "source": [
    "df = pd.read_csv(\"adult_data.csv\")\n",
    "df.dtypes"
   ],
   "id": "3edf8c7ce8bba64d",
   "outputs": [
    {
     "data": {
      "text/plain": [
       "age                int64\n",
       "workclass         object\n",
       "fnlwgt             int64\n",
       "education         object\n",
       "education-num      int64\n",
       "marital-status    object\n",
       "occupation        object\n",
       "relationship      object\n",
       "race              object\n",
       "sex               object\n",
       "capital-gain       int64\n",
       "capital-loss       int64\n",
       "hours-per-week     int64\n",
       "native-country    object\n",
       "income            object\n",
       "dtype: object"
      ]
     },
     "execution_count": 85,
     "metadata": {},
     "output_type": "execute_result"
    }
   ],
   "execution_count": 85
  },
  {
   "metadata": {
    "ExecuteTime": {
     "end_time": "2025-05-17T22:06:32.552392Z",
     "start_time": "2025-05-17T22:06:32.533070Z"
    }
   },
   "cell_type": "code",
   "source": [
    "categorical_columns = ['workclass', 'education', 'marital-status', 'occupation', 'relationship', 'race', 'sex', 'native-country', 'income']\n",
    "for col in categorical_columns:\n",
    "    df[col] = df[col].astype('category')\n",
    "df.dtypes"
   ],
   "id": "8cead8d250ac1e60",
   "outputs": [
    {
     "data": {
      "text/plain": [
       "age                  int64\n",
       "workclass         category\n",
       "fnlwgt               int64\n",
       "education         category\n",
       "education-num        int64\n",
       "marital-status    category\n",
       "occupation        category\n",
       "relationship      category\n",
       "race              category\n",
       "sex               category\n",
       "capital-gain         int64\n",
       "capital-loss         int64\n",
       "hours-per-week       int64\n",
       "native-country    category\n",
       "income            category\n",
       "dtype: object"
      ]
     },
     "execution_count": 86,
     "metadata": {},
     "output_type": "execute_result"
    }
   ],
   "execution_count": 86
  },
  {
   "metadata": {
    "ExecuteTime": {
     "end_time": "2025-05-17T22:06:41.769347Z",
     "start_time": "2025-05-17T22:06:41.757333Z"
    }
   },
   "cell_type": "code",
   "source": [
    "df_1 = df.sample(frac=0.2, random_state=42)\n",
    "\n",
    "df_2 = df.drop(df_1.index)\n",
    "\n",
    "df_3 = df.groupby('income', observed=False, group_keys=False).apply(lambda x: x.sample(frac=0.2, random_state=42), include_groups=False)"
   ],
   "id": "16ae8def46e2bc39",
   "outputs": [],
   "execution_count": 87
  },
  {
   "metadata": {
    "ExecuteTime": {
     "end_time": "2025-05-17T22:06:48.244727Z",
     "start_time": "2025-05-17T22:06:48.241743Z"
    }
   },
   "cell_type": "code",
   "source": [
    "print(\"Średnia dla zbioru 1:\", df_1['capital-loss'].mean())\n",
    "print(\"Średnia dla zbioru 2:\", df_2['capital-loss'].mean())\n",
    "print(\"Średnia dla zbioru 3:\", df_3['capital-loss'].mean())"
   ],
   "id": "618d54d4c203de49",
   "outputs": [
    {
     "name": "stdout",
     "output_type": "stream",
     "text": [
      "Średnia dla zbioru 1: 87.37592109738125\n",
      "Średnia dla zbioru 2: 87.37997392585875\n",
      "Średnia dla zbioru 3: 85.23412698412699\n"
     ]
    }
   ],
   "execution_count": 88
  },
  {
   "metadata": {},
   "cell_type": "markdown",
   "source": "#### 3.2 Wykonaj test t dla prób zależnych dla wartości cechy `capital-gain` przyjmując następującą hipotezę zerową: średnia wartość tej cechy dla `race`='White' jest istotnie wyższa niż dla pozostałych wartości cechy `race`. Przyjmij lub odrzuć przyjętą hipotezę.",
   "id": "1c5822797c3f9c2d"
  },
  {
   "metadata": {
    "ExecuteTime": {
     "end_time": "2025-05-17T22:07:03.911866Z",
     "start_time": "2025-05-17T22:07:03.909691Z"
    }
   },
   "cell_type": "code",
   "source": "from scipy import stats",
   "id": "23d82cbfe38e53d7",
   "outputs": [],
   "execution_count": 89
  },
  {
   "metadata": {
    "ExecuteTime": {
     "end_time": "2025-05-17T22:07:09.409764Z",
     "start_time": "2025-05-17T22:07:09.403827Z"
    }
   },
   "cell_type": "code",
   "source": [
    "white_race = df[df['race'] == 'White']['capital-gain']\n",
    "\n",
    "non_white_race = df[df['race'] != 'White']['capital-gain']\n",
    "\n",
    "t_stat, p_value = stats.ttest_ind(white_race, non_white_race)\n",
    "\n",
    "print(\"Statystyka t:\", t_stat)\n",
    "print(\"Wartość p:\", p_value)\n",
    "\n",
    "if p_value < 0.05:\n",
    "    print(\"Odrzucamy hipotezę zerową: Istnieje istotna różnica.\")\n",
    "else:\n",
    "    print(\"Nie odrzucamy hipotezy zerowej: Brak istotnej różnicy.\")"
   ],
   "id": "57350c5191b6ee5e",
   "outputs": [
    {
     "name": "stdout",
     "output_type": "stream",
     "text": [
      "Statystyka t: 2.619809298752372\n",
      "Wartość p: 0.008800907707312015\n",
      "Odrzucamy hipotezę zerową: Istnieje istotna różnica.\n"
     ]
    }
   ],
   "execution_count": 90
  },
  {
   "metadata": {},
   "cell_type": "markdown",
   "source": "#### 3.3 Wykorzystując test ANOVA sprawdź jak istotna statystycznie jest różnica średniej wartości cechy `capital-gain` dla każdej z wartości `race` z osobna. Wskaż `p-values` dla tego testu. Jak zinterpretować ten wynik?",
   "id": "a8b2f982e7406110"
  },
  {
   "metadata": {
    "ExecuteTime": {
     "end_time": "2025-05-17T22:07:25.110013Z",
     "start_time": "2025-05-17T22:07:25.103354Z"
    }
   },
   "cell_type": "code",
   "source": [
    "f_stat, p_value_anova = stats.f_oneway(\n",
    "    df[df['race'] == 'White']['capital-gain'],\n",
    "    df[df['race'] == 'Asian-Pac-Islander']['capital-gain'],\n",
    "    df[df['race'] == 'Amer-Indian-Eskimo']['capital-gain'],\n",
    "    df[df['race'] == 'Other']['capital-gain'],\n",
    "    df[df['race'] == 'Black']['capital-gain']\n",
    ")\n",
    "\n",
    "print(\"Statystyka F:\", f_stat)\n",
    "print(\"Wartość p (ANOVA):\", p_value_anova)\n",
    "\n",
    "if p_value_anova < 0.05:\n",
    "    print(\"Odrzucamy hipotezę zerową: Istnieje istotna różnica między grupami.\")\n",
    "else:\n",
    "    print(\"Nie odrzucamy hipotezy zerowej: Brak istotnej różnicy między grupami.\")"
   ],
   "id": "df7a89359b5dab77",
   "outputs": [
    {
     "name": "stdout",
     "output_type": "stream",
     "text": [
      "Statystyka F: 7.094807694142305\n",
      "Wartość p (ANOVA): 1.0490498162006652e-05\n",
      "Odrzucamy hipotezę zerową: Istnieje istotna różnica między grupami.\n"
     ]
    }
   ],
   "execution_count": 91
  },
  {
   "metadata": {},
   "cell_type": "markdown",
   "source": [
    "#### Zadanie 4\n",
    "\n",
    "Wykonaj test Chi square dla wartości cechy `income` dla dwóch grup:\n",
    "* ludzie w wieku < 40 lat\n",
    "* ludzie w wieku >= 40 lat\n",
    "\n",
    "Wyświetl wyniki tego testu."
   ],
   "id": "5012944aac3ee052"
  },
  {
   "metadata": {
    "ExecuteTime": {
     "end_time": "2025-05-17T22:07:44.547247Z",
     "start_time": "2025-05-17T22:07:44.532199Z"
    }
   },
   "cell_type": "code",
   "source": [
    "from scipy.stats import chi2_contingency\n",
    "\n",
    "df['age_group'] = df['age'].apply(lambda x: '<40' if x < 40 else '>=40')\n",
    "\n",
    "contingency_table = pd.crosstab(df['age_group'], df['income'])\n",
    "\n",
    "chi2, p, dof, expected = chi2_contingency(contingency_table)\n",
    "\n",
    "print(\"\\nWyniki testu Chi-kwadrat:\")\n",
    "print(f\"Statystyka chi2: {chi2:.4f}\")\n",
    "print(f\"Wartość p: {p:.4f}\")\n",
    "print(f\"Liczba stopni swobody: {dof}\")"
   ],
   "id": "39087c02353322e2",
   "outputs": [
    {
     "name": "stdout",
     "output_type": "stream",
     "text": [
      "\n",
      "Wyniki testu Chi-kwadrat:\n",
      "Statystyka chi2: 2294.3015\n",
      "Wartość p: 0.0000\n",
      "Liczba stopni swobody: 3\n"
     ]
    }
   ],
   "execution_count": 92
  },
  {
   "metadata": {
    "ExecuteTime": {
     "end_time": "2025-05-17T22:07:51.909906Z",
     "start_time": "2025-05-17T22:07:51.905287Z"
    }
   },
   "cell_type": "code",
   "source": "contingency_table",
   "id": "38b5b54acced0a81",
   "outputs": [
    {
     "data": {
      "text/plain": [
       "income     <=50K  <=50K.  >50K  >50K.\n",
       "age_group                            \n",
       "<40        15504    5517  2820    990\n",
       ">=40        9216    3320  5021   1716"
      ],
      "text/html": [
       "<div>\n",
       "<style scoped>\n",
       "    .dataframe tbody tr th:only-of-type {\n",
       "        vertical-align: middle;\n",
       "    }\n",
       "\n",
       "    .dataframe tbody tr th {\n",
       "        vertical-align: top;\n",
       "    }\n",
       "\n",
       "    .dataframe thead th {\n",
       "        text-align: right;\n",
       "    }\n",
       "</style>\n",
       "<table border=\"1\" class=\"dataframe\">\n",
       "  <thead>\n",
       "    <tr style=\"text-align: right;\">\n",
       "      <th>income</th>\n",
       "      <th>&lt;=50K</th>\n",
       "      <th>&lt;=50K.</th>\n",
       "      <th>&gt;50K</th>\n",
       "      <th>&gt;50K.</th>\n",
       "    </tr>\n",
       "    <tr>\n",
       "      <th>age_group</th>\n",
       "      <th></th>\n",
       "      <th></th>\n",
       "      <th></th>\n",
       "      <th></th>\n",
       "    </tr>\n",
       "  </thead>\n",
       "  <tbody>\n",
       "    <tr>\n",
       "      <th>&lt;40</th>\n",
       "      <td>15504</td>\n",
       "      <td>5517</td>\n",
       "      <td>2820</td>\n",
       "      <td>990</td>\n",
       "    </tr>\n",
       "    <tr>\n",
       "      <th>&gt;=40</th>\n",
       "      <td>9216</td>\n",
       "      <td>3320</td>\n",
       "      <td>5021</td>\n",
       "      <td>1716</td>\n",
       "    </tr>\n",
       "  </tbody>\n",
       "</table>\n",
       "</div>"
      ]
     },
     "execution_count": 93,
     "metadata": {},
     "output_type": "execute_result"
    }
   ],
   "execution_count": 93
  },
  {
   "metadata": {
    "ExecuteTime": {
     "end_time": "2025-05-17T22:07:56.170745Z",
     "start_time": "2025-05-17T22:07:56.167656Z"
    }
   },
   "cell_type": "code",
   "source": "expected",
   "id": "a94405b04accc25",
   "outputs": [
    {
     "data": {
      "text/plain": [
       "array([[13917.61110103,  4975.32076456,  4414.56264738,  1523.50548703],\n",
       "       [10802.38889897,  3861.67923544,  3426.43735262,  1182.49451297]])"
      ]
     },
     "execution_count": 94,
     "metadata": {},
     "output_type": "execute_result"
    }
   ],
   "execution_count": 94
  }
 ],
 "metadata": {
  "kernelspec": {
   "display_name": "Python 3",
   "language": "python",
   "name": "python3"
  },
  "language_info": {
   "codemirror_mode": {
    "name": "ipython",
    "version": 2
   },
   "file_extension": ".py",
   "mimetype": "text/x-python",
   "name": "python",
   "nbconvert_exporter": "python",
   "pygments_lexer": "ipython2",
   "version": "2.7.6"
  }
 },
 "nbformat": 4,
 "nbformat_minor": 5
}
