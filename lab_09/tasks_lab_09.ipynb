{
 "cells": [
  {
   "metadata": {},
   "cell_type": "markdown",
   "source": [
    "### Zadanie 1\n",
    "\n",
    "Wykorzystaj zbiór danych [Heart Disease](https://archive.ics.uci.edu/dataset/45/heart+disease), a następnie:\n",
    "* 1.1 Sprawdź w opisie zbioru danych (data card), które cechy są cechami numerycznymi, a które kategorialnymi. Sprawdź w jaki sposób biblioteka pandas domyślnie wczytuje te dane. Jeżeli w ramce cecha kategorialna jest oznaczona jako numeryczna to zamień ją na kategorialną (pandas posiada typ danych `category`).\n",
    "* 1.2 Sprawdź czy w zbiorze występują wartości brakujące. Jeżeli tak, to przed wykonaniem kolejnych zadań przygotuj podzbiór danych, który nie będzie zawierał obserwacji z wartościami brakującymi."
   ],
   "id": "74bee1532f7c3e79"
  },
  {
   "metadata": {
    "ExecuteTime": {
     "end_time": "2025-05-17T16:59:45.138490Z",
     "start_time": "2025-05-17T16:59:43.322192Z"
    }
   },
   "cell_type": "code",
   "source": [
    "import pandas as pd\n",
    "import matplotlib.pyplot as plt\n",
    "import seaborn as sns"
   ],
   "id": "55729741cdd186fb",
   "outputs": [],
   "execution_count": 44
  },
  {
   "metadata": {
    "ExecuteTime": {
     "end_time": "2025-05-17T16:22:10.193249Z",
     "start_time": "2025-05-17T16:22:10.185498Z"
    }
   },
   "cell_type": "code",
   "source": [
    "heart_disease = pd.read_csv(\"data.csv\")\n",
    "df = pd.DataFrame(heart_disease)\n",
    "df.head()"
   ],
   "id": "fd8722ab25f777cc",
   "outputs": [
    {
     "data": {
      "text/plain": [
       "   age  sex  cp  trestbps  chol  fbs  restecg  thalach  exang  oldpeak  slope  \\\n",
       "0   63    1   1       145   233    1        2      150      0      2.3      3   \n",
       "1   67    1   4       160   286    0        2      108      1      1.5      2   \n",
       "2   67    1   4       120   229    0        2      129      1      2.6      2   \n",
       "3   37    1   3       130   250    0        0      187      0      3.5      3   \n",
       "4   41    0   2       130   204    0        2      172      0      1.4      1   \n",
       "\n",
       "    ca  thal  num  \n",
       "0  0.0   6.0    0  \n",
       "1  3.0   3.0    2  \n",
       "2  2.0   7.0    1  \n",
       "3  0.0   3.0    0  \n",
       "4  0.0   3.0    0  "
      ],
      "text/html": [
       "<div>\n",
       "<style scoped>\n",
       "    .dataframe tbody tr th:only-of-type {\n",
       "        vertical-align: middle;\n",
       "    }\n",
       "\n",
       "    .dataframe tbody tr th {\n",
       "        vertical-align: top;\n",
       "    }\n",
       "\n",
       "    .dataframe thead th {\n",
       "        text-align: right;\n",
       "    }\n",
       "</style>\n",
       "<table border=\"1\" class=\"dataframe\">\n",
       "  <thead>\n",
       "    <tr style=\"text-align: right;\">\n",
       "      <th></th>\n",
       "      <th>age</th>\n",
       "      <th>sex</th>\n",
       "      <th>cp</th>\n",
       "      <th>trestbps</th>\n",
       "      <th>chol</th>\n",
       "      <th>fbs</th>\n",
       "      <th>restecg</th>\n",
       "      <th>thalach</th>\n",
       "      <th>exang</th>\n",
       "      <th>oldpeak</th>\n",
       "      <th>slope</th>\n",
       "      <th>ca</th>\n",
       "      <th>thal</th>\n",
       "      <th>num</th>\n",
       "    </tr>\n",
       "  </thead>\n",
       "  <tbody>\n",
       "    <tr>\n",
       "      <th>0</th>\n",
       "      <td>63</td>\n",
       "      <td>1</td>\n",
       "      <td>1</td>\n",
       "      <td>145</td>\n",
       "      <td>233</td>\n",
       "      <td>1</td>\n",
       "      <td>2</td>\n",
       "      <td>150</td>\n",
       "      <td>0</td>\n",
       "      <td>2.3</td>\n",
       "      <td>3</td>\n",
       "      <td>0.0</td>\n",
       "      <td>6.0</td>\n",
       "      <td>0</td>\n",
       "    </tr>\n",
       "    <tr>\n",
       "      <th>1</th>\n",
       "      <td>67</td>\n",
       "      <td>1</td>\n",
       "      <td>4</td>\n",
       "      <td>160</td>\n",
       "      <td>286</td>\n",
       "      <td>0</td>\n",
       "      <td>2</td>\n",
       "      <td>108</td>\n",
       "      <td>1</td>\n",
       "      <td>1.5</td>\n",
       "      <td>2</td>\n",
       "      <td>3.0</td>\n",
       "      <td>3.0</td>\n",
       "      <td>2</td>\n",
       "    </tr>\n",
       "    <tr>\n",
       "      <th>2</th>\n",
       "      <td>67</td>\n",
       "      <td>1</td>\n",
       "      <td>4</td>\n",
       "      <td>120</td>\n",
       "      <td>229</td>\n",
       "      <td>0</td>\n",
       "      <td>2</td>\n",
       "      <td>129</td>\n",
       "      <td>1</td>\n",
       "      <td>2.6</td>\n",
       "      <td>2</td>\n",
       "      <td>2.0</td>\n",
       "      <td>7.0</td>\n",
       "      <td>1</td>\n",
       "    </tr>\n",
       "    <tr>\n",
       "      <th>3</th>\n",
       "      <td>37</td>\n",
       "      <td>1</td>\n",
       "      <td>3</td>\n",
       "      <td>130</td>\n",
       "      <td>250</td>\n",
       "      <td>0</td>\n",
       "      <td>0</td>\n",
       "      <td>187</td>\n",
       "      <td>0</td>\n",
       "      <td>3.5</td>\n",
       "      <td>3</td>\n",
       "      <td>0.0</td>\n",
       "      <td>3.0</td>\n",
       "      <td>0</td>\n",
       "    </tr>\n",
       "    <tr>\n",
       "      <th>4</th>\n",
       "      <td>41</td>\n",
       "      <td>0</td>\n",
       "      <td>2</td>\n",
       "      <td>130</td>\n",
       "      <td>204</td>\n",
       "      <td>0</td>\n",
       "      <td>2</td>\n",
       "      <td>172</td>\n",
       "      <td>0</td>\n",
       "      <td>1.4</td>\n",
       "      <td>1</td>\n",
       "      <td>0.0</td>\n",
       "      <td>3.0</td>\n",
       "      <td>0</td>\n",
       "    </tr>\n",
       "  </tbody>\n",
       "</table>\n",
       "</div>"
      ]
     },
     "execution_count": 18,
     "metadata": {},
     "output_type": "execute_result"
    }
   ],
   "execution_count": 18
  },
  {
   "metadata": {
    "ExecuteTime": {
     "end_time": "2025-05-17T16:22:15.327687Z",
     "start_time": "2025-05-17T16:22:15.318982Z"
    }
   },
   "cell_type": "code",
   "source": [
    "df['sex'] = df['sex'].replace({1: 'Male', 0: 'Female'})\n",
    "df['sex'] = df['sex'].astype('category')\n",
    "\n",
    "df['cp'] = df['cp'].replace({1: 'typical angina', 2: 'atypical angina', 3:'non-anginal pain', 4: 'asymptomatic'})\n",
    "df['cp'] = df['cp'].astype('category')\n",
    "\n",
    "df['fbs'] = df['fbs'].replace({1: 'True', 0: 'False'})\n",
    "df['fbs'] = df['fbs'].astype('category')\n",
    "\n",
    "df['restecg'] = df['restecg'].replace({0: 'normal', 1: 'abnormal', 2: 'ventricular hypertrophy'})\n",
    "df['restecg'] = df['restecg'].astype('category')\n",
    "\n",
    "df['exang'] = df['exang'].replace({1: 'yes', 0: 'no'})\n",
    "df['exang'] = df['exang'].astype('category')\n",
    "\n",
    "df['slope'] = df['slope'].replace({1: 'upsloping', 2: 'flat', 3: 'downsloping'})\n",
    "df['slope'] = df['slope'].astype('category')\n",
    "\n",
    "df['thal'] = df['thal'].replace({3: 'normal', 6: 'fixed defect', 7: 'reversable defect'})\n",
    "df['thal'] = df['thal'].astype('category')"
   ],
   "id": "5273f02851558dfe",
   "outputs": [],
   "execution_count": 19
  },
  {
   "metadata": {
    "ExecuteTime": {
     "end_time": "2025-05-17T16:26:24.853949Z",
     "start_time": "2025-05-17T16:26:24.849784Z"
    }
   },
   "cell_type": "code",
   "source": "df.dtypes",
   "id": "ce5d86ad3e75d9c2",
   "outputs": [
    {
     "data": {
      "text/plain": [
       "age            int64\n",
       "sex         category\n",
       "cp          category\n",
       "trestbps       int64\n",
       "chol           int64\n",
       "fbs         category\n",
       "restecg     category\n",
       "thalach        int64\n",
       "exang       category\n",
       "oldpeak      float64\n",
       "slope       category\n",
       "ca           float64\n",
       "thal        category\n",
       "num            int64\n",
       "dtype: object"
      ]
     },
     "execution_count": 29,
     "metadata": {},
     "output_type": "execute_result"
    }
   ],
   "execution_count": 29
  },
  {
   "metadata": {
    "ExecuteTime": {
     "end_time": "2025-05-17T16:23:15.003201Z",
     "start_time": "2025-05-17T16:23:14.999435Z"
    }
   },
   "cell_type": "code",
   "source": "df.isnull().sum()",
   "id": "881cd974dba3e52b",
   "outputs": [
    {
     "data": {
      "text/plain": [
       "age         0\n",
       "sex         0\n",
       "cp          0\n",
       "trestbps    0\n",
       "chol        0\n",
       "fbs         0\n",
       "restecg     0\n",
       "thalach     0\n",
       "exang       0\n",
       "oldpeak     0\n",
       "slope       0\n",
       "ca          4\n",
       "thal        2\n",
       "num         0\n",
       "dtype: int64"
      ]
     },
     "execution_count": 21,
     "metadata": {},
     "output_type": "execute_result"
    }
   ],
   "execution_count": 21
  },
  {
   "metadata": {
    "ExecuteTime": {
     "end_time": "2025-05-17T16:26:08.714884Z",
     "start_time": "2025-05-17T16:26:08.709943Z"
    }
   },
   "cell_type": "code",
   "source": [
    "df_cleaned = df.dropna()\n",
    "df_cleaned.isnull().sum()"
   ],
   "id": "7fd24a08b62e4e2b",
   "outputs": [
    {
     "data": {
      "text/plain": [
       "age         0\n",
       "sex         0\n",
       "cp          0\n",
       "trestbps    0\n",
       "chol        0\n",
       "fbs         0\n",
       "restecg     0\n",
       "thalach     0\n",
       "exang       0\n",
       "oldpeak     0\n",
       "slope       0\n",
       "ca          0\n",
       "thal        0\n",
       "num         0\n",
       "dtype: int64"
      ]
     },
     "execution_count": 27,
     "metadata": {},
     "output_type": "execute_result"
    }
   ],
   "execution_count": 27
  },
  {
   "metadata": {},
   "cell_type": "markdown",
   "source": [
    "### Zadanie 2\n",
    "\n",
    "Dla zbioru danych z zadania 1 oblicz i wyświetl:\n"
   ],
   "id": "3c49767a0a43e00f"
  },
  {
   "metadata": {},
   "cell_type": "markdown",
   "source": "#### 2.1 Rozkład wartości w kolumnie `num` (Target) - czy dane są zbalansowane? Wyświetl je na wykresie kołowym.",
   "id": "8377874056a625e3"
  },
  {
   "metadata": {
    "ExecuteTime": {
     "end_time": "2025-05-17T16:36:16.236369Z",
     "start_time": "2025-05-17T16:36:16.231765Z"
    }
   },
   "cell_type": "code",
   "source": [
    "distribution = df_cleaned['num'].value_counts()\n",
    "distribution"
   ],
   "id": "d53f0d92b2d18fa6",
   "outputs": [
    {
     "data": {
      "text/plain": [
       "num\n",
       "0    160\n",
       "1     54\n",
       "2     35\n",
       "3     35\n",
       "4     13\n",
       "Name: count, dtype: int64"
      ]
     },
     "execution_count": 33,
     "metadata": {},
     "output_type": "execute_result"
    }
   ],
   "execution_count": 33
  },
  {
   "metadata": {
    "ExecuteTime": {
     "end_time": "2025-05-17T16:37:11.596184Z",
     "start_time": "2025-05-17T16:37:11.476640Z"
    }
   },
   "cell_type": "code",
   "source": [
    "plt.figure(figsize=(6, 6))\n",
    "distribution.plot.pie(autopct='%1.1f%%', startangle=90, legend=True)\n",
    "plt.title('Rozkład wartości w kolumnie num')\n",
    "plt.ylabel('')\n",
    "plt.show()"
   ],
   "id": "ebc4f5e8e0cbc8c",
   "outputs": [
    {
     "data": {
      "text/plain": [
       "<Figure size 600x600 with 1 Axes>"
      ],
      "image/png": "[encoded data removed]"
     },
     "metadata": {},
     "output_type": "display_data"
    }
   ],
   "execution_count": 34
  },
  {
   "metadata": {},
   "cell_type": "markdown",
   "source": "#### 2.2 Podstawową statystykę opisową dla każdej cechy numerycznej (min, max, średnia, mediana, odchylenie standardowe, wartość kwantyli 25, 50 oraz 75).",
   "id": "df11b5a21da40150"
  },
  {
   "metadata": {
    "ExecuteTime": {
     "end_time": "2025-05-17T16:38:31.703269Z",
     "start_time": "2025-05-17T16:38:31.690528Z"
    }
   },
   "cell_type": "code",
   "source": "df_cleaned.describe()",
   "id": "aaadbcb42a21237b",
   "outputs": [
    {
     "data": {
      "text/plain": [
       "              age    trestbps        chol     thalach     oldpeak          ca  \\\n",
       "count  297.000000  297.000000  297.000000  297.000000  297.000000  297.000000   \n",
       "mean    54.542088  131.693603  247.350168  149.599327    1.055556    0.676768   \n",
       "std      9.049736   17.762806   51.997583   22.941562    1.166123    0.938965   \n",
       "min     29.000000   94.000000  126.000000   71.000000    0.000000    0.000000   \n",
       "25%     48.000000  120.000000  211.000000  133.000000    0.000000    0.000000   \n",
       "50%     56.000000  130.000000  243.000000  153.000000    0.800000    0.000000   \n",
       "75%     61.000000  140.000000  276.000000  166.000000    1.600000    1.000000   \n",
       "max     77.000000  200.000000  564.000000  202.000000    6.200000    3.000000   \n",
       "\n",
       "              num  \n",
       "count  297.000000  \n",
       "mean     0.946128  \n",
       "std      1.234551  \n",
       "min      0.000000  \n",
       "25%      0.000000  \n",
       "50%      0.000000  \n",
       "75%      2.000000  \n",
       "max      4.000000  "
      ],
      "text/html": [
       "<div>\n",
       "<style scoped>\n",
       "    .dataframe tbody tr th:only-of-type {\n",
       "        vertical-align: middle;\n",
       "    }\n",
       "\n",
       "    .dataframe tbody tr th {\n",
       "        vertical-align: top;\n",
       "    }\n",
       "\n",
       "    .dataframe thead th {\n",
       "        text-align: right;\n",
       "    }\n",
       "</style>\n",
       "<table border=\"1\" class=\"dataframe\">\n",
       "  <thead>\n",
       "    <tr style=\"text-align: right;\">\n",
       "      <th></th>\n",
       "      <th>age</th>\n",
       "      <th>trestbps</th>\n",
       "      <th>chol</th>\n",
       "      <th>thalach</th>\n",
       "      <th>oldpeak</th>\n",
       "      <th>ca</th>\n",
       "      <th>num</th>\n",
       "    </tr>\n",
       "  </thead>\n",
       "  <tbody>\n",
       "    <tr>\n",
       "      <th>count</th>\n",
       "      <td>297.000000</td>\n",
       "      <td>297.000000</td>\n",
       "      <td>297.000000</td>\n",
       "      <td>297.000000</td>\n",
       "      <td>297.000000</td>\n",
       "      <td>297.000000</td>\n",
       "      <td>297.000000</td>\n",
       "    </tr>\n",
       "    <tr>\n",
       "      <th>mean</th>\n",
       "      <td>54.542088</td>\n",
       "      <td>131.693603</td>\n",
       "      <td>247.350168</td>\n",
       "      <td>149.599327</td>\n",
       "      <td>1.055556</td>\n",
       "      <td>0.676768</td>\n",
       "      <td>0.946128</td>\n",
       "    </tr>\n",
       "    <tr>\n",
       "      <th>std</th>\n",
       "      <td>9.049736</td>\n",
       "      <td>17.762806</td>\n",
       "      <td>51.997583</td>\n",
       "      <td>22.941562</td>\n",
       "      <td>1.166123</td>\n",
       "      <td>0.938965</td>\n",
       "      <td>1.234551</td>\n",
       "    </tr>\n",
       "    <tr>\n",
       "      <th>min</th>\n",
       "      <td>29.000000</td>\n",
       "      <td>94.000000</td>\n",
       "      <td>126.000000</td>\n",
       "      <td>71.000000</td>\n",
       "      <td>0.000000</td>\n",
       "      <td>0.000000</td>\n",
       "      <td>0.000000</td>\n",
       "    </tr>\n",
       "    <tr>\n",
       "      <th>25%</th>\n",
       "      <td>48.000000</td>\n",
       "      <td>120.000000</td>\n",
       "      <td>211.000000</td>\n",
       "      <td>133.000000</td>\n",
       "      <td>0.000000</td>\n",
       "      <td>0.000000</td>\n",
       "      <td>0.000000</td>\n",
       "    </tr>\n",
       "    <tr>\n",
       "      <th>50%</th>\n",
       "      <td>56.000000</td>\n",
       "      <td>130.000000</td>\n",
       "      <td>243.000000</td>\n",
       "      <td>153.000000</td>\n",
       "      <td>0.800000</td>\n",
       "      <td>0.000000</td>\n",
       "      <td>0.000000</td>\n",
       "    </tr>\n",
       "    <tr>\n",
       "      <th>75%</th>\n",
       "      <td>61.000000</td>\n",
       "      <td>140.000000</td>\n",
       "      <td>276.000000</td>\n",
       "      <td>166.000000</td>\n",
       "      <td>1.600000</td>\n",
       "      <td>1.000000</td>\n",
       "      <td>2.000000</td>\n",
       "    </tr>\n",
       "    <tr>\n",
       "      <th>max</th>\n",
       "      <td>77.000000</td>\n",
       "      <td>200.000000</td>\n",
       "      <td>564.000000</td>\n",
       "      <td>202.000000</td>\n",
       "      <td>6.200000</td>\n",
       "      <td>3.000000</td>\n",
       "      <td>4.000000</td>\n",
       "    </tr>\n",
       "  </tbody>\n",
       "</table>\n",
       "</div>"
      ]
     },
     "execution_count": 35,
     "metadata": {},
     "output_type": "execute_result"
    }
   ],
   "execution_count": 35
  },
  {
   "metadata": {},
   "cell_type": "markdown",
   "source": "#### 2.3 Dominantę (modę) dla każdej cechy kategorialnej.",
   "id": "1f690abd72731e85"
  },
  {
   "metadata": {
    "ExecuteTime": {
     "end_time": "2025-05-17T16:59:10.435532Z",
     "start_time": "2025-05-17T16:59:10.427011Z"
    }
   },
   "cell_type": "code",
   "source": [
    "df_category = df.select_dtypes(include='category')\n",
    "df_category.mode()"
   ],
   "id": "9a86a0332fea3e12",
   "outputs": [
    {
     "data": {
      "text/plain": [
       "    sex            cp    fbs restecg exang      slope    thal\n",
       "0  Male  asymptomatic  False  normal    no  upsloping  normal"
      ],
      "text/html": [
       "<div>\n",
       "<style scoped>\n",
       "    .dataframe tbody tr th:only-of-type {\n",
       "        vertical-align: middle;\n",
       "    }\n",
       "\n",
       "    .dataframe tbody tr th {\n",
       "        vertical-align: top;\n",
       "    }\n",
       "\n",
       "    .dataframe thead th {\n",
       "        text-align: right;\n",
       "    }\n",
       "</style>\n",
       "<table border=\"1\" class=\"dataframe\">\n",
       "  <thead>\n",
       "    <tr style=\"text-align: right;\">\n",
       "      <th></th>\n",
       "      <th>sex</th>\n",
       "      <th>cp</th>\n",
       "      <th>fbs</th>\n",
       "      <th>restecg</th>\n",
       "      <th>exang</th>\n",
       "      <th>slope</th>\n",
       "      <th>thal</th>\n",
       "    </tr>\n",
       "  </thead>\n",
       "  <tbody>\n",
       "    <tr>\n",
       "      <th>0</th>\n",
       "      <td>Male</td>\n",
       "      <td>asymptomatic</td>\n",
       "      <td>False</td>\n",
       "      <td>normal</td>\n",
       "      <td>no</td>\n",
       "      <td>upsloping</td>\n",
       "      <td>normal</td>\n",
       "    </tr>\n",
       "  </tbody>\n",
       "</table>\n",
       "</div>"
      ]
     },
     "execution_count": 42,
     "metadata": {},
     "output_type": "execute_result"
    }
   ],
   "execution_count": 42
  },
  {
   "metadata": {},
   "cell_type": "markdown",
   "source": "#### 2.4 Wyświetl macierz korelacji Pearsona dla każdej cechy numerycznej zbioru. Wyświetl ją również na wykresie typu mapa cieplna z wykorzystaniem biblioteki seaborn.",
   "id": "e4ab15506b65316d"
  },
  {
   "metadata": {
    "ExecuteTime": {
     "end_time": "2025-05-17T16:59:17.883173Z",
     "start_time": "2025-05-17T16:59:17.875597Z"
    }
   },
   "cell_type": "code",
   "source": [
    "df_numeric = df.select_dtypes(include='number')\n",
    "correlation_matrix = df_numeric.corr()\n",
    "correlation_matrix"
   ],
   "id": "1900af307e87da64",
   "outputs": [
    {
     "data": {
      "text/plain": [
       "               age  trestbps      chol   thalach   oldpeak        ca       num\n",
       "age       1.000000  0.284946  0.208950 -0.393806  0.203805  0.362605  0.222853\n",
       "trestbps  0.284946  1.000000  0.130120 -0.045351  0.189171  0.098773  0.157754\n",
       "chol      0.208950  0.130120  1.000000 -0.003432  0.046564  0.119000  0.070909\n",
       "thalach  -0.393806 -0.045351 -0.003432  1.000000 -0.343085 -0.264246 -0.415040\n",
       "oldpeak   0.203805  0.189171  0.046564 -0.343085  1.000000  0.295832  0.504092\n",
       "ca        0.362605  0.098773  0.119000 -0.264246  0.295832  1.000000  0.518909\n",
       "num       0.222853  0.157754  0.070909 -0.415040  0.504092  0.518909  1.000000"
      ],
      "text/html": [
       "<div>\n",
       "<style scoped>\n",
       "    .dataframe tbody tr th:only-of-type {\n",
       "        vertical-align: middle;\n",
       "    }\n",
       "\n",
       "    .dataframe tbody tr th {\n",
       "        vertical-align: top;\n",
       "    }\n",
       "\n",
       "    .dataframe thead th {\n",
       "        text-align: right;\n",
       "    }\n",
       "</style>\n",
       "<table border=\"1\" class=\"dataframe\">\n",
       "  <thead>\n",
       "    <tr style=\"text-align: right;\">\n",
       "      <th></th>\n",
       "      <th>age</th>\n",
       "      <th>trestbps</th>\n",
       "      <th>chol</th>\n",
       "      <th>thalach</th>\n",
       "      <th>oldpeak</th>\n",
       "      <th>ca</th>\n",
       "      <th>num</th>\n",
       "    </tr>\n",
       "  </thead>\n",
       "  <tbody>\n",
       "    <tr>\n",
       "      <th>age</th>\n",
       "      <td>1.000000</td>\n",
       "      <td>0.284946</td>\n",
       "      <td>0.208950</td>\n",
       "      <td>-0.393806</td>\n",
       "      <td>0.203805</td>\n",
       "      <td>0.362605</td>\n",
       "      <td>0.222853</td>\n",
       "    </tr>\n",
       "    <tr>\n",
       "      <th>trestbps</th>\n",
       "      <td>0.284946</td>\n",
       "      <td>1.000000</td>\n",
       "      <td>0.130120</td>\n",
       "      <td>-0.045351</td>\n",
       "      <td>0.189171</td>\n",
       "      <td>0.098773</td>\n",
       "      <td>0.157754</td>\n",
       "    </tr>\n",
       "    <tr>\n",
       "      <th>chol</th>\n",
       "      <td>0.208950</td>\n",
       "      <td>0.130120</td>\n",
       "      <td>1.000000</td>\n",
       "      <td>-0.003432</td>\n",
       "      <td>0.046564</td>\n",
       "      <td>0.119000</td>\n",
       "      <td>0.070909</td>\n",
       "    </tr>\n",
       "    <tr>\n",
       "      <th>thalach</th>\n",
       "      <td>-0.393806</td>\n",
       "      <td>-0.045351</td>\n",
       "      <td>-0.003432</td>\n",
       "      <td>1.000000</td>\n",
       "      <td>-0.343085</td>\n",
       "      <td>-0.264246</td>\n",
       "      <td>-0.415040</td>\n",
       "    </tr>\n",
       "    <tr>\n",
       "      <th>oldpeak</th>\n",
       "      <td>0.203805</td>\n",
       "      <td>0.189171</td>\n",
       "      <td>0.046564</td>\n",
       "      <td>-0.343085</td>\n",
       "      <td>1.000000</td>\n",
       "      <td>0.295832</td>\n",
       "      <td>0.504092</td>\n",
       "    </tr>\n",
       "    <tr>\n",
       "      <th>ca</th>\n",
       "      <td>0.362605</td>\n",
       "      <td>0.098773</td>\n",
       "      <td>0.119000</td>\n",
       "      <td>-0.264246</td>\n",
       "      <td>0.295832</td>\n",
       "      <td>1.000000</td>\n",
       "      <td>0.518909</td>\n",
       "    </tr>\n",
       "    <tr>\n",
       "      <th>num</th>\n",
       "      <td>0.222853</td>\n",
       "      <td>0.157754</td>\n",
       "      <td>0.070909</td>\n",
       "      <td>-0.415040</td>\n",
       "      <td>0.504092</td>\n",
       "      <td>0.518909</td>\n",
       "      <td>1.000000</td>\n",
       "    </tr>\n",
       "  </tbody>\n",
       "</table>\n",
       "</div>"
      ]
     },
     "execution_count": 43,
     "metadata": {},
     "output_type": "execute_result"
    }
   ],
   "execution_count": 43
  },
  {
   "metadata": {
    "ExecuteTime": {
     "end_time": "2025-05-17T16:59:47.490662Z",
     "start_time": "2025-05-17T16:59:47.390184Z"
    }
   },
   "cell_type": "code",
   "source": [
    "plt.figure(figsize=(8, 6))\n",
    "sns.heatmap(correlation_matrix, annot=True, cmap='coolwarm', fmt='.2f')\n",
    "plt.title('Macierz korelacji Pearsona')\n",
    "plt.show()"
   ],
   "id": "42452fb285b63a9f",
   "outputs": [
    {
     "data": {
      "text/plain": [
       "<Figure size 800x600 with 2 Axes>"
      ],
      "image/png": "[encoded data removed]"
     },
     "metadata": {},
     "output_type": "display_data"
    }
   ],
   "execution_count": 45
  },
  {
   "metadata": {},
   "cell_type": "markdown",
   "source": "#### 2.5 Z macierzy korelacji wyświetl nazwy trzech najbardziej skorelowanych cech względem cechy `age` (bezwzględna wartość z korelacji, bez uwzględniania samej cechy `age` w wynikach, która jak wiemy będzie skorelowana sama do siebie w stopniu równym 1).",
   "id": "4ba8f39066d6cca6"
  },
  {
   "metadata": {
    "ExecuteTime": {
     "end_time": "2025-05-17T17:01:25.101925Z",
     "start_time": "2025-05-17T17:01:25.096805Z"
    }
   },
   "cell_type": "code",
   "source": [
    "correlation_with_age = correlation_matrix['age'].drop('age')  # Usuwamy 'age', bo jest zawsze skorelowana z samą sobą\n",
    "correlation_with_age.abs().sort_values(ascending=False).head(3)"
   ],
   "id": "406b97251c6d6684",
   "outputs": [
    {
     "data": {
      "text/plain": [
       "thalach     0.393806\n",
       "ca          0.362605\n",
       "trestbps    0.284946\n",
       "Name: age, dtype: float64"
      ]
     },
     "execution_count": 46,
     "metadata": {},
     "output_type": "execute_result"
    }
   ],
   "execution_count": 46
  },
  {
   "metadata": {},
   "cell_type": "markdown",
   "source": [
    "#### Zadanie 3\n",
    "\n",
    "Do wykonania poniższych poleceń wykorzystaj zbiór [Adult](https://archive.ics.uci.edu/dataset/2/adult). W tym zbiorze również ustaw typy kategorialne dla odpowiednich kolumn zgodnie z opisem zbioru danych.\n",
    "\n",
    "* 3.1 Na podstawie zbioru bazowego przygotuj dwa podzbiory danych:\n",
    "\n",
    "  * zbior_1 - losowe 20% wartości ze zbioru oryginalnego (próbkowanie bez uwzględnienia rozkładu dla cechy opisowej - target)\n",
    "  * zbior_2 - pozostałe 80% wartości bez elementów ze zbioru_1\n",
    "  * zbior_3 - losowe 20% wartości ze zbioru oryginalnego (próbkowanie z uwzględnieniem rozkładu cechy opisowej)\n",
    "\n",
    "\n",
    "Następnie porównaj średnią wartość cechy `capital-loss` dla każdej z prób. Jakie jest prawdopodobieństwo, że te próby pochodzą z tej samej populacji?\n",
    "\n"
   ],
   "id": "4443aea0c37ee890"
  },
  {
   "metadata": {
    "ExecuteTime": {
     "end_time": "2025-05-17T17:06:32.616129Z",
     "start_time": "2025-05-17T17:06:32.568030Z"
    }
   },
   "cell_type": "code",
   "source": [
    "df = pd.read_csv(\"adult_data.csv\")\n",
    "df.dtypes"
   ],
   "id": "f3dda17b6df6382",
   "outputs": [
    {
     "data": {
      "text/plain": [
       "age                int64\n",
       "workclass         object\n",
       "fnlwgt             int64\n",
       "education         object\n",
       "education-num      int64\n",
       "marital-status    object\n",
       "occupation        object\n",
       "relationship      object\n",
       "race              object\n",
       "sex               object\n",
       "capital-gain       int64\n",
       "capital-loss       int64\n",
       "hours-per-week     int64\n",
       "native-country    object\n",
       "income            object\n",
       "dtype: object"
      ]
     },
     "execution_count": 48,
     "metadata": {},
     "output_type": "execute_result"
    }
   ],
   "execution_count": 48
  },
  {
   "metadata": {
    "ExecuteTime": {
     "end_time": "2025-05-17T17:07:15.152166Z",
     "start_time": "2025-05-17T17:07:15.130921Z"
    }
   },
   "cell_type": "code",
   "source": [
    "categorical_columns = ['workclass', 'education', 'marital-status', 'occupation', 'relationship', 'race', 'sex', 'native-country', 'income']\n",
    "for col in categorical_columns:\n",
    "    df[col] = df[col].astype('category')\n",
    "df.dtypes"
   ],
   "id": "5c53a4366c31231a",
   "outputs": [
    {
     "data": {
      "text/plain": [
       "age                  int64\n",
       "workclass         category\n",
       "fnlwgt               int64\n",
       "education         category\n",
       "education-num        int64\n",
       "marital-status    category\n",
       "occupation        category\n",
       "relationship      category\n",
       "race              category\n",
       "sex               category\n",
       "capital-gain         int64\n",
       "capital-loss         int64\n",
       "hours-per-week       int64\n",
       "native-country    category\n",
       "income            category\n",
       "dtype: object"
      ]
     },
     "execution_count": 49,
     "metadata": {},
     "output_type": "execute_result"
    }
   ],
   "execution_count": 49
  },
  {
   "metadata": {
    "ExecuteTime": {
     "end_time": "2025-05-17T17:10:41.416670Z",
     "start_time": "2025-05-17T17:10:41.407062Z"
    }
   },
   "cell_type": "code",
   "source": [
    "df_1 = df.sample(frac=0.2, random_state=42)\n",
    "\n",
    "df_2 = df.drop(df_1.index)\n",
    "\n",
    "df_3 = df.groupby('income', observed=False, group_keys=False).apply(lambda x: x.sample(frac=0.2, random_state=42), include_groups=False)"
   ],
   "id": "e6b328ae2ef97f80",
   "outputs": [],
   "execution_count": 52
  },
  {
   "metadata": {
    "ExecuteTime": {
     "end_time": "2025-05-17T17:12:40.211574Z",
     "start_time": "2025-05-17T17:12:40.208740Z"
    }
   },
   "cell_type": "code",
   "source": [
    "print(\"Średnia dla zbioru 1:\", df_1['capital-loss'].mean())\n",
    "print(\"Średnia dla zbioru 2:\", df_2['capital-loss'].mean())\n",
    "print(\"Średnia dla zbioru 3:\", df_3['capital-loss'].mean())"
   ],
   "id": "c8771ce97a2cca1c",
   "outputs": [
    {
     "name": "stdout",
     "output_type": "stream",
     "text": [
      "Średnia dla zbioru 1: 87.37592109738125\n",
      "Średnia dla zbioru 2: 87.37997392585875\n",
      "Średnia dla zbioru 3: 85.23412698412699\n"
     ]
    }
   ],
   "execution_count": 57
  },
  {
   "metadata": {},
   "cell_type": "markdown",
   "source": "#### 3.2 Wykonaj test t dla prób zależnych dla wartości cechy `capital-gain` przyjmując następującą hipotezę zerową: średnia wartość tej cechy dla `race`='White' jest istotnie wyższa niż dla pozostałych wartości cechy `race`. Przyjmij lub odrzuć przyjętą hipotezę.",
   "id": "39532832131fb7de"
  },
  {
   "metadata": {
    "ExecuteTime": {
     "end_time": "2025-05-17T17:13:35.637824Z",
     "start_time": "2025-05-17T17:13:35.635686Z"
    }
   },
   "cell_type": "code",
   "source": "from scipy import stats",
   "id": "8915e44590199167",
   "outputs": [],
   "execution_count": 58
  },
  {
   "metadata": {
    "ExecuteTime": {
     "end_time": "2025-05-17T17:14:14.510971Z",
     "start_time": "2025-05-17T17:14:14.504131Z"
    }
   },
   "cell_type": "code",
   "source": [
    "white_race = df[df['race'] == 'White']['capital-gain']\n",
    "\n",
    "non_white_race = df[df['race'] != 'White']['capital-gain']\n",
    "\n",
    "t_stat, p_value = stats.ttest_ind(white_race, non_white_race)\n",
    "\n",
    "print(\"Statystyka t:\", t_stat)\n",
    "print(\"Wartość p:\", p_value)\n",
    "\n",
    "if p_value < 0.05:\n",
    "    print(\"Odrzucamy hipotezę zerową: Istnieje istotna różnica.\")\n",
    "else:\n",
    "    print(\"Nie odrzucamy hipotezy zerowej: Brak istotnej różnicy.\")"
   ],
   "id": "1f550916a657b8fb",
   "outputs": [
    {
     "name": "stdout",
     "output_type": "stream",
     "text": [
      "Statystyka t: 2.619809298752372\n",
      "Wartość p: 0.008800907707312015\n",
      "Odrzucamy hipotezę zerową: Istnieje istotna różnica.\n"
     ]
    }
   ],
   "execution_count": 59
  },
  {
   "metadata": {},
   "cell_type": "markdown",
   "source": "#### 3.3 Wykorzystując test ANOVA sprawdź jak istotna statystycznie jest różnica średniej wartości cechy `capital-gain` dla każdej z wartości `race` z osobna. Wskaż `p-values` dla tego testu. Jak zinterpretować ten wynik?",
   "id": "d9742b4daf0cbbc4"
  },
  {
   "metadata": {
    "ExecuteTime": {
     "end_time": "2025-05-17T17:16:44.785523Z",
     "start_time": "2025-05-17T17:16:44.778397Z"
    }
   },
   "cell_type": "code",
   "source": [
    "f_stat, p_value_anova = stats.f_oneway(\n",
    "    df[df['race'] == 'White']['capital-gain'],\n",
    "    df[df['race'] == 'Asian-Pac-Islander']['capital-gain'],\n",
    "    df[df['race'] == 'Amer-Indian-Eskimo']['capital-gain'],\n",
    "    df[df['race'] == 'Other']['capital-gain'],\n",
    "    df[df['race'] == 'Black']['capital-gain']\n",
    ")\n",
    "\n",
    "print(\"Statystyka F:\", f_stat)\n",
    "print(\"Wartość p (ANOVA):\", p_value_anova)\n",
    "\n",
    "if p_value_anova < 0.05:\n",
    "    print(\"Odrzucamy hipotezę zerową: Istnieje istotna różnica między grupami.\")\n",
    "else:\n",
    "    print(\"Nie odrzucamy hipotezy zerowej: Brak istotnej różnicy między grupami.\")"
   ],
   "id": "b3ddd2014fb90342",
   "outputs": [
    {
     "name": "stdout",
     "output_type": "stream",
     "text": [
      "Statystyka F: 7.094807694142305\n",
      "Wartość p (ANOVA): 1.0490498162006652e-05\n",
      "Odrzucamy hipotezę zerową: Istnieje istotna różnica między grupami.\n"
     ]
    }
   ],
   "execution_count": 60
  },
  {
   "metadata": {},
   "cell_type": "markdown",
   "source": [
    "#### Zadanie 4\n",
    "\n",
    "Wykonaj test Chi square dla wartości cechy `income` dla dwóch grup:\n",
    "* ludzie w wieku < 40 lat\n",
    "* ludzie w wieku >= 40 lat\n",
    "\n",
    "Wyświetl wyniki tego testu."
   ],
   "id": "8b14637508ff3206"
  },
  {
   "metadata": {
    "ExecuteTime": {
     "end_time": "2025-05-17T17:22:04.238323Z",
     "start_time": "2025-05-17T17:22:04.223295Z"
    }
   },
   "cell_type": "code",
   "source": [
    "from scipy.stats import chi2_contingency\n",
    "\n",
    "df['age_group'] = df['age'].apply(lambda x: '<40' if x < 40 else '>=40')\n",
    "\n",
    "contingency_table = pd.crosstab(df['age_group'], df['income'])\n",
    "\n",
    "chi2, p, dof, expected = chi2_contingency(contingency_table)\n",
    "\n",
    "print(\"\\nWyniki testu Chi-kwadrat:\")\n",
    "print(f\"Statystyka chi2: {chi2:.4f}\")\n",
    "print(f\"Wartość p: {p:.4f}\")\n",
    "print(f\"Liczba stopni swobody: {dof}\")"
   ],
   "id": "fe036c6be31846d3",
   "outputs": [
    {
     "name": "stdout",
     "output_type": "stream",
     "text": [
      "\n",
      "Wyniki testu Chi-kwadrat:\n",
      "Statystyka chi2: 2294.3015\n",
      "Wartość p: 0.0000\n",
      "Liczba stopni swobody: 3\n"
     ]
    }
   ],
   "execution_count": 71
  },
  {
   "metadata": {
    "ExecuteTime": {
     "end_time": "2025-05-17T17:21:03.555674Z",
     "start_time": "2025-05-17T17:21:03.550304Z"
    }
   },
   "cell_type": "code",
   "source": "contingency_table",
   "id": "feda9fc1c2b42a13",
   "outputs": [
    {
     "data": {
      "text/plain": [
       "income     <=50K  <=50K.  >50K  >50K.\n",
       "age_group                            \n",
       "<40        15504    5517  2820    990\n",
       ">=40        9216    3320  5021   1716"
      ],
      "text/html": [
       "<div>\n",
       "<style scoped>\n",
       "    .dataframe tbody tr th:only-of-type {\n",
       "        vertical-align: middle;\n",
       "    }\n",
       "\n",
       "    .dataframe tbody tr th {\n",
       "        vertical-align: top;\n",
       "    }\n",
       "\n",
       "    .dataframe thead th {\n",
       "        text-align: right;\n",
       "    }\n",
       "</style>\n",
       "<table border=\"1\" class=\"dataframe\">\n",
       "  <thead>\n",
       "    <tr style=\"text-align: right;\">\n",
       "      <th>income</th>\n",
       "      <th>&lt;=50K</th>\n",
       "      <th>&lt;=50K.</th>\n",
       "      <th>&gt;50K</th>\n",
       "      <th>&gt;50K.</th>\n",
       "    </tr>\n",
       "    <tr>\n",
       "      <th>age_group</th>\n",
       "      <th></th>\n",
       "      <th></th>\n",
       "      <th></th>\n",
       "      <th></th>\n",
       "    </tr>\n",
       "  </thead>\n",
       "  <tbody>\n",
       "    <tr>\n",
       "      <th>&lt;40</th>\n",
       "      <td>15504</td>\n",
       "      <td>5517</td>\n",
       "      <td>2820</td>\n",
       "      <td>990</td>\n",
       "    </tr>\n",
       "    <tr>\n",
       "      <th>&gt;=40</th>\n",
       "      <td>9216</td>\n",
       "      <td>3320</td>\n",
       "      <td>5021</td>\n",
       "      <td>1716</td>\n",
       "    </tr>\n",
       "  </tbody>\n",
       "</table>\n",
       "</div>"
      ]
     },
     "execution_count": 66,
     "metadata": {},
     "output_type": "execute_result"
    }
   ],
   "execution_count": 66
  },
  {
   "metadata": {
    "ExecuteTime": {
     "end_time": "2025-05-17T17:21:51.132654Z",
     "start_time": "2025-05-17T17:21:51.129416Z"
    }
   },
   "cell_type": "code",
   "source": "expected",
   "id": "4fbe4acd239f3ca3",
   "outputs": [
    {
     "data": {
      "text/plain": [
       "array([[13917.61110103,  4975.32076456,  4414.56264738,  1523.50548703],\n",
       "       [10802.38889897,  3861.67923544,  3426.43735262,  1182.49451297]])"
      ]
     },
     "execution_count": 70,
     "metadata": {},
     "output_type": "execute_result"
    }
   ],
   "execution_count": 70
  }
 ],
 "metadata": {
  "kernelspec": {
   "name": "python3",
   "language": "python",
   "display_name": "Python 3 (ipykernel)"
  }
 },
 "nbformat": 5,
 "nbformat_minor": 9
}
