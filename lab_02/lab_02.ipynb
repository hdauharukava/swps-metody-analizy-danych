{
 "cells": [
  {
   "cell_type": "markdown",
   "id": "9f25f521-7a89-4cc0-8691-b6550c101682",
   "metadata": {},
   "source": [
    "## Metody analizy danych. Lab 2. Biblioteka numpy, część 2"
   ]
  },
  {
   "cell_type": "code",
   "execution_count": 51,
   "id": "44505a00-08d4-4d2c-9527-e8be46da297a",
   "metadata": {},
   "outputs": [],
   "source": [
    "import numpy as np\n",
    "from timeit import timeit"
   ]
  },
  {
   "cell_type": "markdown",
   "id": "7f265bde-035a-490d-a979-3822a37f3a71",
   "metadata": {},
   "source": [
    "## 1. Kopie i widoki"
   ]
  },
  {
   "cell_type": "markdown",
   "id": "4868e8ec-b0b3-4eac-870b-a513b4139bd7",
   "metadata": {},
   "source": [
    "Wskazując na jakąś wybraną część istniejącej tablicy numpy czasem będziemy mieli do czynienia z **widokiem (ang. view)**, a czasem z **kopią (ang. copy)**. W niektórych przypadkach będziemy mieli wpływ na to jaki obiekt z tych dwóch typów zostanie zwrócony dla danej operacji, a w niektórych nie. \n",
    "\n",
    "Jeżeli bliżej zapoznamy się z wewnętrzną organizacją tablic numpy to dowiemy się, że składają się one z ciągłej (ang. contiguous) przestrzeni pamięci uporządkowanej analogicznie do kolejności elementów w tablicy. Ten obszar jest również stałej wielkości ze względu na zawsze określany typ danych oraz liczebność tablicy w chwili jej tworzenia. Z racji tego, że pamięć w komputerze jest jednowymiarowa to przechowywanie tablic, które jak wiemy mogą być wielowymiarowe, odbywa się w krokach (ang. stride), których wielkość jest wyliczana na podstawie kształtu tablicy (ang. shape) oraz typu danych tablicy. Kroki są określane dla każdego wymiaru co pozwala na szybki odczyt i manipulację danych dla danej osi (wymiaru).\n",
    "\n",
    "Bardziej szczegółowe informacje odnośnie wewnętrznej organizacji tablic numpy można znaleźć tu:\n",
    "* https://numpy.org/doc/stable/dev/internals.html#numpy-internals\n",
    "* https://www.labri.fr/perso/nrougier/from-python-to-numpy/#anatomy-of-an-array"
   ]
  },
  {
   "cell_type": "code",
   "execution_count": 218,
   "id": "69f5f5dd-8d68-4796-8ad7-09081a7a9048",
   "metadata": {},
   "outputs": [],
   "source": [
    "# inicjalizacja naszej tablicy do eksperymentów\n",
    "A = np.arange(1, 5).reshape((2,2))"
   ]
  },
  {
   "cell_type": "code",
   "execution_count": 219,
   "id": "7cc743fc-6fc4-4afd-857b-0bfb812891c2",
   "metadata": {},
   "outputs": [
    {
     "data": {
      "text/plain": [
       "array([1, 2, 3, 4])"
      ]
     },
     "execution_count": 219,
     "metadata": {},
     "output_type": "execute_result"
    }
   ],
   "source": [
    "# wprowadzenie kilku ważnych właściwości tablic numpy\n",
    "# 1. base - wskazuje obiekt, z którym współdzieli pamięć lub None jeżeli jej nie współdzieli\n",
    "# https://numpy.org/doc/2.2/reference/generated/numpy.ndarray.base.htmlA.base\n",
    "A.base"
   ]
  },
  {
   "cell_type": "code",
   "execution_count": 557,
   "id": "3e8310e5-7949-4210-92ee-983ddf9ec16e",
   "metadata": {},
   "outputs": [
    {
     "data": {
      "text/plain": [
       "8"
      ]
     },
     "execution_count": 557,
     "metadata": {},
     "output_type": "execute_result"
    }
   ],
   "source": [
    "# wielkość pojedynczego elementu (w bajtach)\n",
    "A.itemsize"
   ]
  },
  {
   "cell_type": "code",
   "execution_count": 558,
   "id": "d11b3be0-3d9e-4b2e-904b-9c4d042ac3d8",
   "metadata": {},
   "outputs": [
    {
     "data": {
      "text/plain": [
       "5"
      ]
     },
     "execution_count": 558,
     "metadata": {},
     "output_type": "execute_result"
    }
   ],
   "source": [
    "# liczba elementów w tablicy\n",
    "A.size"
   ]
  },
  {
   "cell_type": "code",
   "execution_count": 559,
   "id": "845f5f85-d2ec-4b13-93d7-57a8c9603d28",
   "metadata": {},
   "outputs": [
    {
     "data": {
      "text/plain": [
       "40"
      ]
     },
     "execution_count": 559,
     "metadata": {},
     "output_type": "execute_result"
    }
   ],
   "source": [
    "# co daje nam ilość zaalokowanej pamięci dla elementów tablicy\n",
    "A.itemsize * A.size"
   ]
  },
  {
   "cell_type": "code",
   "execution_count": 560,
   "id": "28490b0e-82f9-4ae9-8b94-ad74b838e001",
   "metadata": {},
   "outputs": [
    {
     "data": {
      "text/plain": [
       "40"
      ]
     },
     "execution_count": 560,
     "metadata": {},
     "output_type": "execute_result"
    }
   ],
   "source": [
    "# która jest dostępna pod własnością nbytes również\n",
    "A.nbytes"
   ]
  },
  {
   "cell_type": "code",
   "execution_count": 242,
   "id": "95df3226-3574-434f-bc71-2ebc049d290a",
   "metadata": {},
   "outputs": [
    {
     "data": {
      "text/plain": [
       "(None, array([1, 2, 3, 4]), None)"
      ]
     },
     "execution_count": 242,
     "metadata": {},
     "output_type": "execute_result"
    }
   ],
   "source": [
    "# dwa wycinki, które wskazują na ten sam element, ale jak widać jeden z nich\n",
    "# nie współdzieli pamięci z obiektem, z którego został wycięty, a drugi tak\n",
    "# pierwszy to kopia, a drugi to widok\n",
    "x = A[0][0] # 1\n",
    "x_1 = A[:1, 0] # też 1\n",
    "x_2 = A[[0]] # i to też 1\n",
    "x.base, x_1.base, x_2.base"
   ]
  },
  {
   "cell_type": "code",
   "execution_count": 231,
   "id": "27744569-8064-49be-a412-50173166d721",
   "metadata": {},
   "outputs": [],
   "source": [
    "# funkcje zaczerpnięte z https://tobiasraabe.github.io/post/numpy-views-vs-copies/\n",
    "# dzięki nim łatwiej będzie nam interpretować czy dwie tablice numpy posiadają wspólną bazę\n",
    "# co oznacza, że współdzielą pamięć (lub nie)\n",
    "\n",
    "def get_data_base(x):\n",
    "    base = x\n",
    "    while isinstance(base.base, np.ndarray):\n",
    "        base = base.base\n",
    "    return base\n",
    "\n",
    "def arrays_share_data(x, y):\n",
    "    return get_data_base(x) is get_data_base(y)"
   ]
  },
  {
   "cell_type": "code",
   "execution_count": 243,
   "id": "f9eebee6-dc7b-4f7d-bbd1-9f1b80b2fa33",
   "metadata": {},
   "outputs": [
    {
     "data": {
      "text/plain": [
       "(False, True, False)"
      ]
     },
     "execution_count": 243,
     "metadata": {},
     "output_type": "execute_result"
    }
   ],
   "source": [
    "# na początek raz jeszcze sprawdźmy dwa wcześniejsze obiekty\n",
    "arrays_share_data(x, A), arrays_share_data(x_1, A), arrays_share_data(x_2, A)"
   ]
  },
  {
   "cell_type": "markdown",
   "id": "43f2be0f-28ff-4499-b616-b093d666aba0",
   "metadata": {},
   "source": [
    "&#128165;&#128165;&#128165;&#128165;&#128165;  \n",
    "Tu warto zapamiętać jedną regułę, którą zaprezentowano w poprzednim przykładzie. Zwykłe wycinki zwracają widok, a wycinki złożone (nazywane fancy indexing) zwracają kopię.\n",
    "\n",
    "O fancy indexing można poczytać np. tu: https://jakevdp.github.io/PythonDataScienceHandbook/02.07-fancy-indexing.html\n",
    "\n",
    "Poniżej zaprezentowano kilka dodatkowych przykładów."
   ]
  },
  {
   "cell_type": "code",
   "execution_count": 244,
   "id": "bb1b5537-cec0-4974-a0f3-b6128e3fc5dc",
   "metadata": {},
   "outputs": [
    {
     "name": "stdout",
     "output_type": "stream",
     "text": [
      "[1 2]\n"
     ]
    },
    {
     "data": {
      "text/plain": [
       "True"
      ]
     },
     "execution_count": 244,
     "metadata": {},
     "output_type": "execute_result"
    }
   ],
   "source": [
    "# ten wycinek jest widokiem\n",
    "x_3 = A[0]\n",
    "print(x_3)\n",
    "arrays_share_data(x_3, A)"
   ]
  },
  {
   "cell_type": "code",
   "execution_count": 245,
   "id": "c09b3983-9b16-4f96-8bc9-0e2ba23da6f1",
   "metadata": {},
   "outputs": [
    {
     "name": "stdout",
     "output_type": "stream",
     "text": [
      "[[1 2]]\n"
     ]
    },
    {
     "data": {
      "text/plain": [
       "True"
      ]
     },
     "execution_count": 245,
     "metadata": {},
     "output_type": "execute_result"
    }
   ],
   "source": [
    "# ten wycinek też jest widokiem, ale zwróć uwagę na shape\n",
    "x_4 = A[:1] # pierwszy \"wiersz\"\n",
    "print(x_4)\n",
    "arrays_share_data(x_4, A)"
   ]
  },
  {
   "cell_type": "code",
   "execution_count": 247,
   "id": "2bab0d5e-6903-4c31-a8c1-57099ea377fb",
   "metadata": {},
   "outputs": [
    {
     "name": "stdout",
     "output_type": "stream",
     "text": [
      "[[1 2]]\n"
     ]
    },
    {
     "data": {
      "text/plain": [
       "False"
      ]
     },
     "execution_count": 247,
     "metadata": {},
     "output_type": "execute_result"
    }
   ],
   "source": [
    "# wartość zwracana jest identyczna jak x_4, ale ten wycinek to kopia!\n",
    "x_5 = A[:1, [0,1]]\n",
    "print(x_5)\n",
    "arrays_share_data(x_5, A)"
   ]
  },
  {
   "cell_type": "code",
   "execution_count": 254,
   "id": "e9f0fa1d-e482-4a2a-9714-8acd5eeb3855",
   "metadata": {},
   "outputs": [
    {
     "name": "stdout",
     "output_type": "stream",
     "text": [
      "[[1 2]]\n"
     ]
    },
    {
     "data": {
      "text/plain": [
       "False"
      ]
     },
     "execution_count": 254,
     "metadata": {},
     "output_type": "execute_result"
    }
   ],
   "source": [
    "# wartość zwracana jest identyczna jak x_5, również kopia\n",
    "x_6 = A[[0], ]\n",
    "print(x_6)\n",
    "arrays_share_data(x_6, A)"
   ]
  },
  {
   "cell_type": "code",
   "execution_count": 257,
   "id": "032f7a28-e25b-44eb-9f38-86b6d0abd5a0",
   "metadata": {},
   "outputs": [
    {
     "data": {
      "text/plain": [
       "False"
      ]
     },
     "execution_count": 257,
     "metadata": {},
     "output_type": "execute_result"
    }
   ],
   "source": [
    "# jeżeli określamy w formie listy zbiór wielu indeksów, do których chcemy\n",
    "# się odwołać to otrzymamy kopię tablicy\n",
    "arrays_share_data(A[[0,1]], A)"
   ]
  },
  {
   "cell_type": "code",
   "execution_count": 258,
   "id": "b22d866a-cff5-4f2e-ba64-466f5471f77f",
   "metadata": {},
   "outputs": [
    {
     "data": {
      "text/plain": [
       "True"
      ]
     },
     "execution_count": 258,
     "metadata": {},
     "output_type": "execute_result"
    }
   ],
   "source": [
    "# jeżeli jednak jest to postać slice, ellipsis (...) to otrzymamy widok\n",
    "arrays_share_data(A[...], A)"
   ]
  },
  {
   "cell_type": "code",
   "execution_count": 272,
   "id": "102637b4-015d-4b5f-a760-23370c281140",
   "metadata": {},
   "outputs": [
    {
     "name": "stdout",
     "output_type": "stream",
     "text": [
      "[1 2]\n"
     ]
    },
    {
     "data": {
      "text/plain": [
       "True"
      ]
     },
     "execution_count": 272,
     "metadata": {},
     "output_type": "execute_result"
    }
   ],
   "source": [
    "# mimo, że x_7 oraz x_8 wygląda niemal identycznie w zapisie (krotka vs. lista)\n",
    "# to wynik przez nie zwracany jest różny jeżeli chodzi o shape\n",
    "x_7 = A[(0,)]\n",
    "print(x_7)\n",
    "arrays_share_data(x_7, A)"
   ]
  },
  {
   "cell_type": "code",
   "execution_count": 273,
   "id": "1dbe6964-f0f7-42a7-ad36-72ed749ebaed",
   "metadata": {},
   "outputs": [
    {
     "name": "stdout",
     "output_type": "stream",
     "text": [
      "[[1 2]]\n"
     ]
    },
    {
     "data": {
      "text/plain": [
       "False"
      ]
     },
     "execution_count": 273,
     "metadata": {},
     "output_type": "execute_result"
    }
   ],
   "source": [
    "x_8 = A[[0,]]\n",
    "print(x_8)\n",
    "arrays_share_data(x_8, A)"
   ]
  },
  {
   "cell_type": "code",
   "execution_count": 280,
   "id": "c14f75ac-3946-405f-9c2b-d41afccc3f06",
   "metadata": {},
   "outputs": [
    {
     "name": "stdout",
     "output_type": "stream",
     "text": [
      "[1 2] [1 2]\n"
     ]
    },
    {
     "data": {
      "text/plain": [
       "(True, True)"
      ]
     },
     "execution_count": 280,
     "metadata": {},
     "output_type": "execute_result"
    }
   ],
   "source": [
    "# a to dlatego, że ellipsis jest pomijany i oba poniższe wycinki są równoważne\n",
    "x_9 = A[0,]\n",
    "print(x_9, A[0])\n",
    "arrays_share_data(x_9, A),arrays_share_data(A[0], A)"
   ]
  },
  {
   "cell_type": "markdown",
   "id": "03106ea2-713c-4ef2-a3e1-d1cef1cee8ad",
   "metadata": {},
   "source": [
    "Ciekawostką może być fakt, że zmiana kształtu tablicy nie musi implikować jakichkolwiek zmian jej elementów, chociaż za dokumentacją w https://numpy.org/doc/stable/reference/generated/numpy.reshape.html nie jest to gwarantowane.\n",
    "\n",
    "Niektóre zmiany parametrów tablicy numpy powodują zmianę jej metadanych (parametrów) określających jak wyglądają własności ją opisujące, a nie położenie samych danych w pamięci.\n",
    "\n",
    "Poniżej przykład z naszą tablicą A."
   ]
  },
  {
   "cell_type": "code",
   "execution_count": 285,
   "id": "5bc9f826-be36-4cff-a165-1f3c11cc6ca3",
   "metadata": {},
   "outputs": [
    {
     "data": {
      "text/plain": [
       "array([1, 2, 3, 4])"
      ]
     },
     "execution_count": 285,
     "metadata": {},
     "output_type": "execute_result"
    }
   ],
   "source": [
    "B = A.reshape((4,))\n",
    "B"
   ]
  },
  {
   "cell_type": "code",
   "execution_count": 286,
   "id": "ded0f179-9fdb-44f8-81e5-e2df89c437d1",
   "metadata": {},
   "outputs": [
    {
     "data": {
      "text/plain": [
       "True"
      ]
     },
     "execution_count": 286,
     "metadata": {},
     "output_type": "execute_result"
    }
   ],
   "source": [
    "arrays_share_data(B, A)"
   ]
  },
  {
   "cell_type": "code",
   "execution_count": 290,
   "id": "00f8e838-2068-4978-80ff-94975c2f558f",
   "metadata": {},
   "outputs": [
    {
     "data": {
      "text/plain": [
       "True"
      ]
     },
     "execution_count": 290,
     "metadata": {},
     "output_type": "execute_result"
    }
   ],
   "source": [
    "B.base is A.base"
   ]
  },
  {
   "cell_type": "code",
   "execution_count": 291,
   "id": "c9d71f48-a2eb-4a94-af60-9e0494cbde07",
   "metadata": {},
   "outputs": [
    {
     "data": {
      "text/plain": [
       "(array([1, 2, 3, 4]), array([1, 2, 3, 4]))"
      ]
     },
     "execution_count": 291,
     "metadata": {},
     "output_type": "execute_result"
    }
   ],
   "source": [
    "B.base, A.base"
   ]
  },
  {
   "cell_type": "code",
   "execution_count": 293,
   "id": "c5536217-f5d8-4c0d-9f9d-d1fbafb98427",
   "metadata": {},
   "outputs": [
    {
     "data": {
      "text/plain": [
       "(array([[1, 2],\n",
       "        [3, 4]]),\n",
       " array([1, 2, 3, 4]))"
      ]
     },
     "execution_count": 293,
     "metadata": {},
     "output_type": "execute_result"
    }
   ],
   "source": [
    "A, B"
   ]
  },
  {
   "cell_type": "markdown",
   "id": "a66f34b7-51a0-4b53-88b6-22147e453df4",
   "metadata": {},
   "source": [
    "Nie trzeba tu chyba wyjaśniac, że kopie będą alokowały kolejne obszary pamięci oraz zajmą więcej czasu procesora w odróżnieniu od widoków.\n",
    "\n",
    "Czy to znaczy, że widoki są dobre, a kopie złe? Absolutnie nie. Każde z nich ma swoje zastosowania, ważne, żeby używać ich świadomie.\n",
    "\n",
    "Poniżej kilka przykładów ich zastosowania."
   ]
  },
  {
   "cell_type": "code",
   "execution_count": 294,
   "id": "9b3098f8-dc09-4f98-8b73-a4b31888665a",
   "metadata": {},
   "outputs": [],
   "source": [
    "# 1. widok vs kopia i wstawienie danych\n",
    "Z = np.zeros(9)\n",
    "Z_view = Z[:3]\n",
    "Z_view[...] = 1"
   ]
  },
  {
   "cell_type": "code",
   "execution_count": 295,
   "id": "9f9b1306-bb4b-4237-a311-83a12bd67c0b",
   "metadata": {},
   "outputs": [
    {
     "data": {
      "text/plain": [
       "array([1., 1., 1., 0., 0., 0., 0., 0., 0.])"
      ]
     },
     "execution_count": 295,
     "metadata": {},
     "output_type": "execute_result"
    }
   ],
   "source": [
    "Z"
   ]
  },
  {
   "cell_type": "code",
   "execution_count": 299,
   "id": "25079cbd-3117-4d2a-af9f-3b35901ce582",
   "metadata": {},
   "outputs": [
    {
     "data": {
      "text/plain": [
       "array([1., 1., 1.])"
      ]
     },
     "execution_count": 299,
     "metadata": {},
     "output_type": "execute_result"
    }
   ],
   "source": [
    "Z_view"
   ]
  },
  {
   "cell_type": "code",
   "execution_count": 302,
   "id": "641cd495-eca5-4e5f-8759-da5b571e4029",
   "metadata": {},
   "outputs": [],
   "source": [
    "Z = np.zeros(9)\n",
    "Z_view = Z[[1,2,3]]\n",
    "Z_view[...] = 1"
   ]
  },
  {
   "cell_type": "code",
   "execution_count": 303,
   "id": "a21f80c8-cce4-4ae2-bd5f-53ec402ba380",
   "metadata": {},
   "outputs": [
    {
     "data": {
      "text/plain": [
       "array([0., 0., 0., 0., 0., 0., 0., 0., 0.])"
      ]
     },
     "execution_count": 303,
     "metadata": {},
     "output_type": "execute_result"
    }
   ],
   "source": [
    "Z"
   ]
  },
  {
   "cell_type": "code",
   "execution_count": 304,
   "id": "531fa71c-7a78-4ad7-9931-3a7bbe11988c",
   "metadata": {},
   "outputs": [
    {
     "data": {
      "text/plain": [
       "array([1., 1., 1.])"
      ]
     },
     "execution_count": 304,
     "metadata": {},
     "output_type": "execute_result"
    }
   ],
   "source": [
    "Z_view"
   ]
  },
  {
   "cell_type": "code",
   "execution_count": 371,
   "id": "4556d2b4-9784-4f7f-b3ce-5fdd227f01cc",
   "metadata": {},
   "outputs": [],
   "source": [
    "# 2. obliczenia na wybranej części tablicy\n",
    "C = np.arange(100_000_000).reshape((10_000,10_000))"
   ]
  },
  {
   "cell_type": "code",
   "execution_count": 314,
   "id": "bd2cefa8-e820-43bb-b709-1b3cab1bc2c1",
   "metadata": {},
   "outputs": [
    {
     "data": {
      "text/plain": [
       "800000000"
      ]
     },
     "execution_count": 314,
     "metadata": {},
     "output_type": "execute_result"
    }
   ],
   "source": [
    "C.nbytes"
   ]
  },
  {
   "cell_type": "code",
   "execution_count": 375,
   "id": "de24722c-24d2-4393-9a42-ddafa2fd1052",
   "metadata": {},
   "outputs": [],
   "source": [
    "C_1 = C[:5000,:5000]"
   ]
  },
  {
   "cell_type": "code",
   "execution_count": 378,
   "id": "bb08e3e4-2477-4e97-92db-34bc2dea8298",
   "metadata": {},
   "outputs": [
    {
     "data": {
      "text/plain": [
       "True"
      ]
     },
     "execution_count": 378,
     "metadata": {},
     "output_type": "execute_result"
    }
   ],
   "source": [
    "# upewniamy się, że to widok\n",
    "arrays_share_data(C_1, C)"
   ]
  },
  {
   "cell_type": "code",
   "execution_count": 329,
   "id": "1bf90f05-acfc-45f3-89bc-35414a3906c3",
   "metadata": {},
   "outputs": [
    {
     "data": {
      "text/plain": [
       "((5000, 5000), 25000000, np.float64(24997499.5))"
      ]
     },
     "execution_count": 329,
     "metadata": {},
     "output_type": "execute_result"
    }
   ],
   "source": [
    "C_1.shape, C_1.size, C_1.mean()"
   ]
  },
  {
   "cell_type": "code",
   "execution_count": 364,
   "id": "5ffea64b-9a83-4836-bc35-10fe153c41eb",
   "metadata": {},
   "outputs": [],
   "source": [
    "# mamy jakąś listę indeksów, które nas interesują w tablicy\n",
    "idx = range(5000)\n",
    "C_2 = C[idx, :5000]"
   ]
  },
  {
   "cell_type": "code",
   "execution_count": 365,
   "id": "ae2c8a0d-b5ca-49df-a8c3-21adeec5ccbc",
   "metadata": {},
   "outputs": [
    {
     "data": {
      "text/plain": [
       "False"
      ]
     },
     "execution_count": 365,
     "metadata": {},
     "output_type": "execute_result"
    }
   ],
   "source": [
    "# a teraz mamy kopię\n",
    "arrays_share_data(C_2, C)"
   ]
  },
  {
   "cell_type": "code",
   "execution_count": 429,
   "id": "66d4f76f-eba7-493e-bd61-0837fc1d0f2e",
   "metadata": {},
   "outputs": [
    {
     "data": {
      "text/plain": [
       "  C_CONTIGUOUS : True\n",
       "  F_CONTIGUOUS : False\n",
       "  OWNDATA : False\n",
       "  WRITEABLE : True\n",
       "  ALIGNED : True\n",
       "  WRITEBACKIFCOPY : False"
      ]
     },
     "execution_count": 429,
     "metadata": {},
     "output_type": "execute_result"
    }
   ],
   "source": [
    "# ten atrybut pozwala przyglądnąć się niektórym atrybutom tablicy, związanym z zaalokowaną dla niej pamięcią\n",
    "# C_CONTIGUOUS oznacza ciągłość pamięci w stylu języka C\n",
    "# F_CONTIGUOUS oznacza ciągłość pamięci w stylu języka Fortran\n",
    "# OWNDATA określa czy tablica współdzieli dane z inną (False oznacza, że jej base to odwołanie do innej tablicy) lub czy jest ich właścicielem (True)\n",
    "# WRITEABLE określa czy dane w tablicy mogą być nadpisane (domyślnie True), można ustawić tę flagę na True i zablokować możliwość ich nadpisania.\n",
    "# Jest to możliwe również dla widoków utworzonych z tej tablicy, mimo, że oryginalna tablica pozwala na nadpisanie danych w tym obszarze.\n",
    "# ALIGNED czy dane są ułożone odpowiednio dla sprzętu (ang. hardware)\n",
    "# WRITEBACKIFCOPY czy jest kopią innej tablicy (za dokumentacją), ale ten koncept jest nieco bardziej skomplikowany i odsyłam czytelnika do dokumentacji\n",
    "C.flags"
   ]
  },
  {
   "cell_type": "code",
   "execution_count": 385,
   "id": "16d5847f-4af8-4bc1-849e-21e9f2d12918",
   "metadata": {},
   "outputs": [
    {
     "data": {
      "text/plain": [
       "  C_CONTIGUOUS : False\n",
       "  F_CONTIGUOUS : False\n",
       "  OWNDATA : False\n",
       "  WRITEABLE : True\n",
       "  ALIGNED : True\n",
       "  WRITEBACKIFCOPY : False"
      ]
     },
     "execution_count": 385,
     "metadata": {},
     "output_type": "execute_result"
    }
   ],
   "source": [
    "C_1.flags"
   ]
  },
  {
   "cell_type": "code",
   "execution_count": 425,
   "id": "44390d59-c2c2-43e2-804f-99b427504899",
   "metadata": {},
   "outputs": [
    {
     "data": {
      "text/plain": [
       "  C_CONTIGUOUS : True\n",
       "  F_CONTIGUOUS : False\n",
       "  OWNDATA : True\n",
       "  WRITEABLE : True\n",
       "  ALIGNED : True\n",
       "  WRITEBACKIFCOPY : False"
      ]
     },
     "execution_count": 425,
     "metadata": {},
     "output_type": "execute_result"
    }
   ],
   "source": [
    "C_2.flags"
   ]
  },
  {
   "cell_type": "code",
   "execution_count": 439,
   "id": "b8f74f51-7f9f-4540-8cf3-0a68511bf1d7",
   "metadata": {},
   "outputs": [
    {
     "data": {
      "text/plain": [
       "True"
      ]
     },
     "execution_count": 439,
     "metadata": {},
     "output_type": "execute_result"
    }
   ],
   "source": [
    "# innym sposobem na sprawdzenie czy tablice współdzielą dane jest sprawdzenie czy dany element, który wycięliśmy z oryginału\n",
    "# (zakładając, że tak iż powstał widok), ma taki sam identyfikator pamięci jak adekwatny element w tablicy oryginalnej\n",
    "# Dlaczego indeksowanie w drugim przypadku odbywa się po jednym wymiarze - odpowiedż w komórce poniżej - base jest widoczne jako tablica\n",
    "# jednowymiarowa\n",
    "id(C[0][0]) == id(C_1.base[0])"
   ]
  },
  {
   "cell_type": "code",
   "execution_count": 438,
   "id": "02f28dce-d96a-4116-a28c-60d9e47d50b2",
   "metadata": {},
   "outputs": [
    {
     "data": {
      "text/plain": [
       "((10000, 10000), (100000000,), (5000, 5000))"
      ]
     },
     "execution_count": 438,
     "metadata": {},
     "output_type": "execute_result"
    }
   ],
   "source": [
    "C.shape, C_1.base.shape, C_1.shape"
   ]
  },
  {
   "cell_type": "code",
   "execution_count": 441,
   "id": "3a25c94d-9051-49cc-9861-be17688f8a01",
   "metadata": {},
   "outputs": [
    {
     "data": {
      "text/plain": [
       "(2707294963536, 2707315342576)"
      ]
     },
     "execution_count": 441,
     "metadata": {},
     "output_type": "execute_result"
    }
   ],
   "source": [
    "id(C), id(C_1.base)"
   ]
  },
  {
   "cell_type": "code",
   "execution_count": 366,
   "id": "57de716f-ac0a-4afd-8611-f441ee7e00f8",
   "metadata": {},
   "outputs": [
    {
     "data": {
      "text/plain": [
       "((5000, 5000), 25000000, np.float64(24997499.5))"
      ]
     },
     "execution_count": 366,
     "metadata": {},
     "output_type": "execute_result"
    }
   ],
   "source": [
    "C_2.shape, C_2.size, C_2.mean()"
   ]
  },
  {
   "cell_type": "markdown",
   "id": "5bdefcc1-0e0c-46e2-8a32-0cebb1e142e9",
   "metadata": {},
   "source": [
    "**I jeszcze jeden przykład z widokami i flagami**"
   ]
  },
  {
   "cell_type": "code",
   "execution_count": 450,
   "id": "5ed90267-6eb1-4804-b4d2-ffcfe7aef7a5",
   "metadata": {},
   "outputs": [],
   "source": [
    "# mamy takie dwie tablice\n",
    "D = np.arange(25)\n",
    "E = D[:5]"
   ]
  },
  {
   "cell_type": "code",
   "execution_count": 452,
   "id": "930f9912-6b62-4e51-96d5-1aa0d0ac5749",
   "metadata": {},
   "outputs": [
    {
     "data": {
      "text/plain": [
       "(  C_CONTIGUOUS : True\n",
       "   F_CONTIGUOUS : True\n",
       "   OWNDATA : True\n",
       "   WRITEABLE : True\n",
       "   ALIGNED : True\n",
       "   WRITEBACKIFCOPY : False,\n",
       "   C_CONTIGUOUS : True\n",
       "   F_CONTIGUOUS : True\n",
       "   OWNDATA : False\n",
       "   WRITEABLE : True\n",
       "   ALIGNED : True\n",
       "   WRITEBACKIFCOPY : False)"
      ]
     },
     "execution_count": 452,
     "metadata": {},
     "output_type": "execute_result"
    }
   ],
   "source": [
    "# widzimy ciągłość danych w obu  (zazwyczaj dla tablic jednowymiarowych)\n",
    "D.flags, E.flags"
   ]
  },
  {
   "cell_type": "code",
   "execution_count": 454,
   "id": "40d153ca-edba-4aec-82bb-e3466e5d3b30",
   "metadata": {},
   "outputs": [
    {
     "data": {
      "text/plain": [
       "(2707311220784, 2707311220784)"
      ]
     },
     "execution_count": 454,
     "metadata": {},
     "output_type": "execute_result"
    }
   ],
   "source": [
    "# identyfikatory również nam się zgadzają\n",
    "id(D), id(E.base)"
   ]
  },
  {
   "cell_type": "code",
   "execution_count": 455,
   "id": "85b27f43-034e-42d2-a4b5-b809398cd2e0",
   "metadata": {},
   "outputs": [],
   "source": [
    "# zmieniamy kształt tablicy bazowej, nadpisujemy zmienną D\n",
    "D = D.reshape((5,5))"
   ]
  },
  {
   "cell_type": "code",
   "execution_count": 456,
   "id": "b6781dd9-8bc1-485b-accb-be9a5bbdf852",
   "metadata": {},
   "outputs": [
    {
     "data": {
      "text/plain": [
       "(2707311223568, 2707311220784)"
      ]
     },
     "execution_count": 456,
     "metadata": {},
     "output_type": "execute_result"
    }
   ],
   "source": [
    "# identyfikatory już nie wskazują na ten sam obiekt\n",
    "id(D), id(E.base)"
   ]
  },
  {
   "cell_type": "code",
   "execution_count": 457,
   "id": "83fdc32e-2b64-41f6-86b4-4de1c8c0bd7b",
   "metadata": {},
   "outputs": [
    {
     "data": {
      "text/plain": [
       "array([ 0,  1,  2,  3,  4,  5,  6,  7,  8,  9, 10, 11, 12, 13, 14, 15, 16,\n",
       "       17, 18, 19, 20, 21, 22, 23, 24])"
      ]
     },
     "execution_count": 457,
     "metadata": {},
     "output_type": "execute_result"
    }
   ],
   "source": [
    "# ale baza dla E wygląda znajomo\n",
    "E.base"
   ]
  },
  {
   "cell_type": "code",
   "execution_count": 458,
   "id": "11a6af6c-43e9-40be-8d4e-6de2828455ed",
   "metadata": {},
   "outputs": [
    {
     "data": {
      "text/plain": [
       "True"
      ]
     },
     "execution_count": 458,
     "metadata": {},
     "output_type": "execute_result"
    }
   ],
   "source": [
    "# tablice jednak współdzielą dane\n",
    "arrays_share_data(E, D)"
   ]
  },
  {
   "cell_type": "code",
   "execution_count": 460,
   "id": "a1cd69ad-1166-4520-af2c-523c1b59e347",
   "metadata": {},
   "outputs": [
    {
     "data": {
      "text/plain": [
       "(2707294120912, 2707294120912)"
      ]
     },
     "execution_count": 460,
     "metadata": {},
     "output_type": "execute_result"
    }
   ],
   "source": [
    "# sprawdzimy id lokalizacji pierwszego elementu obu tablic\n",
    "id(D[0][0]), id(E[0])"
   ]
  },
  {
   "cell_type": "code",
   "execution_count": 463,
   "id": "fe147611-c2c8-4c41-9fd5-eb4289f4d2b2",
   "metadata": {},
   "outputs": [
    {
     "data": {
      "text/plain": [
       "(  C_CONTIGUOUS : True\n",
       "   F_CONTIGUOUS : False\n",
       "   OWNDATA : False\n",
       "   WRITEABLE : True\n",
       "   ALIGNED : True\n",
       "   WRITEBACKIFCOPY : False,\n",
       "   C_CONTIGUOUS : True\n",
       "   F_CONTIGUOUS : True\n",
       "   OWNDATA : True\n",
       "   WRITEABLE : True\n",
       "   ALIGNED : True\n",
       "   WRITEBACKIFCOPY : False,\n",
       "   C_CONTIGUOUS : True\n",
       "   F_CONTIGUOUS : True\n",
       "   OWNDATA : False\n",
       "   WRITEABLE : True\n",
       "   ALIGNED : True\n",
       "   WRITEBACKIFCOPY : False)"
      ]
     },
     "execution_count": 463,
     "metadata": {},
     "output_type": "execute_result"
    }
   ],
   "source": [
    "# identyfikator się zgadza, ale flagi już zawierają pewne różnice\n",
    "D.flags, E.base.flags, E.flags"
   ]
  },
  {
   "cell_type": "code",
   "execution_count": 466,
   "id": "4dee7b9e-45eb-4cbe-821d-a12e7c334bab",
   "metadata": {},
   "outputs": [
    {
     "data": {
      "text/plain": [
       "(2707311220784, 2707311220784)"
      ]
     },
     "execution_count": 466,
     "metadata": {},
     "output_type": "execute_result"
    }
   ],
   "source": [
    "# dzieje się tak z powodu funkcji reshape(), która zwraca nowy widok danych z tablicy, której wymiary zmienia jeżeli tylko się da\n",
    "# lub kopię jeżeli to konieczne\n",
    "# To oznacza, że numpy odwołuje się do tablicy bazowej stworzonej przez wywołanie np.arange(25), która stworzyła tablicę jednowymiarową\n",
    "# składającą się z kolejnych 25 elementów poczynając od wartości 0\n",
    "\n",
    "# jak sprawdzimy poniższe to otrzymamy potwierdzenie\n",
    "id(D.base), id(E.base)"
   ]
  },
  {
   "cell_type": "markdown",
   "id": "4e47526a-71a6-4759-a47d-4265b4b966b5",
   "metadata": {},
   "source": [
    "### 1.1 Pomiary wydajności"
   ]
  },
  {
   "cell_type": "markdown",
   "id": "808eacce-5c02-4968-93d8-4d90048cf3d7",
   "metadata": {},
   "source": [
    "Wykorzystamy moduł `timeit` do wykonania poamiarów średniej prędkości wykonania obliczeń wybranych fragmentów kodu."
   ]
  },
  {
   "cell_type": "code",
   "execution_count": 467,
   "id": "c457bc6f-ca55-42c9-8d84-ee2abbd13aa7",
   "metadata": {},
   "outputs": [
    {
     "data": {
      "text/plain": [
       "(6.13001175224781e-05, 11.454770299838856)"
      ]
     },
     "execution_count": 467,
     "metadata": {},
     "output_type": "execute_result"
    }
   ],
   "source": [
    "# do poamiarów wykorzystamy nasze tablice C, C_1 oraz C_2 \n",
    "# Tu zmierzymy czas niezbędny do odwołania się do obszaru o wymiarach (5000,5000) z tablicy bazowej C\n",
    "# Wykorzystujemy wycinki, ale pierwszy to widok, a drugi to kopia\n",
    "\n",
    "setup = \"\"\"\n",
    "import numpy as np\n",
    "C = np.arange(100_000_000).reshape((10_000,10_000))\n",
    "\"\"\"\n",
    "\n",
    "stmt_1 = \"\"\"\n",
    "C_1 = C[:5000,:5000]\n",
    "\"\"\"\n",
    "\n",
    "stmt_2 = \"\"\"\n",
    "idx = range(5000)\n",
    "C_2 = C[idx, :5000]\n",
    "\"\"\"\n",
    "\n",
    "timeit(stmt_1, setup=setup, number=1000), timeit(stmt_2, setup=setup, number=1000)"
   ]
  },
  {
   "cell_type": "markdown",
   "id": "eec0dc46-e1e6-44e4-96a9-687e86c47e46",
   "metadata": {},
   "source": [
    "Jak widać samo utworzenie zmiennej z dostępem do wskazanych danych jest o kilka rzędów szybsze w przypadku widoków niż kopii co brzmii jak coś oczywistego biorąc pod uwagę koszt dostępu do już zarezerwowanego obszaru pamięci, a jego ponownego przypisania (tutaj dla wielu wartości).\n",
    "Postaramy się zmierzyć jeszcze inne przykładowe operacje."
   ]
  },
  {
   "cell_type": "code",
   "execution_count": 361,
   "id": "88b7fc1c-254f-4b4e-9130-4bc90571ad26",
   "metadata": {},
   "outputs": [
    {
     "data": {
      "text/plain": [
       "(22.169761300086975, 83.69246080005541)"
      ]
     },
     "execution_count": 361,
     "metadata": {},
     "output_type": "execute_result"
    }
   ],
   "source": [
    "# teraz policzymy czas wyliczenia średniej dla tych samych obszarów\n",
    "\n",
    "setup = \"\"\"\n",
    "import numpy as np\n",
    "C = np.arange(100_000_000).reshape((10_000,10_000))\n",
    "\"\"\"\n",
    "\n",
    "stmt_1 = \"\"\"\n",
    "C[:5000,:5000].mean()\n",
    "\"\"\"\n",
    "\n",
    "stmt_2 = \"\"\"\n",
    "idx = range(5000)\n",
    "C[idx, :5000].mean()\n",
    "\"\"\"\n",
    "\n",
    "timeit(stmt_1, setup=setup, number=100), timeit(stmt_2, setup=setup, number=100)"
   ]
  },
  {
   "cell_type": "markdown",
   "id": "4d0cee2b-af41-4091-929e-62429996fb6b",
   "metadata": {},
   "source": [
    "W powyższym przykładzie wynik jest już bardziej zbliżony, ale wciąż pierwszy przypadek wykonuje się szybciej, tu około 4x. Pamiętajmy, że oprócz krótszego czasu mamy tu również oszczędność pamięci, co dla większych zbiorów danych ma znaczenie, szczególnie w sytuacji kiedy zbliżamy się lub przekraczamy limit pamięci RAM, co w kolejnej fazie powoduje wykorzystanie pamięci dyskowej, które jest zazwyczaj znacznie wolniejsza od pamięci RAM."
   ]
  },
  {
   "cell_type": "markdown",
   "id": "67e24ebf-6349-4868-a098-8eca88e75820",
   "metadata": {},
   "source": [
    "**Funkcja np.view**\n",
    "\n",
    "Funkcja np.view pozwala na stworzenie widoku na oryginalną tablicę numpy, której obiekty możemy \"oglądać\" w innym typie niż w oryginale. Poniżej przykład."
   ]
  },
  {
   "cell_type": "code",
   "execution_count": 493,
   "id": "c4bc4132-bacd-4752-99a7-9e1fa93223bf",
   "metadata": {},
   "outputs": [],
   "source": [
    "D = np.arange(10)"
   ]
  },
  {
   "cell_type": "code",
   "execution_count": 486,
   "id": "28116f51-5204-44c4-814d-23dd759c61b1",
   "metadata": {},
   "outputs": [
    {
     "data": {
      "text/plain": [
       "array([0, 1, 2, 3, 4, 5, 6, 7, 8, 9])"
      ]
     },
     "execution_count": 486,
     "metadata": {},
     "output_type": "execute_result"
    }
   ],
   "source": [
    "D"
   ]
  },
  {
   "cell_type": "code",
   "execution_count": 487,
   "id": "6a41e1fd-553f-4d7a-acc2-cddcc4d0988f",
   "metadata": {},
   "outputs": [],
   "source": [
    "E = D.view(np.int32)"
   ]
  },
  {
   "cell_type": "code",
   "execution_count": 494,
   "id": "68bdd5d8-9fbd-4a6c-a5f7-670d61acb4de",
   "metadata": {},
   "outputs": [
    {
     "data": {
      "text/plain": [
       "array([0, 1, 2, 3, 4, 5, 6, 7, 8, 9])"
      ]
     },
     "execution_count": 494,
     "metadata": {},
     "output_type": "execute_result"
    }
   ],
   "source": [
    "E.base"
   ]
  },
  {
   "cell_type": "code",
   "execution_count": 495,
   "id": "7139f288-48dd-4222-8c16-75adebeff92c",
   "metadata": {},
   "outputs": [
    {
     "data": {
      "text/plain": [
       "(dtype('int64'), dtype('int32'))"
      ]
     },
     "execution_count": 495,
     "metadata": {},
     "output_type": "execute_result"
    }
   ],
   "source": [
    "D.dtype, E.dtype"
   ]
  },
  {
   "cell_type": "code",
   "execution_count": 496,
   "id": "c8e5e90f-6390-42b7-a373-01ac2d6cd9fe",
   "metadata": {},
   "outputs": [
    {
     "data": {
      "text/plain": [
       "(80, 80)"
      ]
     },
     "execution_count": 496,
     "metadata": {},
     "output_type": "execute_result"
    }
   ],
   "source": [
    "D.nbytes, E.nbytes"
   ]
  },
  {
   "cell_type": "code",
   "execution_count": 497,
   "id": "3da77162-7a00-42a8-a236-a55b89be86a0",
   "metadata": {},
   "outputs": [
    {
     "data": {
      "text/plain": [
       "20"
      ]
     },
     "execution_count": 497,
     "metadata": {},
     "output_type": "execute_result"
    }
   ],
   "source": [
    "E.size"
   ]
  },
  {
   "cell_type": "code",
   "execution_count": 498,
   "id": "b2199db6-e805-42fd-82cb-b549ff2b6e8a",
   "metadata": {},
   "outputs": [
    {
     "data": {
      "text/plain": [
       "array([0, 0, 1, 0, 2, 0, 3, 0, 4, 0, 5, 0, 6, 0, 7, 0, 8, 0, 9, 0],\n",
       "      dtype=int32)"
      ]
     },
     "execution_count": 498,
     "metadata": {},
     "output_type": "execute_result"
    }
   ],
   "source": [
    "E"
   ]
  },
  {
   "cell_type": "markdown",
   "id": "80ace97e-285e-4212-968e-88b053f3d3b3",
   "metadata": {},
   "source": [
    "## 2. Wybrane funkcje numpy."
   ]
  },
  {
   "cell_type": "markdown",
   "id": "a89c1a57-f49b-489b-aa96-63c989e77cfc",
   "metadata": {},
   "source": [
    "### 2.1 Zmiana kształtu tablicy"
   ]
  },
  {
   "cell_type": "markdown",
   "id": "821fe2aa-b6c7-461c-9c2c-bf8ab56d3b53",
   "metadata": {},
   "source": [
    "**numpy.reshape()**"
   ]
  },
  {
   "cell_type": "code",
   "execution_count": 499,
   "id": "335c2aef-bcdb-4184-85c2-715d85e4fecb",
   "metadata": {},
   "outputs": [],
   "source": [
    "A = np.ones(16)"
   ]
  },
  {
   "cell_type": "code",
   "execution_count": 500,
   "id": "f295dc90-8248-423b-a1dc-dfa2bf1e6484",
   "metadata": {},
   "outputs": [
    {
     "data": {
      "text/plain": [
       "array([[1., 1., 1., 1.],\n",
       "       [1., 1., 1., 1.],\n",
       "       [1., 1., 1., 1.],\n",
       "       [1., 1., 1., 1.]])"
      ]
     },
     "execution_count": 500,
     "metadata": {},
     "output_type": "execute_result"
    }
   ],
   "source": [
    "# 1. np.reshape już znamy\n",
    "A.reshape((4,4))"
   ]
  },
  {
   "cell_type": "code",
   "execution_count": 522,
   "id": "8bd48336-0efb-4e9b-a268-0d16e0455f85",
   "metadata": {},
   "outputs": [
    {
     "data": {
      "text/plain": [
       "array([[1., 1., 1., 1.],\n",
       "       [1., 1., 1., 1.],\n",
       "       [1., 1., 1., 1.],\n",
       "       [1., 1., 1., 1.]])"
      ]
     },
     "execution_count": 522,
     "metadata": {},
     "output_type": "execute_result"
    }
   ],
   "source": [
    "# lub tak\n",
    "A.reshape(4,4)"
   ]
  },
  {
   "cell_type": "code",
   "execution_count": 501,
   "id": "14303482-5423-490b-8cee-ed4a1463ddca",
   "metadata": {},
   "outputs": [
    {
     "data": {
      "text/plain": [
       "array([[[1., 1., 1., 1.],\n",
       "        [1., 1., 1., 1.]],\n",
       "\n",
       "       [[1., 1., 1., 1.],\n",
       "        [1., 1., 1., 1.]]])"
      ]
     },
     "execution_count": 501,
     "metadata": {},
     "output_type": "execute_result"
    }
   ],
   "source": [
    "A.reshape((2,2,4))"
   ]
  },
  {
   "cell_type": "code",
   "execution_count": 504,
   "id": "f499b365-9027-4891-a70e-f7e188b3fdcb",
   "metadata": {},
   "outputs": [
    {
     "name": "stdout",
     "output_type": "stream",
     "text": [
      "[[1. 1. 1. 1.]\n",
      " [1. 1. 1. 1.]\n",
      " [1. 1. 1. 1.]\n",
      " [1. 1. 1. 1.]]\n"
     ]
    },
    {
     "data": {
      "text/plain": [
       "False"
      ]
     },
     "execution_count": 504,
     "metadata": {},
     "output_type": "execute_result"
    }
   ],
   "source": [
    "# możemy zmienić domyśle zachowanie, które zwraca widok, chcąc zwrócić kopię\n",
    "B = A.reshape((4,4), copy=True)\n",
    "print(B)\n",
    "arrays_share_data(B,A)"
   ]
  },
  {
   "cell_type": "code",
   "execution_count": 526,
   "id": "838c8402-91c8-4cdc-ba6b-f645b55546a8",
   "metadata": {},
   "outputs": [
    {
     "name": "stdout",
     "output_type": "stream",
     "text": [
      "[1. 1. 1. 1. 1. 1. 1. 1. 1. 1. 1. 1. 1. 1. 1. 1.]\n",
      "[[1. 1. 1. 1. 1. 1. 1. 1.]\n",
      " [1. 1. 1. 1. 1. 1. 1. 1.]]\n",
      "[[[1. 1. 1. 1.]\n",
      "  [1. 1. 1. 1.]]\n",
      "\n",
      " [[1. 1. 1. 1.]\n",
      "  [1. 1. 1. 1.]]]\n"
     ]
    }
   ],
   "source": [
    "# reshape pozwala nam na przekazanie \"nieznanej\" wartości dla tylko jednej z osi poprzez podanie wartości -1\n",
    "# spłaszczenie\n",
    "print(B.reshape(-1))\n",
    "\n",
    "print(B.reshape(2,-1))\n",
    "print(B.reshape(2,2,-1))"
   ]
  },
  {
   "cell_type": "markdown",
   "id": "282c412f-c6f2-4d66-9457-c5ad9f6d6c1f",
   "metadata": {},
   "source": [
    "**numpy.ravel()**"
   ]
  },
  {
   "cell_type": "code",
   "execution_count": 509,
   "id": "cb9f4679-93f8-481f-a2d9-1a76e7446e8b",
   "metadata": {},
   "outputs": [
    {
     "data": {
      "text/plain": [
       "array([1., 1., 1., 1., 1., 1., 1., 1., 1., 1., 1., 1., 1., 1., 1., 1.])"
      ]
     },
     "execution_count": 509,
     "metadata": {},
     "output_type": "execute_result"
    }
   ],
   "source": [
    "# zwraca tablicę jednowymiarową stworzoną ze wskazanej tablicy bazowej\n",
    "np.ravel(B)"
   ]
  },
  {
   "cell_type": "code",
   "execution_count": 508,
   "id": "ffb4c31e-8544-4042-8031-4198d6627fb9",
   "metadata": {},
   "outputs": [
    {
     "data": {
      "text/plain": [
       "array([1., 1., 1., 1., 1., 1., 1., 1., 1., 1., 1., 1., 1., 1., 1., 1.])"
      ]
     },
     "execution_count": 508,
     "metadata": {},
     "output_type": "execute_result"
    }
   ],
   "source": [
    "# większość funkcji możemy również wywołać z poziomu instancji obiektu np.ndarray\n",
    "B.ravel()"
   ]
  },
  {
   "cell_type": "code",
   "execution_count": 510,
   "id": "eaf6280a-1f1e-4d88-aa17-6ca8940d8d89",
   "metadata": {},
   "outputs": [
    {
     "data": {
      "text/plain": [
       "True"
      ]
     },
     "execution_count": 510,
     "metadata": {},
     "output_type": "execute_result"
    }
   ],
   "source": [
    "# widok czy kopia?\n",
    "arrays_share_data(B, B.ravel()) # widok"
   ]
  },
  {
   "cell_type": "markdown",
   "id": "1dab4fe0-abdd-4538-9172-04a8af8ad853",
   "metadata": {},
   "source": [
    "**numpy.ndarray.flatten()**"
   ]
  },
  {
   "cell_type": "code",
   "execution_count": 516,
   "id": "c7d88bc8-dde1-49dc-bf23-75f268af52f7",
   "metadata": {},
   "outputs": [
    {
     "data": {
      "text/plain": [
       "array([1., 1., 1., 1., 1., 1., 1., 1., 1., 1., 1., 1., 1., 1., 1., 1.])"
      ]
     },
     "execution_count": 516,
     "metadata": {},
     "output_type": "execute_result"
    }
   ],
   "source": [
    "# dzdiała podobnie do ravel, ale jest to metoda klasy ndarray, więc jej wywołanie odbywa się z poziomu obiektu\n",
    "B.flatten()"
   ]
  },
  {
   "cell_type": "code",
   "execution_count": 517,
   "id": "1b3a246b-e975-407b-906d-62fb9b476f63",
   "metadata": {},
   "outputs": [
    {
     "data": {
      "text/plain": [
       "False"
      ]
     },
     "execution_count": 517,
     "metadata": {},
     "output_type": "execute_result"
    }
   ],
   "source": [
    "# widok czy kopia?\n",
    "arrays_share_data(B, B.flatten()) # kopia"
   ]
  },
  {
   "cell_type": "markdown",
   "id": "a5190c64-b362-4740-90ce-3f329eb42132",
   "metadata": {},
   "source": [
    "**numpy.ndarray.flat**"
   ]
  },
  {
   "cell_type": "code",
   "execution_count": 521,
   "id": "70b4df25-6a69-44ff-b1d7-248ebd0639e7",
   "metadata": {},
   "outputs": [
    {
     "data": {
      "text/plain": [
       "<numpy.flatiter at 0x27640650180>"
      ]
     },
     "execution_count": 521,
     "metadata": {},
     "output_type": "execute_result"
    }
   ],
   "source": [
    "# zwraca iterator pozwalający przychodzić element po elemencie dla danej tablicy, tak jakby była jednowymiarowa\n",
    "B.flat"
   ]
  },
  {
   "cell_type": "markdown",
   "id": "0a3b67ba-3351-4371-bec8-1e6991ce74c0",
   "metadata": {},
   "source": [
    "Istnieją jeszcze inne możliwości takiej jak użycie `rot90`, `flip`, `fliplr`, `flipud`, ale pozostawiam je do eksploracji dla czytelnika."
   ]
  },
  {
   "cell_type": "markdown",
   "id": "aa575343-2fcc-4774-83e5-b2167a2285eb",
   "metadata": {},
   "source": [
    "### 2.2 Łączenie tablic"
   ]
  },
  {
   "cell_type": "code",
   "execution_count": 527,
   "id": "f90c7cbe-8045-4ecd-8b78-4e81edbb187c",
   "metadata": {},
   "outputs": [
    {
     "data": {
      "text/plain": [
       "(array([1, 2, 3, 4, 5]), array([ 6,  7,  8,  9, 10]))"
      ]
     },
     "execution_count": 527,
     "metadata": {},
     "output_type": "execute_result"
    }
   ],
   "source": [
    "A = np.arange(1, 6)\n",
    "B = np.arange(6, 11)\n",
    "A, B"
   ]
  },
  {
   "cell_type": "code",
   "execution_count": 528,
   "id": "606d7b6e-5333-4c17-8b3a-e3c1af6660dc",
   "metadata": {},
   "outputs": [
    {
     "data": {
      "text/plain": [
       "array([ 7,  9, 11, 13, 15])"
      ]
     },
     "execution_count": 528,
     "metadata": {},
     "output_type": "execute_result"
    }
   ],
   "source": [
    "# chyba coś poszło nie tak?\n",
    "# Na pewno działa dla list, ale dla np.ndarray operator __add__ (inaczej +) działa inaczej\n",
    "# wykonuje operację element-wise - czyli element po elemencie\n",
    "A + B"
   ]
  },
  {
   "cell_type": "code",
   "execution_count": 529,
   "id": "7292012e-ed37-4be6-8277-a0b75bb9a9f6",
   "metadata": {},
   "outputs": [
    {
     "ename": "ValueError",
     "evalue": "operands could not be broadcast together with shapes (5,) (3,) ",
     "output_type": "error",
     "traceback": [
      "\u001b[31m---------------------------------------------------------------------------\u001b[39m",
      "\u001b[31mValueError\u001b[39m                                Traceback (most recent call last)",
      "\u001b[36mCell\u001b[39m\u001b[36m \u001b[39m\u001b[32mIn[529]\u001b[39m\u001b[32m, line 1\u001b[39m\n\u001b[32m----> \u001b[39m\u001b[32m1\u001b[39m \u001b[43mA\u001b[49m\u001b[43m \u001b[49m\u001b[43m+\u001b[49m\u001b[43m \u001b[49m\u001b[43mnp\u001b[49m\u001b[43m.\u001b[49m\u001b[43marange\u001b[49m\u001b[43m(\u001b[49m\u001b[32;43m3\u001b[39;49m\u001b[43m)\u001b[49m\n",
      "\u001b[31mValueError\u001b[39m: operands could not be broadcast together with shapes (5,) (3,) "
     ]
    }
   ],
   "source": [
    "# to oznacza, że poniższe nie zadziała - wymiary się nie zgadzają\n",
    "A + np.arange(3)"
   ]
  },
  {
   "cell_type": "code",
   "execution_count": 531,
   "id": "7e8ffba9-5d76-485a-ab44-88f8f21687f6",
   "metadata": {},
   "outputs": [
    {
     "data": {
      "text/plain": [
       "array([ 1,  2,  3,  4,  5,  6,  7,  8,  9, 10])"
      ]
     },
     "execution_count": 531,
     "metadata": {},
     "output_type": "execute_result"
    }
   ],
   "source": [
    "# do łączenia tablic musimy wykorzystać inne metody, tu concatenate\n",
    "np.concatenate((A,B))"
   ]
  },
  {
   "cell_type": "code",
   "execution_count": 544,
   "id": "a75a9554-1fa6-44c1-8c3f-3448487d7075",
   "metadata": {},
   "outputs": [
    {
     "name": "stdout",
     "output_type": "stream",
     "text": [
      "[[0 1 4 5]\n",
      " [2 3 6 7]] (2, 4)\n",
      "[[0 1]\n",
      " [2 3]\n",
      " [4 5]\n",
      " [6 7]] (4, 2)\n"
     ]
    }
   ],
   "source": [
    "# ta funkcja przyjmuje również argument o nazwie axis, który jest dość powszechny w przypadku biblioteki numpy i określa oś\n",
    "# dla której operacja ma zostać wykonana (pojawi się jeszcze wielokrotnie)\n",
    "C = np.arange(4).reshape(2,2)\n",
    "D = np.arange(4,8).reshape(2,2)\n",
    "print(np.concatenate((C,D), axis=1), np.concatenate((C,D), axis=1).shape)\n",
    "print(np.concatenate((C,D), axis=0), np.concatenate((C,D), axis=0).shape)"
   ]
  },
  {
   "cell_type": "code",
   "execution_count": 542,
   "id": "10d7f485-4dec-425c-8d73-12064b5c483f",
   "metadata": {},
   "outputs": [
    {
     "name": "stdout",
     "output_type": "stream",
     "text": [
      "[[[0 1]\n",
      "  [2 3]]\n",
      "\n",
      " [[4 5]\n",
      "  [6 7]]]\n",
      "(2, 2, 2)\n"
     ]
    }
   ],
   "source": [
    "# np.stack również łączy ze sobą tablice, ale tworzy nowy wymiar w tablicy wynikowej\n",
    "# domyślnie axis=0\n",
    "print(np.stack((C,D)))\n",
    "print(np.stack((C,D)).shape)"
   ]
  },
  {
   "cell_type": "code",
   "execution_count": 546,
   "id": "c2d62df3-c5a8-49f0-b92e-241d1eb56799",
   "metadata": {},
   "outputs": [
    {
     "name": "stdout",
     "output_type": "stream",
     "text": [
      "[[[0 1]\n",
      "  [4 5]]\n",
      "\n",
      " [[2 3]\n",
      "  [6 7]]]\n",
      "(2, 2, 2)\n"
     ]
    }
   ],
   "source": [
    "# a dal axis=1 mamy\n",
    "print(np.stack((C,D), axis=1))\n",
    "print(np.stack((C,D), axis=1).shape)"
   ]
  },
  {
   "cell_type": "code",
   "execution_count": 547,
   "id": "8d5c97d9-4bf8-44fd-b140-ed95ac02f942",
   "metadata": {},
   "outputs": [
    {
     "name": "stdout",
     "output_type": "stream",
     "text": [
      "[[0 1 4 5]\n",
      " [2 3 6 7]]\n",
      "(2, 4)\n"
     ]
    }
   ],
   "source": [
    "# są też funkcje, które stakują tablice wierszami\n",
    "print(np.hstack((C,D)))\n",
    "print(np.hstack((C,D)).shape)"
   ]
  },
  {
   "cell_type": "code",
   "execution_count": 548,
   "id": "baf6aa39-2a27-4154-853f-ee3ec45494b7",
   "metadata": {},
   "outputs": [
    {
     "name": "stdout",
     "output_type": "stream",
     "text": [
      "[[0 1]\n",
      " [2 3]\n",
      " [4 5]\n",
      " [6 7]]\n",
      "(4, 2)\n"
     ]
    }
   ],
   "source": [
    "# oraz kolumnami\n",
    "print(np.vstack((C,D)))\n",
    "print(np.vstack((C,D)).shape)"
   ]
  },
  {
   "cell_type": "code",
   "execution_count": 550,
   "id": "f14463ff-c8ed-41c9-907c-dbae898f37a5",
   "metadata": {},
   "outputs": [
    {
     "data": {
      "text/plain": [
       "array([[0, 1],\n",
       "       [2, 3],\n",
       "       [4, 5],\n",
       "       [6, 7],\n",
       "       [0, 1],\n",
       "       [2, 3]])"
      ]
     },
     "execution_count": 550,
     "metadata": {},
     "output_type": "execute_result"
    }
   ],
   "source": [
    "# możemy również stackować tablice różnych wymiarów, ale są oczywiście ograniczenia\n",
    "E = np.vstack((C,D))\n",
    "np.vstack((E,C))"
   ]
  },
  {
   "cell_type": "code",
   "execution_count": 556,
   "id": "4eb588f9-34ec-4250-b12c-7ffd3a8eb15d",
   "metadata": {},
   "outputs": [
    {
     "data": {
      "text/plain": [
       "array([[0, 1],\n",
       "       [2, 3],\n",
       "       [4, 5],\n",
       "       [6, 7],\n",
       "       [0, 1],\n",
       "       [2, 3]])"
      ]
     },
     "execution_count": 556,
     "metadata": {},
     "output_type": "execute_result"
    }
   ],
   "source": [
    "F = np.arange(8).reshape(4,2)\n",
    "np.vstack((F,C))\n",
    "# np.hstack((F,C)) # błąd!"
   ]
  },
  {
   "cell_type": "markdown",
   "id": "a095df9b-33f9-4563-acc3-6ba597c6ec59",
   "metadata": {},
   "source": [
    "## Zadania"
   ]
  },
  {
   "cell_type": "markdown",
   "id": "0c275ead-5511-464d-a6d0-0925640606f8",
   "metadata": {},
   "source": [
    "**Zadanie 1**\n",
    "\n",
    "Stwórz tablicę numpy o wymiarach (4,4) wypełnioną wartościami od 2 do 32 z krokiem 2 i przypisz ją do zmiennej.\n",
    "Wyświetl jej typ danch, liczbę elementów, wielkość pojedynczego elementu oraz ilość zaalokowanej pamięci.\n",
    "\n",
    "**Zadanie 2**\n",
    "\n",
    "Zwróć tablicę z zadania 1 jako widok.\n",
    "Zmień jej typ danych (możesz to zrobić np. funkcją `astype()`) na np.uint8.\n",
    "Sprawdź teraz czy tablica jest widokiem czy kopią tablicy oryginalnej. Wyświetl jej liczbę elementów, wielkość pojedynczego elementu oraz ilość zaalokowanej pamięci.\n",
    "\n",
    "**Zadanie 3**\n",
    "\n",
    "Wytnij z tablicy z zadania 1 obszar 2 x 2 \"ze środka\" tablicy (wartości 12,14, 20,22) na dwa sposoby:\n",
    "* jeden jako widok i przypisz do zmiennej\n",
    "* drugi jako kopia i przypisz do zmiennej\n",
    "\n",
    "Posługując się przykładami z zajęć sprawdź czy baza tych dwóch tablic jest różna (powinna być).\n",
    "\n",
    "**Zadanie 4**\n",
    "\n",
    "Stwórz tablicę 4x4, która zawiera wartości 1,2,3,4 w każdym wierszu.\n",
    "Następnie wykorzystując funkcje łączenia tablic utwórz tablicę połączoną z powyższej tablicy i jej wersji lustrzanej w poziomie (spróbuj użyć wycinków).\n",
    "\n",
    "**Zadanie 5**\n",
    "\n",
    "Utwórz tablicę o nazwie `Z_5` o wymiarach 2x2 wypełnioną wartościami 1.\n",
    "Wykorzystując funkcje łączenia tabel uwtórz tablicę, która finalnie będzie tablicą składającą się z 4-ech tablic `Z_5`, ale tak aby finalnie była to tablica 4 x 4 podobna do poniższej:\n",
    "\n",
    "1,1,2,2  \n",
    "1,1,2,2  \n",
    "3,3,4,4  \n",
    "3,3,4,4  "
   ]
  }
 ],
 "metadata": {
  "kernelspec": {
   "display_name": "Python 3 (ipykernel)",
   "language": "python",
   "name": "python3"
  },
  "language_info": {
   "codemirror_mode": {
    "name": "ipython",
    "version": 3
   },
   "file_extension": ".py",
   "mimetype": "text/x-python",
   "name": "python",
   "nbconvert_exporter": "python",
   "pygments_lexer": "ipython3",
   "version": "3.13.2"
  }
 },
 "nbformat": 4,
 "nbformat_minor": 5
}
