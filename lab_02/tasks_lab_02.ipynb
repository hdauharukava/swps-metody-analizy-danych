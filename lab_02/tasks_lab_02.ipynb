{
 "nbformat": 4,
 "nbformat_minor": 0,
 "metadata": {
  "colab": {
   "provenance": []
  },
  "kernelspec": {
   "name": "python3",
   "display_name": "Python 3 (ipykernel)",
   "language": "python"
  },
  "language_info": {
   "name": "python"
  }
 },
 "cells": [
  {
   "cell_type": "code",
   "source": [
    "import numpy as np"
   ],
   "metadata": {
    "id": "YZq2ETbmGPNe",
    "ExecuteTime": {
     "end_time": "2025-03-07T16:38:24.528693Z",
     "start_time": "2025-03-07T16:38:24.526054Z"
    }
   },
   "outputs": [],
   "execution_count": 46
  },
  {
   "cell_type": "markdown",
   "source": [
    "## **Zadanie 1**\n",
    "\n",
    "Stwórz tablicę numpy o wymiarach (4,4) wypełnioną wartościami od 2 do 32 z krokiem 2 i przypisz ją do zmiennej. Wyświetl jej:\n",
    "* typ danch,\n",
    "* liczbę elementów,\n",
    "* wielkość pojedynczego elementu\n",
    "* ilość zaalokowanej pamięci.\n",
    "\n"
   ],
   "metadata": {
    "id": "gpkktm_oBsF1"
   }
  },
  {
   "cell_type": "code",
   "metadata": {
    "colab": {
     "base_uri": "https://localhost:8080/"
    },
    "id": "dmKMfDIlBrJB",
    "outputId": "f96e233f-f1b3-4b9c-ac61-3a456f2f0dff",
    "ExecuteTime": {
     "end_time": "2025-03-07T16:38:24.541361Z",
     "start_time": "2025-03-07T16:38:24.538471Z"
    }
   },
   "source": [
    "array = np.arange(2,33,2).reshape(4,4)\n",
    "array"
   ],
   "outputs": [
    {
     "data": {
      "text/plain": [
       "array([[ 2,  4,  6,  8],\n",
       "       [10, 12, 14, 16],\n",
       "       [18, 20, 22, 24],\n",
       "       [26, 28, 30, 32]])"
      ]
     },
     "execution_count": 47,
     "metadata": {},
     "output_type": "execute_result"
    }
   ],
   "execution_count": 47
  },
  {
   "cell_type": "code",
   "source": [
    "# Typ danych\n",
    "array.dtype"
   ],
   "metadata": {
    "colab": {
     "base_uri": "https://localhost:8080/"
    },
    "id": "GKfjCoSBGaqf",
    "outputId": "670e809c-8a98-44f1-ca04-de48d36296b1",
    "ExecuteTime": {
     "end_time": "2025-03-07T16:38:24.572907Z",
     "start_time": "2025-03-07T16:38:24.570782Z"
    }
   },
   "outputs": [
    {
     "data": {
      "text/plain": [
       "dtype('int64')"
      ]
     },
     "execution_count": 48,
     "metadata": {},
     "output_type": "execute_result"
    }
   ],
   "execution_count": 48
  },
  {
   "cell_type": "code",
   "source": [
    "# Liczba elementów\n",
    "array.size"
   ],
   "metadata": {
    "colab": {
     "base_uri": "https://localhost:8080/"
    },
    "id": "sZSSHhpRHSwa",
    "outputId": "5d63e714-c70e-41d1-adad-affadc63e346",
    "ExecuteTime": {
     "end_time": "2025-03-07T16:38:24.602039Z",
     "start_time": "2025-03-07T16:38:24.600091Z"
    }
   },
   "outputs": [
    {
     "data": {
      "text/plain": [
       "16"
      ]
     },
     "execution_count": 49,
     "metadata": {},
     "output_type": "execute_result"
    }
   ],
   "execution_count": 49
  },
  {
   "cell_type": "code",
   "source": [
    "# Wielkość pojedynczego elementu\n",
    "array.itemsize"
   ],
   "metadata": {
    "colab": {
     "base_uri": "https://localhost:8080/"
    },
    "id": "wYZGXPISHjb5",
    "outputId": "b77dc267-28f2-44e9-ca42-e21c8ce235d2",
    "ExecuteTime": {
     "end_time": "2025-03-07T16:38:24.608964Z",
     "start_time": "2025-03-07T16:38:24.607143Z"
    }
   },
   "outputs": [
    {
     "data": {
      "text/plain": [
       "8"
      ]
     },
     "execution_count": 50,
     "metadata": {},
     "output_type": "execute_result"
    }
   ],
   "execution_count": 50
  },
  {
   "cell_type": "code",
   "source": [
    "# Ilość zaalokowanej pamięci\n",
    "array.itemsize * array.size"
   ],
   "metadata": {
    "colab": {
     "base_uri": "https://localhost:8080/"
    },
    "id": "RWCWu2bsH5OA",
    "outputId": "cc019e8a-99dd-434b-df77-1919c146e910",
    "ExecuteTime": {
     "end_time": "2025-03-07T16:38:24.636961Z",
     "start_time": "2025-03-07T16:38:24.634669Z"
    }
   },
   "outputs": [
    {
     "data": {
      "text/plain": [
       "128"
      ]
     },
     "execution_count": 51,
     "metadata": {},
     "output_type": "execute_result"
    }
   ],
   "execution_count": 51
  },
  {
   "cell_type": "markdown",
   "source": [
    "## **Zadanie 2**\n",
    "\n",
    "Zwróć tablicę z zadania 1 jako widok. Zmień jej typ danych (możesz to zrobić np. funkcją astype()) na np.uint8. Sprawdź teraz czy tablica jest widokiem czy kopią tablicy oryginalnej. Wyświetl jej\n",
    "* liczbę elementów,\n",
    "* wielkość pojedynczego elementu\n",
    "* ilość zaalokowanej pamięci."
   ],
   "metadata": {
    "id": "qhTkoqnhBxic"
   }
  },
  {
   "cell_type": "code",
   "source": [
    "def get_data_base(x):\n",
    "    base = x\n",
    "    while isinstance(base.base, np.ndarray):\n",
    "        base = base.base\n",
    "    return base\n",
    "\n",
    "def arrays_share_data(x, y):\n",
    "    return get_data_base(x) is get_data_base(y)"
   ],
   "metadata": {
    "id": "Sd0Vtg44MEMY",
    "ExecuteTime": {
     "end_time": "2025-03-07T16:38:24.654537Z",
     "start_time": "2025-03-07T16:38:24.652574Z"
    }
   },
   "outputs": [],
   "execution_count": 52
  },
  {
   "cell_type": "code",
   "source": [
    "array2 = array[:,:]\n",
    "arrays_share_data(array2, array)\n"
   ],
   "metadata": {
    "colab": {
     "base_uri": "https://localhost:8080/"
    },
    "id": "5w1lW6LwB5JV",
    "outputId": "e4e1a766-3d9b-4ce4-d660-12b90c64048d",
    "ExecuteTime": {
     "end_time": "2025-03-07T16:38:24.664919Z",
     "start_time": "2025-03-07T16:38:24.662789Z"
    }
   },
   "outputs": [
    {
     "data": {
      "text/plain": [
       "True"
      ]
     },
     "execution_count": 53,
     "metadata": {},
     "output_type": "execute_result"
    }
   ],
   "execution_count": 53
  },
  {
   "cell_type": "code",
   "source": [
    "# Zmiana typu danych\n",
    "array2 = array2.astype(dtype=np.uint8)\n",
    "arrays_share_data(array2, array)"
   ],
   "metadata": {
    "colab": {
     "base_uri": "https://localhost:8080/"
    },
    "id": "G9HifGp-MFsg",
    "outputId": "fb617fdf-4515-47eb-cb1b-a490e83b72ef",
    "ExecuteTime": {
     "end_time": "2025-03-07T16:40:23.109407Z",
     "start_time": "2025-03-07T16:40:23.106002Z"
    }
   },
   "outputs": [
    {
     "data": {
      "text/plain": [
       "False"
      ]
     },
     "execution_count": 64,
     "metadata": {},
     "output_type": "execute_result"
    }
   ],
   "execution_count": 64
  },
  {
   "cell_type": "code",
   "source": [
    "# Liczba elementów\n",
    "array2.size"
   ],
   "metadata": {
    "colab": {
     "base_uri": "https://localhost:8080/"
    },
    "id": "qq4XVHmFPCRI",
    "outputId": "ee4af2c2-f0d2-4574-f924-7dd5a891b59e",
    "ExecuteTime": {
     "end_time": "2025-03-07T16:40:24.579299Z",
     "start_time": "2025-03-07T16:40:24.575516Z"
    }
   },
   "outputs": [
    {
     "data": {
      "text/plain": [
       "16"
      ]
     },
     "execution_count": 65,
     "metadata": {},
     "output_type": "execute_result"
    }
   ],
   "execution_count": 65
  },
  {
   "cell_type": "code",
   "source": [
    "# Wielkość pojedynczego elementu\n",
    "array2.itemsize"
   ],
   "metadata": {
    "colab": {
     "base_uri": "https://localhost:8080/"
    },
    "id": "YsvSX4fiPJgI",
    "outputId": "9133667d-23df-4cff-f6dc-9b9bdb82c34e",
    "ExecuteTime": {
     "end_time": "2025-03-07T16:40:25.792027Z",
     "start_time": "2025-03-07T16:40:25.788705Z"
    }
   },
   "outputs": [
    {
     "data": {
      "text/plain": [
       "1"
      ]
     },
     "execution_count": 66,
     "metadata": {},
     "output_type": "execute_result"
    }
   ],
   "execution_count": 66
  },
  {
   "cell_type": "code",
   "source": [
    "# Ilość zaalokowanej pamięci\n",
    "array2.itemsize * array2.size"
   ],
   "metadata": {
    "id": "0GvH8Gm7PMuP",
    "outputId": "4d79e531-b9a0-44f7-b00f-bc76d0344608",
    "colab": {
     "base_uri": "https://localhost:8080/"
    },
    "ExecuteTime": {
     "end_time": "2025-03-07T16:40:26.922334Z",
     "start_time": "2025-03-07T16:40:26.918753Z"
    }
   },
   "outputs": [
    {
     "data": {
      "text/plain": [
       "16"
      ]
     },
     "execution_count": 67,
     "metadata": {},
     "output_type": "execute_result"
    }
   ],
   "execution_count": 67
  },
  {
   "cell_type": "markdown",
   "source": [
    "## **Zadanie 3**\n",
    "\n",
    "Wytnij z tablicy z zadania 1 obszar 2 x 2 \"ze środka\" tablicy (wartości 12,14, 20,22) na dwa sposoby:\n",
    "\n",
    "* jeden jako widok i przypisz do zmiennej\n",
    "* drugi jako kopia i przypisz do zmiennej\n",
    "\n",
    "Posługując się przykładami z zajęć sprawdź czy baza tych dwóch tablic jest różna (powinna być)."
   ],
   "metadata": {
    "id": "Z2If5Ia5CAhM"
   }
  },
  {
   "metadata": {
    "ExecuteTime": {
     "end_time": "2025-03-07T16:38:24.731712Z",
     "start_time": "2025-03-07T16:38:24.729490Z"
    }
   },
   "cell_type": "code",
   "source": [
    "# Like View\n",
    "array3 = array[1:3,1:3]\n",
    "arrays_share_data(array3, array)"
   ],
   "outputs": [
    {
     "data": {
      "text/plain": [
       "True"
      ]
     },
     "execution_count": 58,
     "metadata": {},
     "output_type": "execute_result"
    }
   ],
   "execution_count": 58
  },
  {
   "metadata": {
    "ExecuteTime": {
     "end_time": "2025-03-07T16:40:55.492665Z",
     "start_time": "2025-03-07T16:40:55.489182Z"
    }
   },
   "cell_type": "code",
   "source": "array3",
   "outputs": [
    {
     "data": {
      "text/plain": [
       "array([[12, 14],\n",
       "       [20, 22]])"
      ]
     },
     "execution_count": 68,
     "metadata": {},
     "output_type": "execute_result"
    }
   ],
   "execution_count": 68
  },
  {
   "metadata": {
    "ExecuteTime": {
     "end_time": "2025-03-07T16:38:24.772741Z",
     "start_time": "2025-03-07T16:38:24.770497Z"
    }
   },
   "cell_type": "code",
   "source": [
    "# Like Copy\n",
    "idx = [1,2]\n",
    "array4 = array[idx,1:3]\n",
    "arrays_share_data(array4, array)"
   ],
   "outputs": [
    {
     "data": {
      "text/plain": [
       "False"
      ]
     },
     "execution_count": 60,
     "metadata": {},
     "output_type": "execute_result"
    }
   ],
   "execution_count": 60
  },
  {
   "metadata": {
    "ExecuteTime": {
     "end_time": "2025-03-07T16:41:11.611358Z",
     "start_time": "2025-03-07T16:41:11.607950Z"
    }
   },
   "cell_type": "code",
   "source": "array4",
   "outputs": [
    {
     "data": {
      "text/plain": [
       "array([[12, 14],\n",
       "       [20, 22]])"
      ]
     },
     "execution_count": 69,
     "metadata": {},
     "output_type": "execute_result"
    }
   ],
   "execution_count": 69
  },
  {
   "cell_type": "markdown",
   "source": [
    "## **Zadanie 4**\n",
    "\n",
    "Stwórz tablicę 4x4, która zawiera wartości 1,2,3,4 w każdym wierszu. Następnie wykorzystując funkcje łączenia tablic utwórz tablicę połączoną z powyższej tablicy i jej wersji lustrzanej w poziomie (spróbuj użyć wycinków)."
   ],
   "metadata": {
    "id": "3lMfnrDpCLtk"
   }
  },
  {
   "metadata": {
    "ExecuteTime": {
     "end_time": "2025-03-07T16:38:24.800686Z",
     "start_time": "2025-03-07T16:38:24.798025Z"
    }
   },
   "cell_type": "code",
   "source": [
    "# Option 1\n",
    "array = np.tile(np.array([1, 2, 3, 4]), (4,1))\n",
    "mirror_array = array[:,::-1]\n",
    "combination = np.hstack((array, mirror_array))\n",
    "combination"
   ],
   "outputs": [
    {
     "data": {
      "text/plain": [
       "array([[1, 2, 3, 4, 4, 3, 2, 1],\n",
       "       [1, 2, 3, 4, 4, 3, 2, 1],\n",
       "       [1, 2, 3, 4, 4, 3, 2, 1],\n",
       "       [1, 2, 3, 4, 4, 3, 2, 1]])"
      ]
     },
     "execution_count": 61,
     "metadata": {},
     "output_type": "execute_result"
    }
   ],
   "execution_count": 61
  },
  {
   "metadata": {
    "ExecuteTime": {
     "end_time": "2025-03-07T16:42:36.920749Z",
     "start_time": "2025-03-07T16:42:36.917857Z"
    }
   },
   "cell_type": "code",
   "source": [
    "# Option 2\n",
    "combination = np.hstack((array, array[:,::-1]))\n",
    "combination"
   ],
   "outputs": [
    {
     "data": {
      "text/plain": [
       "array([[1, 2, 3, 4, 4, 3, 2, 1],\n",
       "       [1, 2, 3, 4, 4, 3, 2, 1],\n",
       "       [1, 2, 3, 4, 4, 3, 2, 1],\n",
       "       [1, 2, 3, 4, 4, 3, 2, 1]])"
      ]
     },
     "execution_count": 70,
     "metadata": {},
     "output_type": "execute_result"
    }
   ],
   "execution_count": 70
  },
  {
   "cell_type": "markdown",
   "source": [
    "## **Zadanie 5**\n",
    "\n",
    "Utwórz tablicę o nazwie Z_5 o wymiarach 2x2 wypełnioną wartościami 1. Wykorzystując funkcje łączenia tabel uwtórz tablicę, która finalnie będzie tablicą składającą się z 4-ech tablic Z_5, ale tak aby finalnie była to tablica 4 x 4 podobna do poniższej:\n",
    "\n",
    "1,1,2,2\n",
    "\n",
    "1,1,2,2\n",
    "\n",
    "3,3,4,4\n",
    "\n",
    "3,3,4,4"
   ],
   "metadata": {
    "id": "iBrWaYi_CP8M"
   }
  },
  {
   "cell_type": "code",
   "source": [
    "# Option 1\n",
    "Z_5 = np.ones((2,2), dtype=int)\n",
    "half_array = np.hstack((Z_5, Z_5+1))\n",
    "final_array = np.vstack((half_array, half_array+2))\n",
    "final_array"
   ],
   "metadata": {
    "id": "KO3g-1HvKNJ4",
    "ExecuteTime": {
     "end_time": "2025-03-07T16:38:24.827434Z",
     "start_time": "2025-03-07T16:38:24.824501Z"
    }
   },
   "outputs": [
    {
     "data": {
      "text/plain": [
       "array([[1, 1, 2, 2],\n",
       "       [1, 1, 2, 2],\n",
       "       [3, 3, 4, 4],\n",
       "       [3, 3, 4, 4]])"
      ]
     },
     "execution_count": 62,
     "metadata": {},
     "output_type": "execute_result"
    }
   ],
   "execution_count": 62
  },
  {
   "metadata": {
    "ExecuteTime": {
     "end_time": "2025-03-07T16:38:24.874724Z",
     "start_time": "2025-03-07T16:38:24.871449Z"
    }
   },
   "cell_type": "code",
   "source": [
    "# Option 2\n",
    "final_array = np.vstack((np.hstack((Z_5, Z_5 *2)), np.hstack((Z_5*3, Z_5 *4))))\n",
    "final_array"
   ],
   "outputs": [
    {
     "data": {
      "text/plain": [
       "array([[1, 1, 2, 2],\n",
       "       [1, 1, 2, 2],\n",
       "       [3, 3, 4, 4],\n",
       "       [3, 3, 4, 4]])"
      ]
     },
     "execution_count": 63,
     "metadata": {},
     "output_type": "execute_result"
    }
   ],
   "execution_count": 63
  }
 ]
}
