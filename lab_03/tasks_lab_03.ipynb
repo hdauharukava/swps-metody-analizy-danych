{
 "nbformat": 4,
 "nbformat_minor": 0,
 "metadata": {
  "colab": {
   "provenance": []
  },
  "kernelspec": {
   "name": "python3",
   "display_name": "Python 3 (ipykernel)",
   "language": "python"
  },
  "language_info": {
   "name": "python"
  }
 },
 "cells": [
  {
   "cell_type": "code",
   "source": [
    "import numpy as np"
   ],
   "metadata": {
    "id": "sYPUfHjlFHqq",
    "ExecuteTime": {
     "end_time": "2025-03-16T14:46:06.281131Z",
     "start_time": "2025-03-16T14:46:06.279315Z"
    }
   },
   "outputs": [],
   "execution_count": 3
  },
  {
   "cell_type": "markdown",
   "source": [
    "### 1. Stwórz tablicę o nazwie a_small_one o wymiarach 8x8 z wartościami od 1 do 64."
   ],
   "metadata": {
    "id": "vd1Mr-qnD4Cd"
   }
  },
  {
   "cell_type": "code",
   "source": [
    "a_small_one = np.arange(1,65).reshape(8,8)\n",
    "a_small_one"
   ],
   "metadata": {
    "colab": {
     "base_uri": "https://localhost:8080/"
    },
    "id": "n_HzoEVWFELK",
    "outputId": "ff1b99f9-2de1-4dfa-d534-ca4aafec38b8",
    "ExecuteTime": {
     "end_time": "2025-03-16T14:46:06.295706Z",
     "start_time": "2025-03-16T14:46:06.292175Z"
    }
   },
   "outputs": [
    {
     "data": {
      "text/plain": [
       "array([[ 1,  2,  3,  4,  5,  6,  7,  8],\n",
       "       [ 9, 10, 11, 12, 13, 14, 15, 16],\n",
       "       [17, 18, 19, 20, 21, 22, 23, 24],\n",
       "       [25, 26, 27, 28, 29, 30, 31, 32],\n",
       "       [33, 34, 35, 36, 37, 38, 39, 40],\n",
       "       [41, 42, 43, 44, 45, 46, 47, 48],\n",
       "       [49, 50, 51, 52, 53, 54, 55, 56],\n",
       "       [57, 58, 59, 60, 61, 62, 63, 64]])"
      ]
     },
     "execution_count": 4,
     "metadata": {},
     "output_type": "execute_result"
    }
   ],
   "execution_count": 4
  },
  {
   "cell_type": "markdown",
   "source": [
    "### 2. Dla tablicy a_small_one policz:\n",
    "\n",
    "\n",
    "*   sumę dla każdej kolumny,\n",
    "* sumę skumulowaną dla każdego wiersza,\n",
    "* wartość średnią dla każdego wiersza,\n",
    "   \n",
    "\n"
   ],
   "metadata": {
    "id": "HF1JjY2vEDgc"
   }
  },
  {
   "cell_type": "code",
   "source": [
    "# Suma dla każdej kolumny\n",
    "print(a_small_one.sum(axis=0))"
   ],
   "metadata": {
    "colab": {
     "base_uri": "https://localhost:8080/"
    },
    "id": "6S46ne_9FjUe",
    "outputId": "421dbdd8-143b-4831-c2ff-31a32914e1c0",
    "ExecuteTime": {
     "end_time": "2025-03-16T15:26:18.126598Z",
     "start_time": "2025-03-16T15:26:18.124545Z"
    }
   },
   "outputs": [
    {
     "name": "stdout",
     "output_type": "stream",
     "text": [
      "[232 240 248 256 264 272 280 288]\n"
     ]
    }
   ],
   "execution_count": 43
  },
  {
   "cell_type": "code",
   "source": [
    "# Suma skumulowana dla każdego wiersza\n",
    "print(a_small_one.cumsum(axis=1))"
   ],
   "metadata": {
    "colab": {
     "base_uri": "https://localhost:8080/"
    },
    "id": "ces-t75VGQrV",
    "outputId": "eb361f3e-2739-46d1-af6e-9291d0f98d1e",
    "ExecuteTime": {
     "end_time": "2025-03-16T15:26:26.349123Z",
     "start_time": "2025-03-16T15:26:26.346637Z"
    }
   },
   "outputs": [
    {
     "name": "stdout",
     "output_type": "stream",
     "text": [
      "[[  1   3   6  10  15  21  28  36]\n",
      " [  9  19  30  42  55  69  84 100]\n",
      " [ 17  35  54  74  95 117 140 164]\n",
      " [ 25  51  78 106 135 165 196 228]\n",
      " [ 33  67 102 138 175 213 252 292]\n",
      " [ 41  83 126 170 215 261 308 356]\n",
      " [ 49  99 150 202 255 309 364 420]\n",
      " [ 57 115 174 234 295 357 420 484]]\n"
     ]
    }
   ],
   "execution_count": 44
  },
  {
   "cell_type": "code",
   "source": [
    "# Wartość średnia dla każdego wiersza\n",
    "print(a_small_one.mean(axis=1))\n"
   ],
   "metadata": {
    "colab": {
     "base_uri": "https://localhost:8080/"
    },
    "id": "oIeIt4fcGnqe",
    "outputId": "cfe039a2-870c-4302-8747-81832aa4ca02",
    "ExecuteTime": {
     "end_time": "2025-03-16T14:46:07.621468Z",
     "start_time": "2025-03-16T14:46:07.619370Z"
    }
   },
   "outputs": [
    {
     "name": "stdout",
     "output_type": "stream",
     "text": [
      "[ 4.5 12.5 20.5 28.5 36.5 44.5 52.5 60.5]\n"
     ]
    }
   ],
   "execution_count": 7
  },
  {
   "cell_type": "markdown",
   "source": [
    "### 3. Zwróć podtablicę z tablicy a_small_one z elementami parzystymi (nie nadpisuj tej zmiennej)."
   ],
   "metadata": {
    "id": "C6g1XwGVEgO8"
   }
  },
  {
   "cell_type": "code",
   "source": [
    "print(a_small_one[:,1::2])"
   ],
   "metadata": {
    "colab": {
     "base_uri": "https://localhost:8080/"
    },
    "id": "SIdQx-2EIqcW",
    "outputId": "c6f9a2dd-a072-4304-f731-d6549d3e6132",
    "ExecuteTime": {
     "end_time": "2025-03-16T14:46:07.677032Z",
     "start_time": "2025-03-16T14:46:07.674625Z"
    }
   },
   "outputs": [
    {
     "name": "stdout",
     "output_type": "stream",
     "text": [
      "[[ 2  4  6  8]\n",
      " [10 12 14 16]\n",
      " [18 20 22 24]\n",
      " [26 28 30 32]\n",
      " [34 36 38 40]\n",
      " [42 44 46 48]\n",
      " [50 52 54 56]\n",
      " [58 60 62 64]]\n"
     ]
    }
   ],
   "execution_count": 8
  },
  {
   "cell_type": "markdown",
   "source": [
    "### 4. Zapisz do zmiennej o nazwie no_even_small_one tablicę a_small_one zamieniając wartości parzyste na wartość np.nan."
   ],
   "metadata": {
    "id": "sqZ_8GZnEh8k"
   }
  },
  {
   "cell_type": "code",
   "source": [
    "even = (a_small_one % 2 == 0)\n",
    "no_even_small_one = a_small_one.copy()\n",
    "no_even_small_one = no_even_small_one.astype(float)\n",
    "no_even_small_one[even] = np.nan\n",
    "no_even_small_one"
   ],
   "metadata": {
    "colab": {
     "base_uri": "https://localhost:8080/"
    },
    "id": "qV9j6zjWJFJy",
    "outputId": "b50691a8-8f02-4cbc-a1b9-af13cc565da9",
    "ExecuteTime": {
     "end_time": "2025-03-16T14:46:07.728022Z",
     "start_time": "2025-03-16T14:46:07.724711Z"
    }
   },
   "outputs": [
    {
     "data": {
      "text/plain": [
       "array([[ 1., nan,  3., nan,  5., nan,  7., nan],\n",
       "       [ 9., nan, 11., nan, 13., nan, 15., nan],\n",
       "       [17., nan, 19., nan, 21., nan, 23., nan],\n",
       "       [25., nan, 27., nan, 29., nan, 31., nan],\n",
       "       [33., nan, 35., nan, 37., nan, 39., nan],\n",
       "       [41., nan, 43., nan, 45., nan, 47., nan],\n",
       "       [49., nan, 51., nan, 53., nan, 55., nan],\n",
       "       [57., nan, 59., nan, 61., nan, 63., nan]])"
      ]
     },
     "execution_count": 9,
     "metadata": {},
     "output_type": "execute_result"
    }
   ],
   "execution_count": 9
  },
  {
   "cell_type": "markdown",
   "source": [
    "### 5. Dla tablicy no_even_small_one policz funkcjami uwzględniającymi wartości nan (zazwyczaj posiadają przedrostek nan):\n",
    "\n",
    "* sumę dla każdego wiersza,\n",
    "* średnią dla każdej kolumny,\n",
    "* wartość najmniejszą w całej tablicy,"
   ],
   "metadata": {
    "id": "3ZgJlrV5ElIc"
   }
  },
  {
   "cell_type": "code",
   "source": [
    "# Suma dla każdego wiersza\n",
    "print(np.nansum(no_even_small_one, axis=1))"
   ],
   "metadata": {
    "colab": {
     "base_uri": "https://localhost:8080/"
    },
    "id": "ae4M3Ot1J4dw",
    "outputId": "577d7891-a8a4-46f5-eddc-7c9273e5aa2a",
    "ExecuteTime": {
     "end_time": "2025-03-16T15:28:21.765985Z",
     "start_time": "2025-03-16T15:28:21.764079Z"
    }
   },
   "outputs": [
    {
     "name": "stdout",
     "output_type": "stream",
     "text": [
      "[ 36. 100. 164. 228. 292. 356. 420. 484.]\n"
     ]
    }
   ],
   "execution_count": 45
  },
  {
   "cell_type": "code",
   "source": [
    "# średnia dla każdej kolumny\n",
    "print(np.nanmean(no_even_small_one, axis= 0))"
   ],
   "metadata": {
    "colab": {
     "base_uri": "https://localhost:8080/"
    },
    "id": "FXN8pnZ9MrZi",
    "outputId": "e5d4ae81-8d55-45f6-9ac9-fae957b23035",
    "ExecuteTime": {
     "end_time": "2025-03-16T15:28:26.624836Z",
     "start_time": "2025-03-16T15:28:26.622846Z"
    }
   },
   "outputs": [
    {
     "name": "stdout",
     "output_type": "stream",
     "text": [
      "[29. 30. 31. 32. 33. 34. 35. 36.]\n"
     ]
    }
   ],
   "execution_count": 46
  },
  {
   "cell_type": "code",
   "source": [
    "# Wartość najmniejszą i w całej tablicy\n",
    "print(np.nanmin(no_even_small_one))"
   ],
   "metadata": {
    "colab": {
     "base_uri": "https://localhost:8080/"
    },
    "id": "-3cU4y5ENI6L",
    "outputId": "e85daabc-24fe-457c-c936-9e55a9cc5979",
    "ExecuteTime": {
     "end_time": "2025-03-16T14:46:07.847252Z",
     "start_time": "2025-03-16T14:46:07.845506Z"
    }
   },
   "outputs": [
    {
     "name": "stdout",
     "output_type": "stream",
     "text": [
      "1.0\n"
     ]
    }
   ],
   "execution_count": 12
  },
  {
   "cell_type": "markdown",
   "source": [
    "### 6. Do tablicy no_even_small_one wstaw za pomocą funkcji np.where:\n",
    "\n",
    "* wartości 1 dla każdej wartości np.nan (zobacz wbudowaną funkcję np.isnan())\n",
    "* liczby parzyste, które wcześniej zastąpiliśmy wartościami nan (teraz 1 jeżeli wykonany jest podpunkt pierwszy), więc przywracamy ten tablicy wygląd oryginalny z tablicy a_small_one - dla warunku wstawiaj wartość z a_small_one lub no_even_small_one"
   ],
   "metadata": {
    "id": "rn2xyQHOErzM"
   }
  },
  {
   "metadata": {
    "ExecuteTime": {
     "end_time": "2025-03-16T14:49:59.856027Z",
     "start_time": "2025-03-16T14:49:59.852901Z"
    }
   },
   "cell_type": "code",
   "source": [
    "# Wartości 1 dla każdej wartości np.nan\n",
    "no_even_small_one = np.where(np.isnan(no_even_small_one), 1, no_even_small_one)\n",
    "no_even_small_one"
   ],
   "outputs": [
    {
     "data": {
      "text/plain": [
       "array([[ 1.,  1.,  3.,  1.,  5.,  1.,  7.,  1.],\n",
       "       [ 9.,  1., 11.,  1., 13.,  1., 15.,  1.],\n",
       "       [17.,  1., 19.,  1., 21.,  1., 23.,  1.],\n",
       "       [25.,  1., 27.,  1., 29.,  1., 31.,  1.],\n",
       "       [33.,  1., 35.,  1., 37.,  1., 39.,  1.],\n",
       "       [41.,  1., 43.,  1., 45.,  1., 47.,  1.],\n",
       "       [49.,  1., 51.,  1., 53.,  1., 55.,  1.],\n",
       "       [57.,  1., 59.,  1., 61.,  1., 63.,  1.]])"
      ]
     },
     "execution_count": 21,
     "metadata": {},
     "output_type": "execute_result"
    }
   ],
   "execution_count": 21
  },
  {
   "metadata": {
    "ExecuteTime": {
     "end_time": "2025-03-16T14:53:24.694811Z",
     "start_time": "2025-03-16T14:53:24.692079Z"
    }
   },
   "cell_type": "code",
   "source": [
    "# Liczby parzyste\n",
    "no_even_small_one = np.where(a_small_one > no_even_small_one, a_small_one, no_even_small_one)\n",
    "no_even_small_one"
   ],
   "outputs": [
    {
     "data": {
      "text/plain": [
       "array([[ 1.,  2.,  3.,  4.,  5.,  6.,  7.,  8.],\n",
       "       [ 9., 10., 11., 12., 13., 14., 15., 16.],\n",
       "       [17., 18., 19., 20., 21., 22., 23., 24.],\n",
       "       [25., 26., 27., 28., 29., 30., 31., 32.],\n",
       "       [33., 34., 35., 36., 37., 38., 39., 40.],\n",
       "       [41., 42., 43., 44., 45., 46., 47., 48.],\n",
       "       [49., 50., 51., 52., 53., 54., 55., 56.],\n",
       "       [57., 58., 59., 60., 61., 62., 63., 64.]])"
      ]
     },
     "execution_count": 22,
     "metadata": {},
     "output_type": "execute_result"
    }
   ],
   "execution_count": 22
  },
  {
   "cell_type": "markdown",
   "source": [
    "### 7. Stwórz tablicę o nazwie sto_by_sto o wymiarach 100x100 próbkując wartości z rozkładu normalnego standardowego."
   ],
   "metadata": {
    "id": "rKKlS2K1E2L7"
   }
  },
  {
   "cell_type": "code",
   "source": [
    "rng = np.random.default_rng()"
   ],
   "metadata": {
    "id": "E1GakGQON-Jt",
    "ExecuteTime": {
     "end_time": "2025-03-16T14:46:07.872283Z",
     "start_time": "2025-03-16T14:46:07.870147Z"
    }
   },
   "outputs": [],
   "execution_count": 13
  },
  {
   "cell_type": "code",
   "source": [
    "sto_by_sto = rng.normal(size=(100,100))\n",
    "sto_by_sto"
   ],
   "metadata": {
    "colab": {
     "base_uri": "https://localhost:8080/"
    },
    "id": "pj8wZKrPN1io",
    "outputId": "14761409-4762-459e-97a3-4dbf941f3f23",
    "ExecuteTime": {
     "end_time": "2025-03-16T14:46:07.899301Z",
     "start_time": "2025-03-16T14:46:07.896433Z"
    }
   },
   "outputs": [
    {
     "data": {
      "text/plain": [
       "array([[ 0.07566934, -1.15291632,  0.14129953, ..., -1.59129842,\n",
       "        -0.56926621,  0.08923535],\n",
       "       [ 0.71069962, -0.68585608,  0.63144191, ...,  0.21140193,\n",
       "         0.41540382,  0.13332266],\n",
       "       [ 0.84156767,  0.53438223, -0.85521231, ..., -1.93592724,\n",
       "        -0.50656012, -2.06337189],\n",
       "       ...,\n",
       "       [-0.41158762, -0.73176322, -0.11342814, ...,  0.09290286,\n",
       "         0.66935513,  0.22411457],\n",
       "       [-0.54004127, -1.36014725,  0.29500206, ..., -0.13558135,\n",
       "         1.09292057,  0.07666958],\n",
       "       [ 1.38249469,  0.39820065,  0.38694377, ...,  0.30190562,\n",
       "        -1.28153225, -0.48699228]])"
      ]
     },
     "execution_count": 14,
     "metadata": {},
     "output_type": "execute_result"
    }
   ],
   "execution_count": 14
  },
  {
   "cell_type": "markdown",
   "source": [
    "### 8. Dla tablicy sto_by_sto policz:\n",
    "\n",
    "* wartość średnią w każdym wierszu i kolumnie (oddzielnie),\n",
    "* policz średnią różnicę bezwzględną dla wartości w powyższym punkcie względem wartości 0 (oddzielnie dla średniej z kolumn i średniej z wierszy, pamiętam o tym, że operacje na tablicy numpy wykonywane są w trybie broadcast)."
   ],
   "metadata": {
    "id": "LwKg_YmqE3wT"
   }
  },
  {
   "metadata": {
    "ExecuteTime": {
     "end_time": "2025-03-16T15:28:43.260821Z",
     "start_time": "2025-03-16T15:28:43.257894Z"
    }
   },
   "cell_type": "code",
   "source": [
    "# Wartość średnia w każdym wierszu\n",
    "mean_row = np.mean(sto_by_sto, axis=1)\n",
    "mean_row"
   ],
   "outputs": [
    {
     "data": {
      "text/plain": [
       "array([ 0.12462734, -0.02443559, -0.16252594,  0.18129859,  0.02128013,\n",
       "       -0.13955731, -0.11238357,  0.10612001, -0.00484227, -0.11353601,\n",
       "        0.04494254, -0.18224541, -0.00306621,  0.0220917 , -0.11941996,\n",
       "        0.10715055, -0.02317992,  0.01358692,  0.05043196,  0.02274577,\n",
       "        0.04608244,  0.05764908, -0.01685772,  0.00793966, -0.13459776,\n",
       "        0.13040628, -0.0646291 , -0.18243147, -0.09750773, -0.0080061 ,\n",
       "        0.0030682 ,  0.00181807,  0.13684794, -0.0663538 , -0.09045305,\n",
       "        0.05358564, -0.13767491,  0.0373399 , -0.0231052 ,  0.01134909,\n",
       "       -0.03292022, -0.03306103, -0.09445852,  0.05041933,  0.02641727,\n",
       "       -0.05600915,  0.21012156, -0.00467007,  0.00555925,  0.08491691,\n",
       "       -0.00663723, -0.0560861 ,  0.1659093 ,  0.12612242, -0.00787405,\n",
       "       -0.0279724 ,  0.12682718, -0.01450377,  0.11101679, -0.14846526,\n",
       "       -0.03463688, -0.06642453,  0.07382484, -0.02679459, -0.01529   ,\n",
       "       -0.03122511, -0.01387178, -0.01483497,  0.08100632,  0.08773983,\n",
       "       -0.08433742,  0.04209036, -0.054536  , -0.09369072, -0.03045129,\n",
       "        0.25124591, -0.05825544, -0.0215744 , -0.06530777,  0.02082755,\n",
       "        0.04145496,  0.27908423,  0.01011092,  0.00399835, -0.00461015,\n",
       "       -0.18867031, -0.10721628,  0.05734295, -0.02444334, -0.02646326,\n",
       "        0.07414605,  0.00648413,  0.04965176, -0.14543909,  0.07685175,\n",
       "       -0.17949929,  0.01818528, -0.11839916,  0.08033104,  0.07146194])"
      ]
     },
     "execution_count": 47,
     "metadata": {},
     "output_type": "execute_result"
    }
   ],
   "execution_count": 47
  },
  {
   "metadata": {
    "ExecuteTime": {
     "end_time": "2025-03-16T15:28:47.874134Z",
     "start_time": "2025-03-16T15:28:47.870758Z"
    }
   },
   "cell_type": "code",
   "source": [
    "# Wartość średnia w każdej kolumnie\n",
    "mean_col = np.mean(sto_by_sto, axis=0)\n",
    "mean_col"
   ],
   "outputs": [
    {
     "data": {
      "text/plain": [
       "array([ 1.71304543e-01,  5.83368012e-02, -5.64470814e-02,  3.82116662e-02,\n",
       "        9.16770160e-02,  5.51758686e-03, -1.67050024e-01,  2.83271063e-03,\n",
       "       -6.76519320e-02, -6.77344420e-02,  2.43580364e-02, -1.59376822e-01,\n",
       "        8.96216536e-02, -7.51477823e-03, -8.82352688e-02, -2.50653602e-02,\n",
       "       -3.70817374e-02,  8.94461849e-02, -8.14796950e-02,  2.68271316e-02,\n",
       "        1.38091662e-02, -4.15549921e-02, -4.90578424e-02,  8.21511731e-03,\n",
       "        7.41391405e-02,  3.11556700e-02,  1.16757786e-01, -1.38895802e-01,\n",
       "        3.99520611e-02, -3.85878608e-02,  4.12395560e-02,  2.15741047e-03,\n",
       "        6.97044840e-02, -1.21560085e-01,  3.85303138e-02,  5.35019007e-02,\n",
       "        2.52517351e-01, -3.88301683e-02,  4.45353524e-02,  2.99517433e-01,\n",
       "        3.68440414e-02,  1.74274859e-01,  1.30024564e-02, -1.17984799e-01,\n",
       "       -1.24479093e-01,  4.57389759e-04, -1.17490211e-01, -9.12270963e-02,\n",
       "       -1.21921970e-01,  1.33349940e-01, -5.29451541e-02, -3.45177277e-02,\n",
       "       -4.54336226e-02,  1.61792767e-01, -1.01527272e-01, -1.12396543e-04,\n",
       "       -7.38482689e-03, -1.92477750e-02, -3.06092947e-02, -1.56749799e-01,\n",
       "        6.52140010e-02, -4.20032684e-02,  3.52693707e-02,  2.93299342e-03,\n",
       "       -7.14305372e-02,  2.08120511e-01, -8.66770192e-02, -1.01024500e-01,\n",
       "       -1.17970317e-01,  5.97066588e-02,  1.73345495e-02, -7.98260629e-02,\n",
       "        7.60026816e-02,  3.09454864e-02, -1.00378058e-02, -1.54357053e-02,\n",
       "       -3.55599968e-02,  6.00462706e-02,  2.27543820e-02, -7.55318025e-02,\n",
       "       -6.42807121e-02,  5.34069435e-02,  1.32131306e-01,  5.15198974e-02,\n",
       "        4.24935912e-02, -6.00697994e-02,  5.65784093e-02,  1.10440387e-01,\n",
       "        6.51510844e-02, -1.24050926e-01, -1.01668398e-01,  1.10047307e-01,\n",
       "        3.97072765e-02, -1.01510663e-01, -6.26813777e-02, -5.87598160e-02,\n",
       "       -7.49963725e-02, -4.72851644e-02, -4.81647665e-02, -3.85993017e-02])"
      ]
     },
     "execution_count": 48,
     "metadata": {},
     "output_type": "execute_result"
    }
   ],
   "execution_count": 48
  },
  {
   "metadata": {
    "ExecuteTime": {
     "end_time": "2025-03-16T15:10:24.857375Z",
     "start_time": "2025-03-16T15:10:24.855349Z"
    }
   },
   "cell_type": "code",
   "source": [
    "# Średnia różnica bezwzględna dla średniej z wierszy\n",
    "print(np.mean(np.abs(mean_row)))"
   ],
   "outputs": [
    {
     "name": "stdout",
     "output_type": "stream",
     "text": [
      "0.07068709873356692\n"
     ]
    }
   ],
   "execution_count": 29
  },
  {
   "metadata": {
    "ExecuteTime": {
     "end_time": "2025-03-16T15:11:28.025546Z",
     "start_time": "2025-03-16T15:11:28.023274Z"
    }
   },
   "cell_type": "code",
   "source": [
    "# Średnia różnica bezwzględna dla średniej z kolumn\n",
    "print(np.mean(np.abs(mean_col)))"
   ],
   "outputs": [
    {
     "name": "stdout",
     "output_type": "stream",
     "text": [
      "0.07008948613779953\n"
     ]
    }
   ],
   "execution_count": 30
  },
  {
   "cell_type": "markdown",
   "source": [
    "### 9. Stwórz tablicę o wymiarach 1000x1000 uzupełniając ją wartościami losowymi z rozkładu normalnego standardowego, a następnie posiłkując się przykładami z labów poprzednich (moduł timeit) porównaj czasy wykonania dla tej tablicy:\n",
    "\n",
    "* zapisu do pliku tekstowego vs. zapis do pliku w formacie picle vs. zapis do pliku skompresowanego (funkcja savez_compressed w dokumentacji biblioteki numpy)\n",
    "* odczytu dla trzech wyżej wymienionych plików."
   ],
   "metadata": {
    "id": "AHxmuemTE9XS"
   }
  },
  {
   "metadata": {
    "ExecuteTime": {
     "end_time": "2025-03-16T15:12:51.875641Z",
     "start_time": "2025-03-16T15:12:51.867231Z"
    }
   },
   "cell_type": "code",
   "source": "thousand = rng.normal(size=(1000, 1000))",
   "outputs": [],
   "execution_count": 32
  },
  {
   "metadata": {
    "ExecuteTime": {
     "end_time": "2025-03-16T15:13:10.730906Z",
     "start_time": "2025-03-16T15:13:10.728914Z"
    }
   },
   "cell_type": "code",
   "source": "from time import time",
   "outputs": [],
   "execution_count": 34
  },
  {
   "metadata": {
    "ExecuteTime": {
     "end_time": "2025-03-16T15:20:19.463926Z",
     "start_time": "2025-03-16T15:20:19.073596Z"
    }
   },
   "cell_type": "code",
   "source": [
    "# Zapis do pliku tekstowego\n",
    "start_time = time()\n",
    "np.savetxt('thousand.txt', thousand)\n",
    "end_time_txt = time() - start_time"
   ],
   "outputs": [],
   "execution_count": 37
  },
  {
   "metadata": {
    "ExecuteTime": {
     "end_time": "2025-03-16T15:20:44.358167Z",
     "start_time": "2025-03-16T15:20:44.354631Z"
    }
   },
   "cell_type": "code",
   "source": [
    "# Zapis do pliku w formacie picle\n",
    "start_time = time()\n",
    "np.save('thousand_pickle', thousand)\n",
    "end_time_picle = time() - start_time"
   ],
   "outputs": [],
   "execution_count": 39
  },
  {
   "metadata": {
    "ExecuteTime": {
     "end_time": "2025-03-16T15:20:47.948085Z",
     "start_time": "2025-03-16T15:20:47.706234Z"
    }
   },
   "cell_type": "code",
   "source": [
    "# Zapis do pliku skompresowanego\n",
    "start_time = time()\n",
    "np.savez_compressed('thousand_compressed', thousand)\n",
    "end_time_comp = time() - start_time"
   ],
   "outputs": [],
   "execution_count": 40
  },
  {
   "metadata": {
    "ExecuteTime": {
     "end_time": "2025-03-16T15:21:02.210295Z",
     "start_time": "2025-03-16T15:21:02.208410Z"
    }
   },
   "cell_type": "code",
   "source": "print(f\"{end_time_txt} - Time for txt\\n{end_time_picle} - Time for picle\\n{end_time_comp} - Time for compressed file\")",
   "outputs": [
    {
     "name": "stdout",
     "output_type": "stream",
     "text": [
      "0.38864588737487793 - Time for txt\n",
      "0.0019328594207763672 - Time for picle\n",
      "0.2401881217956543 - Time for compressed file\n"
     ]
    }
   ],
   "execution_count": 42
  }
 ]
}
