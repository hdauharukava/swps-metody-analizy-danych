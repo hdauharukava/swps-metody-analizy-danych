{
 "nbformat": 4,
 "nbformat_minor": 0,
 "metadata": {
  "colab": {
   "provenance": []
  },
  "kernelspec": {
   "name": "python3",
   "display_name": "Python 3 (ipykernel)",
   "language": "python"
  },
  "language_info": {
   "name": "python"
  }
 },
 "cells": [
  {
   "cell_type": "code",
   "source": [
    "import numpy as np"
   ],
   "metadata": {
    "id": "sYPUfHjlFHqq",
    "ExecuteTime": {
     "end_time": "2025-03-16T16:00:56.097595Z",
     "start_time": "2025-03-16T16:00:56.053470Z"
    }
   },
   "outputs": [],
   "execution_count": 1
  },
  {
   "cell_type": "markdown",
   "source": [
    "### 1. Stwórz tablicę o nazwie a_small_one o wymiarach 8x8 z wartościami od 1 do 64."
   ],
   "metadata": {
    "id": "vd1Mr-qnD4Cd"
   }
  },
  {
   "cell_type": "code",
   "source": [
    "a_small_one = np.arange(1,65).reshape(8,8)\n",
    "a_small_one"
   ],
   "metadata": {
    "colab": {
     "base_uri": "https://localhost:8080/"
    },
    "id": "n_HzoEVWFELK",
    "outputId": "ff1b99f9-2de1-4dfa-d534-ca4aafec38b8",
    "ExecuteTime": {
     "end_time": "2025-03-16T16:00:56.109303Z",
     "start_time": "2025-03-16T16:00:56.105472Z"
    }
   },
   "outputs": [
    {
     "data": {
      "text/plain": [
       "array([[ 1,  2,  3,  4,  5,  6,  7,  8],\n",
       "       [ 9, 10, 11, 12, 13, 14, 15, 16],\n",
       "       [17, 18, 19, 20, 21, 22, 23, 24],\n",
       "       [25, 26, 27, 28, 29, 30, 31, 32],\n",
       "       [33, 34, 35, 36, 37, 38, 39, 40],\n",
       "       [41, 42, 43, 44, 45, 46, 47, 48],\n",
       "       [49, 50, 51, 52, 53, 54, 55, 56],\n",
       "       [57, 58, 59, 60, 61, 62, 63, 64]])"
      ]
     },
     "execution_count": 2,
     "metadata": {},
     "output_type": "execute_result"
    }
   ],
   "execution_count": 2
  },
  {
   "cell_type": "markdown",
   "source": [
    "### 2. Dla tablicy a_small_one policz:\n",
    "\n",
    "\n",
    "*   sumę dla każdej kolumny,\n",
    "* sumę skumulowaną dla każdego wiersza,\n",
    "* wartość średnią dla każdego wiersza,\n",
    "   \n",
    "\n"
   ],
   "metadata": {
    "id": "HF1JjY2vEDgc"
   }
  },
  {
   "cell_type": "code",
   "source": [
    "# Suma dla każdej kolumny\n",
    "print(a_small_one.sum(axis=0))"
   ],
   "metadata": {
    "colab": {
     "base_uri": "https://localhost:8080/"
    },
    "id": "6S46ne_9FjUe",
    "outputId": "421dbdd8-143b-4831-c2ff-31a32914e1c0",
    "ExecuteTime": {
     "end_time": "2025-03-16T16:00:56.456369Z",
     "start_time": "2025-03-16T16:00:56.453901Z"
    }
   },
   "outputs": [
    {
     "name": "stdout",
     "output_type": "stream",
     "text": [
      "[232 240 248 256 264 272 280 288]\n"
     ]
    }
   ],
   "execution_count": 3
  },
  {
   "cell_type": "code",
   "source": [
    "# Suma skumulowana dla każdego wiersza\n",
    "print(a_small_one.cumsum(axis=1))"
   ],
   "metadata": {
    "colab": {
     "base_uri": "https://localhost:8080/"
    },
    "id": "ces-t75VGQrV",
    "outputId": "eb361f3e-2739-46d1-af6e-9291d0f98d1e",
    "ExecuteTime": {
     "end_time": "2025-03-16T16:00:56.577741Z",
     "start_time": "2025-03-16T16:00:56.575495Z"
    }
   },
   "outputs": [
    {
     "name": "stdout",
     "output_type": "stream",
     "text": [
      "[[  1   3   6  10  15  21  28  36]\n",
      " [  9  19  30  42  55  69  84 100]\n",
      " [ 17  35  54  74  95 117 140 164]\n",
      " [ 25  51  78 106 135 165 196 228]\n",
      " [ 33  67 102 138 175 213 252 292]\n",
      " [ 41  83 126 170 215 261 308 356]\n",
      " [ 49  99 150 202 255 309 364 420]\n",
      " [ 57 115 174 234 295 357 420 484]]\n"
     ]
    }
   ],
   "execution_count": 4
  },
  {
   "cell_type": "code",
   "source": [
    "# Wartość średnia dla każdego wiersza\n",
    "print(a_small_one.mean(axis=1))\n"
   ],
   "metadata": {
    "colab": {
     "base_uri": "https://localhost:8080/"
    },
    "id": "oIeIt4fcGnqe",
    "outputId": "cfe039a2-870c-4302-8747-81832aa4ca02",
    "ExecuteTime": {
     "end_time": "2025-03-16T16:00:56.695844Z",
     "start_time": "2025-03-16T16:00:56.693676Z"
    }
   },
   "outputs": [
    {
     "name": "stdout",
     "output_type": "stream",
     "text": [
      "[ 4.5 12.5 20.5 28.5 36.5 44.5 52.5 60.5]\n"
     ]
    }
   ],
   "execution_count": 5
  },
  {
   "cell_type": "markdown",
   "source": [
    "### 3. Zwróć podtablicę z tablicy a_small_one z elementami parzystymi (nie nadpisuj tej zmiennej)."
   ],
   "metadata": {
    "id": "C6g1XwGVEgO8"
   }
  },
  {
   "cell_type": "code",
   "source": [
    "print(a_small_one[:,1::2])"
   ],
   "metadata": {
    "colab": {
     "base_uri": "https://localhost:8080/"
    },
    "id": "SIdQx-2EIqcW",
    "outputId": "c6f9a2dd-a072-4304-f731-d6549d3e6132",
    "ExecuteTime": {
     "end_time": "2025-03-16T16:00:56.749622Z",
     "start_time": "2025-03-16T16:00:56.747425Z"
    }
   },
   "outputs": [
    {
     "name": "stdout",
     "output_type": "stream",
     "text": [
      "[[ 2  4  6  8]\n",
      " [10 12 14 16]\n",
      " [18 20 22 24]\n",
      " [26 28 30 32]\n",
      " [34 36 38 40]\n",
      " [42 44 46 48]\n",
      " [50 52 54 56]\n",
      " [58 60 62 64]]\n"
     ]
    }
   ],
   "execution_count": 6
  },
  {
   "cell_type": "markdown",
   "source": [
    "### 4. Zapisz do zmiennej o nazwie no_even_small_one tablicę a_small_one zamieniając wartości parzyste na wartość np.nan."
   ],
   "metadata": {
    "id": "sqZ_8GZnEh8k"
   }
  },
  {
   "cell_type": "code",
   "source": [
    "even = (a_small_one % 2 == 0)\n",
    "no_even_small_one = a_small_one.copy()\n",
    "no_even_small_one = no_even_small_one.astype(float)\n",
    "no_even_small_one[even] = np.nan\n",
    "no_even_small_one"
   ],
   "metadata": {
    "colab": {
     "base_uri": "https://localhost:8080/"
    },
    "id": "qV9j6zjWJFJy",
    "outputId": "b50691a8-8f02-4cbc-a1b9-af13cc565da9",
    "ExecuteTime": {
     "end_time": "2025-03-16T16:00:56.780456Z",
     "start_time": "2025-03-16T16:00:56.777457Z"
    }
   },
   "outputs": [
    {
     "data": {
      "text/plain": [
       "array([[ 1., nan,  3., nan,  5., nan,  7., nan],\n",
       "       [ 9., nan, 11., nan, 13., nan, 15., nan],\n",
       "       [17., nan, 19., nan, 21., nan, 23., nan],\n",
       "       [25., nan, 27., nan, 29., nan, 31., nan],\n",
       "       [33., nan, 35., nan, 37., nan, 39., nan],\n",
       "       [41., nan, 43., nan, 45., nan, 47., nan],\n",
       "       [49., nan, 51., nan, 53., nan, 55., nan],\n",
       "       [57., nan, 59., nan, 61., nan, 63., nan]])"
      ]
     },
     "execution_count": 7,
     "metadata": {},
     "output_type": "execute_result"
    }
   ],
   "execution_count": 7
  },
  {
   "cell_type": "markdown",
   "source": [
    "### 5. Dla tablicy no_even_small_one policz funkcjami uwzględniającymi wartości nan (zazwyczaj posiadają przedrostek nan):\n",
    "\n",
    "* sumę dla każdego wiersza,\n",
    "* średnią dla każdej kolumny,\n",
    "* wartość najmniejszą w całej tablicy,"
   ],
   "metadata": {
    "id": "3ZgJlrV5ElIc"
   }
  },
  {
   "cell_type": "code",
   "source": [
    "# Suma dla każdego wiersza\n",
    "print(np.nansum(no_even_small_one, axis=1))"
   ],
   "metadata": {
    "colab": {
     "base_uri": "https://localhost:8080/"
    },
    "id": "ae4M3Ot1J4dw",
    "outputId": "577d7891-a8a4-46f5-eddc-7c9273e5aa2a",
    "ExecuteTime": {
     "end_time": "2025-03-16T16:00:56.834211Z",
     "start_time": "2025-03-16T16:00:56.832348Z"
    }
   },
   "outputs": [
    {
     "name": "stdout",
     "output_type": "stream",
     "text": [
      "[ 16.  48.  80. 112. 144. 176. 208. 240.]\n"
     ]
    }
   ],
   "execution_count": 8
  },
  {
   "cell_type": "code",
   "source": [
    "# Średnia dla każdej kolumny\n",
    "print(np.nanmean(no_even_small_one, axis= 0))"
   ],
   "metadata": {
    "colab": {
     "base_uri": "https://localhost:8080/"
    },
    "id": "FXN8pnZ9MrZi",
    "outputId": "e5d4ae81-8d55-45f6-9ac9-fae957b23035",
    "ExecuteTime": {
     "end_time": "2025-03-16T16:07:33.704547Z",
     "start_time": "2025-03-16T16:07:33.702014Z"
    }
   },
   "outputs": [
    {
     "name": "stdout",
     "output_type": "stream",
     "text": [
      "[29. 30. 31. 32. 33. 34. 35. 36.]\n"
     ]
    }
   ],
   "execution_count": 33
  },
  {
   "cell_type": "code",
   "source": [
    "# Wartość najmniejszą i w całej tablicy\n",
    "print(np.nanmin(no_even_small_one))"
   ],
   "metadata": {
    "colab": {
     "base_uri": "https://localhost:8080/"
    },
    "id": "-3cU4y5ENI6L",
    "outputId": "e85daabc-24fe-457c-c936-9e55a9cc5979",
    "ExecuteTime": {
     "end_time": "2025-03-16T16:00:56.911294Z",
     "start_time": "2025-03-16T16:00:56.908885Z"
    }
   },
   "outputs": [
    {
     "name": "stdout",
     "output_type": "stream",
     "text": [
      "1.0\n"
     ]
    }
   ],
   "execution_count": 10
  },
  {
   "cell_type": "markdown",
   "source": [
    "### 6. Do tablicy no_even_small_one wstaw za pomocą funkcji np.where:\n",
    "\n",
    "* wartości 1 dla każdej wartości np.nan (zobacz wbudowaną funkcję np.isnan())\n",
    "* liczby parzyste, które wcześniej zastąpiliśmy wartościami nan (teraz 1 jeżeli wykonany jest podpunkt pierwszy), więc przywracamy ten tablicy wygląd oryginalny z tablicy a_small_one - dla warunku wstawiaj wartość z a_small_one lub no_even_small_one"
   ],
   "metadata": {
    "id": "rn2xyQHOErzM"
   }
  },
  {
   "metadata": {
    "ExecuteTime": {
     "end_time": "2025-03-16T16:00:56.943227Z",
     "start_time": "2025-03-16T16:00:56.940077Z"
    }
   },
   "cell_type": "code",
   "source": [
    "# Wartości 1 dla każdej wartości np.nan\n",
    "no_even_small_one = np.where(np.isnan(no_even_small_one), 1, no_even_small_one)\n",
    "no_even_small_one"
   ],
   "outputs": [
    {
     "data": {
      "text/plain": [
       "array([[ 1.,  1.,  3.,  1.,  5.,  1.,  7.,  1.],\n",
       "       [ 9.,  1., 11.,  1., 13.,  1., 15.,  1.],\n",
       "       [17.,  1., 19.,  1., 21.,  1., 23.,  1.],\n",
       "       [25.,  1., 27.,  1., 29.,  1., 31.,  1.],\n",
       "       [33.,  1., 35.,  1., 37.,  1., 39.,  1.],\n",
       "       [41.,  1., 43.,  1., 45.,  1., 47.,  1.],\n",
       "       [49.,  1., 51.,  1., 53.,  1., 55.,  1.],\n",
       "       [57.,  1., 59.,  1., 61.,  1., 63.,  1.]])"
      ]
     },
     "execution_count": 11,
     "metadata": {},
     "output_type": "execute_result"
    }
   ],
   "execution_count": 11
  },
  {
   "metadata": {
    "ExecuteTime": {
     "end_time": "2025-03-16T16:00:56.979521Z",
     "start_time": "2025-03-16T16:00:56.976887Z"
    }
   },
   "cell_type": "code",
   "source": [
    "# Liczby parzyste\n",
    "no_even_small_one = np.where(a_small_one > no_even_small_one, a_small_one, no_even_small_one)\n",
    "no_even_small_one"
   ],
   "outputs": [
    {
     "data": {
      "text/plain": [
       "array([[ 1.,  2.,  3.,  4.,  5.,  6.,  7.,  8.],\n",
       "       [ 9., 10., 11., 12., 13., 14., 15., 16.],\n",
       "       [17., 18., 19., 20., 21., 22., 23., 24.],\n",
       "       [25., 26., 27., 28., 29., 30., 31., 32.],\n",
       "       [33., 34., 35., 36., 37., 38., 39., 40.],\n",
       "       [41., 42., 43., 44., 45., 46., 47., 48.],\n",
       "       [49., 50., 51., 52., 53., 54., 55., 56.],\n",
       "       [57., 58., 59., 60., 61., 62., 63., 64.]])"
      ]
     },
     "execution_count": 12,
     "metadata": {},
     "output_type": "execute_result"
    }
   ],
   "execution_count": 12
  },
  {
   "cell_type": "markdown",
   "source": [
    "### 7. Stwórz tablicę o nazwie sto_by_sto o wymiarach 100x100 próbkując wartości z rozkładu normalnego standardowego."
   ],
   "metadata": {
    "id": "rKKlS2K1E2L7"
   }
  },
  {
   "cell_type": "code",
   "source": [
    "rng = np.random.default_rng()"
   ],
   "metadata": {
    "id": "E1GakGQON-Jt",
    "ExecuteTime": {
     "end_time": "2025-03-16T16:00:57.014484Z",
     "start_time": "2025-03-16T16:00:57.012629Z"
    }
   },
   "outputs": [],
   "execution_count": 13
  },
  {
   "cell_type": "code",
   "source": [
    "sto_by_sto = rng.normal(size=(100,100))\n",
    "sto_by_sto"
   ],
   "metadata": {
    "colab": {
     "base_uri": "https://localhost:8080/"
    },
    "id": "pj8wZKrPN1io",
    "outputId": "14761409-4762-459e-97a3-4dbf941f3f23",
    "ExecuteTime": {
     "end_time": "2025-03-16T16:00:57.064944Z",
     "start_time": "2025-03-16T16:00:57.061416Z"
    }
   },
   "outputs": [
    {
     "data": {
      "text/plain": [
       "array([[ 0.28372568, -2.2364163 ,  0.96323648, ...,  0.30440776,\n",
       "         0.73752819,  0.69523455],\n",
       "       [ 0.65823144,  0.76094324,  0.77441807, ...,  1.33348521,\n",
       "        -0.6956907 , -1.73809418],\n",
       "       [ 1.02229024,  0.784942  , -1.41726727, ..., -0.10662994,\n",
       "         0.47105823,  1.13100364],\n",
       "       ...,\n",
       "       [-0.66039796, -0.85072126, -2.57478956, ...,  0.22917786,\n",
       "         0.42086961,  0.4162342 ],\n",
       "       [-0.80217173,  1.26781976,  0.16241225, ..., -0.93581079,\n",
       "         0.61582402, -0.15729036],\n",
       "       [ 2.03702054,  2.22322807,  1.1595897 , ...,  1.65859287,\n",
       "        -0.37806352, -1.13990659]])"
      ]
     },
     "execution_count": 14,
     "metadata": {},
     "output_type": "execute_result"
    }
   ],
   "execution_count": 14
  },
  {
   "cell_type": "markdown",
   "source": [
    "### 8. Dla tablicy sto_by_sto policz:\n",
    "\n",
    "* wartość średnią w każdym wierszu i kolumnie (oddzielnie),\n",
    "* policz średnią różnicę bezwzględną dla wartości w powyższym punkcie względem wartości 0 (oddzielnie dla średniej z kolumn i średniej z wierszy, pamiętam o tym, że operacje na tablicy numpy wykonywane są w trybie broadcast)."
   ],
   "metadata": {
    "id": "LwKg_YmqE3wT"
   }
  },
  {
   "metadata": {
    "ExecuteTime": {
     "end_time": "2025-03-16T16:00:57.096745Z",
     "start_time": "2025-03-16T16:00:57.094221Z"
    }
   },
   "cell_type": "code",
   "source": [
    "# Wartość średnia w każdym wierszu\n",
    "mean_row = np.mean(sto_by_sto, axis=1)\n",
    "mean_row"
   ],
   "outputs": [
    {
     "data": {
      "text/plain": [
       "array([-0.09023513,  0.02078668, -0.10361843, -0.03864956,  0.06398744,\n",
       "       -0.08631831,  0.11931684,  0.04855962,  0.02871872, -0.02837606,\n",
       "       -0.05879088, -0.10190894,  0.25547632,  0.05936999,  0.0709716 ,\n",
       "        0.16857144, -0.1894468 ,  0.10534075, -0.06945252, -0.03646382,\n",
       "       -0.1063353 , -0.04323012,  0.03667931, -0.13820127, -0.00548433,\n",
       "        0.1546168 ,  0.15313724, -0.2196547 ,  0.00396164, -0.05429551,\n",
       "       -0.01576684,  0.03745696,  0.0667922 ,  0.05126655,  0.03258505,\n",
       "       -0.01942779,  0.16252074,  0.05019594,  0.15642323,  0.08527475,\n",
       "       -0.01319476,  0.02651395, -0.01226484, -0.0073587 , -0.07722379,\n",
       "       -0.17735771, -0.03152099, -0.07970275, -0.02756363, -0.03163368,\n",
       "       -0.00997551, -0.06977111,  0.08562554,  0.17488599, -0.01228576,\n",
       "        0.12686729, -0.14148812, -0.07286679, -0.31427982, -0.11305267,\n",
       "        0.14668081,  0.22140552, -0.03401643, -0.00770336, -0.00837815,\n",
       "       -0.22936363, -0.21612534,  0.00777357,  0.02355045,  0.06560269,\n",
       "        0.08322619, -0.00543325,  0.01436434,  0.08519586, -0.03905215,\n",
       "        0.15326936, -0.09657611,  0.12958279, -0.1497269 , -0.0681327 ,\n",
       "       -0.02768675, -0.01674217,  0.11812773,  0.03583465,  0.00203196,\n",
       "       -0.00684837, -0.04468952, -0.00524646, -0.01983206, -0.11972976,\n",
       "       -0.19124287, -0.04831652,  0.22601178,  0.06757486,  0.01572887,\n",
       "       -0.00903609,  0.15557568, -0.02904519, -0.08677814,  0.03998133])"
      ]
     },
     "execution_count": 15,
     "metadata": {},
     "output_type": "execute_result"
    }
   ],
   "execution_count": 15
  },
  {
   "metadata": {
    "ExecuteTime": {
     "end_time": "2025-03-16T16:00:57.166083Z",
     "start_time": "2025-03-16T16:00:57.163575Z"
    }
   },
   "cell_type": "code",
   "source": [
    "# Wartość średnia w każdej kolumnie\n",
    "mean_col = np.mean(sto_by_sto, axis=0)\n",
    "mean_col"
   ],
   "outputs": [
    {
     "data": {
      "text/plain": [
       "array([ 4.02689609e-02,  9.47244409e-02, -1.44744334e-01, -7.95609339e-02,\n",
       "       -2.31566489e-03, -1.04147237e-01, -1.59820167e-01, -9.62329403e-03,\n",
       "       -1.05401759e-01,  1.43626438e-02, -1.88660694e-02,  2.39401013e-01,\n",
       "        3.21900891e-02, -1.97225423e-01,  1.22576138e-01,  4.76697352e-02,\n",
       "        4.19648855e-03,  3.00620747e-02,  1.67224775e-02, -2.59295576e-02,\n",
       "        1.21597339e-02,  7.15519614e-03, -1.04416025e-01, -1.95708751e-01,\n",
       "       -1.39134017e-01,  3.82567518e-02, -3.30577896e-02,  3.06061413e-02,\n",
       "        1.74062070e-01, -3.54949254e-02,  7.43071223e-02, -1.17012416e-02,\n",
       "       -1.55608568e-01, -1.86882801e-01,  1.19943728e-01, -2.76685666e-04,\n",
       "        7.61111850e-02,  3.15495581e-02,  1.64466189e-02,  3.00521202e-01,\n",
       "       -3.98420011e-02, -2.21542396e-01,  5.21954555e-02,  8.72924380e-02,\n",
       "        1.01324493e-01, -9.15035856e-02, -1.10421874e-01, -1.12337980e-01,\n",
       "        1.10936671e-02, -1.38187129e-03,  1.77878177e-04,  1.93118001e-02,\n",
       "        9.17353864e-02,  5.33958114e-02, -4.92115109e-02, -2.03759677e-01,\n",
       "       -1.38565437e-01, -3.77668703e-02,  9.91052901e-02,  1.23177770e-02,\n",
       "       -1.02558320e-01, -9.76912126e-03, -2.93400653e-02,  6.59378870e-02,\n",
       "       -5.13230025e-02,  6.10957114e-02,  2.43490360e-02, -1.13962025e-01,\n",
       "       -3.12862644e-02, -7.77408564e-02,  1.59584994e-01,  7.35322565e-02,\n",
       "       -3.49451369e-02,  1.63885596e-01,  2.13108945e-02,  3.27701492e-03,\n",
       "       -3.93132747e-02, -1.88041308e-01, -1.18619770e-01,  9.98555399e-02,\n",
       "        4.58691117e-02,  1.57685095e-01,  3.94607991e-02,  3.41568108e-02,\n",
       "        1.56605614e-01, -1.84460179e-01, -4.63875799e-02, -1.62175024e-01,\n",
       "        7.57673423e-02,  3.87645603e-02,  9.83263125e-02,  2.34614399e-02,\n",
       "        7.78726983e-02,  2.70304781e-02,  1.76024234e-01,  1.44236683e-02,\n",
       "       -4.01732166e-02, -1.60292907e-01,  1.18314180e-01,  1.79324038e-01])"
      ]
     },
     "execution_count": 16,
     "metadata": {},
     "output_type": "execute_result"
    }
   ],
   "execution_count": 16
  },
  {
   "metadata": {
    "ExecuteTime": {
     "end_time": "2025-03-16T16:00:57.198870Z",
     "start_time": "2025-03-16T16:00:57.196703Z"
    }
   },
   "cell_type": "code",
   "source": [
    "# Średnia różnica bezwzględna dla średniej z wierszy\n",
    "print(np.mean(np.abs(mean_row)))"
   ],
   "outputs": [
    {
     "name": "stdout",
     "output_type": "stream",
     "text": [
      "0.07994319895921467\n"
     ]
    }
   ],
   "execution_count": 17
  },
  {
   "metadata": {
    "ExecuteTime": {
     "end_time": "2025-03-16T16:00:57.271889Z",
     "start_time": "2025-03-16T16:00:57.269971Z"
    }
   },
   "cell_type": "code",
   "source": [
    "# Średnia różnica bezwzględna dla średniej z kolumn\n",
    "print(np.mean(np.abs(mean_col)))"
   ],
   "outputs": [
    {
     "name": "stdout",
     "output_type": "stream",
     "text": [
      "0.08093795179122866\n"
     ]
    }
   ],
   "execution_count": 18
  },
  {
   "cell_type": "markdown",
   "source": [
    "### 9. Stwórz tablicę o wymiarach 1000x1000 uzupełniając ją wartościami losowymi z rozkładu normalnego standardowego, a następnie posiłkując się przykładami z labów poprzednich (moduł timeit) porównaj czasy wykonania dla tej tablicy:\n",
    "\n",
    "* zapisu do pliku tekstowego vs. zapis do pliku w formacie picle vs. zapis do pliku skompresowanego (funkcja savez_compressed w dokumentacji biblioteki numpy)\n",
    "* odczytu dla trzech wyżej wymienionych plików."
   ],
   "metadata": {
    "id": "AHxmuemTE9XS"
   }
  },
  {
   "metadata": {
    "ExecuteTime": {
     "end_time": "2025-03-16T16:00:57.307577Z",
     "start_time": "2025-03-16T16:00:57.300741Z"
    }
   },
   "cell_type": "code",
   "source": "thousand = rng.normal(size=(1000, 1000))",
   "outputs": [],
   "execution_count": 19
  },
  {
   "metadata": {
    "ExecuteTime": {
     "end_time": "2025-03-16T16:00:57.315491Z",
     "start_time": "2025-03-16T16:00:57.313896Z"
    }
   },
   "cell_type": "code",
   "source": "from time import time",
   "outputs": [],
   "execution_count": 20
  },
  {
   "metadata": {},
   "cell_type": "markdown",
   "source": "### Zapis"
  },
  {
   "metadata": {
    "ExecuteTime": {
     "end_time": "2025-03-16T16:00:57.710797Z",
     "start_time": "2025-03-16T16:00:57.323990Z"
    }
   },
   "cell_type": "code",
   "source": [
    "# Zapis do pliku tekstowego\n",
    "start_time = time()\n",
    "np.savetxt('thousand.txt', thousand)\n",
    "end_time_txt = time() - start_time"
   ],
   "outputs": [],
   "execution_count": 21
  },
  {
   "metadata": {
    "ExecuteTime": {
     "end_time": "2025-03-16T16:00:57.719178Z",
     "start_time": "2025-03-16T16:00:57.716222Z"
    }
   },
   "cell_type": "code",
   "source": [
    "# Zapis do pliku w formacie picle\n",
    "start_time = time()\n",
    "np.save('thousand_pickle', thousand)\n",
    "end_time_picle = time() - start_time"
   ],
   "outputs": [],
   "execution_count": 22
  },
  {
   "metadata": {
    "ExecuteTime": {
     "end_time": "2025-03-16T16:00:57.953309Z",
     "start_time": "2025-03-16T16:00:57.725242Z"
    }
   },
   "cell_type": "code",
   "source": [
    "# Zapis do pliku skompresowanego\n",
    "start_time = time()\n",
    "np.savez_compressed('thousand_compressed', thousand)\n",
    "end_time_comp = time() - start_time"
   ],
   "outputs": [],
   "execution_count": 23
  },
  {
   "metadata": {
    "ExecuteTime": {
     "end_time": "2025-03-16T16:00:57.960763Z",
     "start_time": "2025-03-16T16:00:57.958805Z"
    }
   },
   "cell_type": "code",
   "source": "print(f\"{end_time_txt} - Time for txt\\n{end_time_picle} - Time for picle\\n{end_time_comp} - Time for compressed file\")",
   "outputs": [
    {
     "name": "stdout",
     "output_type": "stream",
     "text": [
      "0.38524484634399414 - Time for txt\n",
      "0.0015759468078613281 - Time for picle\n",
      "0.22655892372131348 - Time for compressed file\n"
     ]
    }
   ],
   "execution_count": 24
  },
  {
   "metadata": {},
   "cell_type": "markdown",
   "source": "### Odczyt"
  },
  {
   "metadata": {
    "ExecuteTime": {
     "end_time": "2025-03-16T16:08:12.759889Z",
     "start_time": "2025-03-16T16:08:12.564005Z"
    }
   },
   "cell_type": "code",
   "source": [
    "# Odczyt pliku tekstowego\n",
    "start_time = time()\n",
    "np.loadtxt('thousand.txt')\n",
    "end_time_txt = time() - start_time"
   ],
   "outputs": [],
   "execution_count": 34
  },
  {
   "metadata": {
    "ExecuteTime": {
     "end_time": "2025-03-16T16:08:13.779017Z",
     "start_time": "2025-03-16T16:08:13.775584Z"
    }
   },
   "cell_type": "code",
   "source": [
    "# Odczyt pliku w formacie picle\n",
    "start_time = time()\n",
    "np.load('thousand_pickle.npy')\n",
    "end_time_picle = time() - start_time"
   ],
   "outputs": [],
   "execution_count": 35
  },
  {
   "metadata": {
    "ExecuteTime": {
     "end_time": "2025-03-16T16:08:15.032805Z",
     "start_time": "2025-03-16T16:08:15.030846Z"
    }
   },
   "cell_type": "code",
   "source": [
    "# Odczyt do pliku skompresowanego\n",
    "start_time = time()\n",
    "np.load('thousand_compressed.npz')\n",
    "end_time_comp = time() - start_time"
   ],
   "outputs": [],
   "execution_count": 36
  },
  {
   "metadata": {
    "ExecuteTime": {
     "end_time": "2025-03-16T16:08:16.137446Z",
     "start_time": "2025-03-16T16:08:16.135519Z"
    }
   },
   "cell_type": "code",
   "source": "print(f\"{end_time_txt} - Time for txt\\n{end_time_picle} - Time for picle\\n{end_time_comp} - Time for compressed file\")",
   "outputs": [
    {
     "name": "stdout",
     "output_type": "stream",
     "text": [
      "0.1941678524017334 - Time for txt\n",
      "0.0018858909606933594 - Time for picle\n",
      "0.0004298686981201172 - Time for compressed file\n"
     ]
    }
   ],
   "execution_count": 37
  }
 ]
}
