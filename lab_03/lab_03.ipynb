{
 "cells": [
  {
   "cell_type": "markdown",
   "id": "db5acf05-8eb3-4b15-ae52-b2f61841be3c",
   "metadata": {},
   "source": [
    "# Metody analizy danych. Lab 3. Biblioteka numpy, część 3"
   ]
  },
  {
   "cell_type": "markdown",
   "id": "e5ff21c0-8c28-41a4-9037-f05793164d4e",
   "metadata": {},
   "source": [
    "## 1. Wybrane operacje arytmetyczne na tablicy numpy"
   ]
  },
  {
   "cell_type": "code",
   "execution_count": 1,
   "id": "9b4b0588-da6b-4c7d-a888-fb89ffddc4ac",
   "metadata": {},
   "outputs": [],
   "source": [
    "import numpy as np"
   ]
  },
  {
   "cell_type": "code",
   "execution_count": 43,
   "id": "56ed4714-9b22-4d30-92d0-e0a3e9266193",
   "metadata": {},
   "outputs": [],
   "source": [
    "# funkcje zaczerpnięte z https://tobiasraabe.github.io/post/numpy-views-vs-copies/\n",
    "# dzięki nim łatwiej będzie nam interpretować czy dwie tablice numpy posiadają wspólną bazę\n",
    "# co oznacza, że współdzielą pamięć (lub nie)\n",
    "\n",
    "def get_data_base(x):\n",
    "    base = x\n",
    "    while isinstance(base.base, np.ndarray):\n",
    "        base = base.base\n",
    "    return base\n",
    "\n",
    "def arrays_share_data(x, y):\n",
    "    return get_data_base(x) is get_data_base(y)"
   ]
  },
  {
   "cell_type": "code",
   "execution_count": 28,
   "id": "7514b891-0875-491d-8173-0d5cea7d20be",
   "metadata": {},
   "outputs": [
    {
     "data": {
      "text/plain": [
       "array([[  1,   2,   3,   4,   5,   6,   7,   8,   9,  10],\n",
       "       [ 11,  12,  13,  14,  15,  16,  17,  18,  19,  20],\n",
       "       [ 21,  22,  23,  24,  25,  26,  27,  28,  29,  30],\n",
       "       [ 31,  32,  33,  34,  35,  36,  37,  38,  39,  40],\n",
       "       [ 41,  42,  43,  44,  45,  46,  47,  48,  49,  50],\n",
       "       [ 51,  52,  53,  54,  55,  56,  57,  58,  59,  60],\n",
       "       [ 61,  62,  63,  64,  65,  66,  67,  68,  69,  70],\n",
       "       [ 71,  72,  73,  74,  75,  76,  77,  78,  79,  80],\n",
       "       [ 81,  82,  83,  84,  85,  86,  87,  88,  89,  90],\n",
       "       [ 91,  92,  93,  94,  95,  96,  97,  98,  99, 100]])"
      ]
     },
     "execution_count": 28,
     "metadata": {},
     "output_type": "execute_result"
    }
   ],
   "source": [
    "arr = np.arange(1,101).reshape((10,10))\n",
    "arr"
   ]
  },
  {
   "cell_type": "code",
   "execution_count": 32,
   "id": "eba250bc-6c59-4b8d-b981-deb408585294",
   "metadata": {},
   "outputs": [
    {
     "name": "stdout",
     "output_type": "stream",
     "text": [
      "5050\n",
      "5050\n"
     ]
    }
   ],
   "source": [
    "# suma wartości elementów tablicy\n",
    "print(arr.sum())\n",
    "# lub\n",
    "print(np.sum(arr))"
   ]
  },
  {
   "cell_type": "code",
   "execution_count": 34,
   "id": "1eec172a-836e-4821-b7c1-ff63e32b8a8c",
   "metadata": {},
   "outputs": [
    {
     "name": "stdout",
     "output_type": "stream",
     "text": [
      "[460 470 480 490 500 510 520 530 540 550]\n",
      "[ 55 155 255 355 455 555 655 755 855 955]\n"
     ]
    }
   ],
   "source": [
    "# suma w kolumnach (indeks po wierszach)\n",
    "print(arr.sum(axis=0))\n",
    "# i w wierszach (indeks po kolumnach)\n",
    "print(arr.sum(axis=1))"
   ]
  },
  {
   "cell_type": "code",
   "execution_count": 35,
   "id": "933489e3-a199-441c-947c-67e615ba054e",
   "metadata": {},
   "outputs": [
    {
     "name": "stdout",
     "output_type": "stream",
     "text": [
      "[   1    3    6   10   15   21   28   36   45   55   66   78   91  105\n",
      "  120  136  153  171  190  210  231  253  276  300  325  351  378  406\n",
      "  435  465  496  528  561  595  630  666  703  741  780  820  861  903\n",
      "  946  990 1035 1081 1128 1176 1225 1275 1326 1378 1431 1485 1540 1596\n",
      " 1653 1711 1770 1830 1891 1953 2016 2080 2145 2211 2278 2346 2415 2485\n",
      " 2556 2628 2701 2775 2850 2926 3003 3081 3160 3240 3321 3403 3486 3570\n",
      " 3655 3741 3828 3916 4005 4095 4186 4278 4371 4465 4560 4656 4753 4851\n",
      " 4950 5050]\n"
     ]
    }
   ],
   "source": [
    "# suma skumulowana\n",
    "print(arr.cumsum())"
   ]
  },
  {
   "cell_type": "code",
   "execution_count": 36,
   "id": "3a94a89a-b55d-42f2-8dc8-9f2e560d9340",
   "metadata": {},
   "outputs": [
    {
     "name": "stdout",
     "output_type": "stream",
     "text": [
      "[[  1   2   3   4   5   6   7   8   9  10]\n",
      " [ 12  14  16  18  20  22  24  26  28  30]\n",
      " [ 33  36  39  42  45  48  51  54  57  60]\n",
      " [ 64  68  72  76  80  84  88  92  96 100]\n",
      " [105 110 115 120 125 130 135 140 145 150]\n",
      " [156 162 168 174 180 186 192 198 204 210]\n",
      " [217 224 231 238 245 252 259 266 273 280]\n",
      " [288 296 304 312 320 328 336 344 352 360]\n",
      " [369 378 387 396 405 414 423 432 441 450]\n",
      " [460 470 480 490 500 510 520 530 540 550]]\n",
      "[[  1   3   6  10  15  21  28  36  45  55]\n",
      " [ 11  23  36  50  65  81  98 116 135 155]\n",
      " [ 21  43  66  90 115 141 168 196 225 255]\n",
      " [ 31  63  96 130 165 201 238 276 315 355]\n",
      " [ 41  83 126 170 215 261 308 356 405 455]\n",
      " [ 51 103 156 210 265 321 378 436 495 555]\n",
      " [ 61 123 186 250 315 381 448 516 585 655]\n",
      " [ 71 143 216 290 365 441 518 596 675 755]\n",
      " [ 81 163 246 330 415 501 588 676 765 855]\n",
      " [ 91 183 276 370 465 561 658 756 855 955]]\n"
     ]
    }
   ],
   "source": [
    "# i ponownie możemy wykonać operację dla danej osi\n",
    "print(arr.cumsum(axis=0))\n",
    "print(arr.cumsum(axis=1))"
   ]
  },
  {
   "cell_type": "code",
   "execution_count": 79,
   "id": "6e40f3d2-2d1c-46e2-9f43-639695fc5928",
   "metadata": {},
   "outputs": [],
   "source": [
    "# na potrzeby kilku przykładów wykorzystamy kopię oryginalnej tablicy\n",
    "arr_nan = arr.copy()"
   ]
  },
  {
   "cell_type": "code",
   "execution_count": 80,
   "id": "85644bef-576f-40da-a82e-b66f785620f4",
   "metadata": {},
   "outputs": [
    {
     "data": {
      "text/plain": [
       "array([[False, False, False, False,  True, False, False, False, False,\n",
       "         True],\n",
       "       [False, False, False, False,  True, False, False, False, False,\n",
       "         True],\n",
       "       [False, False, False, False,  True, False, False, False, False,\n",
       "         True],\n",
       "       [False, False, False, False,  True, False, False, False, False,\n",
       "         True],\n",
       "       [False, False, False, False,  True, False, False, False, False,\n",
       "         True],\n",
       "       [False, False, False, False,  True, False, False, False, False,\n",
       "         True],\n",
       "       [False, False, False, False,  True, False, False, False, False,\n",
       "         True],\n",
       "       [False, False, False, False,  True, False, False, False, False,\n",
       "         True],\n",
       "       [False, False, False, False,  True, False, False, False, False,\n",
       "         True],\n",
       "       [False, False, False, False,  True, False, False, False, False,\n",
       "         True]])"
      ]
     },
     "execution_count": 80,
     "metadata": {},
     "output_type": "execute_result"
    }
   ],
   "source": [
    "# filtrowanie tablicy zwraca tablicę boolowską - mapę - wartości, które spełniają i nie spełniają warunku\n",
    "divide_by_five_map = (arr_nan % 5 == 0)\n",
    "divide_by_five_map"
   ]
  },
  {
   "cell_type": "code",
   "execution_count": 81,
   "id": "65d3cca1-47da-45c5-aa19-7d84113a58d8",
   "metadata": {},
   "outputs": [
    {
     "data": {
      "text/plain": [
       "False"
      ]
     },
     "execution_count": 81,
     "metadata": {},
     "output_type": "execute_result"
    }
   ],
   "source": [
    "# będziemy też od czasu do czasu sprawdzać czy pracujemy na kopii czy widoku\n",
    "# tu mamy do czynienia z tzw. fancy slicing - więc kopia\n",
    "arrays_share_data(arr_nan, divide_by_five_map)"
   ]
  },
  {
   "cell_type": "code",
   "execution_count": 82,
   "id": "fa823205-f6ca-4e9f-bab2-be1bbcc07316",
   "metadata": {},
   "outputs": [
    {
     "data": {
      "text/plain": [
       "array([  5,  10,  15,  20,  25,  30,  35,  40,  45,  50,  55,  60,  65,\n",
       "        70,  75,  80,  85,  90,  95, 100])"
      ]
     },
     "execution_count": 82,
     "metadata": {},
     "output_type": "execute_result"
    }
   ],
   "source": [
    "# taką tablicę możemy przyłożyć do innej tablicy (uwaga na wymiary!)\n",
    "divide_by_five = arr_nan[divide_by_five_map]\n",
    "divide_by_five"
   ]
  },
  {
   "cell_type": "code",
   "execution_count": 83,
   "id": "5dc55e5d-00b6-4196-8f33-030fe399d9a4",
   "metadata": {},
   "outputs": [
    {
     "data": {
      "text/plain": [
       "False"
      ]
     },
     "execution_count": 83,
     "metadata": {},
     "output_type": "execute_result"
    }
   ],
   "source": [
    "arrays_share_data(divide_by_five, arr_nan)"
   ]
  },
  {
   "cell_type": "code",
   "execution_count": 86,
   "id": "237cf1ba-7d7e-4f29-bffe-423bd67becae",
   "metadata": {},
   "outputs": [],
   "source": [
    "# zamieniamy wartości stojące na indeksach z mapy na wartość np.nan (not a number)\n",
    "arr_nan[divide_by_five_map] = np.nan"
   ]
  },
  {
   "cell_type": "code",
   "execution_count": 87,
   "id": "ccc3cb72-0d84-4f63-97ea-7c6a83fd746e",
   "metadata": {},
   "outputs": [
    {
     "data": {
      "text/plain": [
       "array([[ 1.,  2.,  3.,  4., nan,  6.,  7.,  8.,  9., nan],\n",
       "       [11., 12., 13., 14., nan, 16., 17., 18., 19., nan],\n",
       "       [21., 22., 23., 24., nan, 26., 27., 28., 29., nan],\n",
       "       [31., 32., 33., 34., nan, 36., 37., 38., 39., nan],\n",
       "       [41., 42., 43., 44., nan, 46., 47., 48., 49., nan],\n",
       "       [51., 52., 53., 54., nan, 56., 57., 58., 59., nan],\n",
       "       [61., 62., 63., 64., nan, 66., 67., 68., 69., nan],\n",
       "       [71., 72., 73., 74., nan, 76., 77., 78., 79., nan],\n",
       "       [81., 82., 83., 84., nan, 86., 87., 88., 89., nan],\n",
       "       [91., 92., 93., 94., nan, 96., 97., 98., 99., nan]])"
      ]
     },
     "execution_count": 87,
     "metadata": {},
     "output_type": "execute_result"
    }
   ],
   "source": [
    "arr_nan"
   ]
  },
  {
   "cell_type": "code",
   "execution_count": 85,
   "id": "53d04757-d789-4da6-a33f-d5b4ebf5c830",
   "metadata": {},
   "outputs": [
    {
     "data": {
      "text/plain": [
       "array([[  1.,   2.,   3.,   4.,   5.,   6.,   7.,   8.,   9.,  10.],\n",
       "       [ 11.,  12.,  13.,  14.,  15.,  16.,  17.,  18.,  19.,  20.],\n",
       "       [ 21.,  22.,  23.,  24.,  25.,  26.,  27.,  28.,  29.,  30.],\n",
       "       [ 31.,  32.,  33.,  34.,  35.,  36.,  37.,  38.,  39.,  40.],\n",
       "       [ 41.,  42.,  43.,  44.,  45.,  46.,  47.,  48.,  49.,  50.],\n",
       "       [ 51.,  52.,  53.,  54.,  55.,  56.,  57.,  58.,  59.,  60.],\n",
       "       [ 61.,  62.,  63.,  64.,  65.,  66.,  67.,  68.,  69.,  70.],\n",
       "       [ 71.,  72.,  73.,  74.,  75.,  76.,  77.,  78.,  79.,  80.],\n",
       "       [ 81.,  82.,  83.,  84.,  85.,  86.,  87.,  88.,  89.,  90.],\n",
       "       [ 91.,  92.,  93.,  94.,  95.,  96.,  97.,  98.,  99., 100.]])"
      ]
     },
     "execution_count": 85,
     "metadata": {},
     "output_type": "execute_result"
    }
   ],
   "source": [
    "# okazuje się, że dla typu np.int nie możemy tego zrobić\n",
    "# może dla np.float\n",
    "# po nieudanej operacji wstawienia nan należy sprawdzić czy tablica zawiera poprawne dane\n",
    "# jeżeli nie to operację stworzenia kopii należy wykonać jeszcze raz\n",
    "arr_nan = arr_nan.astype(np.float64)\n",
    "arr_nan"
   ]
  },
  {
   "cell_type": "code",
   "execution_count": null,
   "id": "5371da35-c8bd-4608-bcab-fd492eb85e6d",
   "metadata": {},
   "outputs": [],
   "source": [
    "arr_nan[divide_by_five_map] = np.nan"
   ]
  },
  {
   "cell_type": "code",
   "execution_count": 90,
   "id": "0d74d2dc-1316-482c-a1c4-2cbbe27ac705",
   "metadata": {},
   "outputs": [
    {
     "name": "stdout",
     "output_type": "stream",
     "text": [
      "nan\n"
     ]
    }
   ],
   "source": [
    "# wykonajmy ponownie operację sumy\n",
    "print(arr_nan.sum())"
   ]
  },
  {
   "cell_type": "code",
   "execution_count": 91,
   "id": "732c3108-c96d-4393-8074-7957dc2525e5",
   "metadata": {},
   "outputs": [
    {
     "name": "stdout",
     "output_type": "stream",
     "text": [
      "[460. 470. 480. 490.  nan 510. 520. 530. 540.  nan]\n",
      "[nan nan nan nan nan nan nan nan nan nan]\n"
     ]
    }
   ],
   "source": [
    "print(arr_nan.sum(axis=0))\n",
    "print(arr_nan.sum(axis=1))"
   ]
  },
  {
   "cell_type": "code",
   "execution_count": 96,
   "id": "ea2f529a-858f-40bb-960c-5ca92776daf9",
   "metadata": {},
   "outputs": [
    {
     "name": "stdout",
     "output_type": "stream",
     "text": [
      "4000.0\n",
      "[460. 470. 480. 490.   0. 510. 520. 530. 540.   0.]\n",
      "[ 40. 120. 200. 280. 360. 440. 520. 600. 680. 760.]\n"
     ]
    }
   ],
   "source": [
    "# jeżeli chcemy potraktować wartości nan w jakiś szczególny sposób, np. jako 0 (zero) to mamy do\n",
    "# dyspozycji dedykowane funckje - tu sumy\n",
    "print(np.nansum(arr_nan))\n",
    "print(np.nansum(arr_nan, axis=0))\n",
    "print(np.nansum(arr_nan, axis=1))"
   ]
  },
  {
   "cell_type": "code",
   "execution_count": 103,
   "id": "d2276c64-8b20-4a5d-a335-de92259f6b20",
   "metadata": {},
   "outputs": [
    {
     "name": "stdout",
     "output_type": "stream",
     "text": [
      "0\n",
      "[  478015854767451  1242688846823424  2394832584543399  4060162871525376\n",
      "  6393838623046875  9585618768101376 13865696119905399 19511273389031424\n",
      " 26853950884211451 36288000000000000]\n"
     ]
    }
   ],
   "source": [
    "# mnożenie elementów tablicy\n",
    "# nie działa? dlaczego 0 ? Tu następuje przepełnienie wartości dla typów obsługiwanych przez numpy.\n",
    "# Typ int wbudowany w Python może być niezwykle dużą liczbą (pamięć operacyjna nas ogranicza), ale  numpy\n",
    "# opieramy się o typy znane z języka C. Przepełnienie wartości np.int64 czy np.float64 przy mnożeniu może\n",
    "# nastąpić bardzo szybko. I tu zwracane jest 0 bez żadnego ostrzeżenia - trzeba o tym pamiętać.\n",
    "print(arr.prod())\n",
    "print(arr.prod(axis=0))"
   ]
  },
  {
   "cell_type": "code",
   "execution_count": 104,
   "id": "10c30828-4a33-4557-9e6e-ec05f8595c33",
   "metadata": {},
   "outputs": [
    {
     "name": "stdout",
     "output_type": "stream",
     "text": [
      "100 [ 91  92  93  94  95  96  97  98  99 100]\n"
     ]
    }
   ],
   "source": [
    "# numpy posiada bardzo wiele wbudowanych funkcji arytmetycznych, trygonometrycznych, algebry liniowej i innych.\n",
    "# Algebrą liniową zajemy się nieco później. Poniżej kilka przykładów innych, popularnych operacji.\n",
    "print(arr.max(), arr.max(axis=0))"
   ]
  },
  {
   "cell_type": "code",
   "execution_count": 107,
   "id": "2b96ecec-9e71-446b-8ac3-263f5bc7f300",
   "metadata": {},
   "outputs": [
    {
     "data": {
      "text/plain": [
       "array([ 91,  92,  93,  94,  95,  96,  97,  98,  99, 100])"
      ]
     },
     "execution_count": 107,
     "metadata": {},
     "output_type": "execute_result"
    }
   ],
   "source": [
    "# możemy również wykorzystać operacje tego typu do filtrowania tablicy\n",
    "arr[(arr == arr.max(axis=0))]"
   ]
  },
  {
   "cell_type": "code",
   "execution_count": 112,
   "id": "12fa2cc6-efe7-49ad-9136-57d36b2b81ff",
   "metadata": {},
   "outputs": [],
   "source": [
    "# tu warto przedstawić również funkcję np.where, która zamiast zwracać wartości spełniające warunek,\n",
    "# może zwracać indeksy, na których te warunki są spełnione. Poniżej zobaczymy dwie tablice, gdyż talica, w\n",
    "# której filtrujemy jest dwuwymiarowa. Pierwszy wymiar to wiersz, a drugi kolumna.\n",
    "# Funkcja np.where przyjmuje do trzech argumentów: warunek, x, y. Jeżeli podany jest tylko warunek to zwraca indeksy elementów\n",
    "# spełniających ten warunek."
   ]
  },
  {
   "cell_type": "code",
   "execution_count": 175,
   "id": "0904a5fc-cd33-47c2-a87c-6193bd1bb245",
   "metadata": {},
   "outputs": [
    {
     "data": {
      "text/plain": [
       "(array([8, 8, 8, 8, 8, 8, 8, 8, 8, 8]), array([0, 1, 2, 3, 4, 5, 6, 7, 8, 9]))"
      ]
     },
     "execution_count": 175,
     "metadata": {},
     "output_type": "execute_result"
    }
   ],
   "source": [
    "np.where(arr == arr.max(axis=0))"
   ]
  },
  {
   "cell_type": "code",
   "execution_count": 114,
   "id": "1804cde2-e626-4c32-949a-defe23dcab76",
   "metadata": {},
   "outputs": [
    {
     "data": {
      "text/plain": [
       "(array([9, 9, 9, 9, 9, 9, 9, 9, 9, 9]), array([0, 1, 2, 3, 4, 5, 6, 7, 8, 9]))"
      ]
     },
     "execution_count": 114,
     "metadata": {},
     "output_type": "execute_result"
    }
   ],
   "source": [
    "# co jest ekwiwalentem \n",
    "np.asarray(arr == arr.max(axis=0)).nonzero()"
   ]
  },
  {
   "cell_type": "code",
   "execution_count": 115,
   "id": "3b9b58e9-b69d-43ea-9d4a-599388a69d3e",
   "metadata": {},
   "outputs": [
    {
     "data": {
      "text/plain": [
       "array([[ nan,  nan,  nan,  nan,  nan,  nan,  nan,  nan,  nan,  nan],\n",
       "       [ nan,  nan,  nan,  nan,  nan,  nan,  nan,  nan,  nan,  nan],\n",
       "       [ nan,  nan,  nan,  nan,  nan,  nan,  nan,  nan,  nan,  nan],\n",
       "       [ nan,  nan,  nan,  nan,  nan,  nan,  nan,  nan,  nan,  nan],\n",
       "       [ nan,  nan,  nan,  nan,  nan,  nan,  nan,  nan,  nan,  nan],\n",
       "       [ nan,  nan,  nan,  nan,  nan,  nan,  nan,  nan,  nan,  nan],\n",
       "       [ nan,  nan,  nan,  nan,  nan,  nan,  nan,  nan,  nan,  nan],\n",
       "       [ nan,  nan,  nan,  nan,  nan,  nan,  nan,  nan,  nan,  nan],\n",
       "       [ nan,  nan,  nan,  nan,  nan,  nan,  nan,  nan,  nan,  nan],\n",
       "       [ 91.,  92.,  93.,  94.,  95.,  96.,  97.,  98.,  99., 100.]])"
      ]
     },
     "execution_count": 115,
     "metadata": {},
     "output_type": "execute_result"
    }
   ],
   "source": [
    "# ale możemy ją wykorzystać również w taki sposób\n",
    "# warunek, wartość jeżeli warunek spełniony, wartość jeżeli warunek nie jest spełniony\n",
    "np.where(arr == arr.max(axis=0), arr, np.nan)"
   ]
  },
  {
   "cell_type": "markdown",
   "id": "3a62d554-8256-43e9-8545-4adfa415d243",
   "metadata": {},
   "source": [
    "## 2. Moduł np.random"
   ]
  },
  {
   "cell_type": "markdown",
   "id": "a8fa035c-77a3-4795-8b30-13b560cc023b",
   "metadata": {},
   "source": [
    "Moduł `np.random` dostarcza wielu funkcji, które pozwalają zarówno na tworzenie tablic wartości losowych (bardziej precyzyjnie to pseudo-losowych, ze zwględu na sposób działania komputerów) o określonych właściwościach, ale również na próbkowaniu z tablic już istniejących."
   ]
  },
  {
   "cell_type": "markdown",
   "id": "be5df9fd-6be1-4179-b621-eabbc63193a1",
   "metadata": {},
   "source": [
    "### 2.1 Tworzenie tablic z wykorzystaniem wybranych elementów modułu np.random"
   ]
  },
  {
   "cell_type": "markdown",
   "id": "a0cb29ef-7fe1-43b0-8b92-9c1ca773e991",
   "metadata": {},
   "source": [
    "Korzystanie z modułu rozpoczynamy od inicjalizacji generatowa pseudolosowego."
   ]
  },
  {
   "cell_type": "code",
   "execution_count": 118,
   "id": "33c0bbd5-1b83-4328-a32d-bbf834263d59",
   "metadata": {},
   "outputs": [],
   "source": [
    "rng = np.random.default_rng()"
   ]
  },
  {
   "cell_type": "code",
   "execution_count": 119,
   "id": "23b75242-89c8-4f3c-9220-6d26e4a9ca20",
   "metadata": {},
   "outputs": [
    {
     "data": {
      "text/plain": [
       "0.5105289144313383"
      ]
     },
     "execution_count": 119,
     "metadata": {},
     "output_type": "execute_result"
    }
   ],
   "source": [
    "rng.random()"
   ]
  },
  {
   "cell_type": "code",
   "execution_count": 120,
   "id": "2b593bfc-efc2-43ae-a54d-626c3a5f1070",
   "metadata": {},
   "outputs": [
    {
     "data": {
      "text/plain": [
       "array([[0.86223752, 0.09716792, 0.10049193, 0.63821181, 0.07994176],\n",
       "       [0.43873571, 0.67147288, 0.88914129, 0.40594428, 0.84765291],\n",
       "       [0.57873157, 0.28474806, 0.73737426, 0.27326699, 0.68629241],\n",
       "       [0.49890538, 0.39065891, 0.08298539, 0.14877249, 0.8591022 ],\n",
       "       [0.76125734, 0.97857083, 0.72785188, 0.88249304, 0.31856319]])"
      ]
     },
     "execution_count": 120,
     "metadata": {},
     "output_type": "execute_result"
    }
   ],
   "source": [
    "rng.random((5,5))"
   ]
  },
  {
   "cell_type": "code",
   "execution_count": 123,
   "id": "9a395a95-206c-4fda-b7f6-7481980c13d1",
   "metadata": {},
   "outputs": [],
   "source": [
    "# wartości są zwracane z przedziału [0.0, 1.0)"
   ]
  },
  {
   "cell_type": "code",
   "execution_count": 128,
   "id": "d6c1167c-f079-4aeb-b103-ddd6132360e1",
   "metadata": {},
   "outputs": [
    {
     "name": "stdout",
     "output_type": "stream",
     "text": [
      "0.40220661003806574\n",
      "[[-0.1826277   1.92727089 -0.52373741 -1.06248931  1.42836312]\n",
      " [-0.50175243 -0.53240706  1.37864916 -1.54699275  0.98776891]\n",
      " [-1.33865617 -1.3971193   0.11285424  0.50387424 -0.81117727]\n",
      " [-0.94922863 -2.51051931 -1.52174994  0.06572507 -0.74872069]\n",
      " [ 0.32697    -0.24323032 -0.10784606 -0.0284671   0.02538068]]\n"
     ]
    }
   ],
   "source": [
    "# możemy próbkować wartości pseudolosowe z rozkładów, np. normalnego\n",
    "# sygnatura tej funkcji: normal(loc=0.0, scale=1.0, size=None) (średnia, odchylenie standardowe, rozmiar)\n",
    "print(rng.normal())\n",
    "print(rng.normal(size=(5,5)))"
   ]
  },
  {
   "cell_type": "code",
   "execution_count": 129,
   "id": "0af9f342-15a0-44a2-b85e-a26e70975a52",
   "metadata": {},
   "outputs": [
    {
     "data": {
      "text/plain": [
       "array([-2.14948751,  0.21357562, -1.64945079,  0.36647586, -0.06227929])"
      ]
     },
     "execution_count": 129,
     "metadata": {},
     "output_type": "execute_result"
    }
   ],
   "source": [
    "# lub możemy użyć poniższej funkcji (mean=0.0, std=1.0)\n",
    "rng.standard_normal(5)"
   ]
  },
  {
   "cell_type": "code",
   "execution_count": 131,
   "id": "570390f2-446b-4058-bf78-5b37fe4de7ac",
   "metadata": {},
   "outputs": [
    {
     "data": {
      "text/plain": [
       "array([80, 75, 76, 72, 26, 87, 91,  6, 48, 45])"
      ]
     },
     "execution_count": 131,
     "metadata": {},
     "output_type": "execute_result"
    }
   ],
   "source": [
    "# generowanie wartości całkowitych z przedziału\n",
    "rng.integers(low=1, high=100, size=10)"
   ]
  },
  {
   "cell_type": "code",
   "execution_count": null,
   "id": "05c21778-8a6f-4f42-a0fd-041e27c5f17d",
   "metadata": {},
   "outputs": [],
   "source": [
    "# choice - pobiera losową próbkę danych z tablicy\n",
    "# sygnatura: choice(a, size=None, replace=True, p=None, axis=0, shuffle=True)\n",
    "# Parametr p pozwala na przekazanie tablicy z rozkładem prawdopodobieństw"
   ]
  },
  {
   "cell_type": "code",
   "execution_count": 135,
   "id": "4b356d2f-1885-430a-91ee-e0015b48ef5a",
   "metadata": {},
   "outputs": [
    {
     "data": {
      "text/plain": [
       "array([ 91,  92,  93,  94,  95,  96,  97,  98,  99, 100])"
      ]
     },
     "execution_count": 135,
     "metadata": {},
     "output_type": "execute_result"
    }
   ],
   "source": [
    "# zwróć uwagę na output: zwracany jest losowy wiersz\n",
    "rng.choice(arr)"
   ]
  },
  {
   "cell_type": "code",
   "execution_count": 138,
   "id": "3cf3b346-baa9-4357-99e1-463d7b1bef6b",
   "metadata": {},
   "outputs": [
    {
     "data": {
      "text/plain": [
       "array([[ 51,  52,  53,  54,  55,  56,  57,  58,  59,  60],\n",
       "       [ 41,  42,  43,  44,  45,  46,  47,  48,  49,  50],\n",
       "       [ 91,  92,  93,  94,  95,  96,  97,  98,  99, 100],\n",
       "       [ 21,  22,  23,  24,  25,  26,  27,  28,  29,  30],\n",
       "       [ 81,  82,  83,  84,  85,  86,  87,  88,  89,  90],\n",
       "       [ 91,  92,  93,  94,  95,  96,  97,  98,  99, 100],\n",
       "       [ 71,  72,  73,  74,  75,  76,  77,  78,  79,  80],\n",
       "       [ 21,  22,  23,  24,  25,  26,  27,  28,  29,  30],\n",
       "       [ 91,  92,  93,  94,  95,  96,  97,  98,  99, 100],\n",
       "       [ 81,  82,  83,  84,  85,  86,  87,  88,  89,  90],\n",
       "       [ 51,  52,  53,  54,  55,  56,  57,  58,  59,  60],\n",
       "       [  1,   2,   3,   4,   5,   6,   7,   8,   9,  10],\n",
       "       [ 11,  12,  13,  14,  15,  16,  17,  18,  19,  20],\n",
       "       [ 41,  42,  43,  44,  45,  46,  47,  48,  49,  50],\n",
       "       [  1,   2,   3,   4,   5,   6,   7,   8,   9,  10],\n",
       "       [ 31,  32,  33,  34,  35,  36,  37,  38,  39,  40],\n",
       "       [ 51,  52,  53,  54,  55,  56,  57,  58,  59,  60],\n",
       "       [ 31,  32,  33,  34,  35,  36,  37,  38,  39,  40],\n",
       "       [ 61,  62,  63,  64,  65,  66,  67,  68,  69,  70],\n",
       "       [  1,   2,   3,   4,   5,   6,   7,   8,   9,  10]])"
      ]
     },
     "execution_count": 138,
     "metadata": {},
     "output_type": "execute_result"
    }
   ],
   "source": [
    "# domyślnie wybór odbywa się ze zwracaniem (replace=True)\n",
    "rng.choice(arr, size=20)"
   ]
  },
  {
   "cell_type": "code",
   "execution_count": 140,
   "id": "05e00c5b-aa14-4d91-88a5-10ddbeaf1535",
   "metadata": {},
   "outputs": [
    {
     "data": {
      "text/plain": [
       "array([[51, 52, 53, 54, 55, 56, 57, 58, 59, 60],\n",
       "       [81, 82, 83, 84, 85, 86, 87, 88, 89, 90],\n",
       "       [31, 32, 33, 34, 35, 36, 37, 38, 39, 40],\n",
       "       [11, 12, 13, 14, 15, 16, 17, 18, 19, 20],\n",
       "       [21, 22, 23, 24, 25, 26, 27, 28, 29, 30]])"
      ]
     },
     "execution_count": 140,
     "metadata": {},
     "output_type": "execute_result"
    }
   ],
   "source": [
    "rng.choice(arr, size=5, replace=False)"
   ]
  },
  {
   "cell_type": "code",
   "execution_count": 147,
   "id": "6d7c6996-596d-4994-adb0-e133dcd3a3e8",
   "metadata": {},
   "outputs": [
    {
     "data": {
      "text/plain": [
       "array([70, 68,  6, 21, 67])"
      ]
     },
     "execution_count": 147,
     "metadata": {},
     "output_type": "execute_result"
    }
   ],
   "source": [
    "# a gdybyśmy jednak chcieli losować po pojedynczej wartości tablicy?\n",
    "# możemy wykorzystać funkcje poznane w poprzednim labie\n",
    "rng.choice(arr.flat, size=5, replace=False)"
   ]
  },
  {
   "cell_type": "code",
   "execution_count": 149,
   "id": "1910cd72-99ff-4772-b987-a44306caffc9",
   "metadata": {},
   "outputs": [
    {
     "data": {
      "text/plain": [
       "array([[ 41,  42,  43,  44,  45,  46,  47,  48,  49,  50],\n",
       "       [ 21,  22,  23,  24,  25,  26,  27,  28,  29,  30],\n",
       "       [ 81,  82,  83,  84,  85,  86,  87,  88,  89,  90],\n",
       "       [ 61,  62,  63,  64,  65,  66,  67,  68,  69,  70],\n",
       "       [ 51,  52,  53,  54,  55,  56,  57,  58,  59,  60],\n",
       "       [  1,   2,   3,   4,   5,   6,   7,   8,   9,  10],\n",
       "       [ 31,  32,  33,  34,  35,  36,  37,  38,  39,  40],\n",
       "       [ 71,  72,  73,  74,  75,  76,  77,  78,  79,  80],\n",
       "       [ 91,  92,  93,  94,  95,  96,  97,  98,  99, 100],\n",
       "       [ 11,  12,  13,  14,  15,  16,  17,  18,  19,  20]])"
      ]
     },
     "execution_count": 149,
     "metadata": {},
     "output_type": "execute_result"
    }
   ],
   "source": [
    "# \"tasowanie\" tablicy odbywa się w trybie in-place\n",
    "rng.shuffle(arr)\n",
    "arr"
   ]
  },
  {
   "cell_type": "code",
   "execution_count": 152,
   "id": "d73eabfa-f97f-45de-b43a-515ee05cbf20",
   "metadata": {},
   "outputs": [
    {
     "data": {
      "text/plain": [
       "array([[ 43,  46,  47,  50,  41,  45,  49,  44,  42,  48],\n",
       "       [ 23,  26,  27,  30,  21,  25,  29,  24,  22,  28],\n",
       "       [ 83,  86,  87,  90,  81,  85,  89,  84,  82,  88],\n",
       "       [ 63,  66,  67,  70,  61,  65,  69,  64,  62,  68],\n",
       "       [ 53,  56,  57,  60,  51,  55,  59,  54,  52,  58],\n",
       "       [  3,   6,   7,  10,   1,   5,   9,   4,   2,   8],\n",
       "       [ 33,  36,  37,  40,  31,  35,  39,  34,  32,  38],\n",
       "       [ 73,  76,  77,  80,  71,  75,  79,  74,  72,  78],\n",
       "       [ 93,  96,  97, 100,  91,  95,  99,  94,  92,  98],\n",
       "       [ 13,  16,  17,  20,  11,  15,  19,  14,  12,  18]])"
      ]
     },
     "execution_count": 152,
     "metadata": {},
     "output_type": "execute_result"
    }
   ],
   "source": [
    "# oraz domyślnie axis=0, ale możemy to zmienić\n",
    "rng.shuffle(arr, axis=1)\n",
    "arr"
   ]
  },
  {
   "cell_type": "code",
   "execution_count": 154,
   "id": "8b439bbb-fffb-4264-af97-4a48446624fa",
   "metadata": {},
   "outputs": [
    {
     "data": {
      "text/plain": [
       "array([3, 0, 6, 8, 5, 4, 9, 1, 7, 2])"
      ]
     },
     "execution_count": 154,
     "metadata": {},
     "output_type": "execute_result"
    }
   ],
   "source": [
    "# uzyskanie permutacji z tablicy lub podając integer (działa w wiekszości podobnych funkcji numpy)\n",
    "# zwraca permutację liczb całkowitych z zakresu.\n",
    "# Główna różnica między shuffle a permutation jest taka, iż pierwsza operacja odbywa się w trybie in-place\n",
    "# a druga zwraca kopię\n",
    "rng.permutation(10)"
   ]
  },
  {
   "cell_type": "code",
   "execution_count": 155,
   "id": "6e94b1dd-9879-471b-a336-e1513dfdd9c3",
   "metadata": {},
   "outputs": [
    {
     "data": {
      "text/plain": [
       "array([[ 23,  26,  27,  30,  21,  25,  29,  24,  22,  28],\n",
       "       [ 13,  16,  17,  20,  11,  15,  19,  14,  12,  18],\n",
       "       [  3,   6,   7,  10,   1,   5,   9,   4,   2,   8],\n",
       "       [ 93,  96,  97, 100,  91,  95,  99,  94,  92,  98],\n",
       "       [ 43,  46,  47,  50,  41,  45,  49,  44,  42,  48],\n",
       "       [ 83,  86,  87,  90,  81,  85,  89,  84,  82,  88],\n",
       "       [ 73,  76,  77,  80,  71,  75,  79,  74,  72,  78],\n",
       "       [ 63,  66,  67,  70,  61,  65,  69,  64,  62,  68],\n",
       "       [ 53,  56,  57,  60,  51,  55,  59,  54,  52,  58],\n",
       "       [ 33,  36,  37,  40,  31,  35,  39,  34,  32,  38]])"
      ]
     },
     "execution_count": 155,
     "metadata": {},
     "output_type": "execute_result"
    }
   ],
   "source": [
    "rng.permutation(arr)"
   ]
  },
  {
   "cell_type": "markdown",
   "id": "efafe808-574b-4264-963c-fa7d88e75ce6",
   "metadata": {},
   "source": [
    "## 2.2 Zapis i odczyt tablic z plików"
   ]
  },
  {
   "cell_type": "code",
   "execution_count": 157,
   "id": "4e740133-964b-45a3-98ff-1f4ffd0d1e84",
   "metadata": {},
   "outputs": [],
   "source": [
    "# zapisanie danych do pliku tekstowego\n",
    "np.savetxt('arr.txt', arr)"
   ]
  },
  {
   "cell_type": "code",
   "execution_count": 161,
   "id": "2e6d57d9-9dfe-4846-9035-8379bf382fe4",
   "metadata": {},
   "outputs": [
    {
     "name": "stdout",
     "output_type": "stream",
     "text": [
      "4.300000000000000000e+01 4.600000000000000000e+01 4.700000000000000000e+01 5.000000000000000000e+01 4.100000000000000000e+01 4.500000000000000000e+01 4.900000000000000000e+01 4.400000000000000000e+01 4.200000000000000000e+01 4.800000000000000000e+01\n",
      "2.300000000000000000e+01 2.600000000000000000e+01 2.700000000000000000e+01 3.000000000000000000e+01 2.100000000000000000e+01 2.500000000000000000e+01 2.900000000000000000e+01 2.400000000000000000e+01 2.200000000000000000e+01 2.800000000000000000e+01\n",
      "8.300000000000000000e+01 8.600000000000000000e+01 8.700000000000000000e+01 9.000000000000000000e+01 8.100000000000000000e+01 8.500000000000000000e+01 8.900000000000000000e+01 8.400000000000000000e+01 8.200000000000000000e+01 8.800000000000000000e+01\n",
      "6.300000000000000000e+01 6.600000000000000000e+01 6.700000000000000000e+01 7.000000000000000000e+01 6.100000000000000000e+01 6.500000000000000000e+01 6.900000000000000000e+01 6.400000000000000000e+01 6.200000000000000000e+01 6.800000000000000000e+01\n",
      "5.300000000000000000e+01 5.600000000000000000e+01 5.700000000000000000e+01 6.000000000000000000e+01 5.100000000000000000e+01 5.500000000000000000e+01 5.900000000000000000e+01 5.400000000000000000e+01 5.200000000000000000e+01 5.800000000000000000e+01\n",
      "3.000000000000000000e+00 6.000000000000000000e+00 7.000000000000000000e+00 1.000000000000000000e+01 1.000000000000000000e+00 5.000000000000000000e+00 9.000000000000000000e+00 4.000000000000000000e+00 2.000000000000000000e+00 8.000000000000000000e+00\n",
      "3.300000000000000000e+01 3.600000000000000000e+01 3.700000000000000000e+01 4.000000000000000000e+01 3.100000000000000000e+01 3.500000000000000000e+01 3.900000000000000000e+01 3.400000000000000000e+01 3.200000000000000000e+01 3.800000000000000000e+01\n",
      "7.300000000000000000e+01 7.600000000000000000e+01 7.700000000000000000e+01 8.000000000000000000e+01 7.100000000000000000e+01 7.500000000000000000e+01 7.900000000000000000e+01 7.400000000000000000e+01 7.200000000000000000e+01 7.800000000000000000e+01\n",
      "9.300000000000000000e+01 9.600000000000000000e+01 9.700000000000000000e+01 1.000000000000000000e+02 9.100000000000000000e+01 9.500000000000000000e+01 9.900000000000000000e+01 9.400000000000000000e+01 9.200000000000000000e+01 9.800000000000000000e+01\n",
      "1.300000000000000000e+01 1.600000000000000000e+01 1.700000000000000000e+01 2.000000000000000000e+01 1.100000000000000000e+01 1.500000000000000000e+01 1.900000000000000000e+01 1.400000000000000000e+01 1.200000000000000000e+01 1.800000000000000000e+01\n"
     ]
    }
   ],
   "source": [
    "# windows - odczyt zawartości zapomocą polecenia powłoki systemowej\n",
    "!type arr.txt\n",
    "# unix lub windows z WSL\n",
    "# !cat arr.txt"
   ]
  },
  {
   "cell_type": "code",
   "execution_count": 162,
   "id": "5e8bb438-fbff-41b2-8f8d-b087e3ca2241",
   "metadata": {},
   "outputs": [],
   "source": [
    "# dodajemy format\n",
    "np.savetxt('arr.txt', arr, fmt='%.3f')"
   ]
  },
  {
   "cell_type": "code",
   "execution_count": 163,
   "id": "58123a92-939e-4370-a07f-246eda228c54",
   "metadata": {},
   "outputs": [
    {
     "name": "stdout",
     "output_type": "stream",
     "text": [
      "43.000 46.000 47.000 50.000 41.000 45.000 49.000 44.000 42.000 48.000\n",
      "23.000 26.000 27.000 30.000 21.000 25.000 29.000 24.000 22.000 28.000\n",
      "83.000 86.000 87.000 90.000 81.000 85.000 89.000 84.000 82.000 88.000\n",
      "63.000 66.000 67.000 70.000 61.000 65.000 69.000 64.000 62.000 68.000\n",
      "53.000 56.000 57.000 60.000 51.000 55.000 59.000 54.000 52.000 58.000\n",
      "3.000 6.000 7.000 10.000 1.000 5.000 9.000 4.000 2.000 8.000\n",
      "33.000 36.000 37.000 40.000 31.000 35.000 39.000 34.000 32.000 38.000\n",
      "73.000 76.000 77.000 80.000 71.000 75.000 79.000 74.000 72.000 78.000\n",
      "93.000 96.000 97.000 100.000 91.000 95.000 99.000 94.000 92.000 98.000\n",
      "13.000 16.000 17.000 20.000 11.000 15.000 19.000 14.000 12.000 18.000\n"
     ]
    }
   ],
   "source": [
    "!type arr.txt"
   ]
  },
  {
   "cell_type": "code",
   "execution_count": 164,
   "id": "d7c79e47-bf2c-40cc-a682-5161cb30157c",
   "metadata": {},
   "outputs": [],
   "source": [
    "# wczytanie danych z pliku (ta funkcja posiada wiele parametrów mających wpływ na sposób wczytywania danych)\n",
    "arr_from_file = np.loadtxt('arr.txt')"
   ]
  },
  {
   "cell_type": "code",
   "execution_count": 167,
   "id": "ddbf256c-2ae6-41d9-9263-adff732f1d97",
   "metadata": {},
   "outputs": [
    {
     "name": "stdout",
     "output_type": "stream",
     "text": [
      "[[ 43.  46.  47.  50.  41.  45.  49.  44.  42.  48.]\n",
      " [ 23.  26.  27.  30.  21.  25.  29.  24.  22.  28.]\n",
      " [ 83.  86.  87.  90.  81.  85.  89.  84.  82.  88.]\n",
      " [ 63.  66.  67.  70.  61.  65.  69.  64.  62.  68.]\n",
      " [ 53.  56.  57.  60.  51.  55.  59.  54.  52.  58.]\n",
      " [  3.   6.   7.  10.   1.   5.   9.   4.   2.   8.]\n",
      " [ 33.  36.  37.  40.  31.  35.  39.  34.  32.  38.]\n",
      " [ 73.  76.  77.  80.  71.  75.  79.  74.  72.  78.]\n",
      " [ 93.  96.  97. 100.  91.  95.  99.  94.  92.  98.]\n",
      " [ 13.  16.  17.  20.  11.  15.  19.  14.  12.  18.]] float64\n"
     ]
    }
   ],
   "source": [
    "print(arr_from_file, arr_from_file.dtype)"
   ]
  },
  {
   "cell_type": "code",
   "execution_count": 168,
   "id": "9a9bace7-7b5c-4cf4-97d0-43dcdda030fa",
   "metadata": {},
   "outputs": [],
   "source": [
    "# ten format jest oczywiście wygodny dla człowieka i dane często są dostarczane w takiej formie\n",
    "# jednak nie jest to sposób najbardziej wydajny z dostępnych.\n",
    "# Tutaj pokażę tylko jedną z możliwości, ale dla poszerzenia wiedzy można zainteresować się formatami\n",
    "# danych wykorzystywanymi w zagadnieniach Big Data.\n",
    "np.save('arr_pickle', arr)"
   ]
  },
  {
   "cell_type": "markdown",
   "id": "b91fd110-e010-4db2-9f74-91de017f792d",
   "metadata": {},
   "source": [
    "## Zadania"
   ]
  },
  {
   "cell_type": "markdown",
   "id": "c2d06854-745b-4754-a1a1-efb59a9d689c",
   "metadata": {},
   "source": [
    "\n",
    "1. Stwórz tablicę o nazwie `a_small_one` o wymiarach 8x8 z wartościami od 1 do 64.\n",
    "\n",
    "2. Dla tablicy `a_small_one` policz:\n",
    "   * sumę dla każdej kolumny,\n",
    "   * sumę skumulowaną dla każdego wiersza,\n",
    "   * wartość średnią dla każdego wiersza,\n",
    "\n",
    "3. Zwróć podtablicę z tablicy `a_small_one` z elementami parzystymi (nie nadpisuj tej zmiennej).\n",
    "\n",
    "4. Zapisz do zmiennej o nazwie `no_even_small_one` tablicę `a_small_one` zamieniając wartości parzyste na wartość np.nan.\n",
    "\n",
    "5. Dla tablicy `no_even_small_one` policz funkcjami uwzględniającymi wartości nan (zazwyczaj posiadają przedrostek nan):\n",
    "   * sumę dla każdego wiersza,\n",
    "   * średnią dla każdej kolumny,\n",
    "   * wartość najmniejszą i w całej tablicy,\n",
    "\n",
    "6. Do tablicy `no_even_small_one` wstaw za pomocą funkcji `np.where`:\n",
    "\n",
    "   * wartości 1 dla każdej wartości np.nan (zobacz wbudowaną funkcję `np.isnan()`)\n",
    "   * liczby parzyste, które wcześniej zastąpiliśmy wartościami nan (teraz 1 jeżeli wykonany jest podpunkt pierwszy), więc przywracamy ten tablicy wygląd oryginalny z tablicy `a_small_one` - dla warunku wstawiaj wartość z `a_small_one` lub `no_even_small_one`\n",
    "\n",
    "8. Stwórz tablicę o nazwie `sto_by_sto` o wymiarach 100x100 próbkując wartości z rozkładu normalnego standardowego.\n",
    "\n",
    "9. Dla tablicy `sto_by_sto` policz:\n",
    "   * wartość średnią w każdym wierszu i kolumnie (oddzielnie),\n",
    "   * policz średnią różnicę bezwzględną dla wartości w powyższym punkcie względem wartości 0 (oddzielnie dla średniej z kolumn i średniej z wierszy, pamiętam o tym, że operacje na tablicy numpy wykonywane są w trybie broadcast).\n",
    "\n",
    "10. Stwórz tablicę o wymiarach 1000x1000 uzupełniając ją wartościami losowymi z rozkładu normalnego standardowego, a następnie posiłkując się przykładami z labów poprzednich (moduł `timeit`) porównaj czasy wykonania dla tej tablicy:\n",
    "    * zapisu do pliku tekstowego vs. zapis do pliku w formacie picle vs. zapis do pliku skompresowanego (funkcja `savez` w dokumentacji biblioteki numpy)\n",
    "    * odczytu dla trzech wyżej wymienionych plików."
   ]
  }
 ],
 "metadata": {
  "kernelspec": {
   "display_name": "Python 3 (ipykernel)",
   "language": "python",
   "name": "python3"
  },
  "language_info": {
   "codemirror_mode": {
    "name": "ipython",
    "version": 3
   },
   "file_extension": ".py",
   "mimetype": "text/x-python",
   "name": "python",
   "nbconvert_exporter": "python",
   "pygments_lexer": "ipython3",
   "version": "3.13.2"
  }
 },
 "nbformat": 4,
 "nbformat_minor": 5
}
