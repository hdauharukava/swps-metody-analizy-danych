{
 "cells": [
  {
   "cell_type": "markdown",
   "id": "5a09da80-84a3-435f-97d9-d85adeeb7daa",
   "metadata": {},
   "source": [
    "# Lab 12. Model regresyjny"
   ]
  },
  {
   "cell_type": "markdown",
   "id": "b6967df1-166d-4537-a9c0-fb788b6a1891",
   "metadata": {},
   "source": [
    "## 1. Budowa modelu regresyjnego do predykcji ceny mieszkań"
   ]
  },
  {
   "cell_type": "markdown",
   "id": "5158c42b-91a2-4167-b147-e45f7394a6ed",
   "metadata": {},
   "source": [
    "### 1.1 Wstępna analiza i przygotowanie danych"
   ]
  },
  {
   "cell_type": "code",
   "execution_count": 1,
   "id": "89981c86-a5b8-482c-ae20-2ef4705ee52d",
   "metadata": {},
   "outputs": [],
   "source": [
    "# import niezbędnych bibliotek\n",
    "import seaborn as sns\n",
    "import numpy as np\n",
    "import pandas as pd\n",
    "import matplotlib.pyplot as plt\n",
    "from sklearn.model_selection import train_test_split\n",
    "from sklearn.linear_model import LinearRegression\n",
    "from sklearn.metrics import mean_absolute_error, mean_squared_error, r2_score"
   ]
  },
  {
   "cell_type": "markdown",
   "id": "944ba506-ed07-4565-b435-d9790bcffc1f",
   "metadata": {},
   "source": [
    "Dane, na których zaprezentowany zostanie przykład to dane z serwisu www.kaggle.com.\n",
    "\n",
    "**Dataset:** https://www.kaggle.com/datasets/amrahhasanov23/otodom-pl-flat-prices-in-poland"
   ]
  },
  {
   "cell_type": "code",
   "execution_count": null,
   "id": "6a03da4d-a239-492e-980f-02e0bf47973b",
   "metadata": {},
   "outputs": [],
   "source": [
    "!pip install kagglehub"
   ]
  },
  {
   "cell_type": "code",
   "execution_count": 43,
   "id": "13f957db-e903-420e-8f02-5c93ac993995",
   "metadata": {},
   "outputs": [
    {
     "name": "stdout",
     "output_type": "stream",
     "text": [
      "Downloading from https://www.kaggle.com/api/v1/datasets/download/amrahhasanov23/otodom-pl-flat-prices-in-poland?dataset_version_number=1...\n"
     ]
    },
    {
     "name": "stderr",
     "output_type": "stream",
     "text": [
      "100%|████████████████████████████████████████████████████████████| 179k/179k [00:00<00:00, 460kB/s]"
     ]
    },
    {
     "name": "stdout",
     "output_type": "stream",
     "text": [
      "Extracting files...\n",
      "Ścieżka do pliku: C:\\Users\\Krzysztof\\.cache\\kagglehub\\datasets\\amrahhasanov23\\otodom-pl-flat-prices-in-poland\\versions\\1\n"
     ]
    },
    {
     "name": "stderr",
     "output_type": "stream",
     "text": [
      "\n"
     ]
    }
   ],
   "source": [
    "import kagglehub\n",
    "\n",
    "# plik pobiera się niestety bez podania ścieżki docelowej, więc zapewne będzie to jakiś folder tymczasowy\n",
    "path = kagglehub.dataset_download(\"amrahhasanov23/otodom-pl-flat-prices-in-poland\")\n",
    "\n",
    "print(\"Ścieżka do pliku:\", path)"
   ]
  },
  {
   "cell_type": "code",
   "execution_count": 2,
   "id": "c0c7ec54-6cf8-4a7c-851a-8307b67652af",
   "metadata": {},
   "outputs": [],
   "source": [
    "# deklarujemy stałą, która będzie niezmienna (to znowu taka umowa/konwencja), która wskazuje na ścieżkę do głównego\n",
    "# katalogu z danymi dla tego notebooka\n",
    "DATAPATH = './data'\n",
    "\n",
    "import os\n",
    "\n",
    "os.makedirs(DATAPATH, exist_ok=True)"
   ]
  },
  {
   "cell_type": "code",
   "execution_count": 45,
   "id": "f7d8365b-1f78-4153-b93a-23164d96fc3c",
   "metadata": {},
   "outputs": [
    {
     "data": {
      "text/plain": [
       "'./data\\\\Otodom_Flat_Listings.csv'"
      ]
     },
     "execution_count": 45,
     "metadata": {},
     "output_type": "execute_result"
    }
   ],
   "source": [
    "# przeniesiemy plik do folderu z danymi, który utworzyliśmy wcześniej\n",
    "import shutil\n",
    "\n",
    "# zakładamy, że jest tam tylko jeden plik, więc listujemy folder i pobieramy pierwszą nazwę pliku\n",
    "filename = os.listdir(path)[0]\n",
    "\n",
    "shutil.move(os.path.join(path, filename), os.path.join(DATAPATH, filename))"
   ]
  },
  {
   "cell_type": "code",
   "execution_count": 4,
   "id": "a5145835-c441-4c36-b6eb-ee659e1ad040",
   "metadata": {},
   "outputs": [
    {
     "data": {
      "text/plain": [
       "['Otodom_Flat_Listings.csv']"
      ]
     },
     "execution_count": 4,
     "metadata": {},
     "output_type": "execute_result"
    }
   ],
   "source": [
    "# sprawdzamy czy plik faktycznie się przeniósł\n",
    "os.listdir(DATAPATH)"
   ]
  },
  {
   "cell_type": "markdown",
   "id": "222f4480-3cca-41a6-9f16-d9098e2d1734",
   "metadata": {},
   "source": [
    "Alternatywnie można oczywiście pobrać zbiór bezpośrednioze strony internetowej, rozpakować go i umieścić w folderze docelowym.\n",
    "\n",
    "Zobaczmy teraz jak wyglądają nasze dane. Zachęcam również do spojrzenia na **datacard** tego zbioru na stronie serwisu Kaggle."
   ]
  },
  {
   "cell_type": "code",
   "execution_count": 6,
   "id": "dbd53138-218b-4270-a276-cb8fb4a12d65",
   "metadata": {},
   "outputs": [
    {
     "name": "stdout",
     "output_type": "stream",
     "text": [
      "<class 'pandas.core.frame.DataFrame'>\n",
      "RangeIndex: 2807 entries, 0 to 2806\n",
      "Data columns (total 13 columns):\n",
      " #   Column                  Non-Null Count  Dtype  \n",
      "---  ------                  --------------  -----  \n",
      " 0   Title                   2807 non-null   object \n",
      " 1   Price                   2664 non-null   float64\n",
      " 2   Location                2806 non-null   object \n",
      " 3   Surface                 2807 non-null   float64\n",
      " 4   Number_of_Rooms         2807 non-null   object \n",
      " 5   Floor                   2743 non-null   object \n",
      " 6   Finishing_Condition     2229 non-null   object \n",
      " 7   Heating                 2060 non-null   object \n",
      " 8   Parking_Space           1478 non-null   object \n",
      " 9   Balcony_Garden_Terrace  2102 non-null   object \n",
      " 10  Link                    2807 non-null   object \n",
      " 11  Voivodeship             2806 non-null   object \n",
      " 12  City                    2806 non-null   object \n",
      "dtypes: float64(2), object(11)\n",
      "memory usage: 285.2+ KB\n"
     ]
    }
   ],
   "source": [
    "otodf = pd.read_csv(os.path.join(DATAPATH, filename))\n",
    "otodf.info()"
   ]
  },
  {
   "cell_type": "code",
   "execution_count": 7,
   "id": "d70a8faf-9beb-41da-93f2-046f995f298b",
   "metadata": {},
   "outputs": [
    {
     "data": {
      "text/html": [
       "<div>\n",
       "<style scoped>\n",
       "    .dataframe tbody tr th:only-of-type {\n",
       "        vertical-align: middle;\n",
       "    }\n",
       "\n",
       "    .dataframe tbody tr th {\n",
       "        vertical-align: top;\n",
       "    }\n",
       "\n",
       "    .dataframe thead th {\n",
       "        text-align: right;\n",
       "    }\n",
       "</style>\n",
       "<table border=\"1\" class=\"dataframe\">\n",
       "  <thead>\n",
       "    <tr style=\"text-align: right;\">\n",
       "      <th></th>\n",
       "      <th>Title</th>\n",
       "      <th>Price</th>\n",
       "      <th>Location</th>\n",
       "      <th>Surface</th>\n",
       "      <th>Number_of_Rooms</th>\n",
       "      <th>Floor</th>\n",
       "      <th>Finishing_Condition</th>\n",
       "      <th>Heating</th>\n",
       "      <th>Parking_Space</th>\n",
       "      <th>Balcony_Garden_Terrace</th>\n",
       "      <th>Link</th>\n",
       "      <th>Voivodeship</th>\n",
       "      <th>City</th>\n",
       "    </tr>\n",
       "  </thead>\n",
       "  <tbody>\n",
       "    <tr>\n",
       "      <th>0</th>\n",
       "      <td>2 pokoje 47m2 po remoncie + garderoba + balkon</td>\n",
       "      <td>415000.0</td>\n",
       "      <td>ul. Marysińska, Stare Bałuty, Bałuty, Łódź, łó...</td>\n",
       "      <td>47.0</td>\n",
       "      <td>2</td>\n",
       "      <td>NaN</td>\n",
       "      <td>do zamieszkania</td>\n",
       "      <td>miejskie</td>\n",
       "      <td>garaż/miejsce parkingowe</td>\n",
       "      <td>balkon</td>\n",
       "      <td>https://www.otodom.pl/pl/oferta/2-pokoje-47m2-...</td>\n",
       "      <td>Łódzkie</td>\n",
       "      <td>Łódź</td>\n",
       "    </tr>\n",
       "    <tr>\n",
       "      <th>1</th>\n",
       "      <td>Właściciel- Ludwiki DD - WIDOK NA ZIELEŃ - 2x gar</td>\n",
       "      <td>2499000.0</td>\n",
       "      <td>ul. Ludwiki, Czyste, Wola, Warszawa, mazowieckie</td>\n",
       "      <td>105.0</td>\n",
       "      <td>4</td>\n",
       "      <td>2/8</td>\n",
       "      <td>do wykończenia</td>\n",
       "      <td>miejskie</td>\n",
       "      <td>garaż/miejsce parkingowe</td>\n",
       "      <td>balkon</td>\n",
       "      <td>https://www.otodom.pl/pl/oferta/wlasciciel-lud...</td>\n",
       "      <td>Mazowieckie</td>\n",
       "      <td>Warszawa</td>\n",
       "    </tr>\n",
       "    <tr>\n",
       "      <th>2</th>\n",
       "      <td>Sprzedam mieszkanie 60m2, 2 balkony, garderoba</td>\n",
       "      <td>649000.0</td>\n",
       "      <td>ul. Londyńska, Gorzów Wielkopolski, lubuskie</td>\n",
       "      <td>60.0</td>\n",
       "      <td>3</td>\n",
       "      <td>4/4</td>\n",
       "      <td>do zamieszkania</td>\n",
       "      <td>miejskie</td>\n",
       "      <td>NaN</td>\n",
       "      <td>balkon, taras</td>\n",
       "      <td>https://www.otodom.pl/pl/oferta/sprzedam-miesz...</td>\n",
       "      <td>Lubuskie</td>\n",
       "      <td>Gorzów Wielkopolski</td>\n",
       "    </tr>\n",
       "    <tr>\n",
       "      <th>3</th>\n",
       "      <td>Wyjątkowy, duży apartament z antresolą</td>\n",
       "      <td>2108000.0</td>\n",
       "      <td>Mrzeżyno, Trzebiatów, gryficki, zachodniopomor...</td>\n",
       "      <td>78.3</td>\n",
       "      <td>3</td>\n",
       "      <td>4/4</td>\n",
       "      <td>do wykończenia</td>\n",
       "      <td>NaN</td>\n",
       "      <td>garaż/miejsce parkingowe</td>\n",
       "      <td>NaN</td>\n",
       "      <td>https://www.otodom.pl/pl/oferta/wyjatkowy-duzy...</td>\n",
       "      <td>Zachodniopomorskie</td>\n",
       "      <td>gryficki</td>\n",
       "    </tr>\n",
       "    <tr>\n",
       "      <th>4</th>\n",
       "      <td>2/3-pok. 49,2 m2 w samym sercu Koszalina - Kuncer</td>\n",
       "      <td>450180.0</td>\n",
       "      <td>ul. Bartosza Głowackiego, Koszalin, zachodniop...</td>\n",
       "      <td>49.2</td>\n",
       "      <td>2</td>\n",
       "      <td>2/3</td>\n",
       "      <td>do zamieszkania</td>\n",
       "      <td>miejskie</td>\n",
       "      <td>garaż/miejsce parkingowe</td>\n",
       "      <td>balkon</td>\n",
       "      <td>https://www.otodom.pl/pl/oferta/2-3-pok-49-2-m...</td>\n",
       "      <td>Zachodniopomorskie</td>\n",
       "      <td>Koszalin</td>\n",
       "    </tr>\n",
       "  </tbody>\n",
       "</table>\n",
       "</div>"
      ],
      "text/plain": [
       "                                               Title      Price  \\\n",
       "0     2 pokoje 47m2 po remoncie + garderoba + balkon   415000.0   \n",
       "1  Właściciel- Ludwiki DD - WIDOK NA ZIELEŃ - 2x gar  2499000.0   \n",
       "2     Sprzedam mieszkanie 60m2, 2 balkony, garderoba   649000.0   \n",
       "3             Wyjątkowy, duży apartament z antresolą  2108000.0   \n",
       "4  2/3-pok. 49,2 m2 w samym sercu Koszalina - Kuncer   450180.0   \n",
       "\n",
       "                                            Location  Surface Number_of_Rooms  \\\n",
       "0  ul. Marysińska, Stare Bałuty, Bałuty, Łódź, łó...     47.0              2    \n",
       "1   ul. Ludwiki, Czyste, Wola, Warszawa, mazowieckie    105.0              4    \n",
       "2       ul. Londyńska, Gorzów Wielkopolski, lubuskie     60.0              3    \n",
       "3  Mrzeżyno, Trzebiatów, gryficki, zachodniopomor...     78.3              3    \n",
       "4  ul. Bartosza Głowackiego, Koszalin, zachodniop...     49.2              2    \n",
       "\n",
       "  Floor Finishing_Condition   Heating             Parking_Space  \\\n",
       "0   NaN     do zamieszkania  miejskie  garaż/miejsce parkingowe   \n",
       "1   2/8      do wykończenia  miejskie  garaż/miejsce parkingowe   \n",
       "2   4/4     do zamieszkania  miejskie                       NaN   \n",
       "3   4/4      do wykończenia       NaN  garaż/miejsce parkingowe   \n",
       "4   2/3     do zamieszkania  miejskie  garaż/miejsce parkingowe   \n",
       "\n",
       "  Balcony_Garden_Terrace                                               Link  \\\n",
       "0                 balkon  https://www.otodom.pl/pl/oferta/2-pokoje-47m2-...   \n",
       "1                 balkon  https://www.otodom.pl/pl/oferta/wlasciciel-lud...   \n",
       "2          balkon, taras  https://www.otodom.pl/pl/oferta/sprzedam-miesz...   \n",
       "3                    NaN  https://www.otodom.pl/pl/oferta/wyjatkowy-duzy...   \n",
       "4                 balkon  https://www.otodom.pl/pl/oferta/2-3-pok-49-2-m...   \n",
       "\n",
       "          Voivodeship                 City  \n",
       "0             Łódzkie                 Łódź  \n",
       "1         Mazowieckie             Warszawa  \n",
       "2            Lubuskie  Gorzów Wielkopolski  \n",
       "3  Zachodniopomorskie             gryficki  \n",
       "4  Zachodniopomorskie             Koszalin  "
      ]
     },
     "execution_count": 7,
     "metadata": {},
     "output_type": "execute_result"
    }
   ],
   "source": [
    "otodf.head()"
   ]
  },
  {
   "cell_type": "code",
   "execution_count": 8,
   "id": "629083fa-3aba-4401-a90a-664c5d3d9a71",
   "metadata": {},
   "outputs": [
    {
     "data": {
      "text/plain": [
       "Title                        0\n",
       "Price                      143\n",
       "Location                     1\n",
       "Surface                      0\n",
       "Number_of_Rooms              0\n",
       "Floor                       64\n",
       "Finishing_Condition        578\n",
       "Heating                    747\n",
       "Parking_Space             1329\n",
       "Balcony_Garden_Terrace     705\n",
       "Link                         0\n",
       "Voivodeship                  1\n",
       "City                         1\n",
       "dtype: int64"
      ]
     },
     "execution_count": 8,
     "metadata": {},
     "output_type": "execute_result"
    }
   ],
   "source": [
    "otodf.isna().sum()"
   ]
  },
  {
   "cell_type": "markdown",
   "id": "f782b7b9-61ab-4ab0-9a8f-d3340388b3da",
   "metadata": {},
   "source": [
    "Trzeba przyznać, że w zbiorze jest sporo elementów, nad którymi należy popracować zanim będzie można dane \"wrzucić\" do modelu ML i liczyć na jakieś sensowne wyniki. Sporo jest danych tekstowych, które w takiej formie na pewno nam się nie przydadzą, ale po ich przekształceniu powinniśmy uzyskać lepsze rezultaty - chociaż aktualnie jest to niestety \"wróżenie z fusów\" ;-).\n",
    "\n",
    "W zbiorze sporo jest też wartości brakujących, z których część jest kłopotliwa (cena), a z częścią może będziemy mogli sobie jakoś sensownie poradzić (np. miejsce parkingowe)."
   ]
  },
  {
   "cell_type": "markdown",
   "id": "6cf3c07d-48f6-48a4-bcdd-294c579a811a",
   "metadata": {},
   "source": [
    "**Zaczniemy od czegoś prostego.**\n",
    "\n",
    "Na początek weźmiemy pod uwagę tylko 2 cechy - cenę oraz powierzchnię mieszkania, ale tylko te, które nie mają wartości Nan."
   ]
  },
  {
   "cell_type": "code",
   "execution_count": 9,
   "id": "eeacdb77-1d5b-4636-bf75-19ca9eb01da5",
   "metadata": {},
   "outputs": [
    {
     "data": {
      "text/html": [
       "<div>\n",
       "<style scoped>\n",
       "    .dataframe tbody tr th:only-of-type {\n",
       "        vertical-align: middle;\n",
       "    }\n",
       "\n",
       "    .dataframe tbody tr th {\n",
       "        vertical-align: top;\n",
       "    }\n",
       "\n",
       "    .dataframe thead th {\n",
       "        text-align: right;\n",
       "    }\n",
       "</style>\n",
       "<table border=\"1\" class=\"dataframe\">\n",
       "  <thead>\n",
       "    <tr style=\"text-align: right;\">\n",
       "      <th></th>\n",
       "      <th>Surface</th>\n",
       "      <th>Price</th>\n",
       "    </tr>\n",
       "  </thead>\n",
       "  <tbody>\n",
       "    <tr>\n",
       "      <th>0</th>\n",
       "      <td>47.00</td>\n",
       "      <td>415000.0</td>\n",
       "    </tr>\n",
       "    <tr>\n",
       "      <th>1</th>\n",
       "      <td>105.00</td>\n",
       "      <td>2499000.0</td>\n",
       "    </tr>\n",
       "    <tr>\n",
       "      <th>2</th>\n",
       "      <td>60.00</td>\n",
       "      <td>649000.0</td>\n",
       "    </tr>\n",
       "    <tr>\n",
       "      <th>3</th>\n",
       "      <td>78.30</td>\n",
       "      <td>2108000.0</td>\n",
       "    </tr>\n",
       "    <tr>\n",
       "      <th>4</th>\n",
       "      <td>49.20</td>\n",
       "      <td>450180.0</td>\n",
       "    </tr>\n",
       "    <tr>\n",
       "      <th>...</th>\n",
       "      <td>...</td>\n",
       "      <td>...</td>\n",
       "    </tr>\n",
       "    <tr>\n",
       "      <th>2802</th>\n",
       "      <td>34.00</td>\n",
       "      <td>525000.0</td>\n",
       "    </tr>\n",
       "    <tr>\n",
       "      <th>2803</th>\n",
       "      <td>61.18</td>\n",
       "      <td>829000.0</td>\n",
       "    </tr>\n",
       "    <tr>\n",
       "      <th>2804</th>\n",
       "      <td>50.00</td>\n",
       "      <td>830000.0</td>\n",
       "    </tr>\n",
       "    <tr>\n",
       "      <th>2805</th>\n",
       "      <td>66.47</td>\n",
       "      <td>699000.0</td>\n",
       "    </tr>\n",
       "    <tr>\n",
       "      <th>2806</th>\n",
       "      <td>66.00</td>\n",
       "      <td>1450000.0</td>\n",
       "    </tr>\n",
       "  </tbody>\n",
       "</table>\n",
       "<p>2664 rows × 2 columns</p>\n",
       "</div>"
      ],
      "text/plain": [
       "      Surface      Price\n",
       "0       47.00   415000.0\n",
       "1      105.00  2499000.0\n",
       "2       60.00   649000.0\n",
       "3       78.30  2108000.0\n",
       "4       49.20   450180.0\n",
       "...       ...        ...\n",
       "2802    34.00   525000.0\n",
       "2803    61.18   829000.0\n",
       "2804    50.00   830000.0\n",
       "2805    66.47   699000.0\n",
       "2806    66.00  1450000.0\n",
       "\n",
       "[2664 rows x 2 columns]"
      ]
     },
     "execution_count": 9,
     "metadata": {},
     "output_type": "execute_result"
    }
   ],
   "source": [
    "otodf_1 = otodf[['Surface', 'Price']]\n",
    "otodf_1 = otodf_1.dropna()\n",
    "otodf_1"
   ]
  },
  {
   "cell_type": "markdown",
   "id": "e93df6c0-0dd8-4c60-9c33-d8d610720a38",
   "metadata": {},
   "source": [
    "Sprawdźmy teraz jak wygląda korelacja tych dwóch cech, możemy się domyślać, że jest raczej wysoka i dodatnia (jeżeli wartość jednej z cech rośnie, to drugiej również)."
   ]
  },
  {
   "cell_type": "code",
   "execution_count": 10,
   "id": "8435c897-ae26-4f76-be05-d658b4f029ae",
   "metadata": {},
   "outputs": [
    {
     "data": {
      "text/plain": [
       "<Axes: >"
      ]
     },
     "execution_count": 10,
     "metadata": {},
     "output_type": "execute_result"
    },
    {
     "data": {
      "image/png": "[encoded data removed]",
      "text/plain": [
       "<Figure size 640x480 with 2 Axes>"
      ]
     },
     "metadata": {},
     "output_type": "display_data"
    }
   ],
   "source": [
    "corr = otodf_1.corr()\n",
    "sns.heatmap(corr, annot=True, cmap='YlGnBu')\n",
    "# plt.show()"
   ]
  },
  {
   "cell_type": "markdown",
   "id": "8fd632da-9dc1-478b-b73a-8cf9960b13db",
   "metadata": {},
   "source": [
    "**Wnioski**\n",
    "\n",
    "Nasze założenie było jednak błędne, korelacja jest co prawda dodatnia, ale bardzo niska. To na pewno będzie więc za mało dla naszego modelu regresji, aby na podstawie samej tylko powierzchni generować predykcję ceny.\n",
    "\n",
    "Zobaczmy jeszcze na wykres typu scatter jak to wygląda."
   ]
  },
  {
   "cell_type": "code",
   "execution_count": 11,
   "id": "c4195330-d858-4dab-aeac-6b404cecc061",
   "metadata": {},
   "outputs": [
    {
     "data": {
      "text/plain": [
       "<Axes: >"
      ]
     },
     "execution_count": 11,
     "metadata": {},
     "output_type": "execute_result"
    },
    {
     "data": {
      "image/png": "[encoded data removed]",
      "text/plain": [
       "<Figure size 640x480 with 1 Axes>"
      ]
     },
     "metadata": {},
     "output_type": "display_data"
    }
   ],
   "source": [
    "f, ax = plt.subplots()\n",
    "ax.ticklabel_format(style='plain', axis='both')\n",
    "sns.scatterplot(otodf_1, ax=ax)"
   ]
  },
  {
   "cell_type": "markdown",
   "id": "2c6b46d0-5d6b-41c2-aadf-39a0bb78f048",
   "metadata": {},
   "source": [
    "Widać wyraźnie, że mamy tu do czynienia z wartościami odstającymi, które będą zaburzały model.\n",
    "\n",
    "Widać to również bardzo wyraźnie na wykresie typu boxplot poniżej, gdzie box ze średnią, medianą oraz percentylami 25 i 75 nie jest właściwie widoczny."
   ]
  },
  {
   "cell_type": "code",
   "execution_count": 13,
   "id": "f15672f5-cb23-472d-b392-31d35673a58f",
   "metadata": {},
   "outputs": [
    {
     "data": {
      "text/plain": [
       "<Axes: ylabel='Surface'>"
      ]
     },
     "execution_count": 13,
     "metadata": {},
     "output_type": "execute_result"
    },
    {
     "data": {
      "image/png": "[encoded data removed]",
      "text/plain": [
       "<Figure size 640x480 with 1 Axes>"
      ]
     },
     "metadata": {},
     "output_type": "display_data"
    }
   ],
   "source": [
    "sns.boxplot(otodf_1['Surface'])"
   ]
  },
  {
   "cell_type": "markdown",
   "id": "9edfd451-eea1-4918-82f3-93a72b9cfef6",
   "metadata": {},
   "source": [
    "Wyświetlone podsumowanie głównym statystyk opisowych daje nam bardziej wymierny obraz sytuacji dla podzbioru."
   ]
  },
  {
   "cell_type": "code",
   "execution_count": 14,
   "id": "6eed11f3-8d1f-4825-933b-8c9f2d5edde6",
   "metadata": {},
   "outputs": [
    {
     "data": {
      "text/html": [
       "<div>\n",
       "<style scoped>\n",
       "    .dataframe tbody tr th:only-of-type {\n",
       "        vertical-align: middle;\n",
       "    }\n",
       "\n",
       "    .dataframe tbody tr th {\n",
       "        vertical-align: top;\n",
       "    }\n",
       "\n",
       "    .dataframe thead th {\n",
       "        text-align: right;\n",
       "    }\n",
       "</style>\n",
       "<table border=\"1\" class=\"dataframe\">\n",
       "  <thead>\n",
       "    <tr style=\"text-align: right;\">\n",
       "      <th></th>\n",
       "      <th>Surface</th>\n",
       "      <th>Price</th>\n",
       "    </tr>\n",
       "  </thead>\n",
       "  <tbody>\n",
       "    <tr>\n",
       "      <th>count</th>\n",
       "      <td>2664.000</td>\n",
       "      <td>2664.000</td>\n",
       "    </tr>\n",
       "    <tr>\n",
       "      <th>mean</th>\n",
       "      <td>61.561</td>\n",
       "      <td>1568792.503</td>\n",
       "    </tr>\n",
       "    <tr>\n",
       "      <th>std</th>\n",
       "      <td>84.643</td>\n",
       "      <td>7945282.597</td>\n",
       "    </tr>\n",
       "    <tr>\n",
       "      <th>min</th>\n",
       "      <td>1.000</td>\n",
       "      <td>44444.000</td>\n",
       "    </tr>\n",
       "    <tr>\n",
       "      <th>25%</th>\n",
       "      <td>43.000</td>\n",
       "      <td>395000.000</td>\n",
       "    </tr>\n",
       "    <tr>\n",
       "      <th>50%</th>\n",
       "      <td>54.400</td>\n",
       "      <td>573000.000</td>\n",
       "    </tr>\n",
       "    <tr>\n",
       "      <th>75%</th>\n",
       "      <td>69.000</td>\n",
       "      <td>780000.000</td>\n",
       "    </tr>\n",
       "    <tr>\n",
       "      <th>max</th>\n",
       "      <td>3800.000</td>\n",
       "      <td>162499380.000</td>\n",
       "    </tr>\n",
       "  </tbody>\n",
       "</table>\n",
       "</div>"
      ],
      "text/plain": [
       "       Surface         Price\n",
       "count 2664.000      2664.000\n",
       "mean    61.561   1568792.503\n",
       "std     84.643   7945282.597\n",
       "min      1.000     44444.000\n",
       "25%     43.000    395000.000\n",
       "50%     54.400    573000.000\n",
       "75%     69.000    780000.000\n",
       "max   3800.000 162499380.000"
      ]
     },
     "execution_count": 14,
     "metadata": {},
     "output_type": "execute_result"
    }
   ],
   "source": [
    "pd.options.display.float_format = '{:.3f}'.format\n",
    "otodf_1.describe()"
   ]
  },
  {
   "cell_type": "markdown",
   "id": "f31f109d-2456-46a1-867c-89a60899e5ae",
   "metadata": {},
   "source": [
    "Jest wiele metod radzenia sobie z danymi odstającymi (ang. outliers), ale tnie jest to istotą tego labu. Dla przykładu wykorzystane zostaną tutaj przykłady z odcięciem części obserwacji odstających.\n",
    "\n",
    "Wartości odstające wyliczamy różnymi miarami rozrzutu danych, często wykorzystując rozstęp ćwiartkowy (ang. interquantile range, w skrócie IQR).\n",
    "\n",
    "Poniżej podstawowe informacje o tym jak jest wyliczany, a następnie policzymy go dla naszego podzbioru.\n",
    "\n",
    "![boxplot](boxplot.png)\n",
    "\n",
    "_(źródło: https://www.geeksforgeeks.org/interquartile-range-and-quartile-deviation-using-numpy-and-scipy/)_\n",
    "\n",
    "**Rozstęp ćwiartkowy to różnica Q3 oraz Q1:**\n",
    "\n",
    "_IQR= Q3 − Q1_\n",
    "\n",
    "Jednym ze sposobów na wskazanie wartości odstających jest wykorzystanie wyliczonego **IQR** tak, że wszystkie wartości, które znajdują się poniżej **Q1 – 1.5*IQR** lub powyżej **Q3 + 1.5*IQR** mogą być traktowane jako wartości odstające.\n",
    "\n",
    "Policzmy zatem te wartości dla naszego podzbioru."
   ]
  },
  {
   "cell_type": "code",
   "execution_count": 16,
   "id": "444e3d96-d818-4fb7-98a5-668cddbf21d6",
   "metadata": {},
   "outputs": [
    {
     "name": "stdout",
     "output_type": "stream",
     "text": [
      "Q1: 43.0\n",
      "Q3: 69.0\n",
      "IQR: 26.0\n",
      "Lower outlier threshold: 4.0\n",
      "Upper outlier threshold: 108.0\n"
     ]
    }
   ],
   "source": [
    "# policzymy wartości kwantyli dla kolumny Surface\n",
    "q1 = np.percentile(otodf_1['Surface'], 25)\n",
    "q3 = np.percentile(otodf_1['Surface'], 75)\n",
    "iqr = q3 - q1\n",
    "\n",
    "# teraz progi dla wartości odstających\n",
    "lower = q1 - 1.5 * iqr\n",
    "upper = q3 + 1.5 * iqr\n",
    "\n",
    "print(f'Q1: {q1}', f'Q3: {q3}', f'IQR: {iqr}', f'Lower outlier threshold: {lower}', f'Upper outlier threshold: {upper}', sep='\\n')"
   ]
  },
  {
   "cell_type": "markdown",
   "id": "1ed4c84a-11e0-4a70-9047-57ebc039f560",
   "metadata": {},
   "source": [
    "Te wartości spróbujemy wykorzystać później do porównania jakości różnych modeli regresji, które stworzymy dla tego zbioru."
   ]
  },
  {
   "cell_type": "markdown",
   "id": "7a0808c7-e31d-4695-a0d3-8a53d09c4a34",
   "metadata": {},
   "source": [
    "### 1.2 Szacowanie parametrów regresji"
   ]
  },
  {
   "cell_type": "markdown",
   "id": "4fb164ee-ca64-4735-9b5c-051f9584ac41",
   "metadata": {},
   "source": [
    "Wykorzystując biblioteke `scikit-learn` stworzymy model regresji dla naszego podzbioru bez jego modyfikacji, jako model bazowy."
   ]
  },
  {
   "cell_type": "code",
   "execution_count": 17,
   "id": "8997372c-2189-4afb-9d88-e65d5d6dd217",
   "metadata": {},
   "outputs": [],
   "source": [
    "# 1. podział danych na 4 podzbiory\n",
    "X = otodf_1['Surface']\n",
    "y = otodf_1['Price']\n",
    "X_train, X_test, y_train, y_test = train_test_split(X, y, test_size=0.25, random_state=0)"
   ]
  },
  {
   "cell_type": "code",
   "execution_count": 18,
   "id": "789d036c-eed6-456b-b0a9-221919ddbb23",
   "metadata": {},
   "outputs": [
    {
     "data": {
      "text/plain": [
       "<Axes: ylabel='Surface'>"
      ]
     },
     "execution_count": 18,
     "metadata": {},
     "output_type": "execute_result"
    },
    {
     "data": {
      "image/png": "[encoded data removed]",
      "text/plain": [
       "<Figure size 640x480 with 1 Axes>"
      ]
     },
     "metadata": {},
     "output_type": "display_data"
    }
   ],
   "source": [
    "sns.boxplot(X_train)"
   ]
  },
  {
   "cell_type": "code",
   "execution_count": 29,
   "id": "8c71f8d8-6748-4f5c-b352-a2740ccf6e9c",
   "metadata": {},
   "outputs": [
    {
     "name": "stdout",
     "output_type": "stream",
     "text": [
      "Punkt przecięcia: 1393959.888424575\n",
      "Współczynniki: [2375.36188693]\n"
     ]
    }
   ],
   "source": [
    "# 2. tworzenie modelu regresji\n",
    "\n",
    "lin_reg = LinearRegression()\n",
    "\n",
    "# Dopasowuje model regresji liniowej\n",
    "lin_reg.fit(X_train.values.reshape(-1,1), y_train)\n",
    "\n",
    "# Przewiduje wartości na podstawie zestawu testowego\n",
    "predictions = lin_reg.predict(X_test.values.reshape(-1,1))\n",
    "\n",
    "# Wyświetla wartości punktu przecięcia z osią x i współczynników modelu\n",
    "print(\"Punkt przecięcia:\", lin_reg.intercept_)\n",
    "print(\"Współczynniki:\", lin_reg.coef_)"
   ]
  },
  {
   "cell_type": "code",
   "execution_count": 30,
   "id": "571c9a5e-6af0-4136-9dac-95c48d92084c",
   "metadata": {},
   "outputs": [
    {
     "name": "stdout",
     "output_type": "stream",
     "text": [
      "Średni błąd bezwzględny (MAE): 1875141.1343519343\n",
      "Błąd średniokwadratowy (MSE): 81450569367726.75\n",
      "Pierw. błędu średniokwadratowego (RMSE): 9024996.917879073\n",
      "Współczynnik determinacji R-kwadrat: 0.0004911898590828079\n"
     ]
    }
   ],
   "source": [
    "# wyliczmy również miary modelu tak jak na wykładzie\n",
    "print('Średni błąd bezwzględny (MAE):', mean_absolute_error(y_test, predictions))\n",
    "print(\"Błąd średniokwadratowy (MSE):\", mean_squared_error(y_test, predictions))\n",
    "print(\"Pierw. błędu średniokwadratowego (RMSE):\", np.sqrt(mean_squared_error(y_test, predictions)))\n",
    "print(\"Współczynnik determinacji R-kwadrat:\", r2_score(y_test, predictions))"
   ]
  },
  {
   "cell_type": "markdown",
   "id": "40a14b10-8787-420a-b17e-7b981d2d63d8",
   "metadata": {},
   "source": [
    "Można już na tej podstawie wywnioskować, że model jest słaby, gdyż wartość funkcji błędów jest wysoka, a miara R2 jest bardzo niska.\n",
    "Ten wynik był jednak do przewidzenia biorąc pod uwagę wcześniejszą analizę danych tylko dla tej jednej cechy (`Surface`) względem ceny (`Price`).\n",
    "\n",
    "Tutaj również widać, że model nie posiada wysokiej zależności liniowej, więc regresj aliniowa może nie być dobrym podejściem do modelowania tego zbioru.\n",
    "\n",
    "**Uwaga!**\n",
    "\n",
    "Pamiętajmy, że te wyniki są wynikami tylko dla jednej próby losowego wyboru zbioru treningowego i testowego. W realnych scenariuszach chcemy taki podział wykonać wiele razy (im więcej tym uzyskane wyniki będą obarczone mniejszym wpływem losowości) i wyliczyć uśrednione wyniki (accuracy, MSE, itp.)."
   ]
  },
  {
   "cell_type": "code",
   "execution_count": 32,
   "id": "05a4d904-f397-4384-ba3f-bef42e68c100",
   "metadata": {},
   "outputs": [
    {
     "data": {
      "image/png": "[encoded data removed]",
      "text/plain": [
       "<Figure size 640x480 with 1 Axes>"
      ]
     },
     "metadata": {},
     "output_type": "display_data"
    }
   ],
   "source": [
    "# wyświetlamy wyliczoną linię regresji\n",
    "plt.scatter(X_train, y_train, color=\"black\")\n",
    "plt.plot(X_test, predictions, color=\"red\", linewidth=3)\n",
    "# lub tak\n",
    "# lcoef_ = lin_reg.coef_ * X_test + lin_reg.intercept_\n",
    "# plt.plot(X_test, lcoef_, color=\"red\", linewidth=3)\n",
    "\n",
    "plt.xticks(())\n",
    "plt.yticks(())\n",
    "\n",
    "plt.show()"
   ]
  },
  {
   "cell_type": "code",
   "execution_count": 33,
   "id": "d36a41eb-0899-476a-8e13-545a79d1a942",
   "metadata": {},
   "outputs": [
    {
     "data": {
      "text/plain": [
       "105"
      ]
     },
     "execution_count": 33,
     "metadata": {},
     "output_type": "execute_result"
    }
   ],
   "source": [
    "# teraz sprónujemy wykorzystać wyliczone miary wartości odstających, aby zobaczyć, czy przyniesie to lepszy wynik\n",
    "# podział danych pozostaje taki jak jest, zmodyfikujemy tylko dwa podzbiory X_train, y_train, gdyż z danych\n",
    "# treningowych chcemy pozbyć się wartości odstających\n",
    "\n",
    "q1 = np.percentile(X_train, 25)\n",
    "q3 = np.percentile(X_train, 75)\n",
    "iqr = q3 - q1\n",
    "\n",
    "# teraz progi dla wartości odstających\n",
    "lower = q1 - 1.5 * iqr\n",
    "upper = q3 + 1.5 * iqr\n",
    "\n",
    "# ile jest tych wartości odstających?\n",
    "sum((X_train > upper) | (X_train < lower))"
   ]
  },
  {
   "cell_type": "code",
   "execution_count": 34,
   "id": "d23d12f6-8143-4e73-b17c-a88c624bcb1a",
   "metadata": {},
   "outputs": [
    {
     "data": {
      "text/plain": [
       "1893     True\n",
       "1324    False\n",
       "2065    False\n",
       "2428    False\n",
       "1593    False\n",
       "        ...  \n",
       "1833    False\n",
       "809     False\n",
       "892     False\n",
       "1748    False\n",
       "2743    False\n",
       "Name: Surface, Length: 1998, dtype: bool"
      ]
     },
     "execution_count": 34,
     "metadata": {},
     "output_type": "execute_result"
    }
   ],
   "source": [
    "(X_train > upper) | (X_train < lower)"
   ]
  },
  {
   "cell_type": "code",
   "execution_count": 36,
   "id": "61f55cf1-4a68-45e2-b6c6-4ec656b47137",
   "metadata": {},
   "outputs": [],
   "source": [
    "outliers_map = ((X_train > upper) | (X_train < lower))\n",
    "# odrzucamy pozycje gdzie wykryto wartości odstające\n",
    "# znak ~ oznacza negację\n",
    "\n",
    "outliers_map = outliers_map\n",
    "X_train = X_train[~outliers_map]\n",
    "y_train = y_train[~outliers_map]"
   ]
  },
  {
   "cell_type": "code",
   "execution_count": 37,
   "id": "7ebad938-08b0-4e02-8d56-510e8b5aff75",
   "metadata": {},
   "outputs": [
    {
     "data": {
      "text/plain": [
       "<Axes: ylabel='Surface'>"
      ]
     },
     "execution_count": 37,
     "metadata": {},
     "output_type": "execute_result"
    },
    {
     "data": {
      "image/png": "[encoded data removed]",
      "text/plain": [
       "<Figure size 640x480 with 1 Axes>"
      ]
     },
     "metadata": {},
     "output_type": "display_data"
    }
   ],
   "source": [
    "# po usunięciu wartości odstających\n",
    "# lepiej, ale wciąż nie jest zbyt dobrze\n",
    "sns.boxplot(X_train)"
   ]
  },
  {
   "cell_type": "code",
   "execution_count": 40,
   "id": "d372264f-4f7f-4793-a29a-5b06c249cfa3",
   "metadata": {},
   "outputs": [
    {
     "name": "stdout",
     "output_type": "stream",
     "text": [
      "Punkt przecięcia: 541985.1059085288\n",
      "Współczynniki: [17715.3771551]\n"
     ]
    }
   ],
   "source": [
    "# trenujemy model raz jeszcze na danych bez wartości odstających\n",
    "lin_reg = LinearRegression()\n",
    "\n",
    "# Dopasowuje model regresji liniowej\n",
    "lin_reg.fit(X_train.values.reshape(-1,1), y_train)\n",
    "\n",
    "# Przewiduje wartości na podstawie zestawu testowego\n",
    "predictions = lin_reg.predict(X_test.values.reshape(-1,1))\n",
    "\n",
    "# Wyświetla wartości punktu przecięcia z osią x i współczynników modelu\n",
    "print(\"Punkt przecięcia:\", lin_reg.intercept_)\n",
    "print(\"Współczynniki:\", lin_reg.coef_)"
   ]
  },
  {
   "cell_type": "code",
   "execution_count": 41,
   "id": "fefc12c3-f031-4150-bb35-64ca61690dab",
   "metadata": {},
   "outputs": [
    {
     "name": "stdout",
     "output_type": "stream",
     "text": [
      "Średni błąd bezwzględny (MAE): 1909086.983911204\n",
      "Błąd średniokwadratowy (MSE): 81282213913544.39\n",
      "Pierw. błędu średniokwadratowego (RMSE): 9015664.917993814\n",
      "Współczynnik determinacji R-kwadrat: 0.0025571393177151736\n"
     ]
    }
   ],
   "source": [
    "# wyliczmy również miary modelu tak jak na wykładzie\n",
    "print('Średni błąd bezwzględny (MAE):', mean_absolute_error(y_test, predictions))\n",
    "print(\"Błąd średniokwadratowy (MSE):\", mean_squared_error(y_test, predictions))\n",
    "print(\"Pierw. błędu średniokwadratowego (RMSE):\", np.sqrt(mean_squared_error(y_test, predictions)))\n",
    "print(\"Współczynnik determinacji R-kwadrat:\", r2_score(y_test, predictions))"
   ]
  },
  {
   "cell_type": "code",
   "execution_count": 42,
   "id": "168450d7-7ab8-4661-800a-f450472b28ac",
   "metadata": {},
   "outputs": [
    {
     "data": {
      "image/png": "[encoded data removed]",
      "text/plain": [
       "<Figure size 640x480 with 1 Axes>"
      ]
     },
     "metadata": {},
     "output_type": "display_data"
    }
   ],
   "source": [
    "# wyświetlamy wyliczoną linię regresji\n",
    "plt.scatter(X_train, y_train, color=\"black\")\n",
    "plt.plot(X_test, predictions, color=\"blue\", linewidth=3)\n",
    "\n",
    "plt.xticks(())\n",
    "plt.yticks(())\n",
    "\n",
    "plt.show()"
   ]
  },
  {
   "cell_type": "markdown",
   "id": "53dbfa9c-0e13-4e80-8d7d-e5d8c1a8a98e",
   "metadata": {},
   "source": [
    "**Wnioski**\n",
    "\n",
    "Model wydaje się lepiej dopasowany do danych, ale na pewno widać mniejszy wpływ danych odstających.\n",
    "\n",
    "Daleko jendak jest jeszcze do końca naszej pracy."
   ]
  },
  {
   "cell_type": "markdown",
   "id": "50835f9f-986c-4e78-b84b-d53725b32698",
   "metadata": {},
   "source": [
    "## Zadania"
   ]
  },
  {
   "cell_type": "markdown",
   "id": "f23de7ea-44ad-4bc8-829b-6efff7dfc5a1",
   "metadata": {},
   "source": [
    "**Zadanie 1**\n",
    "\n",
    "Bazując na przykładzie z wykładu stwórz model regresji wielomianowej dla dwóch stworzonych tutaj modeli regresji liniowej. Porównaj wyniki.\n",
    "\n",
    "**Zadanie 2**\n",
    "\n",
    "Dodaj do zbioru danych cechę `Number of rooms` i sprawdź jak to wpływa na jakość modelu.\n",
    "\n",
    "**Zadanie 3**\n",
    "\n",
    "Zakoduj cechę `Voivoideship` (one-hot, dummy ?) i wykorzystaj w zbiorze danych i ponownie sprawdź jaki to ma wpływ na model.\n",
    "\n",
    "**Zadanie 4** *\n",
    "\n",
    "Dodaj kolejne cechy modelu zastanawiając się nad poprawnym ich zakodowaniem, tak aby poprawić jego jakość.\n",
    "\n",
    "\\* zadanie opcjonalne (może być brane pod uwagę w przypadku wątpliwości co do finalnej oceny)."
   ]
  },
  {
   "cell_type": "markdown",
   "id": "353b9ff2-ded4-486f-b65c-ecda037bc56b",
   "metadata": {},
   "source": [
    "### Przykład wielu powtórzeń tego samego eksperymentu (model regresji) i wyliczenie średnich wyników"
   ]
  },
  {
   "cell_type": "code",
   "execution_count": 43,
   "id": "e7e6aace-0d44-4530-bb24-05a768bc76fc",
   "metadata": {},
   "outputs": [
    {
     "name": "stderr",
     "output_type": "stream",
     "text": [
      "100%|█████████████████████████████████████████████████████████| 1000/1000 [00:02<00:00, 379.39it/s]"
     ]
    },
    {
     "name": "stdout",
     "output_type": "stream",
     "text": [
      "Average MAE: 1839635.3615033636\n",
      "Average MSE: 63563959204629.86\n",
      "Average RMSE: 7790828.895332151\n",
      "Average R2: -0.008669996272753245\n"
     ]
    },
    {
     "name": "stderr",
     "output_type": "stream",
     "text": [
      "\n"
     ]
    }
   ],
   "source": [
    "from tqdm import tqdm\n",
    "\n",
    "X = otodf_1['Surface'].values.reshape(-1, 1)\n",
    "y = otodf_1['Price']\n",
    "\n",
    "iters = 1000\n",
    "lin_reg = LinearRegression()\n",
    "results = {'MAE': [], 'MSE': [], 'RMSE': [], 'R2': []}\n",
    "\n",
    "for i in tqdm(range(1, iters + 1)):\n",
    "    # data split\n",
    "    X_train, X_test, y_train, y_test = train_test_split(X, y, test_size=0.25)\n",
    "    # fit the model\n",
    "    lin_reg.fit(X_train, y_train)\n",
    "    predictions = lin_reg.predict(X_test)\n",
    "    results['MAE'].append(mean_absolute_error(y_test, predictions))\n",
    "    results['MSE'].append(mean_squared_error(y_test, predictions))\n",
    "    results['RMSE'].append(np.sqrt(mean_squared_error(y_test, predictions)))\n",
    "    results['R2'].append(r2_score(y_test, predictions))\n",
    "\n",
    "# average of the results\n",
    "for key, value in results.items():\n",
    "    print(f'Average {key}: {np.mean(value)}')"
   ]
  },
  {
   "cell_type": "code",
   "execution_count": 44,
   "id": "cb5de2c6-f595-43dd-901a-1c698a2775b8",
   "metadata": {},
   "outputs": [
    {
     "name": "stderr",
     "output_type": "stream",
     "text": [
      "100%|█████████████████████████████████████████████████████████| 1000/1000 [00:03<00:00, 323.57it/s]"
     ]
    },
    {
     "name": "stdout",
     "output_type": "stream",
     "text": [
      "Average MAE: 1911306.9216128383\n",
      "Average MSE: 65709152828749.555\n",
      "Average RMSE: 7937362.187041958\n",
      "Average R2: -0.08019678277498425\n"
     ]
    },
    {
     "name": "stderr",
     "output_type": "stream",
     "text": [
      "\n"
     ]
    }
   ],
   "source": [
    "# usunięcie wartości odstających w kolumnie Surface\n",
    "\n",
    "iters = 1000\n",
    "lin_reg = LinearRegression()\n",
    "results = {'MAE': [], 'MSE': [], 'RMSE': [], 'R2': []}\n",
    "\n",
    "for i in tqdm(range(1, iters + 1)):\n",
    "    # data split\n",
    "    X_train, X_test, y_train, y_test = train_test_split(X, y, test_size=0.25)\n",
    "    \n",
    "    # remove outliers\n",
    "    q1 = np.percentile(X_train, 25)\n",
    "    q3 = np.percentile(X_train, 75)\n",
    "    iqr = q3 - q1\n",
    "    # teraz progi dla wartości odstających\n",
    "    lower = q1 - 1.5 * iqr\n",
    "    upper = q3 + 1.5 * iqr\n",
    "    # ocinamy wartości odstające\n",
    "    outliers_map = (X_train > upper) | (X_train < lower)\n",
    "    outliers_map = outliers_map.flatten()\n",
    "    # znak ~ oznacza negację\n",
    "    X_train = X_train[~outliers_map]\n",
    "    y_train = y_train[~outliers_map]\n",
    "    \n",
    "    \n",
    "    # fit the model\n",
    "    lin_reg.fit(X_train, y_train)\n",
    "    predictions = lin_reg.predict(X_test)\n",
    "    results['MAE'].append(mean_absolute_error(y_test, predictions))\n",
    "    results['MSE'].append(mean_squared_error(y_test, predictions))\n",
    "    results['RMSE'].append(np.sqrt(mean_squared_error(y_test, predictions)))\n",
    "    results['R2'].append(r2_score(y_test, predictions))\n",
    "\n",
    "# average of the results\n",
    "for key, value in results.items():\n",
    "    print(f'Average {key}: {np.mean(value)}')"
   ]
  },
  {
   "cell_type": "code",
   "execution_count": 45,
   "id": "b9580e34-90b8-4035-b8db-8e3df4c8aab0",
   "metadata": {},
   "outputs": [
    {
     "data": {
      "text/plain": [
       "<Axes: ylabel='Count'>"
      ]
     },
     "execution_count": 45,
     "metadata": {},
     "output_type": "execute_result"
    },
    {
     "data": {
      "image/png": "[encoded data removed]",
      "text/plain": [
       "<Figure size 640x480 with 1 Axes>"
      ]
     },
     "metadata": {},
     "output_type": "display_data"
    }
   ],
   "source": [
    "sns.histplot(results['MAE'], kde=True)"
   ]
  },
  {
   "cell_type": "code",
   "execution_count": 46,
   "id": "2b06d56e-7d41-4a97-9f2c-e0d06b58e430",
   "metadata": {},
   "outputs": [
    {
     "name": "stderr",
     "output_type": "stream",
     "text": [
      "100%|█████████████████████████████████████████████████████████| 1000/1000 [00:03<00:00, 330.62it/s]"
     ]
    },
    {
     "name": "stdout",
     "output_type": "stream",
     "text": [
      "Average MAE: 1649154.1422511048\n",
      "Average MSE: 62608261991099.11\n",
      "Average RMSE: 7723859.772649889\n",
      "Average R2: -0.0030448924021215336\n"
     ]
    },
    {
     "name": "stderr",
     "output_type": "stream",
     "text": [
      "\n"
     ]
    }
   ],
   "source": [
    "# dodanie standaryzacji danych w kolumnie surface\n",
    "from sklearn.preprocessing import StandardScaler, Normalizer\n",
    "\n",
    "iters = 1000\n",
    "lin_reg = LinearRegression()\n",
    "results = {'MAE': [], 'MSE': [], 'RMSE': [], 'R2': []}\n",
    "\n",
    "for i in tqdm(range(1, iters + 1)):\n",
    "    # data split\n",
    "    X_train, X_test, y_train, y_test = train_test_split(X, y, test_size=0.25)\n",
    "    # data scaling or normalizing - choose only one at a time!\n",
    "    # scaler = StandardScaler()\n",
    "    normalizer = Normalizer()\n",
    "    # scaler.fit(X_train)\n",
    "    normalizer.fit(X_train)\n",
    "    \n",
    "    \n",
    "    # fit the model\n",
    "    lin_reg.fit(X_train, y_train)\n",
    "\n",
    "    # scale test data\n",
    "    # X_test = scaler.transform(X_test)\n",
    "    X_test = normalizer.transform(X_test)\n",
    "    \n",
    "    predictions = lin_reg.predict(X_test)\n",
    "    results['MAE'].append(mean_absolute_error(y_test, predictions))\n",
    "    results['MSE'].append(mean_squared_error(y_test, predictions))\n",
    "    results['RMSE'].append(np.sqrt(mean_squared_error(y_test, predictions)))\n",
    "    results['R2'].append(r2_score(y_test, predictions))\n",
    "\n",
    "# average of the results\n",
    "for key, value in results.items():\n",
    "    print(f'Average {key}: {np.mean(value)}')"
   ]
  }
 ],
 "metadata": {
  "kernelspec": {
   "display_name": "Python 3 (ipykernel)",
   "language": "python",
   "name": "python3"
  },
  "language_info": {
   "codemirror_mode": {
    "name": "ipython",
    "version": 3
   },
   "file_extension": ".py",
   "mimetype": "text/x-python",
   "name": "python",
   "nbconvert_exporter": "python",
   "pygments_lexer": "ipython3",
   "version": "3.13.2"
  }
 },
 "nbformat": 4,
 "nbformat_minor": 5
}
