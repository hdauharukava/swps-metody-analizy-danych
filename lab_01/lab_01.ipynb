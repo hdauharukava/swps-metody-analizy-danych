{
 "cells": [
  {
   "cell_type": "markdown",
   "id": "43ebf71b-9b8e-4d26-b5de-0e492e667de8",
   "metadata": {},
   "source": [
    "# Metody analizy danych. Lab 1. Biblioteka numpy, część 1"
   ]
  },
  {
   "cell_type": "markdown",
   "id": "8776c9ca-e889-48c4-82db-47f9c271f46e",
   "metadata": {},
   "source": [
    "# 1. Wstęp\n",
    "\n",
    "Biblioteka numpy jest biblioteką dedykowaną do obliczeń numerycznych, która jest zaimplementowana głównie w języku C. Jej głównym obiektem danych jest tablica wielowymiarowa pozwalająca na pracę z wieloma typami danych, ale jednorodnych. Biblioteka ta dostarcza również wielu metod matematycznych np. z zakresu algebry liniowej, statystyki czy generatorów liczb pseudolosowych.\n",
    "\n",
    "> Oficjalna strona z dokumentacją do wersji 2.2: https://numpy.org/doc/2.2/index.html "
   ]
  },
  {
   "cell_type": "markdown",
   "id": "b0832f09-9c58-4613-848e-db05b09344cb",
   "metadata": {},
   "source": [
    "## 1.1 Instalacja biblioteki numpy"
   ]
  },
  {
   "cell_type": "code",
   "execution_count": 1,
   "id": "c7701830-13b1-46a9-8dfb-0c52f35407c6",
   "metadata": {},
   "outputs": [
    {
     "name": "stdout",
     "output_type": "stream",
     "text": [
      "Requirement already satisfied: numpy in c:\\users\\krzysztof\\__projects\\__swps_analiza_danych\\.venv\\lib\\site-packages (2.2.3)\n"
     ]
    }
   ],
   "source": [
    "!pip install numpy"
   ]
  },
  {
   "cell_type": "code",
   "execution_count": 6,
   "id": "d518966a-8141-4fb2-9ae6-be17ccec666a",
   "metadata": {},
   "outputs": [
    {
     "data": {
      "text/plain": [
       "'2.2.3'"
      ]
     },
     "execution_count": 6,
     "metadata": {},
     "output_type": "execute_result"
    }
   ],
   "source": [
    "np.__version__"
   ]
  },
  {
   "cell_type": "code",
   "execution_count": 2,
   "id": "3e1abacd-f9bb-4db1-aaf3-adeb3999002e",
   "metadata": {},
   "outputs": [],
   "source": [
    "import numpy as np"
   ]
  },
  {
   "cell_type": "markdown",
   "id": "cae96d52-ceab-4393-9007-763a7a5fda58",
   "metadata": {},
   "source": [
    "# 2. Tablica `numpy.ndarray`"
   ]
  },
  {
   "cell_type": "markdown",
   "id": "2d5ba150-5140-449b-99c1-9edcdef376ea",
   "metadata": {},
   "source": [
    " ## 2.1 Sposoby inicjalizacji tablicy"
   ]
  },
  {
   "cell_type": "markdown",
   "id": "f8440d1a-827c-492f-b959-c746a046f951",
   "metadata": {},
   "source": [
    "> Dokumentacja: https://numpy.org/doc/2.2/reference/routines.array-creation.html"
   ]
  },
  {
   "cell_type": "code",
   "execution_count": null,
   "id": "71edc4cb-99b0-4e5a-a731-6626851ca9b6",
   "metadata": {},
   "outputs": [],
   "source": [
    "# wbudowana funkcja dir wyświetla nam zbiór właściwości oraz metod, które są możliwe do\n",
    "# wywołania dla podanego typu obiektu - jak widań ndarray (n-dimensional array) posiada\n",
    "# ich całkiem sporo, ale ten sposób ich wyświetlenie można potraktować jako ciekawostkę lub szybki sposób na przypomnienie sobie nazwy jednej z nich\n",
    "# Lepszym pomysłem na początek jest oficjalna dokumentacja.\n",
    "dir(np.ndarray)"
   ]
  },
  {
   "cell_type": "code",
   "execution_count": 5,
   "id": "3b7a442e-b97e-47d3-8035-a4f4b3c16e46",
   "metadata": {},
   "outputs": [
    {
     "data": {
      "text/plain": [
       "(array([1, 2, 3, 4, 5]), numpy.ndarray)"
      ]
     },
     "execution_count": 5,
     "metadata": {},
     "output_type": "execute_result"
    }
   ],
   "source": [
    "# tablice numpy możemy inicjalizować na wiele sposobów, \n",
    "# np. rzutując (konwertując) inne popularne typy danych\n",
    "lista = [1, 2, 3, 4, 5]\n",
    "arr = np.array(lista)\n",
    "arr, type(arr)"
   ]
  },
  {
   "cell_type": "code",
   "execution_count": 17,
   "id": "efdedc01-6574-4ea3-aa84-3d80711eef83",
   "metadata": {},
   "outputs": [
    {
     "data": {
      "text/plain": [
       "[[1, 2, 3, 4, 5],\n",
       " [2, 4, 6, 8, 10],\n",
       " [3, 6, 9, 12, 15],\n",
       " [4, 8, 12, 16, 20],\n",
       " [5, 10, 15, 20, 25]]"
      ]
     },
     "metadata": {},
     "output_type": "display_data"
    },
    {
     "data": {
      "text/plain": [
       "5"
      ]
     },
     "execution_count": 17,
     "metadata": {},
     "output_type": "execute_result"
    }
   ],
   "source": [
    "# czy możliwe jest również rzutowanie dla list wielopoziomowych (zagnieżdżonych)?\n",
    "lista_zagniezdzona = [[i*j for j in range(1, 6)] for i in range(1, 6)]\n",
    "display(lista_zagniezdzona) \n",
    "len(lista_zagniezdzona)"
   ]
  },
  {
   "cell_type": "code",
   "execution_count": 18,
   "id": "e4d10791-42d9-4a7d-bb1c-40def2d8a81e",
   "metadata": {},
   "outputs": [
    {
     "data": {
      "text/plain": [
       "array([[ 1,  2,  3,  4,  5],\n",
       "       [ 2,  4,  6,  8, 10],\n",
       "       [ 3,  6,  9, 12, 15],\n",
       "       [ 4,  8, 12, 16, 20],\n",
       "       [ 5, 10, 15, 20, 25]])"
      ]
     },
     "execution_count": 18,
     "metadata": {},
     "output_type": "execute_result"
    }
   ],
   "source": [
    "arr_nested = np.array(lista_zagniezdzona)\n",
    "arr_nested"
   ]
  },
  {
   "cell_type": "code",
   "execution_count": 22,
   "id": "7c9d14ba-3fa3-4511-a6f6-96b80ce308c4",
   "metadata": {},
   "outputs": [
    {
     "data": {
      "text/plain": [
       "[[], [1], [1, 2], [1, 2, 3], [1, 2, 3, 4]]"
      ]
     },
     "execution_count": 22,
     "metadata": {},
     "output_type": "execute_result"
    }
   ],
   "source": [
    "lista_zagniezdzona_asym = [[x for x in range(1, y)] for y in range(1, 6)]\n",
    "lista_zagniezdzona_asym"
   ]
  },
  {
   "cell_type": "code",
   "execution_count": 23,
   "id": "6d2dd398-19f4-44f0-8a15-87589250f071",
   "metadata": {},
   "outputs": [
    {
     "ename": "ValueError",
     "evalue": "setting an array element with a sequence. The requested array has an inhomogeneous shape after 1 dimensions. The detected shape was (5,) + inhomogeneous part.",
     "output_type": "error",
     "traceback": [
      "\u001b[1;31m---------------------------------------------------------------------------\u001b[0m",
      "\u001b[1;31mValueError\u001b[0m                                Traceback (most recent call last)",
      "Cell \u001b[1;32mIn[23], line 1\u001b[0m\n\u001b[1;32m----> 1\u001b[0m arr_nested_asym \u001b[38;5;241m=\u001b[39m \u001b[43mnp\u001b[49m\u001b[38;5;241;43m.\u001b[39;49m\u001b[43marray\u001b[49m\u001b[43m(\u001b[49m\u001b[43mlista_zagniezdzona_asym\u001b[49m\u001b[43m)\u001b[49m\n",
      "\u001b[1;31mValueError\u001b[0m: setting an array element with a sequence. The requested array has an inhomogeneous shape after 1 dimensions. The detected shape was (5,) + inhomogeneous part."
     ]
    }
   ],
   "source": [
    "# tak już nie możemy!\n",
    "arr_nested_asym = np.array(lista_zagniezdzona_asym)"
   ]
  },
  {
   "cell_type": "code",
   "execution_count": 7,
   "id": "1d895647-c56e-4f8e-8e83-56b1a78a40c8",
   "metadata": {},
   "outputs": [
    {
     "data": {
      "text/plain": [
       "array([0, 1, 2, 3, 4, 5, 6, 7, 8, 9])"
      ]
     },
     "execution_count": 7,
     "metadata": {},
     "output_type": "execute_result"
    }
   ],
   "source": [
    "np.array(range(10))"
   ]
  },
  {
   "cell_type": "code",
   "execution_count": 8,
   "id": "b1bcecfa-0bb6-4046-b294-435b7b7b8018",
   "metadata": {},
   "outputs": [
    {
     "data": {
      "text/plain": [
       "array([0, 1, 2, 3, 4, 5, 6, 7, 8, 9])"
      ]
     },
     "execution_count": 8,
     "metadata": {},
     "output_type": "execute_result"
    }
   ],
   "source": [
    "# biblioteka numpy posiada własną metodę adekwatną do wbudowanej funkcji range\n",
    "np.arange(10)"
   ]
  },
  {
   "cell_type": "code",
   "execution_count": 79,
   "id": "b773db83-371f-45c1-8b21-fdeaf5de52d5",
   "metadata": {},
   "outputs": [
    {
     "data": {
      "text/plain": [
       "array([ 2,  4,  6,  8, 10, 12, 14, 16, 18, 20])"
      ]
     },
     "execution_count": 79,
     "metadata": {},
     "output_type": "execute_result"
    }
   ],
   "source": [
    "# parametry określamy adekwatnie do wbudowanej funkcji range(start, stop, step)\n",
    "np.arange(2, 21, 2)"
   ]
  },
  {
   "cell_type": "code",
   "execution_count": 35,
   "id": "835258ca-c154-44e6-8f58-8d49f10129bb",
   "metadata": {},
   "outputs": [
    {
     "data": {
      "text/plain": [
       "array([1., 1., 1., 1., 1.])"
      ]
     },
     "metadata": {},
     "output_type": "display_data"
    },
    {
     "data": {
      "text/plain": [
       "array([[1., 1., 1., 1., 1.],\n",
       "       [1., 1., 1., 1., 1.],\n",
       "       [1., 1., 1., 1., 1.],\n",
       "       [1., 1., 1., 1., 1.],\n",
       "       [1., 1., 1., 1., 1.]])"
      ]
     },
     "metadata": {},
     "output_type": "display_data"
    },
    {
     "data": {
      "text/plain": [
       "array([0., 0., 0., 0., 0.])"
      ]
     },
     "metadata": {},
     "output_type": "display_data"
    },
    {
     "data": {
      "text/plain": [
       "array([[0.],\n",
       "       [0.],\n",
       "       [0.]])"
      ]
     },
     "metadata": {},
     "output_type": "display_data"
    }
   ],
   "source": [
    "# macierz wypełniona jedynkami (możemy przekazać skalar jeżeli ma to być tablica jednowymiarowa lub odpowiednią krotkę dla tablic wielowymiarowych)\n",
    "display(np.ones(5))\n",
    "display(np.ones((5,5)))\n",
    "\n",
    "# lub zerami\n",
    "display(np.zeros(5))\n",
    "display(np.zeros((3,1)))"
   ]
  },
  {
   "cell_type": "code",
   "execution_count": 76,
   "id": "c566c5c7-2b96-4fba-83df-4a14388dcdac",
   "metadata": {},
   "outputs": [
    {
     "data": {
      "text/plain": [
       "array([ 1.        ,  1.09090909,  1.18181818,  1.27272727,  1.36363636,\n",
       "        1.45454545,  1.54545455,  1.63636364,  1.72727273,  1.81818182,\n",
       "        1.90909091,  2.        ,  2.09090909,  2.18181818,  2.27272727,\n",
       "        2.36363636,  2.45454545,  2.54545455,  2.63636364,  2.72727273,\n",
       "        2.81818182,  2.90909091,  3.        ,  3.09090909,  3.18181818,\n",
       "        3.27272727,  3.36363636,  3.45454545,  3.54545455,  3.63636364,\n",
       "        3.72727273,  3.81818182,  3.90909091,  4.        ,  4.09090909,\n",
       "        4.18181818,  4.27272727,  4.36363636,  4.45454545,  4.54545455,\n",
       "        4.63636364,  4.72727273,  4.81818182,  4.90909091,  5.        ,\n",
       "        5.09090909,  5.18181818,  5.27272727,  5.36363636,  5.45454545,\n",
       "        5.54545455,  5.63636364,  5.72727273,  5.81818182,  5.90909091,\n",
       "        6.        ,  6.09090909,  6.18181818,  6.27272727,  6.36363636,\n",
       "        6.45454545,  6.54545455,  6.63636364,  6.72727273,  6.81818182,\n",
       "        6.90909091,  7.        ,  7.09090909,  7.18181818,  7.27272727,\n",
       "        7.36363636,  7.45454545,  7.54545455,  7.63636364,  7.72727273,\n",
       "        7.81818182,  7.90909091,  8.        ,  8.09090909,  8.18181818,\n",
       "        8.27272727,  8.36363636,  8.45454545,  8.54545455,  8.63636364,\n",
       "        8.72727273,  8.81818182,  8.90909091,  9.        ,  9.09090909,\n",
       "        9.18181818,  9.27272727,  9.36363636,  9.45454545,  9.54545455,\n",
       "        9.63636364,  9.72727273,  9.81818182,  9.90909091, 10.        ])"
      ]
     },
     "execution_count": 76,
     "metadata": {},
     "output_type": "execute_result"
    }
   ],
   "source": [
    "# linspace tworzy przestrzeń wartości w przedziale (tu od 1 do 10) w określonej liczebności\n",
    "np.linspace(1,10, 100)"
   ]
  },
  {
   "cell_type": "code",
   "execution_count": 77,
   "id": "63915876-4a61-4598-af4a-f554550ffed5",
   "metadata": {},
   "outputs": [
    {
     "data": {
      "text/plain": [
       "array([[0, 1, 2],\n",
       "       [3, 4, 5],\n",
       "       [6, 7, 8]])"
      ]
     },
     "execution_count": 77,
     "metadata": {},
     "output_type": "execute_result"
    }
   ],
   "source": [
    "# tablice numpy można poddawać zmianom kształu m.in. poprzez metodę reshape, co w połączeniu z różnymi metodami ich inicjalizacji\n",
    "# daje dodatkowe możliwości - ale tu musimy pamiętać o symetrii tablicy, do której chcemy ją przekształcić (liczba elementów musi\n",
    "# w tablicy docelowej musi być równa liczbie elementów w tablicy źródłowej)\n",
    "np.arange(9).reshape((3,3))"
   ]
  },
  {
   "cell_type": "code",
   "execution_count": 81,
   "id": "111d49f1-707d-4317-8d79-5b7d68747ced",
   "metadata": {},
   "outputs": [
    {
     "data": {
      "text/plain": [
       "array([[1, 0, 0, 0],\n",
       "       [0, 2, 0, 0],\n",
       "       [0, 0, 3, 0],\n",
       "       [0, 0, 0, 4]])"
      ]
     },
     "execution_count": 81,
     "metadata": {},
     "output_type": "execute_result"
    }
   ],
   "source": [
    "# np.diag zwraca tablicę dwuwymiarową kwadratową o wymiarach (v x v) + abs(k) gdzie v to wartość pierwszego argumentu przekazanego w\n",
    "# wywołaniu tej funkcji, który to jest obiektem iterowalnym zawierającym elementy, które zostaną umieszczone na przekątnej\n",
    "# tej macierzy. Jeżeli drugi argument tej funkcji  k (opcjonalny) nie zostanie określony, lub posiada wartość 0, to elementy \n",
    "# zostaną umieszczone na głównej przekątnej, w przeciwnym wypadku elementy zostaną umieszczone na k-tej lub -k-tej przekątnej\n",
    "# oddalonej od głównej przekątnej\n",
    "np.diag((1,2,3,4))"
   ]
  },
  {
   "cell_type": "code",
   "execution_count": 84,
   "id": "381e017b-7c2e-42d5-b4d1-b9bbb3b43fa6",
   "metadata": {},
   "outputs": [
    {
     "data": {
      "text/plain": [
       "array([[0, 0, 0, 0, 0, 0],\n",
       "       [0, 0, 1, 0, 0, 0],\n",
       "       [0, 0, 0, 2, 0, 0],\n",
       "       [0, 0, 0, 0, 3, 0],\n",
       "       [0, 0, 0, 0, 0, 4],\n",
       "       [0, 0, 0, 0, 0, 0]])"
      ]
     },
     "execution_count": 84,
     "metadata": {},
     "output_type": "execute_result"
    }
   ],
   "source": [
    "np.diag(np.arange(5), 1)"
   ]
  },
  {
   "cell_type": "code",
   "execution_count": 85,
   "id": "7fa4397c-de97-46b4-911c-e70e7934bc16",
   "metadata": {},
   "outputs": [
    {
     "data": {
      "text/plain": [
       "array([[0, 0, 0, 0, 0, 0],\n",
       "       [0, 0, 0, 0, 0, 0],\n",
       "       [0, 1, 0, 0, 0, 0],\n",
       "       [0, 0, 2, 0, 0, 0],\n",
       "       [0, 0, 0, 3, 0, 0],\n",
       "       [0, 0, 0, 0, 4, 0]])"
      ]
     },
     "execution_count": 85,
     "metadata": {},
     "output_type": "execute_result"
    }
   ],
   "source": [
    "np.diag(np.arange(5), -1)"
   ]
  },
  {
   "cell_type": "code",
   "execution_count": 208,
   "id": "c12e2bfa-1094-4670-b059-b4c475674f86",
   "metadata": {},
   "outputs": [
    {
     "name": "stdout",
     "output_type": "stream",
     "text": [
      "[[ 1  2  3  4]\n",
      " [ 5  6  7  8]\n",
      " [ 9 10 11 12]\n",
      " [13 14 15 16]]\n",
      "[ 1  6 11 16]\n",
      "[ 5 10 15]\n"
     ]
    }
   ],
   "source": [
    "# funkcja diag pozwala również na ekstrakcję przekątnej z istniejącej tablicy\n",
    "arr = np.arange(1, 17).reshape((4,4))\n",
    "print(arr)\n",
    "print(np.diag(arr))\n",
    "print(np.diag(arr, -1))"
   ]
  },
  {
   "cell_type": "markdown",
   "id": "aa1a0d8b-647d-4b0f-8ce1-e96f819a6671",
   "metadata": {},
   "source": [
    "## 2.2 Wybrane właściwości (ang. properties) tablic numpy"
   ]
  },
  {
   "cell_type": "code",
   "execution_count": 28,
   "id": "d01dedad-cf32-4cb4-b09b-90188576bbe8",
   "metadata": {},
   "outputs": [
    {
     "data": {
      "text/plain": [
       "(5, 1, (5,))"
      ]
     },
     "execution_count": 28,
     "metadata": {},
     "output_type": "execute_result"
    }
   ],
   "source": [
    "# informacje o liczbie elementów, liczbie wymiarów oraz o wielkościach każdego wymiaru\n",
    "arr.size, arr.ndim, arr.shape"
   ]
  },
  {
   "cell_type": "code",
   "execution_count": 38,
   "id": "1f708778-d464-4b0b-8395-058c8941fce5",
   "metadata": {},
   "outputs": [
    {
     "data": {
      "text/plain": [
       "array([[0., 0., 0.],\n",
       "       [0., 0., 0.],\n",
       "       [0., 0., 0.],\n",
       "       [0., 0., 0.]])"
      ]
     },
     "metadata": {},
     "output_type": "display_data"
    },
    {
     "data": {
      "text/plain": [
       "(4, 3)"
      ]
     },
     "execution_count": 38,
     "metadata": {},
     "output_type": "execute_result"
    }
   ],
   "source": [
    "# shape dla macierzy najpierw informuje nas o liczbie wierszy, a następnie o liczbie kolumn\n",
    "arr = np.zeros((4,3))\n",
    "display(arr)\n",
    "arr.shape"
   ]
  },
  {
   "cell_type": "code",
   "execution_count": 43,
   "id": "783dd862-40eb-4209-beb9-a989a63ea892",
   "metadata": {},
   "outputs": [
    {
     "data": {
      "text/plain": [
       "array([[[1., 1., 1.],\n",
       "        [1., 1., 1.],\n",
       "        [1., 1., 1.]],\n",
       "\n",
       "       [[1., 1., 1.],\n",
       "        [1., 1., 1.],\n",
       "        [1., 1., 1.]],\n",
       "\n",
       "       [[1., 1., 1.],\n",
       "        [1., 1., 1.],\n",
       "        [1., 1., 1.]]])"
      ]
     },
     "execution_count": 43,
     "metadata": {},
     "output_type": "execute_result"
    }
   ],
   "source": [
    "# odczytywanie zawartości tablic dla wymiarów 2+ jest już nieco trudniejsze\n",
    "arr = np.ones((3,3,3))\n",
    "arr"
   ]
  },
  {
   "cell_type": "code",
   "execution_count": 15,
   "id": "951c41d0-6130-4ab2-8751-3a11a7f7a57e",
   "metadata": {},
   "outputs": [
    {
     "name": "stdout",
     "output_type": "stream",
     "text": [
      "Collecting matplotlib\n",
      "  Using cached matplotlib-3.10.0-cp313-cp313-win_amd64.whl.metadata (11 kB)\n",
      "Collecting contourpy>=1.0.1 (from matplotlib)\n",
      "  Using cached contourpy-1.3.1-cp313-cp313-win_amd64.whl.metadata (5.4 kB)\n",
      "Collecting cycler>=0.10 (from matplotlib)\n",
      "  Using cached cycler-0.12.1-py3-none-any.whl.metadata (3.8 kB)\n",
      "Collecting fonttools>=4.22.0 (from matplotlib)\n",
      "  Using cached fonttools-4.56.0-cp313-cp313-win_amd64.whl.metadata (103 kB)\n",
      "Collecting kiwisolver>=1.3.1 (from matplotlib)\n",
      "  Using cached kiwisolver-1.4.8-cp313-cp313-win_amd64.whl.metadata (6.3 kB)\n",
      "Requirement already satisfied: numpy>=1.23 in c:\\users\\krzysztof\\appdata\\local\\programs\\python\\python313\\lib\\site-packages (from matplotlib) (2.2.2)\n",
      "Requirement already satisfied: packaging>=20.0 in c:\\users\\krzysztof\\appdata\\local\\programs\\python\\python313\\lib\\site-packages (from matplotlib) (24.2)\n",
      "Collecting pillow>=8 (from matplotlib)\n",
      "  Using cached pillow-11.1.0-cp313-cp313-win_amd64.whl.metadata (9.3 kB)\n",
      "Collecting pyparsing>=2.3.1 (from matplotlib)\n",
      "  Using cached pyparsing-3.2.1-py3-none-any.whl.metadata (5.0 kB)\n",
      "Requirement already satisfied: python-dateutil>=2.7 in c:\\users\\krzysztof\\appdata\\local\\programs\\python\\python313\\lib\\site-packages (from matplotlib) (2.9.0.post0)\n",
      "Requirement already satisfied: six>=1.5 in c:\\users\\krzysztof\\appdata\\local\\programs\\python\\python313\\lib\\site-packages (from python-dateutil>=2.7->matplotlib) (1.17.0)\n",
      "Using cached matplotlib-3.10.0-cp313-cp313-win_amd64.whl (8.0 MB)\n",
      "Using cached contourpy-1.3.1-cp313-cp313-win_amd64.whl (220 kB)\n",
      "Using cached cycler-0.12.1-py3-none-any.whl (8.3 kB)\n",
      "Using cached fonttools-4.56.0-cp313-cp313-win_amd64.whl (2.2 MB)\n",
      "Using cached kiwisolver-1.4.8-cp313-cp313-win_amd64.whl (71 kB)\n",
      "Using cached pillow-11.1.0-cp313-cp313-win_amd64.whl (2.6 MB)\n",
      "Using cached pyparsing-3.2.1-py3-none-any.whl (107 kB)\n",
      "Installing collected packages: pyparsing, pillow, kiwisolver, fonttools, cycler, contourpy, matplotlib\n",
      "Successfully installed contourpy-1.3.1 cycler-0.12.1 fonttools-4.56.0 kiwisolver-1.4.8 matplotlib-3.10.0 pillow-11.1.0 pyparsing-3.2.1\n"
     ]
    },
    {
     "name": "stderr",
     "output_type": "stream",
     "text": [
      "\n",
      "[notice] A new release of pip is available: 24.3.1 -> 25.0.1\n",
      "[notice] To update, run: python.exe -m pip install --upgrade pip\n"
     ]
    }
   ],
   "source": [
    "!pip install matplotlib"
   ]
  },
  {
   "cell_type": "code",
   "execution_count": 16,
   "id": "2439210f-1350-4e48-8a73-98abf41d4c92",
   "metadata": {},
   "outputs": [
    {
     "data": {
      "text/plain": [
       "array([[[ True,  True,  True],\n",
       "        [ True,  True,  True],\n",
       "        [ True,  True,  True]],\n",
       "\n",
       "       [[ True,  True,  True],\n",
       "        [ True,  True,  True],\n",
       "        [ True,  True,  True]],\n",
       "\n",
       "       [[ True,  True,  True],\n",
       "        [ True,  True,  True],\n",
       "        [ True,  True,  True]]])"
      ]
     },
     "metadata": {},
     "output_type": "display_data"
    },
    {
     "data": {
      "image/png": "[encoded data removed]",
      "text/plain": [
       "<Figure size 640x480 with 1 Axes>"
      ]
     },
     "metadata": {},
     "output_type": "display_data"
    }
   ],
   "source": [
    "# przykład zaczerpnięty z: https://matplotlib.org/stable/gallery/mplot3d/voxels.html#sphx-glr-gallery-mplot3d-voxels-py\n",
    "\n",
    "import matplotlib.pyplot as plt\n",
    "\n",
    "# inicjalizacja tablicy 3 x 3 x 3\n",
    "x = np.ones((3, 3, 3))\n",
    "\n",
    "# po prawej stosujemy filtrowanie tablicy x warunkiem < 3, co powoduje zwrócenie\n",
    "# tablicy o tych samych wymiarach, gdzie wartość spelniająca warunek zostanie\n",
    "# zapisana jako wartość logiczna True, a jeżeli go nie spełnia - jako False\n",
    "# chociaż można tej konwersji dokonać na kilka sposobów\n",
    "cube1 = (x < 2)\n",
    "\n",
    "# sprawdzamy co jest teraz w środku tej tablicy\n",
    "display(cube1)\n",
    "\n",
    "colors = np.empty(cube1.shape, dtype=object)\n",
    "colors[cube1] = 'green'\n",
    "\n",
    "ax = plt.figure().add_subplot(projection='3d')\n",
    "ax.voxels(cube1, facecolors=colors, edgecolor='k')\n",
    "\n",
    "plt.show()"
   ]
  },
  {
   "cell_type": "code",
   "execution_count": 75,
   "id": "b3dac2a7-0456-4636-92f0-a42a9b8cb261",
   "metadata": {},
   "outputs": [
    {
     "data": {
      "text/plain": [
       "dtype('float64')"
      ]
     },
     "execution_count": 75,
     "metadata": {},
     "output_type": "execute_result"
    }
   ],
   "source": [
    "# typ danych tablicy (przypominam - są jednorodne)\n",
    "arr.dtype"
   ]
  },
  {
   "cell_type": "code",
   "execution_count": 128,
   "id": "9b992fb0-57ac-498a-9c08-d5b30ab1d2d0",
   "metadata": {},
   "outputs": [
    {
     "name": "stdout",
     "output_type": "stream",
     "text": [
      "[ 1  2  3  4  5  6  7  8  9 10] int32 4 40\n",
      "[ 1  2  3  4  5  6  7  8  9 10] int32 4 40\n",
      "[ 1  2  3  4  5  6  7  8  9 10] int8 1 10\n",
      "[ 1  2  3  4  5  6  7  8  9 10] int16 2 20\n",
      "[ 1  2  3  4  5  6  7  8  9 10] int64 8 80\n"
     ]
    }
   ],
   "source": [
    "# Numpy oferuje wiele typów danych, które mogą być określone jako pojemnik informacji w tablicach numpy.\n",
    "# Te typy nie pokrywają się 1:1 z typami, które znamy ze standardowej biblioteki Pythona, gdyż wciąż \"pod spodem\"\n",
    "# mamy implementację w języku C.\n",
    "# Zaprezentuję tutaj kilka przykładów, ale liczba wszystkich dostępnych typów jest rozbudowana, więc\n",
    "# odsyłam do dokumentacji dla pełnej referencji.\n",
    "\n",
    "# Jak zapewne już zostało to zauważone, typ danyc jest nadawany dla tablicy automatycznie jeżeli nie określimy go w \n",
    "# trakcie jej inicjalizacji. Nie zawsze będzie się to jednak odbywało optymalnie jeżeli chodzi o utylizację pamięci dla\n",
    "# danych w tej tablicy.\n",
    "\n",
    "def print_details(np_arr):\n",
    "    print(np_arr, np_arr.dtype, np_arr.itemsize, np_arr.nbytes)\n",
    "\n",
    "# Możemy określić typ na etapie tworzenia tablicy.\n",
    "arr_int = np.arange(1, 11, dtype='i') # zazwyczaj int32 lub int64\n",
    "arr_int2 = np.arange(1, 11, dtype='i4') # lub np.int32\n",
    "arr_int3 = np.arange(1, 11, dtype='i1') # lub np.int8\n",
    "arr_int4 = np.arange(1, 11, dtype='i2') # lub np.int16\n",
    "arr_int5 = np.arange(1, 11, dtype='i8') # lub np.int64\n",
    "\n",
    "print_details(arr_int)\n",
    "print_details(arr_int2)\n",
    "print_details(arr_int3)\n",
    "print_details(arr_int4)\n",
    "print_details(arr_int5)"
   ]
  },
  {
   "cell_type": "code",
   "execution_count": 130,
   "id": "a7013198-ebba-462f-a77d-9276d3814f06",
   "metadata": {},
   "outputs": [
    {
     "name": "stdout",
     "output_type": "stream",
     "text": [
      "[ 1  2  3  4  5  6  7  8  9 10] uint32 4 40\n",
      "[ 1  2  3  4  5  6  7  8  9 10] uint64 8 80\n"
     ]
    }
   ],
   "source": [
    "# każdy z tych typów posiada również odpowiednik bez znaku - to znaczy, że w przeciwieństwie do przykładów w poprzednim listingu\n",
    "# liczby całkowite są przechowywane bez znaku, co podwaja zakres wartości dziesiętnych, które można przypisać do takiej zmiennej\n",
    "\n",
    "arr_uint1 = np.arange(1, 11, dtype='u4') # lub np.int32\n",
    "arr_uint2 = np.arange(1, 11, dtype='u8') # lub np.int64\n",
    "\n",
    "print_details(arr_uint1)\n",
    "print_details(arr_uint2)"
   ]
  },
  {
   "cell_type": "code",
   "execution_count": 131,
   "id": "b8518724-aef7-4783-8d8a-dc8e8031b75b",
   "metadata": {},
   "outputs": [
    {
     "name": "stdout",
     "output_type": "stream",
     "text": [
      "[ 1.  2.  3.  4.  5.  6.  7.  8.  9. 10.] float16 2 20\n",
      "[ 1.  2.  3.  4.  5.  6.  7.  8.  9. 10.] float32 4 40\n",
      "[ 1.  2.  3.  4.  5.  6.  7.  8.  9. 10.] float64 8 80\n"
     ]
    }
   ],
   "source": [
    "# typy zmiennoprzecinkowe\n",
    "# float - f8 - 8 bajtów (to samo co float64)\n",
    "# float16 - f2 - 2 bajty\n",
    "# float32 - f - 4 bajty\n",
    "# float64 - d - 8 bajtów\n",
    "\n",
    "arr_1 = np.arange(1, 11, dtype='float16')\n",
    "arr_2 = np.arange(1, 11, dtype='float32')\n",
    "arr_3 = np.arange(1, 11, dtype='float64')\n",
    "\n",
    "print_details(arr_1)\n",
    "print_details(arr_2)\n",
    "print_details(arr_3)"
   ]
  },
  {
   "cell_type": "code",
   "execution_count": 134,
   "id": "81158044-d57f-48cb-8b2e-494fe2924705",
   "metadata": {},
   "outputs": [
    {
     "name": "stdout",
     "output_type": "stream",
     "text": [
      "[ 1  2  3  4  5  6  7  8  9 10] int8 1 10\n",
      "['Ala' 'ma' 'kota'] <U4 16 48\n",
      "['Z' 'g' 'a' 'd' 'n' 'i' 'j'] <U1 4 28\n"
     ]
    }
   ],
   "source": [
    "# inne typy danych\n",
    "\n",
    "# bool\n",
    "bool_arr = np.arange(1, 11, dtype='b')\n",
    "# łańcuch znaków - unicode\n",
    "unknown_arr = np.array(['Ala', 'ma', 'kota'])\n",
    "unknown_arr2 = np.array(list('Zgadnij'))\n",
    "\n",
    "\n",
    "print_details(bool_arr)\n",
    "print_details(unknown_arr)\n",
    "print_details(unknown_arr2)"
   ]
  },
  {
   "cell_type": "markdown",
   "id": "ad9484b9-5dba-4138-bb6d-61e54d881ffa",
   "metadata": {},
   "source": [
    "## 2.3 Wybrane operacje na tablicach numpy"
   ]
  },
  {
   "cell_type": "markdown",
   "id": "b3a21795-1046-457f-8c7f-ce1c9f91edf6",
   "metadata": {},
   "source": [
    "### 2.3.1 Zmiana typu danych tablicy"
   ]
  },
  {
   "cell_type": "code",
   "execution_count": 139,
   "id": "d1e4e699-7edc-44e6-8a0a-d8ae0ae781c6",
   "metadata": {},
   "outputs": [
    {
     "name": "stdout",
     "output_type": "stream",
     "text": [
      "[ 100000  200000  300000  400000  500000  600000  700000  800000  900000\n",
      " 1000000 1100000 1200000 1300000 1400000 1500000 1600000 1700000 1800000\n",
      " 1900000 2000000 2100000 2200000 2300000 2400000 2500000 2600000 2700000\n",
      " 2800000 2900000 3000000 3100000 3200000 3300000 3400000 3500000 3600000\n",
      " 3700000 3800000 3900000 4000000 4100000 4200000 4300000 4400000 4500000\n",
      " 4600000 4700000 4800000 4900000 5000000 5100000 5200000 5300000 5400000\n",
      " 5500000 5600000 5700000 5800000 5900000 6000000 6100000 6200000 6300000\n",
      " 6400000 6500000 6600000 6700000 6800000 6900000 7000000 7100000 7200000\n",
      " 7300000 7400000 7500000 7600000 7700000 7800000 7900000]\n",
      "int64\n",
      "[ 100000  200000  300000  400000  500000  600000  700000  800000  900000\n",
      " 1000000 1100000 1200000 1300000 1400000 1500000 1600000 1700000 1800000\n",
      " 1900000 2000000 2100000 2200000 2300000 2400000 2500000 2600000 2700000\n",
      " 2800000 2900000 3000000 3100000 3200000 3300000 3400000 3500000 3600000\n",
      " 3700000 3800000 3900000 4000000 4100000 4200000 4300000 4400000 4500000\n",
      " 4600000 4700000 4800000 4900000 5000000 5100000 5200000 5300000 5400000\n",
      " 5500000 5600000 5700000 5800000 5900000 6000000 6100000 6200000 6300000\n",
      " 6400000 6500000 6600000 6700000 6800000 6900000 7000000 7100000 7200000\n",
      " 7300000 7400000 7500000 7600000 7700000 7800000 7900000]\n",
      "[34464  3392 37856  6784 41248 10176 44640 13568 48032 16960 51424 20352\n",
      " 54816 23744 58208 27136 61600 30528 64992 33920  2848 37312  6240 40704\n",
      "  9632 44096 13024 47488 16416 50880 19808 54272 23200 57664 26592 61056\n",
      " 29984 64448 33376  2304 36768  5696 40160  9088 43552 12480 46944 15872\n",
      " 50336 19264 53728 22656 57120 26048 60512 29440 63904 32832  1760 36224\n",
      "  5152 39616  8544 43008 11936 46400 15328 49792 18720 53184 22112 56576\n",
      " 25504 59968 28896 63360 32288  1216 35680]\n",
      "[160  64 224 128  32 192  96   0 160  64 224 128  32 192  96   0 160  64\n",
      " 224 128  32 192  96   0 160  64 224 128  32 192  96   0 160  64 224 128\n",
      "  32 192  96   0 160  64 224 128  32 192  96   0 160  64 224 128  32 192\n",
      "  96   0 160  64 224 128  32 192  96   0 160  64 224 128  32 192  96   0\n",
      " 160  64 224 128  32 192  96]\n"
     ]
    }
   ],
   "source": [
    "# konwersja typu danych w tablicy jest możliwa\n",
    "arr =  np.arange(100_000, 8_000_000, 100_000)\n",
    "print(arr)\n",
    "print(arr.dtype)\n",
    "print(arr.astype(np.uint32))\n",
    "print(arr.astype(np.uint16))\n",
    "print(arr.astype(np.uint8))"
   ]
  },
  {
   "cell_type": "code",
   "execution_count": 174,
   "id": "50d21aef-28f3-40d6-a95a-7e2fdfe71201",
   "metadata": {},
   "outputs": [
    {
     "name": "stdout",
     "output_type": "stream",
     "text": [
      "Oryginalna: 100000, binarnie: 0b11000011010100000,    bin 16: 1000011010100000 , dziesiętnie 34464    bin 8: 10100000 , dziesiętnie 160\n",
      "Oryginalna: 200000, binarnie: 0b110000110101000000,    bin 16: 0000110101000000 , dziesiętnie 3392    bin 8: 01000000 , dziesiętnie 64\n",
      "Oryginalna: 300000, binarnie: 0b1001001001111100000,    bin 16: 1001001111100000 , dziesiętnie 37856    bin 8: 11100000 , dziesiętnie 224\n",
      "Oryginalna: 400000, binarnie: 0b1100001101010000000,    bin 16: 0001101010000000 , dziesiętnie 6784    bin 8: 10000000 , dziesiętnie 128\n",
      "Oryginalna: 500000, binarnie: 0b1111010000100100000,    bin 16: 1010000100100000 , dziesiętnie 41248    bin 8: 00100000 , dziesiętnie 32\n"
     ]
    }
   ],
   "source": [
    "# Czy wiemy co tu się stało?\n",
    "# Spróbujmy to wyjaśnić. Weźmiemy po uwagę 5 pierwszych wartości z tablicy\n",
    "vals = list(arr[:5])\n",
    "\n",
    "for val in vals:\n",
    "    print(f'Oryginalna: {val}, binarnie: {bin(val)},\\\n",
    "    bin 16: {bin(val)[:-17:-1][::-1]} , dziesiętnie {int(bin(val)[:-17:-1][::-1], base=2)}\\\n",
    "    bin 8: {bin(val)[:-9:-1][::-1]} , dziesiętnie {int(bin(val)[:-9:-1][::-1], base=2)}')"
   ]
  },
  {
   "cell_type": "markdown",
   "id": "71a41b6f-ceb1-4bf9-8399-ec4b793ec9b7",
   "metadata": {},
   "source": [
    "> UWAGA! Konwersja danych może zakończyć się stratą precyzji! Należy najpier przeprowadzić analizę danych, które chcemy poddać konwersji."
   ]
  },
  {
   "cell_type": "markdown",
   "id": "3a60f8ac-af41-45e1-b83d-a815e89e3936",
   "metadata": {},
   "source": [
    "### 2.3.2 Czym jest i jak działa broadcasting"
   ]
  },
  {
   "cell_type": "code",
   "execution_count": 184,
   "id": "c97c77f3-8ecd-4ff1-ba3d-ac891a3bd76f",
   "metadata": {},
   "outputs": [
    {
     "name": "stdout",
     "output_type": "stream",
     "text": [
      "[1, 2, 3, 4, 5, 6, 7, 8, 9, 10]\n",
      "[2, 4, 6, 8, 10, 12, 14, 16, 18, 20]\n",
      "[4, 8, 12, 16, 20, 24, 28, 32, 36, 40]\n"
     ]
    }
   ],
   "source": [
    "# wykonanie obliczeń na każdym elemencie listy - dla przypomnienia\n",
    "lista = list(range(1, 11))\n",
    "print(lista)\n",
    "\n",
    "for idx in range(len(lista)):\n",
    "    lista[idx] = lista[idx] * 2\n",
    "\n",
    "print(lista)\n",
    "\n",
    "# albo bardziej pythonicznie\n",
    "\n",
    "lista = [elem * 2 for elem in lista]\n",
    "print(lista)"
   ]
  },
  {
   "cell_type": "code",
   "execution_count": 182,
   "id": "de7d41cb-f1dc-4180-9c59-e02df298804e",
   "metadata": {},
   "outputs": [
    {
     "name": "stdout",
     "output_type": "stream",
     "text": [
      "[ 1  2  3  4  5  6  7  8  9 10]\n",
      "[ 2  4  6  8 10 12 14 16 18 20]\n"
     ]
    }
   ],
   "source": [
    "# w przypadku numpy sytuacja ma się inaczej\n",
    "\n",
    "arr = np.arange(1,11)\n",
    "print(arr)\n",
    "print(arr * 2) # operacja jest wykonywana element-wise czyli na każdym elemencie tablicy"
   ]
  },
  {
   "cell_type": "code",
   "execution_count": 185,
   "id": "e807b6f0-aeb5-4227-bd88-a6753d4610e4",
   "metadata": {},
   "outputs": [
    {
     "data": {
      "text/plain": [
       "array([1.        , 1.41421356, 1.73205081, 2.        , 2.23606798,\n",
       "       2.44948974, 2.64575131, 2.82842712, 3.        , 3.16227766])"
      ]
     },
     "execution_count": 185,
     "metadata": {},
     "output_type": "execute_result"
    }
   ],
   "source": [
    "# również większość funkcji biblioteki numpy akceptuje tablicę jako argument wejściowy\n",
    "# tu poniżej, wyliczymy pierwiastek z każdej wartości tablicy\n",
    "np.sqrt(arr)"
   ]
  },
  {
   "cell_type": "markdown",
   "id": "1bb94d63-9512-4d74-89c0-2df407a8e08e",
   "metadata": {},
   "source": [
    "### 2.3.3 Indeksowanie i wycinanie"
   ]
  },
  {
   "cell_type": "code",
   "execution_count": 188,
   "id": "bb495973-bb5f-41ba-a3ab-f27623727c13",
   "metadata": {},
   "outputs": [
    {
     "name": "stdout",
     "output_type": "stream",
     "text": [
      "1\n",
      "10\n",
      "[1 2 3 4 5]\n"
     ]
    }
   ],
   "source": [
    "# mechanizm dostępu do tablic numpy jest analogiczny do tego znanego z obiektów iterowalnych natywnego Pythona\n",
    "arr = np.arange(1, 11)\n",
    "print(arr[0])\n",
    "\n",
    "print(arr[-1])\n",
    "\n",
    "print(arr[:5])"
   ]
  },
  {
   "cell_type": "code",
   "execution_count": 197,
   "id": "7d17a139-4249-4f12-999e-41b754782391",
   "metadata": {},
   "outputs": [
    {
     "name": "stdout",
     "output_type": "stream",
     "text": [
      "[[ 1  2  3  4]\n",
      " [ 5  6  7  8]\n",
      " [ 9 10 11 12]\n",
      " [13 14 15 16]]\n",
      "1\n",
      "[ 1  5  9 13]\n",
      "[1 2 3 4]\n",
      "[[1 2]\n",
      " [5 6]]\n"
     ]
    }
   ],
   "source": [
    "# sytuacja wygląda nieco inaczej w przypadku tablic wielowymiarowych\n",
    "\n",
    "arr = np.arange(1, 17).reshape((4,4))\n",
    "print(arr)\n",
    "\n",
    "# podajemy parametry dla każdego wymiaru\n",
    "print(arr[0,0])\n",
    "print(arr[:,0]) # pierwsza kolumna\n",
    "print(arr[0,:]) # pierwszy wiersz\n",
    "print(arr[0:2,0:2]) # tablica 2 wymiarowa"
   ]
  },
  {
   "cell_type": "code",
   "execution_count": 204,
   "id": "a0b5d4c4-ddf2-461b-ba9b-2a13933f0333",
   "metadata": {},
   "outputs": [
    {
     "data": {
      "text/plain": [
       "array([[ 0,  2,  3,  4],\n",
       "       [ 0,  6,  7,  8],\n",
       "       [ 0, 10, 11, 12],\n",
       "       [ 0, 14, 15, 16]])"
      ]
     },
     "execution_count": 204,
     "metadata": {},
     "output_type": "execute_result"
    }
   ],
   "source": [
    "# do wycinków tablic możemy również przypisać wartości\n",
    "\n",
    "arr[:,0] = 0\n",
    "arr"
   ]
  },
  {
   "cell_type": "code",
   "execution_count": 218,
   "id": "118d3558-b682-4ddd-acc4-ad760318b2c8",
   "metadata": {},
   "outputs": [
    {
     "name": "stdout",
     "output_type": "stream",
     "text": [
      "[[ 1  2  3  4]\n",
      " [ 5  6  7  8]\n",
      " [ 9 10 11 12]\n",
      " [13 14 15 16]]\n",
      "[[ True  True  True  True]\n",
      " [ True  True  True  True]\n",
      " [ True False False False]\n",
      " [False False False False]]\n",
      "[1 2 3 4 5 6 7 8 9]\n"
     ]
    }
   ],
   "source": [
    "# Jeżeli przywołamy teraz przykład tablicy, która została następnie wyświetlona na wykresie\n",
    "# to mieliśmy tam do czynienia z tablicą boolowaską, która nazywan jest również mapą boolowską.\n",
    "# Nazwa ta nawiązuje do operacji, które dzięki takim tablicom można wykonać na innych tablicach.\n",
    "# Taka mapa pozwala na wycinanie, przypisywanie lub wykonanie funkcji dla każdej wartości tablicy,\n",
    "# do której taką mapę \"przyłożymy\" tzn. że mapa spowoduje wykonanie operacji dla każdej wartości\n",
    "# logicznej True z mapy i pominie operację dla każdej wartości False. Poniżej przykłady.\n",
    "arr = np.arange(1, 17).reshape((4,4))\n",
    "print(arr)\n",
    "\n",
    "# prosty warunek - zwraca mapę, króta ma takie same wymiary i wszędzie tam gdzie warunek jest spełniony przyjmuje wartość True\n",
    "print((arr < 10))\n",
    "\n",
    "# jeżeli teraz przyłożymy taką mapę do oryginalnej tablicy...\n",
    "print(arr[(arr < 10)])\n",
    "# to otrzymamy na wyjściu tylko wartości gdzie w mapie jest True, ale wymiar już nie zostanie zachowany\n",
    "\n",
    "# istnieją jeszcze inne sposoby, ale zostaną zaprezentowane na kolejnych zajęciach"
   ]
  },
  {
   "cell_type": "markdown",
   "id": "dbcb0b50-6b3b-4432-9e5b-64add41004ef",
   "metadata": {},
   "source": [
    "## 2.4 Porównanie wydajności"
   ]
  },
  {
   "cell_type": "markdown",
   "id": "e1370358-8c14-4168-a8e9-fe013e6c060a",
   "metadata": {},
   "source": [
    "Wiemy już, że poznanie bibblioteki numpy jest potrzebne aby sprawnie pracować następnie z biblioteką pandas, która jest niezwykle popularna w kontekście analizy danych. Ważnym aspektem jest również prędkość przetwarzania, którą oferuje numpy, zwłaszcza w kontekście porównania ze standardową biblioteką Pythona i adekwatnymi obliczeniami. \n",
    "\n",
    "Poniżej zaprezentowano kilka przykładów porównania wydajności różnych fragmentów kodu Pythona z wykorzystaniem biblioteki timeit."
   ]
  },
  {
   "cell_type": "code",
   "execution_count": 187,
   "id": "e0d8c195-806f-43e4-a1f1-ade0af1c831a",
   "metadata": {},
   "outputs": [
    {
     "data": {
      "text/plain": [
       "(2.0964688999811187, 0.03895099996589124, 2.732762699946761)"
      ]
     },
     "execution_count": 187,
     "metadata": {},
     "output_type": "execute_result"
    }
   ],
   "source": [
    "from timeit import timeit\n",
    "\n",
    "\n",
    "setup= \"\"\"\n",
    "import numpy as np\n",
    "\"\"\"\n",
    "\n",
    "setup_2 = \"\"\"\n",
    "from array import array\n",
    "\"\"\"\n",
    "\n",
    "stmt1 = \"\"\"list(range(1, 100001))\"\"\"\n",
    "stmt2 = \"\"\"np.arange(1, 100001)\"\"\"\n",
    "stmt3 = \"\"\"array('I', range(1, 100001))\"\"\"\n",
    "\n",
    "timeit(stmt=stmt1, number=1000), timeit(stmt=stmt2, setup=setup, number=1000), timeit(stmt=stmt3, setup=setup_2, number=1000)"
   ]
  },
  {
   "cell_type": "markdown",
   "id": "40f9c858-e990-43ab-8594-c86191c8c789",
   "metadata": {},
   "source": [
    "Widać powyżej jaka jest różnica w prędkości pomiędzy standardowymi listami a tablicą numpy w tym konkretnym przypadku, w którym tworzymy tablicę 100000 wartości typu int. Całość powtórzona jest 1000 razy dla uśrednienia warunków."
   ]
  },
  {
   "cell_type": "markdown",
   "id": "8da59434-0454-40f5-b517-625d587da5db",
   "metadata": {},
   "source": [
    "## Zadania"
   ]
  },
  {
   "cell_type": "markdown",
   "id": "c4af7fa7-0c81-4222-85a7-78fee33b25d6",
   "metadata": {},
   "source": [
    "## Zadania\n",
    "\n",
    "**Zadanie 1**  \n",
    "Stwórz i wyświetl tablicę składającą się z 10 kolejnych wartości całkowitych w przedziale [1,10].\n",
    "\n",
    "**Zadanie 2**   \n",
    "Zmień typ wartości w tablicy z zadania 1 na float32. Wyświetl tę tablicę.\n",
    "\n",
    "**Zadanie 3**  \n",
    "Stwórz tablicę zawierającą kolejne potęgi liczby 2 dla wykładników od 2 do 16.\n",
    "\n",
    "**Zadanie 4**  \n",
    "Utwórz tablicę numpy o wymiarach 5x5 z kolejnymi wartościami całkowitoliczbowymi od 1 do 25 i następnie wyświetl:\n",
    "* ostatnią wartość z tablicy (jest to wartość znajdująca się na ostatnich indeksach wiersza i kolumny)\n",
    "* drugą kolumnę,\n",
    "* trzeci wiesz,\n",
    "* główną przekątną,\n",
    "* tablicę, która zawiera wartości 9,10,14 oraz 15 (tablica ma kształt 2 x 2)\n",
    "\n",
    "**Zadanie 5**  \n",
    "Bazując na przykładach powyżej oraz wykresie z punktu 2.2 wyświetl tę samą tablicę (3 x 3 x 3) w poniższych postaciach:\n",
    "* widoczne są tylko elementy dla współrzędnych y = 1 (x to oś pozioma, y to oś pionowa, z to \"głębia\")\n",
    "* widoczne są wartości dla z = 1 oraz z = 3 i wszystkich wartości x oraz y (to tak jakby dwie kolumny tej kostki 3 x 3 x 3 - pierwsza i ostatnia).\n",
    "\n",
    "**Zadanie 6**  \n",
    "Bazując na przykładzie z podpunktu 2.3.2 przygotuj test czasu wykonania dla trzech poniższych przypadków:\n",
    "* inicjalizacja listy 10000 wartości całkowitoliczbowych oraz przemnożenie każdego elementu przez liczbę 2 wykorzystując zapis z pętlą for\n",
    "* tak jak powyżej, ale z wykorzystaniem list comprehension (dla przypomnienia [wyrażenie for elem in kolekcja])\n",
    "* dla tablicy numpy"
   ]
  }
 ],
 "metadata": {
  "kernelspec": {
   "display_name": "Python 3 (ipykernel)",
   "language": "python",
   "name": "python3"
  },
  "language_info": {
   "codemirror_mode": {
    "name": "ipython",
    "version": 3
   },
   "file_extension": ".py",
   "mimetype": "text/x-python",
   "name": "python",
   "nbconvert_exporter": "python",
   "pygments_lexer": "ipython3",
   "version": "3.13.2"
  }
 },
 "nbformat": 4,
 "nbformat_minor": 5
}
